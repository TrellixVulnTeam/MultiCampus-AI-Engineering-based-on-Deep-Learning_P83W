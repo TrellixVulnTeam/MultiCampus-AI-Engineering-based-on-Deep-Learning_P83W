{
 "cells": [
  {
   "cell_type": "markdown",
   "metadata": {},
   "source": [
    "# 20.09.15 연습문제"
   ]
  },
  {
   "cell_type": "code",
   "execution_count": 1,
   "metadata": {},
   "outputs": [],
   "source": [
    "import numpy as np\n",
    "import pandas as pd"
   ]
  },
  {
   "cell_type": "markdown",
   "metadata": {},
   "source": [
    "## 1.  다음과 같은 배열을 만들어라.  \n",
    "***\n",
    "   ```\n",
    "array([[   0.,    0.,    0.,    1.,    1.],  \n",
    "       [   0.,    0.,    0.,    1.,    1.],  \n",
    "       [   0.,    0.,    0.,    1.,    1.],  \n",
    "       [  10.,   20.,   30.,   40.,   50.],  \n",
    "       [  60.,   70.,   80.,   90.,  100.],  \n",
    "       [ 110.,  120.,  130.,  140.,  150.],  \n",
    "       [   0.,    0.,    0.,    1.,    1.],  \n",
    "       [   0.,    0.,    0.,    1.,    1.],  \n",
    "       [   0.,    0.,    0.,    1.,    1.],  \n",
    "       [  10.,   20.,   30.,   40.,   50.],  \n",
    "       [  60.,   70.,   80.,   90.,  100.],  \n",
    "       [ 110.,  120.,  130.,  140.,  150.]])  \n",
    "```\n",
    "***"
   ]
  },
  {
   "cell_type": "code",
   "execution_count": 2,
   "metadata": {},
   "outputs": [
    {
     "data": {
      "text/plain": [
       "array([[  0.,   0.,   0.,   1.,   1.],\n",
       "       [  0.,   0.,   0.,   1.,   1.],\n",
       "       [  0.,   0.,   0.,   1.,   1.],\n",
       "       [ 10.,  20.,  30.,  40.,  50.],\n",
       "       [ 60.,  70.,  80.,  90., 100.],\n",
       "       [110., 120., 130., 140., 150.],\n",
       "       [  0.,   0.,   0.,   1.,   1.],\n",
       "       [  0.,   0.,   0.,   1.,   1.],\n",
       "       [  0.,   0.,   0.,   1.,   1.],\n",
       "       [ 10.,  20.,  30.,  40.,  50.],\n",
       "       [ 60.,  70.,  80.,  90., 100.],\n",
       "       [110., 120., 130., 140., 150.]])"
      ]
     },
     "execution_count": 2,
     "metadata": {},
     "output_type": "execute_result"
    }
   ],
   "source": [
    "a = np.zeros(9).reshape(3,3)\n",
    "b = np.ones(6).reshape(3,2)\n",
    "c = np.arange(10, 160, 10).reshape(3, 5)\n",
    "np.tile(np.vstack([np.hstack([a,b]),c]),(2,1))"
   ]
  },
  {
   "cell_type": "markdown",
   "metadata": {},
   "source": [
    "## 2.  다중 인덱스 참조 연습  \n",
    "***  \n",
    "```\n",
    "Cidx1\tA\t       B\n",
    "Cidx2\tC1\tC2\tC1\t  C2\n",
    "0\t1.76\t0.40   0.98\t 2.24\n",
    "1\t1.87   -0.98   0.95    -0.15  \n",
    "2   -0.10\t0.41   0.14\t 1.45\n",
    "3\t0.76\t0.12   0.44\t 0.33\n",
    "4\t1.49   -0.21   0.31\t-0.85\n",
    "```  \n",
    "***  "
   ]
  },
  {
   "cell_type": "markdown",
   "metadata": {},
   "source": [
    "- 위와 같은 구조의 데이터프레임을 제작하시오."
   ]
  },
  {
   "cell_type": "code",
   "execution_count": 3,
   "metadata": {},
   "outputs": [
    {
     "data": {
      "text/html": [
       "<div>\n",
       "<style scoped>\n",
       "    .dataframe tbody tr th:only-of-type {\n",
       "        vertical-align: middle;\n",
       "    }\n",
       "\n",
       "    .dataframe tbody tr th {\n",
       "        vertical-align: top;\n",
       "    }\n",
       "\n",
       "    .dataframe thead tr th {\n",
       "        text-align: left;\n",
       "    }\n",
       "</style>\n",
       "<table border=\"1\" class=\"dataframe\">\n",
       "  <thead>\n",
       "    <tr>\n",
       "      <th>Cidx1</th>\n",
       "      <th colspan=\"2\" halign=\"left\">A</th>\n",
       "      <th colspan=\"2\" halign=\"left\">B</th>\n",
       "    </tr>\n",
       "    <tr>\n",
       "      <th>Cidx2</th>\n",
       "      <th>C1</th>\n",
       "      <th>C2</th>\n",
       "      <th>C1</th>\n",
       "      <th>C2</th>\n",
       "    </tr>\n",
       "  </thead>\n",
       "  <tbody>\n",
       "    <tr>\n",
       "      <th>0</th>\n",
       "      <td>0.900513</td>\n",
       "      <td>0.350349</td>\n",
       "      <td>0.724854</td>\n",
       "      <td>-0.532861</td>\n",
       "    </tr>\n",
       "    <tr>\n",
       "      <th>1</th>\n",
       "      <td>1.091028</td>\n",
       "      <td>-1.124450</td>\n",
       "      <td>1.326797</td>\n",
       "      <td>-1.190299</td>\n",
       "    </tr>\n",
       "    <tr>\n",
       "      <th>2</th>\n",
       "      <td>-1.358525</td>\n",
       "      <td>-0.668583</td>\n",
       "      <td>0.469116</td>\n",
       "      <td>1.010900</td>\n",
       "    </tr>\n",
       "    <tr>\n",
       "      <th>3</th>\n",
       "      <td>0.601770</td>\n",
       "      <td>-0.253688</td>\n",
       "      <td>-1.097945</td>\n",
       "      <td>-0.497910</td>\n",
       "    </tr>\n",
       "    <tr>\n",
       "      <th>4</th>\n",
       "      <td>-0.994970</td>\n",
       "      <td>-0.294301</td>\n",
       "      <td>-0.564527</td>\n",
       "      <td>0.067709</td>\n",
       "    </tr>\n",
       "  </tbody>\n",
       "</table>\n",
       "</div>"
      ],
      "text/plain": [
       "Cidx1         A                   B          \n",
       "Cidx2        C1        C2        C1        C2\n",
       "0      0.900513  0.350349  0.724854 -0.532861\n",
       "1      1.091028 -1.124450  1.326797 -1.190299\n",
       "2     -1.358525 -0.668583  0.469116  1.010900\n",
       "3      0.601770 -0.253688 -1.097945 -0.497910\n",
       "4     -0.994970 -0.294301 -0.564527  0.067709"
      ]
     },
     "execution_count": 3,
     "metadata": {},
     "output_type": "execute_result"
    }
   ],
   "source": [
    "df=pd.DataFrame(np.random.randn(5,4),\n",
    "                columns=[[\"A\",\"A\",\"B\",\"B\"],\n",
    "                         [\"C1\",\"C2\",\"C1\",\"C2\"]])\n",
    "df.columns.names=['Cidx1','Cidx2']\n",
    "df"
   ]
  },
  {
   "cell_type": "markdown",
   "metadata": {},
   "source": [
    "- B, C1 참조하시오."
   ]
  },
  {
   "cell_type": "code",
   "execution_count": 4,
   "metadata": {},
   "outputs": [
    {
     "data": {
      "text/plain": [
       "0    0.724854\n",
       "1    1.326797\n",
       "2    0.469116\n",
       "3   -1.097945\n",
       "4   -0.564527\n",
       "Name: (B, C1), dtype: float64"
      ]
     },
     "execution_count": 4,
     "metadata": {},
     "output_type": "execute_result"
    }
   ],
   "source": [
    "# B, C1 참조하시오.\n",
    "df[\"B\",\"C1\"]"
   ]
  },
  {
   "cell_type": "markdown",
   "metadata": {},
   "source": [
    "- 0번 행,  B,C1  값을 참조하시오."
   ]
  },
  {
   "cell_type": "code",
   "execution_count": 5,
   "metadata": {},
   "outputs": [
    {
     "data": {
      "text/plain": [
       "0.7248541925531257"
      ]
     },
     "execution_count": 5,
     "metadata": {},
     "output_type": "execute_result"
    }
   ],
   "source": [
    "# 0번 행,  B,C1  값을 참조하시오.\n",
    "df[\"B\", \"C1\"].iloc[0]"
   ]
  },
  {
   "cell_type": "markdown",
   "metadata": {},
   "source": [
    "- 0번행 B, C1 값을 100으로 변경하시오"
   ]
  },
  {
   "cell_type": "code",
   "execution_count": 6,
   "metadata": {
    "scrolled": true
   },
   "outputs": [
    {
     "data": {
      "text/html": [
       "<div>\n",
       "<style scoped>\n",
       "    .dataframe tbody tr th:only-of-type {\n",
       "        vertical-align: middle;\n",
       "    }\n",
       "\n",
       "    .dataframe tbody tr th {\n",
       "        vertical-align: top;\n",
       "    }\n",
       "\n",
       "    .dataframe thead tr th {\n",
       "        text-align: left;\n",
       "    }\n",
       "</style>\n",
       "<table border=\"1\" class=\"dataframe\">\n",
       "  <thead>\n",
       "    <tr>\n",
       "      <th>Cidx1</th>\n",
       "      <th colspan=\"2\" halign=\"left\">A</th>\n",
       "      <th colspan=\"2\" halign=\"left\">B</th>\n",
       "    </tr>\n",
       "    <tr>\n",
       "      <th>Cidx2</th>\n",
       "      <th>C1</th>\n",
       "      <th>C2</th>\n",
       "      <th>C1</th>\n",
       "      <th>C2</th>\n",
       "    </tr>\n",
       "  </thead>\n",
       "  <tbody>\n",
       "    <tr>\n",
       "      <th>0</th>\n",
       "      <td>0.900513</td>\n",
       "      <td>0.350349</td>\n",
       "      <td>100.000000</td>\n",
       "      <td>-0.532861</td>\n",
       "    </tr>\n",
       "    <tr>\n",
       "      <th>1</th>\n",
       "      <td>1.091028</td>\n",
       "      <td>-1.124450</td>\n",
       "      <td>1.326797</td>\n",
       "      <td>-1.190299</td>\n",
       "    </tr>\n",
       "    <tr>\n",
       "      <th>2</th>\n",
       "      <td>-1.358525</td>\n",
       "      <td>-0.668583</td>\n",
       "      <td>0.469116</td>\n",
       "      <td>1.010900</td>\n",
       "    </tr>\n",
       "    <tr>\n",
       "      <th>3</th>\n",
       "      <td>0.601770</td>\n",
       "      <td>-0.253688</td>\n",
       "      <td>-1.097945</td>\n",
       "      <td>-0.497910</td>\n",
       "    </tr>\n",
       "    <tr>\n",
       "      <th>4</th>\n",
       "      <td>-0.994970</td>\n",
       "      <td>-0.294301</td>\n",
       "      <td>-0.564527</td>\n",
       "      <td>0.067709</td>\n",
       "    </tr>\n",
       "  </tbody>\n",
       "</table>\n",
       "</div>"
      ],
      "text/plain": [
       "Cidx1         A                     B          \n",
       "Cidx2        C1        C2          C1        C2\n",
       "0      0.900513  0.350349  100.000000 -0.532861\n",
       "1      1.091028 -1.124450    1.326797 -1.190299\n",
       "2     -1.358525 -0.668583    0.469116  1.010900\n",
       "3      0.601770 -0.253688   -1.097945 -0.497910\n",
       "4     -0.994970 -0.294301   -0.564527  0.067709"
      ]
     },
     "execution_count": 6,
     "metadata": {},
     "output_type": "execute_result"
    }
   ],
   "source": [
    "# 0번행 B, C1 값을 100으로 변경하시오\n",
    "df[\"B\", \"C1\"].iloc[0] = 100\n",
    "df"
   ]
  },
  {
   "cell_type": "markdown",
   "metadata": {},
   "source": [
    "## 3. 연관규칙 연습 데이터셋  \n",
    "***  \n",
    "```  \n",
    "dataset =\n",
    "1         계란, 우유\n",
    "2         계란, 기저귀, 맥주, 사과\n",
    "3         우유, 기저귀, 맥주, 콜라\n",
    "4         계란, 우유, 맥주, 기저귀 \n",
    "5         계란, 우유, 맥주, 콜라\n",
    "```  \n",
    "***  \n",
    "\n",
    "위 데이터를 저장하고, \n",
    "\n",
    "X={계란, 맥주}, Y={기저귀} 인 경우에 대해  \n",
    "  \n",
    "1) 지지도 계산\n",
    "\n",
    "2) 신뢰도 계산\n",
    "\n",
    "3) 향상도 계산"
   ]
  },
  {
   "cell_type": "code",
   "execution_count": 7,
   "metadata": {},
   "outputs": [
    {
     "data": {
      "text/plain": [
       "array([{'계란', '우유'}, {'계란', '맥주', '기저귀', '사과'}, {'우유', '맥주', '기저귀', '콜라'},\n",
       "       {'계란', '맥주', '기저귀', '우유'}, {'계란', '맥주', '콜라', '우유'}], dtype=object)"
      ]
     },
     "execution_count": 7,
     "metadata": {},
     "output_type": "execute_result"
    }
   ],
   "source": [
    "dataset =np.array([set(['계란','우유']),\n",
    "                   set(['계란','기저귀','맥주','사과']),\n",
    "                   set(['우유','기저귀','맥주','콜라']),\n",
    "                   set(['계란','우유','맥주','기저귀']),\n",
    "                   set(['계란','우유','맥주','콜라'])])\n",
    "dataset"
   ]
  },
  {
   "cell_type": "code",
   "execution_count": 8,
   "metadata": {},
   "outputs": [],
   "source": [
    "X = set([\"계란\", \"맥주\"])\n",
    "Y = set([\"기저귀\"])"
   ]
  },
  {
   "cell_type": "code",
   "execution_count": 9,
   "metadata": {},
   "outputs": [
    {
     "name": "stdout",
     "output_type": "stream",
     "text": [
      "지지도: 0.4\n"
     ]
    }
   ],
   "source": [
    "# 지지도: X와 Y를 모두 포함하는 거래 건수 / 전체 거래 건수\n",
    "s_XY = len(dataset[((X|Y)-dataset)==set()])/len(dataset)\n",
    "print(\"지지도:\",s_XY)"
   ]
  },
  {
   "cell_type": "code",
   "execution_count": 10,
   "metadata": {},
   "outputs": [
    {
     "name": "stdout",
     "output_type": "stream",
     "text": [
      "신뢰도: 0.6666666666666666\n"
     ]
    }
   ],
   "source": [
    "#신뢰도 : X와 Y를 모두 포함하는 거래 건수 / 항목 집합 X가 포함된 거래 건수\n",
    "c_XY = len(dataset[((X|Y)-dataset)==set()])/len(dataset[((X)-dataset)==set()])\n",
    "print(\"신뢰도:\",c_XY)"
   ]
  },
  {
   "cell_type": "code",
   "execution_count": 11,
   "metadata": {},
   "outputs": [
    {
     "name": "stdout",
     "output_type": "stream",
     "text": [
      "향상도: 1.1111111111111112\n"
     ]
    }
   ],
   "source": [
    "#향상도: Lift(X->Y) = c(X->Y) / s(Y)\n",
    "s_Y = len(dataset[((Y)-dataset)==set()])/len(dataset)\n",
    "lift = c_XY/s_Y\n",
    "print(\"향상도:\",lift)"
   ]
  }
 ],
 "metadata": {
  "kernelspec": {
   "display_name": "Python 3",
   "language": "python",
   "name": "python3"
  },
  "language_info": {
   "codemirror_mode": {
    "name": "ipython",
    "version": 3
   },
   "file_extension": ".py",
   "mimetype": "text/x-python",
   "name": "python",
   "nbconvert_exporter": "python",
   "pygments_lexer": "ipython3",
   "version": "3.7.3"
  },
  "toc": {
   "base_numbering": 1,
   "nav_menu": {},
   "number_sections": false,
   "sideBar": true,
   "skip_h1_title": false,
   "title_cell": "Table of Contents",
   "title_sidebar": "Contents",
   "toc_cell": false,
   "toc_position": {},
   "toc_section_display": true,
   "toc_window_display": false
  }
 },
 "nbformat": 4,
 "nbformat_minor": 2
}
