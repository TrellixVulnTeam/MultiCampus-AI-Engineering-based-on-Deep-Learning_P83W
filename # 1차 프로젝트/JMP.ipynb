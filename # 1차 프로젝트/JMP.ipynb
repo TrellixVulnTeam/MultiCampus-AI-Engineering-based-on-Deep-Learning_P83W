{
 "cells": [
  {
   "cell_type": "code",
   "execution_count": 1,
   "metadata": {},
   "outputs": [],
   "source": [
    "import numpy as np\n",
    "import pandas as pd"
   ]
  },
  {
   "cell_type": "code",
   "execution_count": 2,
   "metadata": {},
   "outputs": [
    {
     "data": {
      "text/html": [
       "<div>\n",
       "<style scoped>\n",
       "    .dataframe tbody tr th:only-of-type {\n",
       "        vertical-align: middle;\n",
       "    }\n",
       "\n",
       "    .dataframe tbody tr th {\n",
       "        vertical-align: top;\n",
       "    }\n",
       "\n",
       "    .dataframe thead th {\n",
       "        text-align: right;\n",
       "    }\n",
       "</style>\n",
       "<table border=\"1\" class=\"dataframe\">\n",
       "  <thead>\n",
       "    <tr style=\"text-align: right;\">\n",
       "      <th></th>\n",
       "      <th>index</th>\n",
       "      <th>QaA</th>\n",
       "      <th>QaE</th>\n",
       "      <th>QbA</th>\n",
       "      <th>QbE</th>\n",
       "      <th>QcA</th>\n",
       "      <th>QcE</th>\n",
       "      <th>QdA</th>\n",
       "      <th>QdE</th>\n",
       "      <th>QeA</th>\n",
       "      <th>...</th>\n",
       "      <th>wr_04</th>\n",
       "      <th>wr_05</th>\n",
       "      <th>wr_06</th>\n",
       "      <th>wr_07</th>\n",
       "      <th>wr_08</th>\n",
       "      <th>wr_09</th>\n",
       "      <th>wr_10</th>\n",
       "      <th>wr_11</th>\n",
       "      <th>wr_12</th>\n",
       "      <th>wr_13</th>\n",
       "    </tr>\n",
       "  </thead>\n",
       "  <tbody>\n",
       "    <tr>\n",
       "      <th>0</th>\n",
       "      <td>0</td>\n",
       "      <td>3.0</td>\n",
       "      <td>363</td>\n",
       "      <td>4.0</td>\n",
       "      <td>1370</td>\n",
       "      <td>5.0</td>\n",
       "      <td>997</td>\n",
       "      <td>1.0</td>\n",
       "      <td>1024</td>\n",
       "      <td>2.0</td>\n",
       "      <td>...</td>\n",
       "      <td>0</td>\n",
       "      <td>1</td>\n",
       "      <td>0</td>\n",
       "      <td>1</td>\n",
       "      <td>1</td>\n",
       "      <td>0</td>\n",
       "      <td>1</td>\n",
       "      <td>0</td>\n",
       "      <td>1</td>\n",
       "      <td>1</td>\n",
       "    </tr>\n",
       "    <tr>\n",
       "      <th>1</th>\n",
       "      <td>1</td>\n",
       "      <td>5.0</td>\n",
       "      <td>647</td>\n",
       "      <td>5.0</td>\n",
       "      <td>1313</td>\n",
       "      <td>3.0</td>\n",
       "      <td>3387</td>\n",
       "      <td>5.0</td>\n",
       "      <td>2969</td>\n",
       "      <td>1.0</td>\n",
       "      <td>...</td>\n",
       "      <td>1</td>\n",
       "      <td>1</td>\n",
       "      <td>0</td>\n",
       "      <td>1</td>\n",
       "      <td>1</td>\n",
       "      <td>0</td>\n",
       "      <td>1</td>\n",
       "      <td>0</td>\n",
       "      <td>1</td>\n",
       "      <td>1</td>\n",
       "    </tr>\n",
       "    <tr>\n",
       "      <th>2</th>\n",
       "      <td>2</td>\n",
       "      <td>4.0</td>\n",
       "      <td>1623</td>\n",
       "      <td>1.0</td>\n",
       "      <td>1480</td>\n",
       "      <td>1.0</td>\n",
       "      <td>1021</td>\n",
       "      <td>4.0</td>\n",
       "      <td>3374</td>\n",
       "      <td>5.0</td>\n",
       "      <td>...</td>\n",
       "      <td>1</td>\n",
       "      <td>1</td>\n",
       "      <td>0</td>\n",
       "      <td>1</td>\n",
       "      <td>1</td>\n",
       "      <td>1</td>\n",
       "      <td>1</td>\n",
       "      <td>0</td>\n",
       "      <td>1</td>\n",
       "      <td>1</td>\n",
       "    </tr>\n",
       "    <tr>\n",
       "      <th>3</th>\n",
       "      <td>3</td>\n",
       "      <td>3.0</td>\n",
       "      <td>504</td>\n",
       "      <td>3.0</td>\n",
       "      <td>2311</td>\n",
       "      <td>4.0</td>\n",
       "      <td>992</td>\n",
       "      <td>3.0</td>\n",
       "      <td>3245</td>\n",
       "      <td>1.0</td>\n",
       "      <td>...</td>\n",
       "      <td>0</td>\n",
       "      <td>0</td>\n",
       "      <td>0</td>\n",
       "      <td>0</td>\n",
       "      <td>1</td>\n",
       "      <td>0</td>\n",
       "      <td>1</td>\n",
       "      <td>0</td>\n",
       "      <td>1</td>\n",
       "      <td>1</td>\n",
       "    </tr>\n",
       "    <tr>\n",
       "      <th>4</th>\n",
       "      <td>4</td>\n",
       "      <td>1.0</td>\n",
       "      <td>927</td>\n",
       "      <td>1.0</td>\n",
       "      <td>707</td>\n",
       "      <td>5.0</td>\n",
       "      <td>556</td>\n",
       "      <td>2.0</td>\n",
       "      <td>1062</td>\n",
       "      <td>1.0</td>\n",
       "      <td>...</td>\n",
       "      <td>1</td>\n",
       "      <td>1</td>\n",
       "      <td>1</td>\n",
       "      <td>1</td>\n",
       "      <td>1</td>\n",
       "      <td>0</td>\n",
       "      <td>1</td>\n",
       "      <td>1</td>\n",
       "      <td>1</td>\n",
       "      <td>1</td>\n",
       "    </tr>\n",
       "    <tr>\n",
       "      <th>...</th>\n",
       "      <td>...</td>\n",
       "      <td>...</td>\n",
       "      <td>...</td>\n",
       "      <td>...</td>\n",
       "      <td>...</td>\n",
       "      <td>...</td>\n",
       "      <td>...</td>\n",
       "      <td>...</td>\n",
       "      <td>...</td>\n",
       "      <td>...</td>\n",
       "      <td>...</td>\n",
       "      <td>...</td>\n",
       "      <td>...</td>\n",
       "      <td>...</td>\n",
       "      <td>...</td>\n",
       "      <td>...</td>\n",
       "      <td>...</td>\n",
       "      <td>...</td>\n",
       "      <td>...</td>\n",
       "      <td>...</td>\n",
       "      <td>...</td>\n",
       "    </tr>\n",
       "    <tr>\n",
       "      <th>45527</th>\n",
       "      <td>45527</td>\n",
       "      <td>2.0</td>\n",
       "      <td>1050</td>\n",
       "      <td>5.0</td>\n",
       "      <td>619</td>\n",
       "      <td>4.0</td>\n",
       "      <td>328</td>\n",
       "      <td>1.0</td>\n",
       "      <td>285</td>\n",
       "      <td>1.0</td>\n",
       "      <td>...</td>\n",
       "      <td>1</td>\n",
       "      <td>1</td>\n",
       "      <td>0</td>\n",
       "      <td>1</td>\n",
       "      <td>1</td>\n",
       "      <td>1</td>\n",
       "      <td>1</td>\n",
       "      <td>0</td>\n",
       "      <td>1</td>\n",
       "      <td>1</td>\n",
       "    </tr>\n",
       "    <tr>\n",
       "      <th>45528</th>\n",
       "      <td>45528</td>\n",
       "      <td>2.0</td>\n",
       "      <td>581</td>\n",
       "      <td>3.0</td>\n",
       "      <td>1353</td>\n",
       "      <td>4.0</td>\n",
       "      <td>1164</td>\n",
       "      <td>1.0</td>\n",
       "      <td>798</td>\n",
       "      <td>3.0</td>\n",
       "      <td>...</td>\n",
       "      <td>1</td>\n",
       "      <td>1</td>\n",
       "      <td>0</td>\n",
       "      <td>1</td>\n",
       "      <td>1</td>\n",
       "      <td>1</td>\n",
       "      <td>1</td>\n",
       "      <td>0</td>\n",
       "      <td>1</td>\n",
       "      <td>1</td>\n",
       "    </tr>\n",
       "    <tr>\n",
       "      <th>45529</th>\n",
       "      <td>45529</td>\n",
       "      <td>4.0</td>\n",
       "      <td>593</td>\n",
       "      <td>1.0</td>\n",
       "      <td>857</td>\n",
       "      <td>1.0</td>\n",
       "      <td>1047</td>\n",
       "      <td>4.0</td>\n",
       "      <td>1515</td>\n",
       "      <td>5.0</td>\n",
       "      <td>...</td>\n",
       "      <td>1</td>\n",
       "      <td>1</td>\n",
       "      <td>0</td>\n",
       "      <td>1</td>\n",
       "      <td>1</td>\n",
       "      <td>0</td>\n",
       "      <td>1</td>\n",
       "      <td>0</td>\n",
       "      <td>1</td>\n",
       "      <td>1</td>\n",
       "    </tr>\n",
       "    <tr>\n",
       "      <th>45530</th>\n",
       "      <td>45530</td>\n",
       "      <td>1.0</td>\n",
       "      <td>747</td>\n",
       "      <td>3.0</td>\n",
       "      <td>1331</td>\n",
       "      <td>4.0</td>\n",
       "      <td>892</td>\n",
       "      <td>2.0</td>\n",
       "      <td>1281</td>\n",
       "      <td>1.0</td>\n",
       "      <td>...</td>\n",
       "      <td>1</td>\n",
       "      <td>1</td>\n",
       "      <td>0</td>\n",
       "      <td>1</td>\n",
       "      <td>1</td>\n",
       "      <td>1</td>\n",
       "      <td>1</td>\n",
       "      <td>0</td>\n",
       "      <td>1</td>\n",
       "      <td>1</td>\n",
       "    </tr>\n",
       "    <tr>\n",
       "      <th>45531</th>\n",
       "      <td>45531</td>\n",
       "      <td>3.0</td>\n",
       "      <td>496</td>\n",
       "      <td>5.0</td>\n",
       "      <td>1827</td>\n",
       "      <td>5.0</td>\n",
       "      <td>754</td>\n",
       "      <td>3.0</td>\n",
       "      <td>1117</td>\n",
       "      <td>1.0</td>\n",
       "      <td>...</td>\n",
       "      <td>1</td>\n",
       "      <td>1</td>\n",
       "      <td>0</td>\n",
       "      <td>1</td>\n",
       "      <td>1</td>\n",
       "      <td>0</td>\n",
       "      <td>1</td>\n",
       "      <td>0</td>\n",
       "      <td>1</td>\n",
       "      <td>1</td>\n",
       "    </tr>\n",
       "  </tbody>\n",
       "</table>\n",
       "<p>45532 rows × 78 columns</p>\n",
       "</div>"
      ],
      "text/plain": [
       "       index  QaA   QaE  QbA   QbE  QcA   QcE  QdA   QdE  QeA  ...  wr_04  \\\n",
       "0          0  3.0   363  4.0  1370  5.0   997  1.0  1024  2.0  ...      0   \n",
       "1          1  5.0   647  5.0  1313  3.0  3387  5.0  2969  1.0  ...      1   \n",
       "2          2  4.0  1623  1.0  1480  1.0  1021  4.0  3374  5.0  ...      1   \n",
       "3          3  3.0   504  3.0  2311  4.0   992  3.0  3245  1.0  ...      0   \n",
       "4          4  1.0   927  1.0   707  5.0   556  2.0  1062  1.0  ...      1   \n",
       "...      ...  ...   ...  ...   ...  ...   ...  ...   ...  ...  ...    ...   \n",
       "45527  45527  2.0  1050  5.0   619  4.0   328  1.0   285  1.0  ...      1   \n",
       "45528  45528  2.0   581  3.0  1353  4.0  1164  1.0   798  3.0  ...      1   \n",
       "45529  45529  4.0   593  1.0   857  1.0  1047  4.0  1515  5.0  ...      1   \n",
       "45530  45530  1.0   747  3.0  1331  4.0   892  2.0  1281  1.0  ...      1   \n",
       "45531  45531  3.0   496  5.0  1827  5.0   754  3.0  1117  1.0  ...      1   \n",
       "\n",
       "       wr_05  wr_06  wr_07  wr_08  wr_09  wr_10  wr_11  wr_12  wr_13  \n",
       "0          1      0      1      1      0      1      0      1      1  \n",
       "1          1      0      1      1      0      1      0      1      1  \n",
       "2          1      0      1      1      1      1      0      1      1  \n",
       "3          0      0      0      1      0      1      0      1      1  \n",
       "4          1      1      1      1      0      1      1      1      1  \n",
       "...      ...    ...    ...    ...    ...    ...    ...    ...    ...  \n",
       "45527      1      0      1      1      1      1      0      1      1  \n",
       "45528      1      0      1      1      1      1      0      1      1  \n",
       "45529      1      0      1      1      0      1      0      1      1  \n",
       "45530      1      0      1      1      1      1      0      1      1  \n",
       "45531      1      0      1      1      0      1      0      1      1  \n",
       "\n",
       "[45532 rows x 78 columns]"
      ]
     },
     "execution_count": 2,
     "metadata": {},
     "output_type": "execute_result"
    }
   ],
   "source": [
    "train = pd.read_csv(\"data/train.csv\")\n",
    "train"
   ]
  },
  {
   "cell_type": "code",
   "execution_count": 3,
   "metadata": {
    "scrolled": true
   },
   "outputs": [
    {
     "name": "stdout",
     "output_type": "stream",
     "text": [
      "<class 'pandas.core.frame.DataFrame'>\n",
      "RangeIndex: 45532 entries, 0 to 45531\n",
      "Data columns (total 78 columns):\n",
      " #   Column      Non-Null Count  Dtype  \n",
      "---  ------      --------------  -----  \n",
      " 0   index       45532 non-null  int64  \n",
      " 1   QaA         45532 non-null  float64\n",
      " 2   QaE         45532 non-null  int64  \n",
      " 3   QbA         45532 non-null  float64\n",
      " 4   QbE         45532 non-null  int64  \n",
      " 5   QcA         45532 non-null  float64\n",
      " 6   QcE         45532 non-null  int64  \n",
      " 7   QdA         45532 non-null  float64\n",
      " 8   QdE         45532 non-null  int64  \n",
      " 9   QeA         45532 non-null  float64\n",
      " 10  QeE         45532 non-null  int64  \n",
      " 11  QfA         45532 non-null  float64\n",
      " 12  QfE         45532 non-null  int64  \n",
      " 13  QgA         45532 non-null  float64\n",
      " 14  QgE         45532 non-null  int64  \n",
      " 15  QhA         45532 non-null  float64\n",
      " 16  QhE         45532 non-null  int64  \n",
      " 17  QiA         45532 non-null  float64\n",
      " 18  QiE         45532 non-null  int64  \n",
      " 19  QjA         45532 non-null  float64\n",
      " 20  QjE         45532 non-null  int64  \n",
      " 21  QkA         45532 non-null  float64\n",
      " 22  QkE         45532 non-null  int64  \n",
      " 23  QlA         45532 non-null  float64\n",
      " 24  QlE         45532 non-null  int64  \n",
      " 25  QmA         45532 non-null  float64\n",
      " 26  QmE         45532 non-null  int64  \n",
      " 27  QnA         45532 non-null  float64\n",
      " 28  QnE         45532 non-null  int64  \n",
      " 29  QoA         45532 non-null  float64\n",
      " 30  QoE         45532 non-null  int64  \n",
      " 31  QpA         45532 non-null  float64\n",
      " 32  QpE         45532 non-null  int64  \n",
      " 33  QqA         45532 non-null  float64\n",
      " 34  QqE         45532 non-null  int64  \n",
      " 35  QrA         45532 non-null  float64\n",
      " 36  QrE         45532 non-null  int64  \n",
      " 37  QsA         45532 non-null  float64\n",
      " 38  QsE         45532 non-null  int64  \n",
      " 39  QtA         45532 non-null  float64\n",
      " 40  QtE         45532 non-null  int64  \n",
      " 41  age_group   45532 non-null  object \n",
      " 42  education   45532 non-null  int64  \n",
      " 43  engnat      45532 non-null  int64  \n",
      " 44  familysize  45532 non-null  int64  \n",
      " 45  gender      45532 non-null  object \n",
      " 46  hand        45532 non-null  int64  \n",
      " 47  married     45532 non-null  int64  \n",
      " 48  race        45532 non-null  object \n",
      " 49  religion    45532 non-null  object \n",
      " 50  tp01        45532 non-null  int64  \n",
      " 51  tp02        45532 non-null  int64  \n",
      " 52  tp03        45532 non-null  int64  \n",
      " 53  tp04        45532 non-null  int64  \n",
      " 54  tp05        45532 non-null  int64  \n",
      " 55  tp06        45532 non-null  int64  \n",
      " 56  tp07        45532 non-null  int64  \n",
      " 57  tp08        45532 non-null  int64  \n",
      " 58  tp09        45532 non-null  int64  \n",
      " 59  tp10        45532 non-null  int64  \n",
      " 60  urban       45532 non-null  int64  \n",
      " 61  voted       45532 non-null  int64  \n",
      " 62  wf_01       45532 non-null  int64  \n",
      " 63  wf_02       45532 non-null  int64  \n",
      " 64  wf_03       45532 non-null  int64  \n",
      " 65  wr_01       45532 non-null  int64  \n",
      " 66  wr_02       45532 non-null  int64  \n",
      " 67  wr_03       45532 non-null  int64  \n",
      " 68  wr_04       45532 non-null  int64  \n",
      " 69  wr_05       45532 non-null  int64  \n",
      " 70  wr_06       45532 non-null  int64  \n",
      " 71  wr_07       45532 non-null  int64  \n",
      " 72  wr_08       45532 non-null  int64  \n",
      " 73  wr_09       45532 non-null  int64  \n",
      " 74  wr_10       45532 non-null  int64  \n",
      " 75  wr_11       45532 non-null  int64  \n",
      " 76  wr_12       45532 non-null  int64  \n",
      " 77  wr_13       45532 non-null  int64  \n",
      "dtypes: float64(20), int64(54), object(4)\n",
      "memory usage: 27.1+ MB\n"
     ]
    }
   ],
   "source": [
    "train.info() #agegroup, gender, race, religion => 수치형으로 형변환 필요"
   ]
  },
  {
   "cell_type": "markdown",
   "metadata": {},
   "source": [
    "# 데이터 Featuring"
   ]
  },
  {
   "cell_type": "code",
   "execution_count": 4,
   "metadata": {
    "scrolled": true
   },
   "outputs": [
    {
     "data": {
      "text/html": [
       "<div>\n",
       "<style scoped>\n",
       "    .dataframe tbody tr th:only-of-type {\n",
       "        vertical-align: middle;\n",
       "    }\n",
       "\n",
       "    .dataframe tbody tr th {\n",
       "        vertical-align: top;\n",
       "    }\n",
       "\n",
       "    .dataframe thead th {\n",
       "        text-align: right;\n",
       "    }\n",
       "</style>\n",
       "<table border=\"1\" class=\"dataframe\">\n",
       "  <thead>\n",
       "    <tr style=\"text-align: right;\">\n",
       "      <th></th>\n",
       "      <th>age_group</th>\n",
       "      <th>gender</th>\n",
       "      <th>race</th>\n",
       "      <th>religion</th>\n",
       "    </tr>\n",
       "  </thead>\n",
       "  <tbody>\n",
       "    <tr>\n",
       "      <th>0</th>\n",
       "      <td>30s</td>\n",
       "      <td>Female</td>\n",
       "      <td>White</td>\n",
       "      <td>Other</td>\n",
       "    </tr>\n",
       "    <tr>\n",
       "      <th>1</th>\n",
       "      <td>20s</td>\n",
       "      <td>Female</td>\n",
       "      <td>Asian</td>\n",
       "      <td>Hindu</td>\n",
       "    </tr>\n",
       "    <tr>\n",
       "      <th>2</th>\n",
       "      <td>30s</td>\n",
       "      <td>Male</td>\n",
       "      <td>White</td>\n",
       "      <td>Other</td>\n",
       "    </tr>\n",
       "    <tr>\n",
       "      <th>3</th>\n",
       "      <td>20s</td>\n",
       "      <td>Female</td>\n",
       "      <td>Asian</td>\n",
       "      <td>Hindu</td>\n",
       "    </tr>\n",
       "    <tr>\n",
       "      <th>4</th>\n",
       "      <td>20s</td>\n",
       "      <td>Male</td>\n",
       "      <td>White</td>\n",
       "      <td>Agnostic</td>\n",
       "    </tr>\n",
       "    <tr>\n",
       "      <th>...</th>\n",
       "      <td>...</td>\n",
       "      <td>...</td>\n",
       "      <td>...</td>\n",
       "      <td>...</td>\n",
       "    </tr>\n",
       "    <tr>\n",
       "      <th>45527</th>\n",
       "      <td>10s</td>\n",
       "      <td>Female</td>\n",
       "      <td>White</td>\n",
       "      <td>Jewish</td>\n",
       "    </tr>\n",
       "    <tr>\n",
       "      <th>45528</th>\n",
       "      <td>30s</td>\n",
       "      <td>Male</td>\n",
       "      <td>White</td>\n",
       "      <td>Atheist</td>\n",
       "    </tr>\n",
       "    <tr>\n",
       "      <th>45529</th>\n",
       "      <td>10s</td>\n",
       "      <td>Female</td>\n",
       "      <td>White</td>\n",
       "      <td>Christian_Other</td>\n",
       "    </tr>\n",
       "    <tr>\n",
       "      <th>45530</th>\n",
       "      <td>40s</td>\n",
       "      <td>Male</td>\n",
       "      <td>White</td>\n",
       "      <td>Atheist</td>\n",
       "    </tr>\n",
       "    <tr>\n",
       "      <th>45531</th>\n",
       "      <td>20s</td>\n",
       "      <td>Male</td>\n",
       "      <td>White</td>\n",
       "      <td>Agnostic</td>\n",
       "    </tr>\n",
       "  </tbody>\n",
       "</table>\n",
       "<p>45532 rows × 4 columns</p>\n",
       "</div>"
      ],
      "text/plain": [
       "      age_group  gender   race         religion\n",
       "0           30s  Female  White            Other\n",
       "1           20s  Female  Asian            Hindu\n",
       "2           30s    Male  White            Other\n",
       "3           20s  Female  Asian            Hindu\n",
       "4           20s    Male  White         Agnostic\n",
       "...         ...     ...    ...              ...\n",
       "45527       10s  Female  White           Jewish\n",
       "45528       30s    Male  White          Atheist\n",
       "45529       10s  Female  White  Christian_Other\n",
       "45530       40s    Male  White          Atheist\n",
       "45531       20s    Male  White         Agnostic\n",
       "\n",
       "[45532 rows x 4 columns]"
      ]
     },
     "execution_count": 4,
     "metadata": {},
     "output_type": "execute_result"
    }
   ],
   "source": [
    "train[['age_group', 'gender', 'race', 'religion']]"
   ]
  },
  {
   "cell_type": "markdown",
   "metadata": {},
   "source": [
    "- agegroup 형변환"
   ]
  },
  {
   "cell_type": "code",
   "execution_count": 5,
   "metadata": {},
   "outputs": [
    {
     "data": {
      "text/plain": [
       "0        30\n",
       "1        20\n",
       "2        30\n",
       "3        20\n",
       "4        20\n",
       "         ..\n",
       "45527    10\n",
       "45528    30\n",
       "45529    10\n",
       "45530    40\n",
       "45531    20\n",
       "Name: age_group, Length: 45532, dtype: int64"
      ]
     },
     "execution_count": 5,
     "metadata": {},
     "output_type": "execute_result"
    }
   ],
   "source": [
    "train.age_group = train.age_group.str[:2].astype(np.int64)\n",
    "train.age_group"
   ]
  },
  {
   "cell_type": "markdown",
   "metadata": {},
   "source": [
    "- gender 형변환"
   ]
  },
  {
   "cell_type": "code",
   "execution_count": 6,
   "metadata": {},
   "outputs": [],
   "source": [
    "train.gender = train.gender.map({'Male':0, 'Female':1})"
   ]
  },
  {
   "cell_type": "markdown",
   "metadata": {},
   "source": [
    "- race 형변환"
   ]
  },
  {
   "cell_type": "code",
   "execution_count": 7,
   "metadata": {},
   "outputs": [
    {
     "data": {
      "text/plain": [
       "array(['White', 'Asian', 'Other', 'Black', 'Native American', 'Arab',\n",
       "       'Indigenous Australian'], dtype=object)"
      ]
     },
     "execution_count": 7,
     "metadata": {},
     "output_type": "execute_result"
    }
   ],
   "source": [
    "train.race.unique()"
   ]
  },
  {
   "cell_type": "code",
   "execution_count": 8,
   "metadata": {},
   "outputs": [],
   "source": [
    "train.race = train.race.map({'Asian':0, \n",
    "                             'Arab':1, \n",
    "                             'Black':2, \n",
    "                             'Indigenous Australian':3, \n",
    "                             'Native American':4, \n",
    "                             'White':5, \n",
    "                             'Other':6 })"
   ]
  },
  {
   "cell_type": "markdown",
   "metadata": {},
   "source": [
    "- religion 형변환"
   ]
  },
  {
   "cell_type": "code",
   "execution_count": 9,
   "metadata": {},
   "outputs": [
    {
     "data": {
      "text/plain": [
       "array(['Other', 'Hindu', 'Agnostic', 'Atheist', 'Christian_Other',\n",
       "       'Christian_Catholic', 'Muslim', 'Buddhist', 'Christian_Protestant',\n",
       "       'Jewish', 'Christian_Mormon', 'Sikh'], dtype=object)"
      ]
     },
     "execution_count": 9,
     "metadata": {},
     "output_type": "execute_result"
    }
   ],
   "source": [
    "train.religion.unique()"
   ]
  },
  {
   "cell_type": "code",
   "execution_count": 10,
   "metadata": {},
   "outputs": [],
   "source": [
    "train.religion = train.religion.map({\"Agnostic\":0, \n",
    "                                     \"Atheist\":1, \n",
    "                                     \"Buddhist\":2, \n",
    "                                     \"Christian_Catholic\":3, \n",
    "                                     \"Christian_Mormon\":4, \n",
    "                                     \"Christian_Protestant\":5, \n",
    "                                     \"Christian_Other\":6, \n",
    "                                     \"Hindu\":7, \n",
    "                                     \"Jewish\":8, \n",
    "                                     \"Muslim\":9, \n",
    "                                     \"Sikh\":10, \n",
    "                                     \"Other\":11})"
   ]
  },
  {
   "cell_type": "markdown",
   "metadata": {},
   "source": [
    "# 데이터 시각화"
   ]
  },
  {
   "cell_type": "code",
   "execution_count": 11,
   "metadata": {},
   "outputs": [
    {
     "name": "stderr",
     "output_type": "stream",
     "text": [
      "C:\\Users\\CJ\\Anaconda3\\lib\\site-packages\\statsmodels\\tools\\_testing.py:19: FutureWarning: pandas.util.testing is deprecated. Use the functions in the public API at pandas.testing instead.\n",
      "  import pandas.util.testing as tm\n"
     ]
    }
   ],
   "source": [
    "import matplotlib.pyplot as plt\n",
    "import seaborn as sns"
   ]
  },
  {
   "cell_type": "code",
   "execution_count": 12,
   "metadata": {},
   "outputs": [],
   "source": [
    "Qli = ['QaA','QbA','QcA','QdA','QeA','QfA','QgA','QhA','QiA','QjA','QkA','QlA','QmA','QnA','QoA','QpA','QqA','QrA','QsA','QtA']"
   ]
  },
  {
   "cell_type": "code",
   "execution_count": 13,
   "metadata": {},
   "outputs": [
    {
     "data": {
      "text/html": [
       "<div>\n",
       "<style scoped>\n",
       "    .dataframe tbody tr th:only-of-type {\n",
       "        vertical-align: middle;\n",
       "    }\n",
       "\n",
       "    .dataframe tbody tr th {\n",
       "        vertical-align: top;\n",
       "    }\n",
       "\n",
       "    .dataframe thead th {\n",
       "        text-align: right;\n",
       "    }\n",
       "</style>\n",
       "<table border=\"1\" class=\"dataframe\">\n",
       "  <thead>\n",
       "    <tr style=\"text-align: right;\">\n",
       "      <th></th>\n",
       "      <th>QaA</th>\n",
       "      <th>QbA</th>\n",
       "      <th>QcA</th>\n",
       "      <th>QdA</th>\n",
       "      <th>QeA</th>\n",
       "      <th>QfA</th>\n",
       "      <th>QgA</th>\n",
       "      <th>QhA</th>\n",
       "      <th>QiA</th>\n",
       "      <th>QjA</th>\n",
       "      <th>QkA</th>\n",
       "      <th>QlA</th>\n",
       "      <th>QmA</th>\n",
       "      <th>QnA</th>\n",
       "      <th>QoA</th>\n",
       "      <th>QpA</th>\n",
       "      <th>QqA</th>\n",
       "      <th>QrA</th>\n",
       "      <th>QsA</th>\n",
       "      <th>QtA</th>\n",
       "    </tr>\n",
       "  </thead>\n",
       "  <tbody>\n",
       "    <tr>\n",
       "      <th>1</th>\n",
       "      <td>18161</td>\n",
       "      <td>13427</td>\n",
       "      <td>5809</td>\n",
       "      <td>25238</td>\n",
       "      <td>17781</td>\n",
       "      <td>19577</td>\n",
       "      <td>16329</td>\n",
       "      <td>20621</td>\n",
       "      <td>8233</td>\n",
       "      <td>5130</td>\n",
       "      <td>4382</td>\n",
       "      <td>2787</td>\n",
       "      <td>5939</td>\n",
       "      <td>14428</td>\n",
       "      <td>8851</td>\n",
       "      <td>9833</td>\n",
       "      <td>11031</td>\n",
       "      <td>10790</td>\n",
       "      <td>6663</td>\n",
       "      <td>9301</td>\n",
       "    </tr>\n",
       "    <tr>\n",
       "      <th>2</th>\n",
       "      <td>12912</td>\n",
       "      <td>7830</td>\n",
       "      <td>6161</td>\n",
       "      <td>11806</td>\n",
       "      <td>10459</td>\n",
       "      <td>12794</td>\n",
       "      <td>9947</td>\n",
       "      <td>7169</td>\n",
       "      <td>9984</td>\n",
       "      <td>6696</td>\n",
       "      <td>5188</td>\n",
       "      <td>1566</td>\n",
       "      <td>6400</td>\n",
       "      <td>10661</td>\n",
       "      <td>7800</td>\n",
       "      <td>9320</td>\n",
       "      <td>9222</td>\n",
       "      <td>10905</td>\n",
       "      <td>5300</td>\n",
       "      <td>7642</td>\n",
       "    </tr>\n",
       "    <tr>\n",
       "      <th>3</th>\n",
       "      <td>7147</td>\n",
       "      <td>4052</td>\n",
       "      <td>3596</td>\n",
       "      <td>4541</td>\n",
       "      <td>7321</td>\n",
       "      <td>3663</td>\n",
       "      <td>4072</td>\n",
       "      <td>6053</td>\n",
       "      <td>5961</td>\n",
       "      <td>5080</td>\n",
       "      <td>6056</td>\n",
       "      <td>3530</td>\n",
       "      <td>4854</td>\n",
       "      <td>4518</td>\n",
       "      <td>4888</td>\n",
       "      <td>4315</td>\n",
       "      <td>8053</td>\n",
       "      <td>7030</td>\n",
       "      <td>7389</td>\n",
       "      <td>5254</td>\n",
       "    </tr>\n",
       "    <tr>\n",
       "      <th>4</th>\n",
       "      <td>5024</td>\n",
       "      <td>10112</td>\n",
       "      <td>11995</td>\n",
       "      <td>2569</td>\n",
       "      <td>4976</td>\n",
       "      <td>4924</td>\n",
       "      <td>7770</td>\n",
       "      <td>6022</td>\n",
       "      <td>9078</td>\n",
       "      <td>14091</td>\n",
       "      <td>8800</td>\n",
       "      <td>7795</td>\n",
       "      <td>15196</td>\n",
       "      <td>9048</td>\n",
       "      <td>12593</td>\n",
       "      <td>11875</td>\n",
       "      <td>10432</td>\n",
       "      <td>9166</td>\n",
       "      <td>14021</td>\n",
       "      <td>10150</td>\n",
       "    </tr>\n",
       "    <tr>\n",
       "      <th>5</th>\n",
       "      <td>2288</td>\n",
       "      <td>10111</td>\n",
       "      <td>17971</td>\n",
       "      <td>1378</td>\n",
       "      <td>4995</td>\n",
       "      <td>4574</td>\n",
       "      <td>7414</td>\n",
       "      <td>5667</td>\n",
       "      <td>12276</td>\n",
       "      <td>14535</td>\n",
       "      <td>21106</td>\n",
       "      <td>29854</td>\n",
       "      <td>13143</td>\n",
       "      <td>6877</td>\n",
       "      <td>11400</td>\n",
       "      <td>10189</td>\n",
       "      <td>6794</td>\n",
       "      <td>7641</td>\n",
       "      <td>12159</td>\n",
       "      <td>13185</td>\n",
       "    </tr>\n",
       "  </tbody>\n",
       "</table>\n",
       "</div>"
      ],
      "text/plain": [
       "     QaA    QbA    QcA    QdA    QeA    QfA    QgA    QhA    QiA    QjA  \\\n",
       "1  18161  13427   5809  25238  17781  19577  16329  20621   8233   5130   \n",
       "2  12912   7830   6161  11806  10459  12794   9947   7169   9984   6696   \n",
       "3   7147   4052   3596   4541   7321   3663   4072   6053   5961   5080   \n",
       "4   5024  10112  11995   2569   4976   4924   7770   6022   9078  14091   \n",
       "5   2288  10111  17971   1378   4995   4574   7414   5667  12276  14535   \n",
       "\n",
       "     QkA    QlA    QmA    QnA    QoA    QpA    QqA    QrA    QsA    QtA  \n",
       "1   4382   2787   5939  14428   8851   9833  11031  10790   6663   9301  \n",
       "2   5188   1566   6400  10661   7800   9320   9222  10905   5300   7642  \n",
       "3   6056   3530   4854   4518   4888   4315   8053   7030   7389   5254  \n",
       "4   8800   7795  15196   9048  12593  11875  10432   9166  14021  10150  \n",
       "5  21106  29854  13143   6877  11400  10189   6794   7641  12159  13185  "
      ]
     },
     "execution_count": 13,
     "metadata": {},
     "output_type": "execute_result"
    }
   ],
   "source": [
    "df = pd.DataFrame(index=[x for x in range(1,6)])\n",
    "for que in Qli:\n",
    "    Qdf = pd.DataFrame(train[que].value_counts(), index=[x for x in range(1,6)])\n",
    "    df = pd.concat([df, Qdf], axis=1)\n",
    "df"
   ]
  },
  {
   "cell_type": "code",
   "execution_count": 14,
   "metadata": {
    "scrolled": false
   },
   "outputs": [
    {
     "data": {
      "image/png": "[encoded data removed]",
      "text/plain": [
       "<Figure size 576x288 with 1 Axes>"
      ]
     },
     "metadata": {
      "needs_background": "light"
     },
     "output_type": "display_data"
    },
    {
     "data": {
      "image/png": "[encoded data removed]",
      "text/plain": [
       "<Figure size 576x288 with 1 Axes>"
      ]
     },
     "metadata": {
      "needs_background": "light"
     },
     "output_type": "display_data"
    },
    {
     "data": {
      "image/png": "[encoded data removed]",
      "text/plain": [
       "<Figure size 576x288 with 1 Axes>"
      ]
     },
     "metadata": {
      "needs_background": "light"
     },
     "output_type": "display_data"
    },
    {
     "data": {
      "image/png": "[encoded data removed]",
      "text/plain": [
       "<Figure size 576x288 with 1 Axes>"
      ]
     },
     "metadata": {
      "needs_background": "light"
     },
     "output_type": "display_data"
    },
    {
     "data": {
      "image/png": "[encoded data removed]",
      "text/plain": [
       "<Figure size 576x288 with 1 Axes>"
      ]
     },
     "metadata": {
      "needs_background": "light"
     },
     "output_type": "display_data"
    },
    {
     "data": {
      "image/png": "[encoded data removed]",
      "text/plain": [
       "<Figure size 576x288 with 1 Axes>"
      ]
     },
     "metadata": {
      "needs_background": "light"
     },
     "output_type": "display_data"
    },
    {
     "data": {
      "image/png": "[encoded data removed]",
      "text/plain": [
       "<Figure size 576x288 with 1 Axes>"
      ]
     },
     "metadata": {
      "needs_background": "light"
     },
     "output_type": "display_data"
    },
    {
     "data": {
      "image/png": "[encoded data removed]",
      "text/plain": [
       "<Figure size 576x288 with 1 Axes>"
      ]
     },
     "metadata": {
      "needs_background": "light"
     },
     "output_type": "display_data"
    },
    {
     "data": {
      "image/png": "[encoded data removed]",
      "text/plain": [
       "<Figure size 576x288 with 1 Axes>"
      ]
     },
     "metadata": {
      "needs_background": "light"
     },
     "output_type": "display_data"
    },
    {
     "data": {
      "image/png": "[encoded data removed]",
      "text/plain": [
       "<Figure size 576x288 with 1 Axes>"
      ]
     },
     "metadata": {
      "needs_background": "light"
     },
     "output_type": "display_data"
    },
    {
     "data": {
      "image/png": "[encoded data removed]",
      "text/plain": [
       "<Figure size 576x288 with 1 Axes>"
      ]
     },
     "metadata": {
      "needs_background": "light"
     },
     "output_type": "display_data"
    },
    {
     "data": {
      "image/png": "[encoded data removed]",
      "text/plain": [
       "<Figure size 576x288 with 1 Axes>"
      ]
     },
     "metadata": {
      "needs_background": "light"
     },
     "output_type": "display_data"
    },
    {
     "data": {
      "image/png": "[encoded data removed]",
      "text/plain": [
       "<Figure size 576x288 with 1 Axes>"
      ]
     },
     "metadata": {
      "needs_background": "light"
     },
     "output_type": "display_data"
    },
    {
     "data": {
      "image/png": "[encoded data removed]",
      "text/plain": [
       "<Figure size 576x288 with 1 Axes>"
      ]
     },
     "metadata": {
      "needs_background": "light"
     },
     "output_type": "display_data"
    },
    {
     "data": {
      "image/png": "[encoded data removed]",
      "text/plain": [
       "<Figure size 576x288 with 1 Axes>"
      ]
     },
     "metadata": {
      "needs_background": "light"
     },
     "output_type": "display_data"
    },
    {
     "data": {
      "image/png": "[encoded data removed]",
      "text/plain": [
       "<Figure size 576x288 with 1 Axes>"
      ]
     },
     "metadata": {
      "needs_background": "light"
     },
     "output_type": "display_data"
    },
    {
     "data": {
      "image/png": "[encoded data removed]",
      "text/plain": [
       "<Figure size 576x288 with 1 Axes>"
      ]
     },
     "metadata": {
      "needs_background": "light"
     },
     "output_type": "display_data"
    },
    {
     "data": {
      "image/png": "[encoded data removed]",
      "text/plain": [
       "<Figure size 576x288 with 1 Axes>"
      ]
     },
     "metadata": {
      "needs_background": "light"
     },
     "output_type": "display_data"
    },
    {
     "data": {
      "image/png": "[encoded data removed]",
      "text/plain": [
       "<Figure size 576x288 with 1 Axes>"
      ]
     },
     "metadata": {
      "needs_background": "light"
     },
     "output_type": "display_data"
    },
    {
     "data": {
      "image/png": "[encoded data removed]",
      "text/plain": [
       "<Figure size 576x288 with 1 Axes>"
      ]
     },
     "metadata": {
      "needs_background": "light"
     },
     "output_type": "display_data"
    }
   ],
   "source": [
    "for que in Qli:\n",
    "    plt.figure(figsize=(8, 4))\n",
    "    sns.barplot(x=df.index, y=df[que], data=df)"
   ]
  }
 ],
 "metadata": {
  "kernelspec": {
   "display_name": "Python 3",
   "language": "python",
   "name": "python3"
  },
  "language_info": {
   "codemirror_mode": {
    "name": "ipython",
    "version": 3
   },
   "file_extension": ".py",
   "mimetype": "text/x-python",
   "name": "python",
   "nbconvert_exporter": "python",
   "pygments_lexer": "ipython3",
   "version": "3.7.3"
  },
  "toc": {
   "base_numbering": 1,
   "nav_menu": {},
   "number_sections": false,
   "sideBar": true,
   "skip_h1_title": false,
   "title_cell": "Table of Contents",
   "title_sidebar": "Contents",
   "toc_cell": false,
   "toc_position": {},
   "toc_section_display": true,
   "toc_window_display": false
  }
 },
 "nbformat": 4,
 "nbformat_minor": 2
}
