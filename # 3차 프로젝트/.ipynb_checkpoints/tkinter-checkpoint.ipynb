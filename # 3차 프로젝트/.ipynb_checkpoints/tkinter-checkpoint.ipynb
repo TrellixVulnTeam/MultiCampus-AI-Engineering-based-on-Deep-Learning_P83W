{
 "cells": [
  {
   "cell_type": "code",
   "execution_count": null,
   "metadata": {},
   "outputs": [
    {
     "name": "stdout",
     "output_type": "stream",
     "text": [
      "\n",
      "\n"
     ]
    }
   ],
   "source": [
    "from tkinter import *\n",
    "from tkinter import filedialog\n",
    "\n",
    "def Load():\n",
    "    filename = filedialog.askopenfilename(initialdir=\"/\", title=\"Select file\",\n",
    "                                          filetypes=((\"all files\", \"*.*\"),\n",
    "                                          (\"all files\", \"*.*\")))\n",
    "    print(filename)\n",
    "\n",
    "def Save():\n",
    "    filename = filedialog.asksaveasfilename(initialdir=\"/\", title=\"Select file\",\n",
    "                                          filetypes=((\"all files\", \"*.*\"),\n",
    "                                          (\"all files\", \"*.*\")))\n",
    "    print(filename)\n",
    "\n",
    "def domenu():\n",
    "    print(\"OK\")\n",
    "\n",
    "root = Tk()\n",
    "menubar = Menu(root)\n",
    "filemenu = Menu(menubar, tearoff=0)\n",
    "menubar.add_cascade(label=\"File\", menu=filemenu)\n",
    "filemenu.add_command(label=\"New\", command=domenu)\n",
    "filemenu.add_command(label=\"Open\", command=Load)\n",
    "filemenu.add_command(label=\"Save\", command=Save)\n",
    "filemenu.add_command(label=\"Save as...\", command=Save)\n",
    "filemenu.add_separator()\n",
    "filemenu.add_command(label=\"Exit\", command=root.quit)\n",
    "editmenu = Menu(menubar, tearoff=0)\n",
    "menubar.add_cascade(label=\"Edit\", menu=editmenu)\n",
    "editmenu.add_command(label=\"Copy\", command=domenu)\n",
    "editmenu.add_command(label=\"Paste\", command=domenu)\n",
    "editmenu.add_separator()\n",
    "editmenu.add_command(label=\"Delete\", command=domenu)\n",
    "helpmenu = Menu(menubar, tearoff=0)\n",
    "menubar.add_cascade(label=\"Help\", menu=helpmenu)\n",
    "helpmenu.add_command(label=\"About...\", command=domenu)\n",
    "\n",
    "btn = Button(root, text=\"Click\", command=Load)\n",
    "btn.pack()\n",
    "\n",
    "root.config(menu=menubar)\n",
    "root.mainloop()"
   ]
  },
  {
   "cell_type": "code",
   "execution_count": null,
   "metadata": {},
   "outputs": [],
   "source": []
  }
 ],
 "metadata": {
  "kernelspec": {
   "display_name": "Python 3",
   "language": "python",
   "name": "python3"
  },
  "language_info": {
   "codemirror_mode": {
    "name": "ipython",
    "version": 3
   },
   "file_extension": ".py",
   "mimetype": "text/x-python",
   "name": "python",
   "nbconvert_exporter": "python",
   "pygments_lexer": "ipython3",
   "version": "3.7.3"
  },
  "toc": {
   "base_numbering": 1,
   "nav_menu": {},
   "number_sections": false,
   "sideBar": true,
   "skip_h1_title": false,
   "title_cell": "Table of Contents",
   "title_sidebar": "Contents",
   "toc_cell": false,
   "toc_position": {},
   "toc_section_display": true,
   "toc_window_display": false
  }
 },
 "nbformat": 4,
 "nbformat_minor": 4
}
