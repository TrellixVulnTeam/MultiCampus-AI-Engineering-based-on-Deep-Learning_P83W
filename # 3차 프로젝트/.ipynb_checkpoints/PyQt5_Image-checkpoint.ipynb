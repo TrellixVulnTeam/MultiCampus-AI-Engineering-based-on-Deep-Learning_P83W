{
 "cells": [
  {
   "cell_type": "code",
   "execution_count": null,
   "metadata": {},
   "outputs": [],
   "source": [
    "import sys\n",
    "from PyQt5.QtWidgets import QApplication, QWidget, QToolTip, QPushButton, QGridLayout, QFileDialog, QLabel, QMainWindow, QVBoxLayout\n",
    "from PyQt5.QtGui import QIcon, QFont, QPixmap\n",
    "\n",
    "class YEOGIYO(QWidget):\n",
    "    def __init__(self):\n",
    "        super().__init__()\n",
    "        self.initUI()\n",
    "        \n",
    "    def initUI(self):\n",
    "        self.setGeometry(500,500,500,200)\n",
    "        self.setWindowTitle(\"YEOGIYO!\")\n",
    "        QToolTip.setFont(QFont('SansSerif', 10))\n",
    "        self.setToolTip('This is <b>Qwidget</b> a widget')\n",
    "        self.num=0\n",
    "        self.qclist=[]\n",
    "        self.position=0\n",
    "        self.Lgrid=QGridLayout()\n",
    "        self.setLayout(self.Lgrid)\n",
    "        self.label=QLabel('',self)\n",
    "        btn=QPushButton('이미지 불러오기', self)\n",
    "        btn.setToolTip(\"This is a <b>QPushButton</b> a widget\")\n",
    "        btn.resize(btn.sizeHint())\n",
    "        btn.move(200,50)\n",
    "        self.Lgrid.addWidget(self.label, 1,1)\n",
    "        self.Lgrid.addWidget(btn, 2, 1)\n",
    "        btn.clicked.connect(self.add_open)\n",
    "        self.show()\n",
    "        \n",
    "    def add_open(self):\n",
    "        FileOpen=QFileDialog.getOpenFileName(self, 'Open file', ',/')\n",
    "        self.label.setText(FileOpen[0])\n",
    "        pixmap=QPixmap(FileOpen[0])\n",
    "        self.label.setPixmap(pixmap)\n",
    "        self.resize(200, 200)\n",
    "        self.show()\n",
    "        \n",
    "\n",
    "if __name__=='__main__':\n",
    "    app=QApplication(sys.argv)\n",
    "    w=YEOGIYO()\n",
    "    sys.exit(app.exec_())"
   ]
  },
  {
   "cell_type": "code",
   "execution_count": null,
   "metadata": {},
   "outputs": [],
   "source": []
  }
 ],
 "metadata": {
  "kernelspec": {
   "display_name": "Python 3",
   "language": "python",
   "name": "python3"
  },
  "language_info": {
   "codemirror_mode": {
    "name": "ipython",
    "version": 3
   },
   "file_extension": ".py",
   "mimetype": "text/x-python",
   "name": "python",
   "nbconvert_exporter": "python",
   "pygments_lexer": "ipython3",
   "version": "3.7.3"
  },
  "toc": {
   "base_numbering": 1,
   "nav_menu": {},
   "number_sections": false,
   "sideBar": true,
   "skip_h1_title": false,
   "title_cell": "Table of Contents",
   "title_sidebar": "Contents",
   "toc_cell": false,
   "toc_position": {},
   "toc_section_display": true,
   "toc_window_display": false
  }
 },
 "nbformat": 4,
 "nbformat_minor": 2
}
