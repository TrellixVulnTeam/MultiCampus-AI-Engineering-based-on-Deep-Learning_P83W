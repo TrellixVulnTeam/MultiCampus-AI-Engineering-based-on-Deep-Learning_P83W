{
 "cells": [
  {
   "cell_type": "markdown",
   "metadata": {},
   "source": [
    "# encoding & decoding"
   ]
  },
  {
   "cell_type": "code",
   "execution_count": 1,
   "metadata": {
    "ExecuteTime": {
     "end_time": "2020-08-11T01:37:26.452476Z",
     "start_time": "2020-08-11T01:37:26.442475Z"
    }
   },
   "outputs": [
    {
     "name": "stdout",
     "output_type": "stream",
     "text": [
      "1\n",
      "2\n",
      "b'\\xb0\\xa1\\xb3\\xaa\\xb4\\xd9'\n",
      "가나다\n"
     ]
    }
   ],
   "source": [
    "#문자 -> 2진수 바이트 열로 저장(인코딩) \n",
    "#ex) 한글 : EUC-KR, CP949\n",
    "#유니코드(표준 인코딩 방식) : UTF8, UTF16, UTF32 etc.\n",
    "u = '가'\n",
    "print(len(u))\n",
    "print(len(bytearray(u,\"cp949\")))\n",
    "\n",
    "r = '가나다'\n",
    "print(r.encode(\"euc-kr\"))\n",
    "print(r.encode(\"euc-kr\").decode(\"euc-kr\"))"
   ]
  },
  {
   "cell_type": "markdown",
   "metadata": {},
   "source": [
    "# Numpy"
   ]
  },
  {
   "cell_type": "markdown",
   "metadata": {},
   "source": [
    "numerical python : numpy(과학계산)\n",
    "- 다차원 배열(ndarray) 계산, 브로드캐스팅 기능\n",
    "- 반복문 필요하지 않음 -> 매우 빠른 연산\n",
    "선형대수, 난수 생성기, 푸리에 변환\n",
    "c언어 코드와 연결\n",
    "\n",
    "벡터에서 데이터 가공, 정제, 필터링, 변형 연산\n",
    "정렬, 원소 찾기, 집합 연산\n",
    "통계, 데이터 요약\n",
    "병합, 관계 표현\n",
    "\n",
    "대용량 배열을 효율적으로 처리"
   ]
  },
  {
   "cell_type": "code",
   "execution_count": 2,
   "metadata": {
    "ExecuteTime": {
     "end_time": "2020-08-11T04:32:23.037194Z",
     "start_time": "2020-08-11T04:32:22.907184Z"
    }
   },
   "outputs": [],
   "source": [
    "import numpy as np"
   ]
  },
  {
   "cell_type": "code",
   "execution_count": 7,
   "metadata": {
    "ExecuteTime": {
     "end_time": "2020-08-11T04:36:01.123549Z",
     "start_time": "2020-08-11T04:36:01.101545Z"
    }
   },
   "outputs": [],
   "source": [
    "myArr = np.arange(1000000)\n",
    "myList = list(range(1000000))"
   ]
  },
  {
   "cell_type": "markdown",
   "metadata": {},
   "source": [
    "## array와 list의 연산 속도 차이"
   ]
  },
  {
   "cell_type": "code",
   "execution_count": 9,
   "metadata": {
    "ExecuteTime": {
     "end_time": "2020-08-11T04:39:04.923330Z",
     "start_time": "2020-08-11T04:39:04.849325Z"
    }
   },
   "outputs": [
    {
     "name": "stdout",
     "output_type": "stream",
     "text": [
      "Wall time: 69 ms\n"
     ]
    }
   ],
   "source": [
    "%time for _ in range(30): myArr = myArr*2 #array안 요소들의 값이 2배"
   ]
  },
  {
   "cell_type": "code",
   "execution_count": 11,
   "metadata": {
    "ExecuteTime": {
     "end_time": "2020-08-11T04:42:58.893872Z",
     "start_time": "2020-08-11T04:42:56.851721Z"
    }
   },
   "outputs": [
    {
     "name": "stdout",
     "output_type": "stream",
     "text": [
      "Wall time: 2.04 s\n"
     ]
    }
   ],
   "source": [
    "%time for _ in range(30): myList2 = [i*2 for i in myList] #list 안 요소들의 값을 2배"
   ]
  },
  {
   "cell_type": "markdown",
   "metadata": {},
   "source": [
    "## array의 활용"
   ]
  },
  {
   "cell_type": "code",
   "execution_count": 14,
   "metadata": {
    "ExecuteTime": {
     "end_time": "2020-08-11T04:48:02.139612Z",
     "start_time": "2020-08-11T04:48:02.136610Z"
    }
   },
   "outputs": [],
   "source": [
    "data = np.random.randn(2,3) #2행 3열의 난수 발생시킴"
   ]
  },
  {
   "cell_type": "code",
   "execution_count": 16,
   "metadata": {
    "ExecuteTime": {
     "end_time": "2020-08-11T04:48:16.734706Z",
     "start_time": "2020-08-11T04:48:16.729705Z"
    }
   },
   "outputs": [
    {
     "name": "stdout",
     "output_type": "stream",
     "text": [
      "[[21.99661462  5.95540556 -1.56196699]\n",
      " [ 4.17730551  2.90774537 12.00231139]]\n",
      "[[ 4.39932292  1.19108111 -0.3123934 ]\n",
      " [ 0.8354611   0.58154907  2.40046228]]\n"
     ]
    }
   ],
   "source": [
    "print(data*10)\n",
    "print(data+data)"
   ]
  },
  {
   "cell_type": "code",
   "execution_count": 17,
   "metadata": {
    "ExecuteTime": {
     "end_time": "2020-08-11T04:49:08.051555Z",
     "start_time": "2020-08-11T04:49:08.045556Z"
    }
   },
   "outputs": [
    {
     "data": {
      "text/plain": [
       "(2, 3)"
      ]
     },
     "execution_count": 17,
     "metadata": {},
     "output_type": "execute_result"
    }
   ],
   "source": [
    "data.shape #array의 형태를 출력하는 함수 : shape"
   ]
  },
  {
   "cell_type": "code",
   "execution_count": 18,
   "metadata": {
    "ExecuteTime": {
     "end_time": "2020-08-11T05:06:15.682608Z",
     "start_time": "2020-08-11T05:06:15.675607Z"
    }
   },
   "outputs": [
    {
     "data": {
      "text/plain": [
       "array([3. , 1.5, 2. , 0. ])"
      ]
     },
     "execution_count": 18,
     "metadata": {},
     "output_type": "execute_result"
    }
   ],
   "source": [
    "data1 = [3, 1.5, 2, 0]\n",
    "arr1 = np.array(data1)\n",
    "arr1"
   ]
  },
  {
   "cell_type": "code",
   "execution_count": 21,
   "metadata": {
    "ExecuteTime": {
     "end_time": "2020-08-11T05:09:05.765362Z",
     "start_time": "2020-08-11T05:09:05.758360Z"
    }
   },
   "outputs": [
    {
     "name": "stdout",
     "output_type": "stream",
     "text": [
      "[[1 2 3]\n",
      " [4 5 6]]\n",
      "2\n",
      "(2, 3)\n",
      "int32\n",
      "[[1 2]\n",
      " [3 4]\n",
      " [5 6]]\n"
     ]
    }
   ],
   "source": [
    "data2 = [[1,2,3], [4,5,6]]\n",
    "arr2 = np.array(data2)\n",
    "print(arr2)\n",
    "print(arr2.ndim)\n",
    "print(arr2.shape)\n",
    "print(arr2.dtype)\n",
    "print(arr2.reshape(3, 2))"
   ]
  },
  {
   "cell_type": "code",
   "execution_count": 24,
   "metadata": {
    "ExecuteTime": {
     "end_time": "2020-08-11T05:11:16.470162Z",
     "start_time": "2020-08-11T05:11:16.463160Z"
    }
   },
   "outputs": [
    {
     "name": "stdout",
     "output_type": "stream",
     "text": [
      "[0. 0. 0. 0. 0. 0. 0. 0. 0. 0.]\n",
      "[[0. 0. 0. 0. 0. 0.]\n",
      " [0. 0. 0. 0. 0. 0.]\n",
      " [0. 0. 0. 0. 0. 0.]]\n",
      "[[[0. 0. 0. 0.]\n",
      "  [0. 0. 0. 0.]\n",
      "  [0. 0. 0. 0.]]\n",
      "\n",
      " [[0. 0. 0. 0.]\n",
      "  [0. 0. 0. 0.]\n",
      "  [0. 0. 0. 0.]]]\n"
     ]
    }
   ],
   "source": [
    "print(np.zeros(10)) #0이 10개인 array를 만듦\n",
    "print(np.zeros((3, 6)))\n",
    "print(np.zeros((2,3,4)))"
   ]
  },
  {
   "cell_type": "code",
   "execution_count": 27,
   "metadata": {
    "ExecuteTime": {
     "end_time": "2020-08-11T05:15:51.579792Z",
     "start_time": "2020-08-11T05:15:51.574789Z"
    }
   },
   "outputs": [
    {
     "name": "stdout",
     "output_type": "stream",
     "text": [
      "[1 2 3]\n",
      "int32\n"
     ]
    }
   ],
   "source": [
    "arr1 = np.array([1,2,3]) #데이터의 의미(데이터의 데이터 == 메타데이터)\n",
    "print(arr1)\n",
    "print(arr1.dtype)"
   ]
  },
  {
   "cell_type": "code",
   "execution_count": 29,
   "metadata": {
    "ExecuteTime": {
     "end_time": "2020-08-11T05:16:38.222288Z",
     "start_time": "2020-08-11T05:16:38.218287Z"
    }
   },
   "outputs": [
    {
     "name": "stdout",
     "output_type": "stream",
     "text": [
      "[1. 2. 3.]\n",
      "float64\n"
     ]
    }
   ],
   "source": [
    "arr2 = np.array([1,2,3], dtype=np.float64)\n",
    "print(arr2)\n",
    "print(arr2.dtype)"
   ]
  },
  {
   "cell_type": "code",
   "execution_count": null,
   "metadata": {},
   "outputs": [],
   "source": [
    "# <numpy>\n",
    "# int64 : 정수형\n",
    "# float : 실수형\n",
    "# bool : 논리형\n",
    "# object : 객체\n",
    "# string : 문자열\n",
    "\n",
    "# astype메소드 : dtype을 다른 형으로 변환"
   ]
  },
  {
   "cell_type": "code",
   "execution_count": 31,
   "metadata": {
    "ExecuteTime": {
     "end_time": "2020-08-11T05:21:15.282065Z",
     "start_time": "2020-08-11T05:21:15.275062Z"
    }
   },
   "outputs": [
    {
     "name": "stdout",
     "output_type": "stream",
     "text": [
      "int32\n",
      "int32\n",
      "float64\n"
     ]
    }
   ],
   "source": [
    "arr = np.array([1,2,3])\n",
    "print(arr.dtype)\n",
    "arr.astype(np.float64)\n",
    "print(arr.dtype)\n",
    "floatArr = arr.astype(np.float64)\n",
    "print(floatArr.dtype)"
   ]
  },
  {
   "cell_type": "code",
   "execution_count": 34,
   "metadata": {
    "ExecuteTime": {
     "end_time": "2020-08-11T05:23:13.894957Z",
     "start_time": "2020-08-11T05:23:13.889957Z"
    }
   },
   "outputs": [
    {
     "name": "stdout",
     "output_type": "stream",
     "text": [
      "float64\n",
      "[ 1 -2  3] -> int32\n"
     ]
    }
   ],
   "source": [
    "arr = np.array([1.2, -2.5, 3.1])\n",
    "print(arr.dtype)\n",
    "intArr = arr.astype(np.int32)\n",
    "print(intArr,\"->\", intArr.dtype)"
   ]
  },
  {
   "cell_type": "code",
   "execution_count": 38,
   "metadata": {
    "ExecuteTime": {
     "end_time": "2020-08-11T05:25:49.857651Z",
     "start_time": "2020-08-11T05:25:49.851651Z"
    }
   },
   "outputs": [
    {
     "name": "stdout",
     "output_type": "stream",
     "text": [
      "[ 1.5 -2.7 30. ]\n"
     ]
    }
   ],
   "source": [
    "arr = np.array(['1.5', '-2.7', '30'])\n",
    "arr #array(['1.5', '-2.7', '30'], dtype='<U4') #U4란 문자열\n",
    "print(arr.astype(float)) #문자열 형식을 float형식으로 변형"
   ]
  },
  {
   "cell_type": "code",
   "execution_count": 39,
   "metadata": {
    "ExecuteTime": {
     "end_time": "2020-08-11T05:27:34.693511Z",
     "start_time": "2020-08-11T05:27:34.686512Z"
    }
   },
   "outputs": [
    {
     "data": {
      "text/plain": [
       "array([[1., 2., 3.],\n",
       "       [4., 5., 6.]])"
      ]
     },
     "execution_count": 39,
     "metadata": {},
     "output_type": "execute_result"
    }
   ],
   "source": [
    "arr = np.array([[1.,2.,3.],[4.,5.,6.]])\n",
    "arr"
   ]
  },
  {
   "cell_type": "code",
   "execution_count": 40,
   "metadata": {
    "ExecuteTime": {
     "end_time": "2020-08-11T05:27:45.008285Z",
     "start_time": "2020-08-11T05:27:45.003285Z"
    }
   },
   "outputs": [
    {
     "data": {
      "text/plain": [
       "array([[ 1.,  4.,  9.],\n",
       "       [16., 25., 36.]])"
      ]
     },
     "execution_count": 40,
     "metadata": {},
     "output_type": "execute_result"
    }
   ],
   "source": [
    "arr*arr #벡터화 연산 : 같은 형태의 배열형 array는 요소끼리 연산한다."
   ]
  },
  {
   "cell_type": "code",
   "execution_count": 41,
   "metadata": {
    "ExecuteTime": {
     "end_time": "2020-08-11T05:29:12.102816Z",
     "start_time": "2020-08-11T05:29:12.096814Z"
    }
   },
   "outputs": [
    {
     "data": {
      "text/plain": [
       "array([[0., 0., 0.],\n",
       "       [0., 0., 0.]])"
      ]
     },
     "execution_count": 41,
     "metadata": {},
     "output_type": "execute_result"
    }
   ],
   "source": [
    "arr-arr"
   ]
  },
  {
   "cell_type": "code",
   "execution_count": 42,
   "metadata": {
    "ExecuteTime": {
     "end_time": "2020-08-11T05:29:39.031835Z",
     "start_time": "2020-08-11T05:29:39.025835Z"
    }
   },
   "outputs": [
    {
     "data": {
      "text/plain": [
       "array([[1.        , 0.5       , 0.33333333],\n",
       "       [0.25      , 0.2       , 0.16666667]])"
      ]
     },
     "execution_count": 42,
     "metadata": {},
     "output_type": "execute_result"
    }
   ],
   "source": [
    "1/arr #1은 스칼라이므로 같은 형태의 array가 아니여도 array전체에 연산한다."
   ]
  },
  {
   "cell_type": "code",
   "execution_count": 43,
   "metadata": {
    "ExecuteTime": {
     "end_time": "2020-08-11T05:31:14.086961Z",
     "start_time": "2020-08-11T05:31:14.079961Z"
    }
   },
   "outputs": [
    {
     "data": {
      "text/plain": [
       "array([[0, 1, 2],\n",
       "       [7, 8, 9]])"
      ]
     },
     "execution_count": 43,
     "metadata": {},
     "output_type": "execute_result"
    }
   ],
   "source": [
    "arr2 = np.array([[0,1,2],[7,8,9]])\n",
    "arr2"
   ]
  },
  {
   "cell_type": "code",
   "execution_count": 44,
   "metadata": {
    "ExecuteTime": {
     "end_time": "2020-08-11T05:31:22.173569Z",
     "start_time": "2020-08-11T05:31:22.168568Z"
    }
   },
   "outputs": [
    {
     "data": {
      "text/plain": [
       "array([[ True,  True,  True],\n",
       "       [False, False, False]])"
      ]
     },
     "execution_count": 44,
     "metadata": {},
     "output_type": "execute_result"
    }
   ],
   "source": [
    "arr > arr2 #요소간 대소 크기 비교"
   ]
  },
  {
   "cell_type": "code",
   "execution_count": null,
   "metadata": {},
   "outputs": [],
   "source": [
    "#브로드 캐스팅 : 크기가 다른 배열 간의 연산"
   ]
  },
  {
   "cell_type": "code",
   "execution_count": 53,
   "metadata": {
    "ExecuteTime": {
     "end_time": "2020-08-11T05:42:24.990269Z",
     "start_time": "2020-08-11T05:42:24.985269Z"
    }
   },
   "outputs": [
    {
     "name": "stdout",
     "output_type": "stream",
     "text": [
      "[0 1 2 3 4 5 6 7 8 9]\n",
      "5\n",
      "[5 6 7]\n",
      "[ 0  1  2  3  4 12 12 12  8  9]\n"
     ]
    }
   ],
   "source": [
    "arr = np.arange(10)\n",
    "print(arr)\n",
    "print(arr[5])\n",
    "print(arr[5:8])\n",
    "arr[5:8] = 12 #브로드 캐스팅 : 스칼라 값 대입\n",
    "print(arr)"
   ]
  },
  {
   "cell_type": "code",
   "execution_count": 55,
   "metadata": {
    "ExecuteTime": {
     "end_time": "2020-08-11T05:42:54.474479Z",
     "start_time": "2020-08-11T05:42:54.467478Z"
    }
   },
   "outputs": [
    {
     "name": "stdout",
     "output_type": "stream",
     "text": [
      "[100 999  12]\n",
      "[  0   1   2   3   4 100 999  12   8   9]\n",
      "[100 999  12]\n",
      "[  0   1   2   3   4 100 999  12   8   9]\n",
      "[777 777 777]\n",
      "[  0   1   2   3   4 777 777 777   8   9]\n"
     ]
    }
   ],
   "source": [
    "arrslice = arr[5:8] #[12, 12, 12] <- 사본을 만든것이 아닌 원본에서 일부만 보여주는 뷰 형태\n",
    "\n",
    "arrslice[1] = 999\n",
    "print(arrslice)\n",
    "print(arr) #복사되는 개념이 아닌 원본이 수정됌\n",
    "\n",
    "arrslice[0] = 100\n",
    "print(arrslice)\n",
    "print(arr)\n",
    "\n",
    "arrslice[:] = 777\n",
    "print(arrslice)\n",
    "print(arr)"
   ]
  },
  {
   "cell_type": "code",
   "execution_count": 56,
   "metadata": {
    "ExecuteTime": {
     "end_time": "2020-08-11T05:44:58.112750Z",
     "start_time": "2020-08-11T05:44:58.106750Z"
    }
   },
   "outputs": [
    {
     "name": "stdout",
     "output_type": "stream",
     "text": [
      "[333   6   7]\n",
      "[0 1 2 3 4 5 6 7 8 9]\n"
     ]
    }
   ],
   "source": [
    "arr = np.arange(10)\n",
    "arrslice2 = arr[5:8].copy() #copy함수를 사용하면 변수에 사본을 저장함\n",
    "\n",
    "arrslice2[0] = 333\n",
    "print(arrslice2)\n",
    "print(arr)\n"
   ]
  },
  {
   "cell_type": "code",
   "execution_count": 58,
   "metadata": {
    "ExecuteTime": {
     "end_time": "2020-08-11T06:08:55.047496Z",
     "start_time": "2020-08-11T06:08:55.042495Z"
    }
   },
   "outputs": [
    {
     "name": "stdout",
     "output_type": "stream",
     "text": [
      "[5 6]\n",
      "6\n"
     ]
    }
   ],
   "source": [
    "arr2 = np.array([[1,2], [3,4], [5,6]])\n",
    "\n",
    "#2차원배열[인덱스] => 1차원 배열이 참조됌\n",
    "print(arr2[2])\n",
    "#2차원배열[인덱스, 인덱스] => 요소 참조\n",
    "print(arr2[2, 1])"
   ]
  },
  {
   "cell_type": "code",
   "execution_count": 97,
   "metadata": {
    "ExecuteTime": {
     "end_time": "2020-08-11T06:23:47.047379Z",
     "start_time": "2020-08-11T06:23:47.041378Z"
    }
   },
   "outputs": [
    {
     "name": "stdout",
     "output_type": "stream",
     "text": [
      "[ 1  2  3  4  5  6  7  8  9 10 11 12 13 14 15 16 17 18 19 20 21 22 23 24]\n",
      "[[[ 1  2  3  4]\n",
      "  [ 5  6  7  8]\n",
      "  [ 9 10 11 12]]\n",
      "\n",
      " [[13 14 15 16]\n",
      "  [17 18 19 20]\n",
      "  [21 22 23 24]]]\n"
     ]
    }
   ],
   "source": [
    "arr = np.array(list(range(1, 25)))\n",
    "print(arr)\n",
    "\n",
    "arr3d = arr.reshape(2,3,4)\n",
    "print(arr3d)"
   ]
  },
  {
   "cell_type": "code",
   "execution_count": 98,
   "metadata": {
    "ExecuteTime": {
     "end_time": "2020-08-11T06:23:48.726506Z",
     "start_time": "2020-08-11T06:23:48.720503Z"
    }
   },
   "outputs": [
    {
     "data": {
      "text/plain": [
       "array([[ 1,  2,  3,  4],\n",
       "       [ 5,  6,  7,  8],\n",
       "       [ 9, 10, 11, 12]])"
      ]
     },
     "execution_count": 98,
     "metadata": {},
     "output_type": "execute_result"
    }
   ],
   "source": [
    "oldValue = arr3d[0].copy()\n",
    "oldValue"
   ]
  },
  {
   "cell_type": "code",
   "execution_count": 99,
   "metadata": {
    "ExecuteTime": {
     "end_time": "2020-08-11T06:23:50.647648Z",
     "start_time": "2020-08-11T06:23:50.641647Z"
    }
   },
   "outputs": [
    {
     "data": {
      "text/plain": [
       "array([[[99, 99, 99, 99],\n",
       "        [99, 99, 99, 99],\n",
       "        [99, 99, 99, 99]],\n",
       "\n",
       "       [[13, 14, 15, 16],\n",
       "        [17, 18, 19, 20],\n",
       "        [21, 22, 23, 24]]])"
      ]
     },
     "execution_count": 99,
     "metadata": {},
     "output_type": "execute_result"
    }
   ],
   "source": [
    "arr3d[0]=99\n",
    "arr3d"
   ]
  },
  {
   "cell_type": "code",
   "execution_count": 100,
   "metadata": {
    "ExecuteTime": {
     "end_time": "2020-08-11T06:23:52.605798Z",
     "start_time": "2020-08-11T06:23:52.601796Z"
    }
   },
   "outputs": [
    {
     "data": {
      "text/plain": [
       "array([[[ 1,  2,  3,  4],\n",
       "        [ 5,  6,  7,  8],\n",
       "        [ 9, 10, 11, 12]],\n",
       "\n",
       "       [[13, 14, 15, 16],\n",
       "        [17, 18, 19, 20],\n",
       "        [21, 22, 23, 24]]])"
      ]
     },
     "execution_count": 100,
     "metadata": {},
     "output_type": "execute_result"
    }
   ],
   "source": [
    "arr3d[0] = oldValue\n",
    "arr3d"
   ]
  },
  {
   "cell_type": "code",
   "execution_count": 101,
   "metadata": {
    "ExecuteTime": {
     "end_time": "2020-08-11T06:23:56.537090Z",
     "start_time": "2020-08-11T06:23:56.529089Z"
    }
   },
   "outputs": [
    {
     "name": "stdout",
     "output_type": "stream",
     "text": [
      "[[13 14 15 16]\n",
      " [17 18 19 20]\n",
      " [21 22 23 24]]\n",
      "[21 22 23 24]\n",
      "24\n",
      "[[13 14 15 16]\n",
      " [17 18 19 20]\n",
      " [21 22 23 24]]\n",
      "[21 22 23 24]\n",
      "24\n"
     ]
    }
   ],
   "source": [
    "print(arr3d[1])\n",
    "print(arr3d[1][2])\n",
    "print(arr3d[1][2][3])\n",
    "\n",
    "print(arr3d[1])\n",
    "print(arr3d[1, 2])\n",
    "print(arr3d[1, 2, 3])"
   ]
  },
  {
   "cell_type": "code",
   "execution_count": 102,
   "metadata": {
    "ExecuteTime": {
     "end_time": "2020-08-11T06:23:57.591169Z",
     "start_time": "2020-08-11T06:23:57.585169Z"
    }
   },
   "outputs": [
    {
     "name": "stdout",
     "output_type": "stream",
     "text": [
      "[[13 14 15 16]\n",
      " [17 18 19 20]\n",
      " [21 22 23 24]]\n",
      "[17 18 19 20]\n",
      "18\n"
     ]
    }
   ],
   "source": [
    "print(arr3d[-1])\n",
    "print(arr3d[-1][-2])\n",
    "print(arr3d[-1][-2][-3])"
   ]
  },
  {
   "cell_type": "code",
   "execution_count": 104,
   "metadata": {
    "ExecuteTime": {
     "end_time": "2020-08-11T06:24:41.081432Z",
     "start_time": "2020-08-11T06:24:41.076431Z"
    }
   },
   "outputs": [
    {
     "name": "stdout",
     "output_type": "stream",
     "text": [
      "[ 1  2  3  4  5  6  7  8  9 10 11 12 13 14 15 16 17 18 19 20 21 22 23 24]\n",
      "[[ 1  2  3  4]\n",
      " [ 5  6  7  8]\n",
      " [ 9 10 11 12]\n",
      " [13 14 15 16]\n",
      " [17 18 19 20]\n",
      " [21 22 23 24]]\n",
      "[17 18 19 20]\n"
     ]
    }
   ],
   "source": [
    "print(arr)\n",
    "arr = arr.reshape(6, 4)\n",
    "print(arr)\n",
    "print(arr[4])"
   ]
  },
  {
   "cell_type": "code",
   "execution_count": 117,
   "metadata": {
    "ExecuteTime": {
     "end_time": "2020-08-11T06:30:44.370671Z",
     "start_time": "2020-08-11T06:30:44.362671Z"
    }
   },
   "outputs": [
    {
     "name": "stdout",
     "output_type": "stream",
     "text": [
      "5\n",
      "3\n",
      "1\n",
      "\n",
      "5\n",
      "3\n",
      "1\n",
      "\n",
      "5\n",
      "3\n",
      "1\n",
      "\n"
     ]
    }
   ],
   "source": [
    "a = [1, 3, 5]\n",
    "# 거꾸로 출력\n",
    "# 방법1\n",
    "# for i in a[::-1]:\n",
    "#     print(i)\n",
    "\n",
    "#방법2\n",
    "for i in range(len(a)-1, -1, -1):\n",
    "    print(a[i])\n",
    "print(\"\")\n",
    "    \n",
    "#방법3\n",
    "for i in reversed(range(len(a))):\n",
    "    print(a[i])\n",
    "print(\"\")\n",
    "\n",
    "#방법4\n",
    "for i in reversed(a):\n",
    "    print(i)\n",
    "print(\"\")"
   ]
  },
  {
   "cell_type": "code",
   "execution_count": 125,
   "metadata": {
    "ExecuteTime": {
     "end_time": "2020-08-11T06:34:02.277510Z",
     "start_time": "2020-08-11T06:34:02.270512Z"
    }
   },
   "outputs": [
    {
     "name": "stdout",
     "output_type": "stream",
     "text": [
      "[[1 2 3 4]\n",
      " [5 6 7 8]]\n",
      "\n",
      "[[77 77]]\n",
      "\n",
      "[[[ 1  2  3  4]\n",
      "  [ 5  6  7  8]\n",
      "  [ 9 10 11 12]]\n",
      "\n",
      " [[13 14 77 77]\n",
      "  [17 18 19 20]\n",
      "  [21 22 23 24]]]\n"
     ]
    }
   ],
   "source": [
    "print(arr3d[0][:2])\n",
    "print(\"\")\n",
    "\n",
    "print(arr3d[1][:1, 2:])\n",
    "arr3d[1][:1, 2:] = 77\n",
    "print(\"\")\n",
    "\n",
    "print(arr3d)"
   ]
  },
  {
   "cell_type": "code",
   "execution_count": null,
   "metadata": {},
   "outputs": [],
   "source": []
  },
  {
   "cell_type": "code",
   "execution_count": null,
   "metadata": {},
   "outputs": [],
   "source": []
  },
  {
   "cell_type": "code",
   "execution_count": null,
   "metadata": {},
   "outputs": [],
   "source": []
  },
  {
   "cell_type": "code",
   "execution_count": null,
   "metadata": {},
   "outputs": [],
   "source": []
  },
  {
   "cell_type": "code",
   "execution_count": null,
   "metadata": {},
   "outputs": [],
   "source": []
  },
  {
   "cell_type": "code",
   "execution_count": null,
   "metadata": {},
   "outputs": [],
   "source": []
  },
  {
   "cell_type": "code",
   "execution_count": null,
   "metadata": {},
   "outputs": [],
   "source": []
  },
  {
   "cell_type": "code",
   "execution_count": null,
   "metadata": {},
   "outputs": [],
   "source": []
  },
  {
   "cell_type": "code",
   "execution_count": null,
   "metadata": {},
   "outputs": [],
   "source": []
  },
  {
   "cell_type": "code",
   "execution_count": null,
   "metadata": {},
   "outputs": [],
   "source": []
  },
  {
   "cell_type": "code",
   "execution_count": null,
   "metadata": {},
   "outputs": [],
   "source": []
  },
  {
   "cell_type": "code",
   "execution_count": null,
   "metadata": {},
   "outputs": [],
   "source": []
  }
 ],
 "metadata": {
  "kernelspec": {
   "display_name": "Python 3",
   "language": "python",
   "name": "python3"
  },
  "language_info": {
   "codemirror_mode": {
    "name": "ipython",
    "version": 3
   },
   "file_extension": ".py",
   "mimetype": "text/x-python",
   "name": "python",
   "nbconvert_exporter": "python",
   "pygments_lexer": "ipython3",
   "version": "3.7.8"
  },
  "toc": {
   "base_numbering": 1,
   "nav_menu": {},
   "number_sections": false,
   "sideBar": true,
   "skip_h1_title": false,
   "title_cell": "Table of Contents",
   "title_sidebar": "Contents",
   "toc_cell": false,
   "toc_position": {},
   "toc_section_display": true,
   "toc_window_display": true
  }
 },
 "nbformat": 4,
 "nbformat_minor": 4
}
