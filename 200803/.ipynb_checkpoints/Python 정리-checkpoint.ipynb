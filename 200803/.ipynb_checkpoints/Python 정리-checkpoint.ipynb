{
 "cells": [
  {
   "cell_type": "code",
   "execution_count": null,
   "metadata": {},
   "outputs": [],
   "source": [
    "\"\"\"\n",
    "숫자, 문자 자료형\n",
    "리스트, 튜플, 딕셔너리, 셋(set)\n",
    "\"\"\"\n",
    "\n",
    "# 연산자 종류 : +, -, *, /, **, %, //\n",
    "# 문자열 데이터 : \"\" or '' or \"\"\" \"\"\"(여러 줄을 쓰고 싶을 때)\n",
    "#               문자열 안에 ' or \" 쓰고 싶으면 \\' or \\\" 로 표시"
   ]
  },
  {
   "cell_type": "code",
   "execution_count": 7,
   "metadata": {},
   "outputs": [
    {
     "data": {
      "text/plain": [
       "'li'"
      ]
     },
     "execution_count": 7,
     "metadata": {},
     "output_type": "execute_result"
    }
   ],
   "source": [
    "a = 'test'\n",
    "a*2\n",
    "\n",
    "a = '='\n",
    "a*50\n",
    "\n",
    "b = 'life'\n",
    "b[0]\n",
    "b[-1] #뒤에서 부터 출력\n",
    "b[0:2] #0~1번째까지\n",
    "b[2:]\n",
    "b[:2]"
   ]
  },
  {
   "cell_type": "code",
   "execution_count": 10,
   "metadata": {},
   "outputs": [
    {
     "data": {
      "text/plain": [
       "'python'"
      ]
     },
     "execution_count": 10,
     "metadata": {},
     "output_type": "execute_result"
    }
   ],
   "source": [
    "a = 'pithon'\n",
    "a[:1]+'y'+a[2:]"
   ]
  },
  {
   "cell_type": "markdown",
   "metadata": {},
   "source": [
    "문자 개수 세기 : count\n",
    "위치 파악 : find, index\n",
    "문자 추가 : join\n",
    "ex) \",\".join('abc') => a, b, c\n",
    "대소문자 변경 : upper, lower\n",
    "공백제거 : lstrip, rstrip, strip\n",
    "문자열 변경 : replace\n",
    "문자열 분리 : split"
   ]
  },
  {
   "cell_type": "code",
   "execution_count": 11,
   "metadata": {},
   "outputs": [
    {
     "data": {
      "text/plain": [
       "[1, 2, 'k', 'r']"
      ]
     },
     "execution_count": 11,
     "metadata": {},
     "output_type": "execute_result"
    }
   ],
   "source": [
    "#리스트\n",
    "a = [1, 2, 'k', 'r']\n",
    "a"
   ]
  },
  {
   "cell_type": "code",
   "execution_count": 15,
   "metadata": {},
   "outputs": [
    {
     "data": {
      "text/plain": [
       "'c'"
      ]
     },
     "execution_count": 15,
     "metadata": {},
     "output_type": "execute_result"
    }
   ],
   "source": [
    "a = [1, 2, 3, ['a', 'b', ['c', 'd']]]\n",
    "#문자 b를 참조\n",
    "a[3][1]\n",
    "#문자 c를 참조\n",
    "a[-1][-1][0]"
   ]
  },
  {
   "cell_type": "code",
   "execution_count": 19,
   "metadata": {},
   "outputs": [
    {
     "data": {
      "text/plain": [
       "[1, 2, 3, 4]"
      ]
     },
     "execution_count": 19,
     "metadata": {},
     "output_type": "execute_result"
    }
   ],
   "source": [
    "a = [1, 2]\n",
    "b = [3, 4]\n",
    "a+b #[1, 2, 3, 4]"
   ]
  },
  {
   "cell_type": "code",
   "execution_count": 36,
   "metadata": {},
   "outputs": [
    {
     "data": {
      "text/plain": [
       "'3Hi'"
      ]
     },
     "execution_count": 36,
     "metadata": {},
     "output_type": "execute_result"
    }
   ],
   "source": [
    "a = [1, 2, 3]\n",
    "str(a[2])+\"Hi\""
   ]
  },
  {
   "cell_type": "code",
   "execution_count": 37,
   "metadata": {},
   "outputs": [
    {
     "data": {
      "text/plain": [
       "[1, 3]"
      ]
     },
     "execution_count": 37,
     "metadata": {},
     "output_type": "execute_result"
    }
   ],
   "source": [
    "del a[1] #del 객체, 그 밖에 데이터 제거 함수 : remove, pop\n",
    "a"
   ]
  },
  {
   "cell_type": "code",
   "execution_count": 38,
   "metadata": {},
   "outputs": [
    {
     "data": {
      "text/plain": [
       "[3]"
      ]
     },
     "execution_count": 38,
     "metadata": {},
     "output_type": "execute_result"
    }
   ],
   "source": [
    "a.remove(1)\n",
    "a"
   ]
  },
  {
   "cell_type": "code",
   "execution_count": 39,
   "metadata": {},
   "outputs": [
    {
     "data": {
      "text/plain": [
       "[]"
      ]
     },
     "execution_count": 39,
     "metadata": {},
     "output_type": "execute_result"
    }
   ],
   "source": [
    "a.pop()\n",
    "a"
   ]
  },
  {
   "cell_type": "code",
   "execution_count": 40,
   "metadata": {},
   "outputs": [
    {
     "data": {
      "text/plain": [
       "[4]"
      ]
     },
     "execution_count": 40,
     "metadata": {},
     "output_type": "execute_result"
    }
   ],
   "source": [
    "a.append(4) #리스트 안에 통채로 추가됌\n",
    "a"
   ]
  },
  {
   "cell_type": "code",
   "execution_count": 41,
   "metadata": {},
   "outputs": [
    {
     "data": {
      "text/plain": [
       "[4, 5, 6, 7]"
      ]
     },
     "execution_count": 41,
     "metadata": {},
     "output_type": "execute_result"
    }
   ],
   "source": [
    "a.extend([5,6,7]) #리스트 안에 요소만 추가됌\n",
    "a"
   ]
  },
  {
   "cell_type": "code",
   "execution_count": 42,
   "metadata": {},
   "outputs": [
    {
     "data": {
      "text/plain": [
       "[1, 2, 3, 4]"
      ]
     },
     "execution_count": 42,
     "metadata": {},
     "output_type": "execute_result"
    }
   ],
   "source": [
    "a = [1, 4, 3, 2]\n",
    "a.sort()\n",
    "a"
   ]
  },
  {
   "cell_type": "code",
   "execution_count": 43,
   "metadata": {},
   "outputs": [
    {
     "data": {
      "text/plain": [
       "[4, 3, 2, 1]"
      ]
     },
     "execution_count": 43,
     "metadata": {},
     "output_type": "execute_result"
    }
   ],
   "source": [
    "a.reverse()\n",
    "a"
   ]
  },
  {
   "cell_type": "code",
   "execution_count": 44,
   "metadata": {},
   "outputs": [
    {
     "data": {
      "text/plain": [
       "1"
      ]
     },
     "execution_count": 44,
     "metadata": {},
     "output_type": "execute_result"
    }
   ],
   "source": [
    "a.index(3)"
   ]
  },
  {
   "cell_type": "code",
   "execution_count": 45,
   "metadata": {},
   "outputs": [
    {
     "data": {
      "text/plain": [
       "[99, 4, 3, 2, 1]"
      ]
     },
     "execution_count": 45,
     "metadata": {},
     "output_type": "execute_result"
    }
   ],
   "source": [
    "a.insert(0, 99) #특정 위치에 요소 추가\n",
    "a"
   ]
  },
  {
   "cell_type": "code",
   "execution_count": 52,
   "metadata": {},
   "outputs": [
    {
     "data": {
      "text/plain": [
       "{'name': 'kim'}"
      ]
     },
     "execution_count": 52,
     "metadata": {},
     "output_type": "execute_result"
    }
   ],
   "source": [
    "#딕셔너리 {key1:value1, key2:value2...}\n",
    "a = {}\n",
    "a[\"name\"] = \"kim\"\n",
    "a"
   ]
  },
  {
   "cell_type": "code",
   "execution_count": 50,
   "metadata": {},
   "outputs": [
    {
     "data": {
      "text/plain": [
       "{}"
      ]
     },
     "execution_count": 50,
     "metadata": {},
     "output_type": "execute_result"
    }
   ],
   "source": [
    "del a['name'] #딕셔너리 요소 삭제\n",
    "a"
   ]
  },
  {
   "cell_type": "code",
   "execution_count": 54,
   "metadata": {},
   "outputs": [],
   "source": [
    "for k in a.keys():\n",
    "    a[k]"
   ]
  },
  {
   "cell_type": "code",
   "execution_count": 55,
   "metadata": {},
   "outputs": [
    {
     "data": {
      "text/plain": [
       "'aaa'"
      ]
     },
     "execution_count": 55,
     "metadata": {},
     "output_type": "execute_result"
    }
   ],
   "source": [
    "a = {'s':'aaa', 't':'bbb'}\n",
    "a.get('s') #a['s']와 같은 구문"
   ]
  },
  {
   "cell_type": "code",
   "execution_count": 56,
   "metadata": {},
   "outputs": [
    {
     "data": {
      "text/plain": [
       "True"
      ]
     },
     "execution_count": 56,
     "metadata": {},
     "output_type": "execute_result"
    }
   ],
   "source": [
    "'t' in a  #key가 존재하는지 확인하는 구문"
   ]
  },
  {
   "cell_type": "code",
   "execution_count": 57,
   "metadata": {},
   "outputs": [
    {
     "data": {
      "text/plain": [
       "{'e', 'h', 'l', 'o'}"
      ]
     },
     "execution_count": 57,
     "metadata": {},
     "output_type": "execute_result"
    }
   ],
   "source": [
    "set(\"hello\") \n",
    "#{}:set or dict\n",
    "#set : 중복 허용 x, 순서 유지 x"
   ]
  },
  {
   "cell_type": "code",
   "execution_count": 58,
   "metadata": {},
   "outputs": [
    {
     "name": "stdout",
     "output_type": "stream",
     "text": [
      "3\n",
      "2\n",
      "1\n"
     ]
    }
   ],
   "source": [
    "a = [1,2,3]\n",
    "while a:print(a.pop())"
   ]
  },
  {
   "cell_type": "code",
   "execution_count": 62,
   "metadata": {},
   "outputs": [
    {
     "name": "stdout",
     "output_type": "stream",
     "text": [
      "2770954318856\n",
      "2770954318856\n"
     ]
    }
   ],
   "source": [
    "x = [1, 2]\n",
    "print(id(x)) #x변수가 저장되어 있는 메모리 주소\n",
    "y = x\n",
    "print(id(y)) #같은 변수이므로 메모리 주소는 같음"
   ]
  },
  {
   "cell_type": "code",
   "execution_count": 63,
   "metadata": {},
   "outputs": [
    {
     "name": "stdout",
     "output_type": "stream",
     "text": [
      "[99, 2]\n",
      "[99, 2]\n"
     ]
    }
   ],
   "source": [
    "x[0] = 99\n",
    "print(x)\n",
    "print(y)"
   ]
  },
  {
   "cell_type": "code",
   "execution_count": 65,
   "metadata": {},
   "outputs": [
    {
     "name": "stdout",
     "output_type": "stream",
     "text": [
      "2770957251592\n",
      "2770952204488\n"
     ]
    }
   ],
   "source": [
    "#서로 다른 메모리 주소에 같은 변수를 복사하는 방법1\n",
    "x = [1, 2]\n",
    "y = x[:]\n",
    "print(id(x))\n",
    "print(id(y))"
   ]
  },
  {
   "cell_type": "code",
   "execution_count": 67,
   "metadata": {},
   "outputs": [
    {
     "name": "stdout",
     "output_type": "stream",
     "text": [
      "2770953557704\n",
      "2770950809224\n",
      "False\n"
     ]
    }
   ],
   "source": [
    "#서로 다른 메모리 주소에 같은 변수를 복사하는 방법2\n",
    "from copy import copy\n",
    "\n",
    "x = [1, 2]\n",
    "y = copy(x)\n",
    "\n",
    "print(id(x))\n",
    "print(id(y))\n",
    "print(x is y)"
   ]
  },
  {
   "cell_type": "markdown",
   "metadata": {},
   "source": [
    "x in 리스트 : 리스트 내부에 x가 있냐? => True/ False\n",
    "x not in 리스트 : 리스트 내부에 x가 없냐? => True, False"
   ]
  },
  {
   "cell_type": "code",
   "execution_count": 68,
   "metadata": {},
   "outputs": [
    {
     "name": "stdout",
     "output_type": "stream",
     "text": [
      "[3, 6, 9, 12]\n"
     ]
    }
   ],
   "source": [
    "a = [1, 2, 3, 4]\n",
    "res = []\n",
    "for n in a:\n",
    "    res.append(n*3)\n",
    "print(res)"
   ]
  },
  {
   "cell_type": "code",
   "execution_count": 69,
   "metadata": {},
   "outputs": [
    {
     "name": "stdout",
     "output_type": "stream",
     "text": [
      "[3, 6, 9, 12]\n"
     ]
    }
   ],
   "source": [
    "#위의 구문 리스트 내포형식으로 변경\n",
    "a = [1, 2, 3, 4]\n",
    "res = [n*3 for n in a]\n",
    "print(res)"
   ]
  },
  {
   "cell_type": "code",
   "execution_count": 74,
   "metadata": {},
   "outputs": [
    {
     "name": "stdout",
     "output_type": "stream",
     "text": [
      "[6, 12]\n"
     ]
    }
   ],
   "source": [
    "#위의 구문 리스트 내포형식으로 변경(짝수는 3배, 홀수는 그대로)\n",
    "a = [1, 2, 3, 4]\n",
    "res = [n*3 for n in a if n%2==0]\n",
    "print(res)"
   ]
  },
  {
   "cell_type": "code",
   "execution_count": 76,
   "metadata": {},
   "outputs": [
    {
     "name": "stdout",
     "output_type": "stream",
     "text": [
      "7\n"
     ]
    }
   ],
   "source": [
    "# def add(a, b):\n",
    "#     return a+b\n",
    "\n",
    "#위의 함수를 lambda형식으로 표현\n",
    "add = lambda a, b : a+b\n",
    "\n",
    "print(add(3, 4))"
   ]
  },
  {
   "cell_type": "code",
   "execution_count": 95,
   "metadata": {},
   "outputs": [
    {
     "name": "stdout",
     "output_type": "stream",
     "text": [
      "  *\n",
      " **\n",
      "***\n"
     ]
    }
   ],
   "source": [
    "#별찍기\n",
    "#   *\n",
    "#  **\n",
    "# ***\n",
    "for i in range(3):\n",
    "    for j in range(1, 3-i):\n",
    "        print(\" \", end=\"\")\n",
    "    for j in range(i+1):\n",
    "        print(\"*\", end=\"\")\n",
    "    print(\"\")\n",
    "    "
   ]
  },
  {
   "cell_type": "code",
   "execution_count": 119,
   "metadata": {},
   "outputs": [
    {
     "name": "stdout",
     "output_type": "stream",
     "text": [
      "  *\n",
      " **\n",
      "***\n"
     ]
    }
   ],
   "source": [
    "for i in range(1, 4):\n",
    "    print(\" \"*(3-i)+\"*\"*i)"
   ]
  },
  {
   "cell_type": "code",
   "execution_count": 148,
   "metadata": {},
   "outputs": [
    {
     "name": "stdout",
     "output_type": "stream",
     "text": [
      "i : 4\n",
      "i : 4\n",
      "i : 5\n",
      "i : 5\n",
      "i : 6\n",
      "i : 6\n",
      "i : 7\n",
      "7\n"
     ]
    }
   ],
   "source": [
    "box = [7, 4, 2, 0, 0, 6, 0, 7, 0]\n",
    "boxli = []\n",
    "maxvalue = 0\n",
    "for heights in box:\n",
    "    temp = []\n",
    "    for h in range(heights):\n",
    "        temp.append(1)\n",
    "    for h in range(9-heights):\n",
    "        temp.append(0)\n",
    "    boxli.append(temp)\n",
    "# print(boxli)\n",
    "\n",
    "for i in range(len(boxli)):\n",
    "    if boxli[0][i] == 1:\n",
    "        cnt = 0\n",
    "        for j in range(1, len(boxli)):\n",
    "            if boxli[j][i] == 0:\n",
    "                cnt += 1\n",
    "        print(\"i :\", cnt)\n",
    "        if cnt > maxvalue:\n",
    "            maxvalue = cnt\n",
    "\n",
    "print(maxvalue)\n",
    "    "
   ]
  },
  {
   "cell_type": "code",
   "execution_count": 141,
   "metadata": {},
   "outputs": [
    {
     "name": "stdout",
     "output_type": "stream",
     "text": [
      "[5, 5, 4, 4, 3, 3, 2, 0]\n",
      "7\n"
     ]
    }
   ],
   "source": [
    "gravity = [7,4,2,0,0,6,0,7,0]\n",
    "list = []\n",
    "for j in range(1,9):\n",
    "    b = 0\n",
    "    for i in gravity:\n",
    "        if i >=j:\n",
    "            b +=1\n",
    "    list.append(b)\n",
    "print(list)\n",
    "\n",
    "list.sort()\n",
    "for i in list:\n",
    "    if i !=0:\n",
    "        print(9-i)\n",
    "        break"
   ]
  },
  {
   "cell_type": "code",
   "execution_count": 127,
   "metadata": {},
   "outputs": [],
   "source": [
    "\"\"\"\n",
    "반복 가능한 객체(iterable)\n",
    "이터레이터(iterator)값을 차례대로 꺼낼 수 있도록 해주는 객체\n",
    "\"\"\"\n",
    "#반복 가능한 객체인지 확인하는 방법 : dir호출했을 때 '__iter__' 가 있어야 함\n",
    "dir([1,2,3])\n",
    "\n",
    "it = [1, 2, 3].__iter__()"
   ]
  },
  {
   "cell_type": "code",
   "execution_count": 128,
   "metadata": {},
   "outputs": [
    {
     "name": "stdout",
     "output_type": "stream",
     "text": [
      "1\n",
      "2\n",
      "3\n"
     ]
    }
   ],
   "source": [
    "print(it.__next__())\n",
    "print(it.__next__())\n",
    "print(it.__next__())"
   ]
  },
  {
   "cell_type": "code",
   "execution_count": 129,
   "metadata": {},
   "outputs": [
    {
     "name": "stdout",
     "output_type": "stream",
     "text": [
      "0\n",
      "1\n",
      "2\n"
     ]
    }
   ],
   "source": [
    "it = range(3).__iter__()\n",
    "print(it.__next__())\n",
    "print(it.__next__())\n",
    "print(it.__next__())"
   ]
  },
  {
   "cell_type": "code",
   "execution_count": 131,
   "metadata": {},
   "outputs": [],
   "source": [
    "#이터레이터 생성\n",
    "\"\"\"\n",
    "class 이터레이터이름:\n",
    "    def __init__(self):\n",
    "        코드\n",
    "    def __iter__(self):\n",
    "        코드\n",
    "    def __next__(self):\n",
    "        코드\n",
    "\"\"\"\n",
    "class Counter:\n",
    "    def __init__(self, stop):\n",
    "        self.cur = 0\n",
    "        self.stop = stop\n",
    "    def __iter__(self):\n",
    "        return self #현재 객체를 리턴\n",
    "    def __next__(self):\n",
    "        if self.cur < self.stop:\n",
    "            res = self.cur\n",
    "            self.cur += 1\n",
    "            return res #\n",
    "        else:\n",
    "            raise StopIteration #이터레이터 종료"
   ]
  },
  {
   "cell_type": "code",
   "execution_count": 133,
   "metadata": {},
   "outputs": [
    {
     "name": "stdout",
     "output_type": "stream",
     "text": [
      "0 1 2 "
     ]
    }
   ],
   "source": [
    "for i in Counter(3):\n",
    "    print(i, end=\" \")\n",
    "\n",
    "#range함수가 실제로 작동하는 형식과 같음."
   ]
  },
  {
   "cell_type": "code",
   "execution_count": 136,
   "metadata": {},
   "outputs": [],
   "source": [
    "#제너레이터(발생자)는 이터레이터를 생성해주는 함수\n",
    "#yield\n",
    "#함수 내부에서 yield를 사용하면 함수는 제너레이터가 됨\n",
    "\n",
    "def num_gen():\n",
    "    yield 0\n",
    "    yield 1\n",
    "    yield 2"
   ]
  },
  {
   "cell_type": "code",
   "execution_count": 137,
   "metadata": {},
   "outputs": [
    {
     "name": "stdout",
     "output_type": "stream",
     "text": [
      "0\n",
      "1\n",
      "2\n"
     ]
    }
   ],
   "source": [
    "for i in num_gen():\n",
    "    print(i)"
   ]
  },
  {
   "cell_type": "code",
   "execution_count": 138,
   "metadata": {},
   "outputs": [
    {
     "data": {
      "text/plain": [
       "['__class__',\n",
       " '__del__',\n",
       " '__delattr__',\n",
       " '__dir__',\n",
       " '__doc__',\n",
       " '__eq__',\n",
       " '__format__',\n",
       " '__ge__',\n",
       " '__getattribute__',\n",
       " '__gt__',\n",
       " '__hash__',\n",
       " '__init__',\n",
       " '__init_subclass__',\n",
       " '__iter__',\n",
       " '__le__',\n",
       " '__lt__',\n",
       " '__name__',\n",
       " '__ne__',\n",
       " '__new__',\n",
       " '__next__',\n",
       " '__qualname__',\n",
       " '__reduce__',\n",
       " '__reduce_ex__',\n",
       " '__repr__',\n",
       " '__setattr__',\n",
       " '__sizeof__',\n",
       " '__str__',\n",
       " '__subclasshook__',\n",
       " 'close',\n",
       " 'gi_code',\n",
       " 'gi_frame',\n",
       " 'gi_running',\n",
       " 'gi_yieldfrom',\n",
       " 'send',\n",
       " 'throw']"
      ]
     },
     "execution_count": 138,
     "metadata": {},
     "output_type": "execute_result"
    }
   ],
   "source": [
    "ng = num_gen()\n",
    "dir(ng)"
   ]
  },
  {
   "cell_type": "code",
   "execution_count": 139,
   "metadata": {},
   "outputs": [
    {
     "name": "stdout",
     "output_type": "stream",
     "text": [
      "0\n",
      "1\n",
      "2\n"
     ]
    }
   ],
   "source": [
    "print(ng.__next__())\n",
    "print(ng.__next__())\n",
    "print(ng.__next__())"
   ]
  }
 ],
 "metadata": {
  "kernelspec": {
   "display_name": "Python 3",
   "language": "python",
   "name": "python3"
  },
  "language_info": {
   "codemirror_mode": {
    "name": "ipython",
    "version": 3
   },
   "file_extension": ".py",
   "mimetype": "text/x-python",
   "name": "python",
   "nbconvert_exporter": "python",
   "pygments_lexer": "ipython3",
   "version": "3.7.8"
  }
 },
 "nbformat": 4,
 "nbformat_minor": 4
}
