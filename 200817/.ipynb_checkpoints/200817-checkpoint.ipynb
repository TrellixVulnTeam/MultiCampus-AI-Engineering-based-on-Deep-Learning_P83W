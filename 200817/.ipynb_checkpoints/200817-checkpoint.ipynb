{
 "cells": [
  {
   "cell_type": "code",
   "execution_count": 1,
   "metadata": {
    "ExecuteTime": {
     "end_time": "2020-08-17T00:10:10.616773Z",
     "start_time": "2020-08-17T00:10:10.330753Z"
    }
   },
   "outputs": [],
   "source": [
    "import numpy as np"
   ]
  },
  {
   "cell_type": "markdown",
   "metadata": {},
   "source": [
    "# numpy의 조건문"
   ]
  },
  {
   "cell_type": "code",
   "execution_count": 6,
   "metadata": {
    "ExecuteTime": {
     "end_time": "2020-08-17T00:13:44.723953Z",
     "start_time": "2020-08-17T00:13:44.715953Z"
    }
   },
   "outputs": [
    {
     "name": "stdout",
     "output_type": "stream",
     "text": [
      "[1, 3, 3, 4, 6]\n",
      "[1, 3, 3, 4, 6]\n"
     ]
    }
   ],
   "source": [
    "#numpy의 if문(조건문) : np.where 함수\n",
    "xarr = np.array([1,2,3,4,5])\n",
    "yarr = np.array([2,3,4,5,6])\n",
    "cond = np.array([True, False, True, True, False]) \n",
    "\n",
    "#True일 때는 xarr의 값, False일때는 yarr값 출력\n",
    "\n",
    "#1. 일반 for, if문을 사용할때\n",
    "#파이썬 수행 -> 큰 배열이라면 매우 속도가 느림\n",
    "res = [(x if c else y) for x, y, c in zip(xarr, yarr, cond)]\n",
    "print(res)\n",
    "\n",
    "#2. np.where을 사용할 때 -> 매우 빠르고 간결하게 수행\n",
    "res2 = np.where(cond, xarr, yarr) #array형태로 출력 : [1 3 3 4 6]\n",
    "print(list(res2))"
   ]
  },
  {
   "cell_type": "code",
   "execution_count": 13,
   "metadata": {
    "ExecuteTime": {
     "end_time": "2020-08-17T00:20:52.725295Z",
     "start_time": "2020-08-17T00:20:52.718292Z"
    },
    "scrolled": true
   },
   "outputs": [
    {
     "name": "stdout",
     "output_type": "stream",
     "text": [
      "[[ 1.28240785 -0.3299711   1.33214327  1.47309058]\n",
      " [ 2.08419935  0.45079648 -0.32397037 -0.38670438]\n",
      " [-0.0268527  -0.23970351  1.42079846  0.2897947 ]\n",
      " [-0.79669366 -0.32550937  0.25875585 -0.94355791]]\n",
      "[[2 0 2 2]\n",
      " [2 2 0 0]\n",
      " [0 0 2 2]\n",
      " [0 0 2 0]]\n",
      "[[ 2.         -0.3299711   2.          2.        ]\n",
      " [ 2.          2.         -0.32397037 -0.38670438]\n",
      " [-0.0268527  -0.23970351  2.          2.        ]\n",
      " [-0.79669366 -0.32550937  2.         -0.94355791]]\n"
     ]
    }
   ],
   "source": [
    "arr = np.random.randn(4,4)\n",
    "print(arr)\n",
    "\n",
    "#arr에 저장된 값이 0초과면 값을 2로, 0이하 이면 0으로 변경\n",
    "#np.where함수 사용\n",
    "print(np.where(arr>0,2,0))\n",
    "#arr값이 0보다 크면 2로 변경, 그렇지 않으면 arr값 그대로 사용\n",
    "print(np.where(arr>0, 2, arr))"
   ]
  },
  {
   "cell_type": "markdown",
   "metadata": {
    "ExecuteTime": {
     "end_time": "2020-08-17T00:19:52.256724Z",
     "start_time": "2020-08-17T00:19:52.250723Z"
    }
   },
   "source": [
    "# 수학, 통계 메소드"
   ]
  },
  {
   "cell_type": "code",
   "execution_count": 20,
   "metadata": {
    "ExecuteTime": {
     "end_time": "2020-08-17T00:25:59.518476Z",
     "start_time": "2020-08-17T00:25:59.513474Z"
    }
   },
   "outputs": [
    {
     "data": {
      "text/plain": [
       "array([[ 4.35302498e-01, -1.10597814e+00,  1.31335548e-01,\n",
       "         5.41812989e-01],\n",
       "       [-1.18288067e-01, -1.36897965e-03, -1.36650288e+00,\n",
       "        -1.34827484e-01],\n",
       "       [-7.18365105e-01,  4.80079661e-01, -2.40469839e-01,\n",
       "         9.16680456e-01],\n",
       "       [ 8.05694570e-01, -1.60731894e+00,  2.23981318e+00,\n",
       "        -5.84308484e-01],\n",
       "       [-7.74461058e-01,  8.80888760e-01,  1.46447045e-01,\n",
       "         5.17237122e-01]])"
      ]
     },
     "execution_count": 20,
     "metadata": {},
     "output_type": "execute_result"
    }
   ],
   "source": [
    "arr = np.random.randn(5,4)\n",
    "arr"
   ]
  },
  {
   "cell_type": "code",
   "execution_count": 21,
   "metadata": {
    "ExecuteTime": {
     "end_time": "2020-08-17T00:26:04.839877Z",
     "start_time": "2020-08-17T00:26:04.833877Z"
    }
   },
   "outputs": [
    {
     "name": "stdout",
     "output_type": "stream",
     "text": [
      "0.022170142388121834\n",
      "[ 0.00061822 -0.40524685  0.10948129  0.21347008  0.19252797]\n",
      "[-0.07402343 -0.27073953  0.18212461  0.25131892]\n"
     ]
    }
   ],
   "source": [
    "#평균\n",
    "print(arr.mean()) #np.mean(arr)과 같음\n",
    "print(arr.mean(axis=1)) #행 별로 평균을 구한 값\n",
    "print(arr.mean(axis=0)) #열 별로 평균을 구한 값"
   ]
  },
  {
   "cell_type": "code",
   "execution_count": 22,
   "metadata": {
    "ExecuteTime": {
     "end_time": "2020-08-17T00:26:37.514345Z",
     "start_time": "2020-08-17T00:26:37.508345Z"
    }
   },
   "outputs": [
    {
     "name": "stdout",
     "output_type": "stream",
     "text": [
      "0.44340284776243666\n",
      "[ 0.00247289 -1.62098741  0.43792517  0.85388032  0.77011187]\n",
      "[-0.37011716 -1.35369764  0.91062305  1.2565946 ]\n"
     ]
    }
   ],
   "source": [
    "#합계\n",
    "print(arr.sum())\n",
    "print(arr.sum(axis=1))\n",
    "print(arr.sum(axis=0))"
   ]
  },
  {
   "cell_type": "code",
   "execution_count": 23,
   "metadata": {
    "ExecuteTime": {
     "end_time": "2020-08-17T00:27:19.192495Z",
     "start_time": "2020-08-17T00:27:19.186494Z"
    }
   },
   "outputs": [
    {
     "data": {
      "text/plain": [
       "array([0, 1, 2, 3, 4, 5, 6, 7])"
      ]
     },
     "execution_count": 23,
     "metadata": {},
     "output_type": "execute_result"
    }
   ],
   "source": [
    "arr = np.arange(8)\n",
    "arr"
   ]
  },
  {
   "cell_type": "code",
   "execution_count": 24,
   "metadata": {
    "ExecuteTime": {
     "end_time": "2020-08-17T00:27:44.653420Z",
     "start_time": "2020-08-17T00:27:44.648418Z"
    }
   },
   "outputs": [
    {
     "data": {
      "text/plain": [
       "array([ 0,  1,  3,  6, 10, 15, 21, 28], dtype=int32)"
      ]
     },
     "execution_count": 24,
     "metadata": {},
     "output_type": "execute_result"
    }
   ],
   "source": [
    "#cumsum : 누적합\n",
    "arr.cumsum()"
   ]
  },
  {
   "cell_type": "code",
   "execution_count": 30,
   "metadata": {
    "ExecuteTime": {
     "end_time": "2020-08-17T00:31:17.581509Z",
     "start_time": "2020-08-17T00:31:17.573507Z"
    }
   },
   "outputs": [
    {
     "name": "stdout",
     "output_type": "stream",
     "text": [
      "[[0 1 2]\n",
      " [3 4 5]\n",
      " [6 7 8]]\n",
      "[ 0  1  3  6 10 15 21 28 36]\n",
      "[[ 0  1  2]\n",
      " [ 3  5  7]\n",
      " [ 9 12 15]]\n",
      "[[ 0  1  3]\n",
      " [ 3  7 12]\n",
      " [ 6 13 21]]\n"
     ]
    }
   ],
   "source": [
    "#0~8값으로 초기화 배열 생성, 3*3\n",
    "arr = np.arange(9).reshape(3,3)\n",
    "print(arr)\n",
    "print(arr.cumsum()) #전체값들에 대한 누적합\n",
    "print(arr.cumsum(axis=0)) #같은 열끼리만 누적합을 진행\n",
    "print(arr.cumsum(axis=1)) #값은 행끼리만 누적합을 진행"
   ]
  },
  {
   "cell_type": "code",
   "execution_count": 31,
   "metadata": {
    "ExecuteTime": {
     "end_time": "2020-08-17T00:33:24.567103Z",
     "start_time": "2020-08-17T00:33:24.561102Z"
    }
   },
   "outputs": [
    {
     "name": "stdout",
     "output_type": "stream",
     "text": [
      "[0 0 0 0 0 0 0 0 0]\n",
      "[[ 0  1  2]\n",
      " [ 0  4 10]\n",
      " [ 0 28 80]]\n",
      "[[  0   0   0]\n",
      " [  3  12  60]\n",
      " [  6  42 336]]\n"
     ]
    }
   ],
   "source": [
    "#cumprod : 누적 곱\n",
    "print(arr.cumprod()) #전체값들에 대한 누적곱\n",
    "print(arr.cumprod(axis=0)) #같은 열끼리만 누적곱을 진행\n",
    "print(arr.cumprod(axis=1)) #값은 행끼리만 누적곱을 진행"
   ]
  },
  {
   "cell_type": "markdown",
   "metadata": {},
   "source": [
    "# boolean 배열 메소드"
   ]
  },
  {
   "cell_type": "code",
   "execution_count": 32,
   "metadata": {
    "ExecuteTime": {
     "end_time": "2020-08-17T00:34:31.256143Z",
     "start_time": "2020-08-17T00:34:31.249142Z"
    }
   },
   "outputs": [
    {
     "data": {
      "text/plain": [
       "array([ 0.79433355, -3.22981308,  0.45786681, -0.3323804 ,  0.57215055,\n",
       "        0.29432491, -0.98486749,  0.31143196, -0.19722419,  0.20770387,\n",
       "       -2.09947751, -0.45115107,  0.69640594,  1.24668057, -0.38650455,\n",
       "       -0.55709698,  0.65057525,  0.62860648,  0.40837644,  0.00771119,\n",
       "        0.53938322, -0.0422056 , -1.7901143 ,  0.64792537, -2.26316249,\n",
       "        0.03666995,  1.09859445, -0.42084818,  1.52708872,  0.75940186,\n",
       "       -0.67101444,  0.59391022, -1.18119158, -0.87035219,  0.67669163,\n",
       "        1.02643231,  0.67252752, -0.71080015,  2.85603194,  0.37692344,\n",
       "       -0.59421263,  0.65500658,  1.66998019,  0.05515551,  1.7124534 ,\n",
       "        0.00503742, -0.23667961, -2.12399317, -1.06643181,  1.19538745,\n",
       "        0.05582703,  0.32629691,  0.96889342, -0.28936498,  0.10566338,\n",
       "       -1.24290155, -1.10281548,  1.74306193,  0.53362724,  0.26104497,\n",
       "        1.26644826,  0.33170925, -1.0213047 ,  0.18893396, -0.01121671,\n",
       "       -0.86322014, -1.7351303 ,  1.57443152,  0.15355267, -0.87151877,\n",
       "        0.2460627 ,  0.65069701,  2.14450282,  0.12663278, -0.94884657,\n",
       "       -1.73699059,  0.73849099, -0.18825534, -0.38408041, -0.1332619 ,\n",
       "        1.26328228,  0.70537234,  0.16461826, -0.88213548,  0.95193761,\n",
       "        0.10957406,  0.38394087,  1.14235579,  0.58582542,  0.18048719,\n",
       "        1.01687276,  0.83442021, -0.17523808,  0.8768635 , -1.12211574,\n",
       "        0.16277732,  0.30196927,  0.09094407,  0.0710076 ,  0.38031906])"
      ]
     },
     "execution_count": 32,
     "metadata": {},
     "output_type": "execute_result"
    }
   ],
   "source": [
    "arr = np.random.randn(100)\n",
    "arr"
   ]
  },
  {
   "cell_type": "code",
   "execution_count": 33,
   "metadata": {
    "ExecuteTime": {
     "end_time": "2020-08-17T00:35:13.577342Z",
     "start_time": "2020-08-17T00:35:13.571340Z"
    }
   },
   "outputs": [
    {
     "data": {
      "text/plain": [
       "array([ True, False,  True, False,  True,  True, False,  True, False,\n",
       "        True, False, False,  True,  True, False, False,  True,  True,\n",
       "        True,  True,  True, False, False,  True, False,  True,  True,\n",
       "       False,  True,  True, False,  True, False, False,  True,  True,\n",
       "        True, False,  True,  True, False,  True,  True,  True,  True,\n",
       "        True, False, False, False,  True,  True,  True,  True, False,\n",
       "        True, False, False,  True,  True,  True,  True,  True, False,\n",
       "        True, False, False, False,  True,  True, False,  True,  True,\n",
       "        True,  True, False, False,  True, False, False, False,  True,\n",
       "        True,  True, False,  True,  True,  True,  True,  True,  True,\n",
       "        True,  True, False,  True, False,  True,  True,  True,  True,\n",
       "        True])"
      ]
     },
     "execution_count": 33,
     "metadata": {},
     "output_type": "execute_result"
    }
   ],
   "source": [
    "arr>0"
   ]
  },
  {
   "cell_type": "code",
   "execution_count": 34,
   "metadata": {
    "ExecuteTime": {
     "end_time": "2020-08-17T00:36:19.381313Z",
     "start_time": "2020-08-17T00:36:19.376312Z"
    }
   },
   "outputs": [
    {
     "data": {
      "text/plain": [
       "64"
      ]
     },
     "execution_count": 34,
     "metadata": {},
     "output_type": "execute_result"
    }
   ],
   "source": [
    "#boolean함수도 sum연산이 가능\n",
    "(arr>0).sum() #False:0, True:1"
   ]
  },
  {
   "cell_type": "code",
   "execution_count": 35,
   "metadata": {
    "ExecuteTime": {
     "end_time": "2020-08-17T00:37:38.747310Z",
     "start_time": "2020-08-17T00:37:38.741308Z"
    }
   },
   "outputs": [
    {
     "name": "stdout",
     "output_type": "stream",
     "text": [
      "True\n",
      "False\n"
     ]
    }
   ],
   "source": [
    "#any, all 함수\n",
    "bools = np.array([False, False, True, False])\n",
    "print(bools.any()) #하나 이상의 값이 True -> True\n",
    "print(bools.all()) #모든 요소값이 True -> True"
   ]
  },
  {
   "cell_type": "markdown",
   "metadata": {},
   "source": [
    "# 정렬"
   ]
  },
  {
   "cell_type": "code",
   "execution_count": 38,
   "metadata": {
    "ExecuteTime": {
     "end_time": "2020-08-17T00:42:25.567982Z",
     "start_time": "2020-08-17T00:42:25.561982Z"
    }
   },
   "outputs": [
    {
     "name": "stdout",
     "output_type": "stream",
     "text": [
      "[-1.91198804  1.55622435  0.90699772  0.89213307 -1.20402707 -0.22459834]\n",
      "[-1.91198804 -1.20402707 -0.22459834  0.89213307  0.90699772  1.55622435]\n"
     ]
    }
   ],
   "source": [
    "#sort함수\n",
    "arr = np.random.randn(6)\n",
    "print(arr)\n",
    "arr.sort()\n",
    "print(arr)"
   ]
  },
  {
   "cell_type": "code",
   "execution_count": 42,
   "metadata": {
    "ExecuteTime": {
     "end_time": "2020-08-17T00:46:17.570512Z",
     "start_time": "2020-08-17T00:46:17.565512Z"
    }
   },
   "outputs": [
    {
     "name": "stdout",
     "output_type": "stream",
     "text": [
      "[[-0.5486453  -0.21560643  1.66729781]\n",
      " [ 0.87552402 -0.69366513 -0.08179686]\n",
      " [ 0.53142222  2.4661755  -2.46016181]\n",
      " [-2.43766282  2.04171227  1.16304206]\n",
      " [-0.2214488   0.21839191 -0.0812709 ]]\n"
     ]
    }
   ],
   "source": [
    "arr = np.random.randn(5, 3)\n",
    "print(arr)"
   ]
  },
  {
   "cell_type": "code",
   "execution_count": 45,
   "metadata": {
    "ExecuteTime": {
     "end_time": "2020-08-17T00:46:28.025303Z",
     "start_time": "2020-08-17T00:46:28.021303Z"
    }
   },
   "outputs": [
    {
     "name": "stdout",
     "output_type": "stream",
     "text": [
      "[[-2.46016181 -2.43766282 -0.69366513]\n",
      " [-0.5486453  -0.21560643 -0.08179686]\n",
      " [-0.2214488  -0.0812709   0.21839191]\n",
      " [ 0.53142222  1.16304206  2.04171227]\n",
      " [ 0.87552402  1.66729781  2.4661755 ]]\n"
     ]
    }
   ],
   "source": [
    "arr.sort()\n",
    "print(arr)"
   ]
  },
  {
   "cell_type": "code",
   "execution_count": 43,
   "metadata": {
    "ExecuteTime": {
     "end_time": "2020-08-17T00:46:20.434729Z",
     "start_time": "2020-08-17T00:46:20.428729Z"
    }
   },
   "outputs": [
    {
     "name": "stdout",
     "output_type": "stream",
     "text": [
      "[[-2.43766282 -0.69366513 -2.46016181]\n",
      " [-0.5486453  -0.21560643 -0.08179686]\n",
      " [-0.2214488   0.21839191 -0.0812709 ]\n",
      " [ 0.53142222  2.04171227  1.16304206]\n",
      " [ 0.87552402  2.4661755   1.66729781]]\n"
     ]
    }
   ],
   "source": [
    "arr.sort(0) #열 단위로 오름차순 정렬\n",
    "print(arr)"
   ]
  },
  {
   "cell_type": "code",
   "execution_count": 44,
   "metadata": {
    "ExecuteTime": {
     "end_time": "2020-08-17T00:46:25.459108Z",
     "start_time": "2020-08-17T00:46:25.454108Z"
    }
   },
   "outputs": [
    {
     "name": "stdout",
     "output_type": "stream",
     "text": [
      "[[-2.46016181 -2.43766282 -0.69366513]\n",
      " [-0.5486453  -0.21560643 -0.08179686]\n",
      " [-0.2214488  -0.0812709   0.21839191]\n",
      " [ 0.53142222  1.16304206  2.04171227]\n",
      " [ 0.87552402  1.66729781  2.4661755 ]]\n"
     ]
    }
   ],
   "source": [
    "arr.sort(1) #행 단위로 오름차순 정렬\n",
    "print(arr)"
   ]
  },
  {
   "cell_type": "code",
   "execution_count": null,
   "metadata": {},
   "outputs": [],
   "source": [
    "#배열.sort() : 원래 배열 자체를 정렬\n",
    "#np.sort(배열) : 원래의 배열은 그대로 두고 정렬된 결과를 복사본으로 리턴"
   ]
  },
  {
   "cell_type": "code",
   "execution_count": 50,
   "metadata": {
    "ExecuteTime": {
     "end_time": "2020-08-17T00:50:57.540667Z",
     "start_time": "2020-08-17T00:50:57.534667Z"
    }
   },
   "outputs": [
    {
     "data": {
      "text/plain": [
       "array([0, 1, 2, 3, 4, 5, 9])"
      ]
     },
     "execution_count": 50,
     "metadata": {},
     "output_type": "execute_result"
    }
   ],
   "source": [
    "x = np.array([3,2,5,4,1,9,0])\n",
    "x.sort()\n",
    "x"
   ]
  },
  {
   "cell_type": "code",
   "execution_count": 49,
   "metadata": {
    "ExecuteTime": {
     "end_time": "2020-08-17T00:50:55.661526Z",
     "start_time": "2020-08-17T00:50:55.654525Z"
    }
   },
   "outputs": [
    {
     "data": {
      "text/plain": [
       "array([3, 2, 5, 4, 1, 9, 0])"
      ]
     },
     "execution_count": 49,
     "metadata": {},
     "output_type": "execute_result"
    }
   ],
   "source": [
    "x = np.array([3,2,5,4,1,9,0])\n",
    "np.sort(x)\n",
    "x"
   ]
  },
  {
   "cell_type": "code",
   "execution_count": 53,
   "metadata": {
    "ExecuteTime": {
     "end_time": "2020-08-17T00:53:04.358251Z",
     "start_time": "2020-08-17T00:53:04.352250Z"
    }
   },
   "outputs": [
    {
     "data": {
      "text/plain": [
       "array([3, 2, 5, 4, 1, 9, 0])"
      ]
     },
     "execution_count": 53,
     "metadata": {},
     "output_type": "execute_result"
    }
   ],
   "source": [
    "x = np.array([3,2,5,4,1,9,0])\n",
    "np.sort(x)[::-1] #역순으로 정렬\n",
    "x"
   ]
  },
  {
   "cell_type": "code",
   "execution_count": 56,
   "metadata": {
    "ExecuteTime": {
     "end_time": "2020-08-17T01:12:09.145368Z",
     "start_time": "2020-08-17T01:12:09.138368Z"
    }
   },
   "outputs": [
    {
     "name": "stdout",
     "output_type": "stream",
     "text": [
      "[6 4 1 0 3 2 5]\n",
      "[5 2 3 0 1 4 6]\n",
      "[9 5 4 3 2 1 0]\n"
     ]
    }
   ],
   "source": [
    "#x에 저장되어있는 데이터를 오름차순 정렬 했을 경우에\n",
    "#오름차순 정렬 결과에 대한 원 데이터 인덱스(index)\n",
    "x = np.array([3,2,5,4,1,9,0])\n",
    "print(np.argsort(x)) #오름차순 정렬의 인덱스 -> [0이 있는 위치, 1이 있는 위치,...]\n",
    "print(np.argsort(-x)) #내림차순 정렬의 인덱스\n",
    "print(x[np.argsort(-x)]) #내림차순 정렬 됌"
   ]
  },
  {
   "cell_type": "code",
   "execution_count": 61,
   "metadata": {
    "ExecuteTime": {
     "end_time": "2020-08-17T01:18:12.863853Z",
     "start_time": "2020-08-17T01:18:12.856851Z"
    },
    "scrolled": true
   },
   "outputs": [
    {
     "name": "stdout",
     "output_type": "stream",
     "text": [
      "[[1 2 6]\n",
      " [0 4 7]\n",
      " [2 3 5]]\n",
      "[[0 1 2]\n",
      " [2 3 4]\n",
      " [5 7 6]]\n",
      "[[2 3 5]\n",
      " [0 4 7]\n",
      " [1 2 6]]\n",
      "[[5 7 6]\n",
      " [2 3 4]\n",
      " [0 1 2]]\n"
     ]
    }
   ],
   "source": [
    "x = np.array([[2,1,6],\n",
    "             [0,7,4],\n",
    "             [5,3,2]])\n",
    "print(np.sort(x, axis=1)) #행 단위로 정렬, axis는 생략 가능\n",
    "print(np.sort(x, axis=0)) #열 단위로 정렬\n",
    "\n",
    "print(np.sort(x, axis=1)[::-1]) #열 축 기준으로 거꾸로 출력\n",
    "print(np.sort(x, axis=0)[::-1])"
   ]
  },
  {
   "cell_type": "code",
   "execution_count": null,
   "metadata": {},
   "outputs": [],
   "source": [
    "#튜플 정렬 : sorted(튜플, 키)\n",
    "#리스트 정렬 : 리스트.sort(), sorted(리스트)\n",
    "#데이터프레임 정렬 : 데이터프레임.sort_values()"
   ]
  },
  {
   "cell_type": "markdown",
   "metadata": {},
   "source": [
    "# 집합"
   ]
  },
  {
   "cell_type": "code",
   "execution_count": 64,
   "metadata": {
    "ExecuteTime": {
     "end_time": "2020-08-17T01:24:18.466479Z",
     "start_time": "2020-08-17T01:24:18.463477Z"
    }
   },
   "outputs": [],
   "source": [
    "names = np.array(['순신', '길동', '꺽정', '길동', '길동'])"
   ]
  },
  {
   "cell_type": "code",
   "execution_count": 65,
   "metadata": {
    "ExecuteTime": {
     "end_time": "2020-08-17T01:24:19.564560Z",
     "start_time": "2020-08-17T01:24:19.559560Z"
    }
   },
   "outputs": [
    {
     "data": {
      "text/plain": [
       "array(['길동', '꺽정', '순신'], dtype='<U2')"
      ]
     },
     "execution_count": 65,
     "metadata": {},
     "output_type": "execute_result"
    }
   ],
   "source": [
    "#유일한 값만 추출\n",
    "np.unique(names)"
   ]
  },
  {
   "cell_type": "code",
   "execution_count": 66,
   "metadata": {
    "ExecuteTime": {
     "end_time": "2020-08-17T01:24:45.870549Z",
     "start_time": "2020-08-17T01:24:45.865548Z"
    }
   },
   "outputs": [
    {
     "data": {
      "text/plain": [
       "{'길동', '꺽정', '순신'}"
      ]
     },
     "execution_count": 66,
     "metadata": {},
     "output_type": "execute_result"
    }
   ],
   "source": [
    "#파이썬의 집합함수 : set\n",
    "set(names)"
   ]
  },
  {
   "cell_type": "code",
   "execution_count": 68,
   "metadata": {
    "ExecuteTime": {
     "end_time": "2020-08-17T01:26:54.439262Z",
     "start_time": "2020-08-17T01:26:54.433262Z"
    }
   },
   "outputs": [
    {
     "data": {
      "text/plain": [
       "array([ True, False,  True, False, False])"
      ]
     },
     "execution_count": 68,
     "metadata": {},
     "output_type": "execute_result"
    }
   ],
   "source": [
    "#in1d(배열1, 배열2)\n",
    "#배열1의 원소가 배열2의 원소를 포함하는지 여부fmf True, False로 출력\n",
    "np.in1d(names, ['순신', '꺽정'])"
   ]
  },
  {
   "cell_type": "markdown",
   "metadata": {},
   "source": [
    "# 파일 저장 및 불러오기"
   ]
  },
  {
   "cell_type": "code",
   "execution_count": null,
   "metadata": {},
   "outputs": [],
   "source": [
    "#1개의 배열을 바이너리로 저장 : np.save(), np.load()"
   ]
  },
  {
   "cell_type": "code",
   "execution_count": 69,
   "metadata": {
    "ExecuteTime": {
     "end_time": "2020-08-17T01:31:05.454230Z",
     "start_time": "2020-08-17T01:31:05.448230Z"
    }
   },
   "outputs": [],
   "source": [
    "x = np.array([0,1,2])\n",
    "np.save(\"xsave\", x) #x에 저장된 배열을 xsave.npy로 저장"
   ]
  },
  {
   "cell_type": "code",
   "execution_count": 70,
   "metadata": {
    "ExecuteTime": {
     "end_time": "2020-08-17T01:32:36.615118Z",
     "start_time": "2020-08-17T01:32:36.607118Z"
    }
   },
   "outputs": [
    {
     "data": {
      "text/plain": [
       "array([0, 1, 2])"
      ]
     },
     "execution_count": 70,
     "metadata": {},
     "output_type": "execute_result"
    }
   ],
   "source": [
    "xload = np.load(\"xsave.npy\") #바이너리 파일을 읽음\n",
    "xload"
   ]
  },
  {
   "cell_type": "code",
   "execution_count": null,
   "metadata": {},
   "outputs": [],
   "source": [
    "#여러개의 배열을 바이너리 형태로 압축하여 저장 : np.savez(), np.load()"
   ]
  },
  {
   "cell_type": "code",
   "execution_count": 74,
   "metadata": {
    "ExecuteTime": {
     "end_time": "2020-08-17T01:34:48.897115Z",
     "start_time": "2020-08-17T01:34:48.894114Z"
    }
   },
   "outputs": [],
   "source": [
    "x = np.array([0,1,2])\n",
    "y = np.array([3,4,5])"
   ]
  },
  {
   "cell_type": "code",
   "execution_count": 76,
   "metadata": {
    "ExecuteTime": {
     "end_time": "2020-08-17T01:35:10.328732Z",
     "start_time": "2020-08-17T01:35:10.319734Z"
    }
   },
   "outputs": [],
   "source": [
    "np.savez(\"xysavez\", x=x, y=y) #확장자 : npz"
   ]
  },
  {
   "cell_type": "code",
   "execution_count": 79,
   "metadata": {
    "ExecuteTime": {
     "end_time": "2020-08-17T01:36:36.230223Z",
     "start_time": "2020-08-17T01:36:36.221226Z"
    }
   },
   "outputs": [
    {
     "name": "stdout",
     "output_type": "stream",
     "text": [
      "<numpy.lib.npyio.NpzFile object at 0x0000016722480048>\n",
      "[0 1 2]\n",
      "[3 4 5]\n"
     ]
    }
   ],
   "source": [
    "xyload = np.load(\"xysavez.npz\")\n",
    "print(xyload) #객체로 블러옴\n",
    "print(xyload['x'])\n",
    "print(xyload['y'])"
   ]
  },
  {
   "cell_type": "code",
   "execution_count": 80,
   "metadata": {
    "ExecuteTime": {
     "end_time": "2020-08-17T01:38:53.390589Z",
     "start_time": "2020-08-17T01:38:53.385587Z"
    }
   },
   "outputs": [],
   "source": [
    "xyload.close() #메모리 해제"
   ]
  },
  {
   "cell_type": "code",
   "execution_count": null,
   "metadata": {},
   "outputs": [],
   "source": [
    "#여러개의 배열을 텍스트 파일로 저장 : np.savetxt\n",
    "#텍스트파일을 배열로 불러오기 : np.loadtxt"
   ]
  },
  {
   "cell_type": "code",
   "execution_count": 82,
   "metadata": {
    "ExecuteTime": {
     "end_time": "2020-08-17T01:43:24.814099Z",
     "start_time": "2020-08-17T01:43:24.811098Z"
    }
   },
   "outputs": [],
   "source": [
    "x = np.array([1,2,3])\n",
    "y = np.array([4,5,6])"
   ]
  },
  {
   "cell_type": "code",
   "execution_count": 85,
   "metadata": {
    "ExecuteTime": {
     "end_time": "2020-08-17T01:45:06.587786Z",
     "start_time": "2020-08-17T01:45:06.580786Z"
    }
   },
   "outputs": [],
   "source": [
    "np.savetxt(\"xytxt.txt\", (x, y), fmt=\"%.f\") #fmt=\"%.f\" : 소수점 이하 제거"
   ]
  },
  {
   "cell_type": "code",
   "execution_count": 87,
   "metadata": {
    "ExecuteTime": {
     "end_time": "2020-08-17T01:46:12.727785Z",
     "start_time": "2020-08-17T01:46:12.720785Z"
    }
   },
   "outputs": [
    {
     "data": {
      "text/plain": [
       "array([[1., 2., 3.],\n",
       "       [4., 5., 6.]])"
      ]
     },
     "execution_count": 87,
     "metadata": {},
     "output_type": "execute_result"
    }
   ],
   "source": [
    "xytxtload = np.loadtxt('xytxt.txt')\n",
    "xytxtload"
   ]
  },
  {
   "cell_type": "markdown",
   "metadata": {},
   "source": [
    "# array 분할"
   ]
  },
  {
   "cell_type": "code",
   "execution_count": null,
   "metadata": {},
   "outputs": [],
   "source": [
    "#numpy배열을 여러개로 분할(split- vertical/horizontal)\n",
    "#수평축으로 배열 분할 : hsplit, split\n",
    "#수직축으로 배열 분할 : vsplit, split"
   ]
  },
  {
   "cell_type": "code",
   "execution_count": 88,
   "metadata": {
    "ExecuteTime": {
     "end_time": "2020-08-17T02:10:36.827414Z",
     "start_time": "2020-08-17T02:10:36.821415Z"
    }
   },
   "outputs": [
    {
     "data": {
      "text/plain": [
       "array([[ 0,  1,  2,  3,  4,  5],\n",
       "       [ 6,  7,  8,  9, 10, 11],\n",
       "       [12, 13, 14, 15, 16, 17]])"
      ]
     },
     "execution_count": 88,
     "metadata": {},
     "output_type": "execute_result"
    }
   ],
   "source": [
    "x = np.arange(18).reshape(3, 6)\n",
    "x"
   ]
  },
  {
   "cell_type": "code",
   "execution_count": null,
   "metadata": {},
   "outputs": [],
   "source": [
    "#배열을 수평축(열방향)으로 분할"
   ]
  },
  {
   "cell_type": "code",
   "execution_count": 89,
   "metadata": {
    "ExecuteTime": {
     "end_time": "2020-08-17T02:12:12.781666Z",
     "start_time": "2020-08-17T02:12:12.775666Z"
    }
   },
   "outputs": [
    {
     "data": {
      "text/plain": [
       "[array([[ 0,  1],\n",
       "        [ 6,  7],\n",
       "        [12, 13]]),\n",
       " array([[ 2,  3],\n",
       "        [ 8,  9],\n",
       "        [14, 15]]),\n",
       " array([[ 4,  5],\n",
       "        [10, 11],\n",
       "        [16, 17]])]"
      ]
     },
     "execution_count": 89,
     "metadata": {},
     "output_type": "execute_result"
    }
   ],
   "source": [
    "np.hsplit(x, 3) # x배열을 수평축(열방향)으로 3개의 배열로 분할"
   ]
  },
  {
   "cell_type": "code",
   "execution_count": 90,
   "metadata": {
    "ExecuteTime": {
     "end_time": "2020-08-17T02:12:43.154960Z",
     "start_time": "2020-08-17T02:12:43.147960Z"
    }
   },
   "outputs": [
    {
     "data": {
      "text/plain": [
       "[array([[ 0,  1],\n",
       "        [ 6,  7],\n",
       "        [12, 13]]),\n",
       " array([[ 2,  3],\n",
       "        [ 8,  9],\n",
       "        [14, 15]]),\n",
       " array([[ 4,  5],\n",
       "        [10, 11],\n",
       "        [16, 17]])]"
      ]
     },
     "execution_count": 90,
     "metadata": {},
     "output_type": "execute_result"
    }
   ],
   "source": [
    "np.hsplit(x, (2,4)) #x배열을 수평축(열방향)으로 0:2, 2:4, 4:6"
   ]
  },
  {
   "cell_type": "code",
   "execution_count": 92,
   "metadata": {
    "ExecuteTime": {
     "end_time": "2020-08-17T02:14:15.463936Z",
     "start_time": "2020-08-17T02:14:15.456935Z"
    }
   },
   "outputs": [
    {
     "data": {
      "text/plain": [
       "[array([[ 0,  1],\n",
       "        [ 6,  7],\n",
       "        [12, 13]]),\n",
       " array([[ 2,  3],\n",
       "        [ 8,  9],\n",
       "        [14, 15]]),\n",
       " array([[ 4,  5],\n",
       "        [10, 11],\n",
       "        [16, 17]])]"
      ]
     },
     "execution_count": 92,
     "metadata": {},
     "output_type": "execute_result"
    }
   ],
   "source": [
    "np.split(x, 3, axis=1)"
   ]
  },
  {
   "cell_type": "code",
   "execution_count": 94,
   "metadata": {
    "ExecuteTime": {
     "end_time": "2020-08-17T02:17:34.124947Z",
     "start_time": "2020-08-17T02:17:34.117945Z"
    }
   },
   "outputs": [
    {
     "name": "stdout",
     "output_type": "stream",
     "text": [
      "[array([[ 0,  1],\n",
      "       [ 6,  7],\n",
      "       [12, 13]]), array([[ 2,  3],\n",
      "       [ 8,  9],\n",
      "       [14, 15]]), array([[ 4,  5],\n",
      "       [10, 11],\n",
      "       [16, 17]])]\n",
      "[[ 0  1]\n",
      " [ 6  7]\n",
      " [12 13]]\n"
     ]
    }
   ],
   "source": [
    "print(np.split(x, (2,4), axis=1))\n",
    "\n",
    "x1, x2, x3 = np.split(x, (2,4), axis=1)\n",
    "print(x1)"
   ]
  },
  {
   "cell_type": "code",
   "execution_count": null,
   "metadata": {},
   "outputs": [],
   "source": [
    "#배열을 수직축(행방향)으로 분할"
   ]
  },
  {
   "cell_type": "code",
   "execution_count": 95,
   "metadata": {
    "ExecuteTime": {
     "end_time": "2020-08-17T02:17:59.108835Z",
     "start_time": "2020-08-17T02:17:59.103834Z"
    }
   },
   "outputs": [
    {
     "data": {
      "text/plain": [
       "[array([[0, 1, 2, 3, 4, 5]]),\n",
       " array([[ 6,  7,  8,  9, 10, 11]]),\n",
       " array([[12, 13, 14, 15, 16, 17]])]"
      ]
     },
     "execution_count": 95,
     "metadata": {},
     "output_type": "execute_result"
    }
   ],
   "source": [
    "np.vsplit(x, 3) #행방향으로 3개의 배열 분할"
   ]
  },
  {
   "cell_type": "code",
   "execution_count": 96,
   "metadata": {
    "ExecuteTime": {
     "end_time": "2020-08-17T02:19:09.351141Z",
     "start_time": "2020-08-17T02:19:09.345141Z"
    }
   },
   "outputs": [
    {
     "data": {
      "text/plain": [
       "[array([[0, 1, 2, 3, 4, 5]]),\n",
       " array([[ 6,  7,  8,  9, 10, 11]]),\n",
       " array([[12, 13, 14, 15, 16, 17]])]"
      ]
     },
     "execution_count": 96,
     "metadata": {},
     "output_type": "execute_result"
    }
   ],
   "source": [
    "np.vsplit(x, (1,2)) #분할하고자 하는 위치 지정 : x[0:1], x[1:2], x[2:3]"
   ]
  },
  {
   "cell_type": "code",
   "execution_count": 97,
   "metadata": {
    "ExecuteTime": {
     "end_time": "2020-08-17T02:21:28.138630Z",
     "start_time": "2020-08-17T02:21:28.132629Z"
    }
   },
   "outputs": [
    {
     "data": {
      "text/plain": [
       "[array([[0, 1, 2, 3, 4, 5]]),\n",
       " array([[ 6,  7,  8,  9, 10, 11]]),\n",
       " array([[12, 13, 14, 15, 16, 17]])]"
      ]
     },
     "execution_count": 97,
     "metadata": {},
     "output_type": "execute_result"
    }
   ],
   "source": [
    "np.split(x, 3, axis=0)"
   ]
  },
  {
   "cell_type": "code",
   "execution_count": 98,
   "metadata": {
    "ExecuteTime": {
     "end_time": "2020-08-17T02:21:29.369723Z",
     "start_time": "2020-08-17T02:21:29.363721Z"
    }
   },
   "outputs": [
    {
     "data": {
      "text/plain": [
       "[array([[0, 1, 2, 3, 4, 5]]),\n",
       " array([[ 6,  7,  8,  9, 10, 11]]),\n",
       " array([[12, 13, 14, 15, 16, 17]])]"
      ]
     },
     "execution_count": 98,
     "metadata": {},
     "output_type": "execute_result"
    }
   ],
   "source": [
    "np.split(x, (1,2),axis=0)"
   ]
  },
  {
   "cell_type": "markdown",
   "metadata": {},
   "source": [
    "# flip 함수"
   ]
  },
  {
   "cell_type": "code",
   "execution_count": 99,
   "metadata": {
    "ExecuteTime": {
     "end_time": "2020-08-17T02:23:12.680530Z",
     "start_time": "2020-08-17T02:23:12.674527Z"
    }
   },
   "outputs": [
    {
     "data": {
      "text/plain": [
       "array([[0, 1, 2, 3, 4],\n",
       "       [5, 6, 7, 8, 9]])"
      ]
     },
     "execution_count": 99,
     "metadata": {},
     "output_type": "execute_result"
    }
   ],
   "source": [
    "arr = np.arange(10).reshape(2,5)\n",
    "arr"
   ]
  },
  {
   "cell_type": "code",
   "execution_count": 100,
   "metadata": {
    "ExecuteTime": {
     "end_time": "2020-08-17T02:23:23.689360Z",
     "start_time": "2020-08-17T02:23:23.683360Z"
    }
   },
   "outputs": [
    {
     "data": {
      "text/plain": [
       "array([[5, 6, 7, 8, 9],\n",
       "       [0, 1, 2, 3, 4]])"
      ]
     },
     "execution_count": 100,
     "metadata": {},
     "output_type": "execute_result"
    }
   ],
   "source": [
    "arr[::-1] #행만 거꾸로 출력됌"
   ]
  },
  {
   "cell_type": "code",
   "execution_count": 102,
   "metadata": {
    "ExecuteTime": {
     "end_time": "2020-08-17T02:24:15.788297Z",
     "start_time": "2020-08-17T02:24:15.782296Z"
    }
   },
   "outputs": [
    {
     "data": {
      "text/plain": [
       "array([[5, 6, 7, 8, 9],\n",
       "       [0, 1, 2, 3, 4]])"
      ]
     },
     "execution_count": 102,
     "metadata": {},
     "output_type": "execute_result"
    }
   ],
   "source": [
    "np.flip(arr, axis=0) #[::-1]과 같은 효과"
   ]
  },
  {
   "cell_type": "code",
   "execution_count": 105,
   "metadata": {
    "ExecuteTime": {
     "end_time": "2020-08-17T02:28:46.316739Z",
     "start_time": "2020-08-17T02:28:46.311739Z"
    }
   },
   "outputs": [
    {
     "data": {
      "text/plain": [
       "array([[4, 3, 2, 1, 0],\n",
       "       [9, 8, 7, 6, 5]])"
      ]
     },
     "execution_count": 105,
     "metadata": {},
     "output_type": "execute_result"
    }
   ],
   "source": [
    "arr[:, ::-1] #열단위로 거꾸로 출력"
   ]
  },
  {
   "cell_type": "code",
   "execution_count": 103,
   "metadata": {
    "ExecuteTime": {
     "end_time": "2020-08-17T02:25:00.271658Z",
     "start_time": "2020-08-17T02:25:00.265657Z"
    }
   },
   "outputs": [
    {
     "data": {
      "text/plain": [
       "array([[4, 3, 2, 1, 0],\n",
       "       [9, 8, 7, 6, 5]])"
      ]
     },
     "execution_count": 103,
     "metadata": {},
     "output_type": "execute_result"
    }
   ],
   "source": [
    "np.flip(arr, axis=1) #열단위로 거꾸로 출력"
   ]
  },
  {
   "cell_type": "code",
   "execution_count": 106,
   "metadata": {
    "ExecuteTime": {
     "end_time": "2020-08-17T02:29:05.655200Z",
     "start_time": "2020-08-17T02:29:05.649200Z"
    }
   },
   "outputs": [
    {
     "data": {
      "text/plain": [
       "array([[9, 8, 7, 6, 5],\n",
       "       [4, 3, 2, 1, 0]])"
      ]
     },
     "execution_count": 106,
     "metadata": {},
     "output_type": "execute_result"
    }
   ],
   "source": [
    "arr[::-1, ::-1] #행과 열 모두 거꾸로 출력"
   ]
  },
  {
   "cell_type": "code",
   "execution_count": 104,
   "metadata": {
    "ExecuteTime": {
     "end_time": "2020-08-17T02:25:49.475375Z",
     "start_time": "2020-08-17T02:25:49.469376Z"
    }
   },
   "outputs": [
    {
     "data": {
      "text/plain": [
       "array([[9, 8, 7, 6, 5],\n",
       "       [4, 3, 2, 1, 0]])"
      ]
     },
     "execution_count": 104,
     "metadata": {},
     "output_type": "execute_result"
    }
   ],
   "source": [
    "np.flip(arr) #행과 열 모두 거꾸로 출력"
   ]
  },
  {
   "cell_type": "code",
   "execution_count": null,
   "metadata": {},
   "outputs": [],
   "source": []
  },
  {
   "cell_type": "code",
   "execution_count": 132,
   "metadata": {
    "ExecuteTime": {
     "end_time": "2020-08-17T04:21:46.865088Z",
     "start_time": "2020-08-17T04:21:46.859087Z"
    }
   },
   "outputs": [
    {
     "data": {
      "text/plain": [
       "array([-5, -4, -3, -2, -1,  0,  1,  2,  3,  4])"
      ]
     },
     "execution_count": 132,
     "metadata": {},
     "output_type": "execute_result"
    }
   ],
   "source": [
    "a = np.arange(-5, 5)\n",
    "a"
   ]
  },
  {
   "cell_type": "code",
   "execution_count": 111,
   "metadata": {
    "ExecuteTime": {
     "end_time": "2020-08-17T02:43:30.396542Z",
     "start_time": "2020-08-17T02:43:30.390542Z"
    }
   },
   "outputs": [
    {
     "name": "stdout",
     "output_type": "stream",
     "text": [
      "[0, 0, 0, 0, 0, 0, 1, 2, 3, 4]\n",
      "[0 0 0 0 0 0 1 2 3 4]\n",
      "[0 0 0 0 0 0 1 2 3 4]\n"
     ]
    }
   ],
   "source": [
    "#음수 값은 모두 0으로 대체\n",
    "\n",
    "#1. 리스트컴프리헨션\n",
    "res1 = [(0 if x<0 else x) for x in a]\n",
    "#2. 불린참조(벡터화 연산)\n",
    "a[a<0] = 0\n",
    "res2 = a\n",
    "#3. np.where(벡터화 연산)\n",
    "res3 = np.where(a<0, 0, a)\n",
    "\n",
    "print(res1)\n",
    "print(res2)\n",
    "print(res3)"
   ]
  },
  {
   "cell_type": "code",
   "execution_count": 135,
   "metadata": {
    "ExecuteTime": {
     "end_time": "2020-08-17T04:22:27.479157Z",
     "start_time": "2020-08-17T04:22:27.470156Z"
    }
   },
   "outputs": [
    {
     "name": "stdout",
     "output_type": "stream",
     "text": [
      "[0, 0, 0, 0, 0, 0, 1, 2, 2, 2]\n",
      "[0 0 0 0 0 0 1 2 2 2]\n",
      "[0 0 0 0 0 0 1 2 2 2]\n"
     ]
    }
   ],
   "source": [
    "#0보다 작으면 0으로 변환, 2보다 크면 2로 변환, 그 사이 값은 그대로 출력\n",
    "\n",
    "#1. 리스트컴프리헨션\n",
    "res1 = [(0 if x<0 else (2 if x>2 else x)) for x in a]\n",
    "# #2. 불린참조(벡터화 연산)\n",
    "a[a<0] = 0\n",
    "a[a>2] = 2\n",
    "res2 = a\n",
    "#3. np.where(벡터화 연산)\n",
    "res3 = np.where(a<0, 0, np.where(a>2, 2, a))\n",
    "\n",
    "print(res1)\n",
    "print(res2)\n",
    "print(res3)"
   ]
  },
  {
   "cell_type": "code",
   "execution_count": 120,
   "metadata": {
    "ExecuteTime": {
     "end_time": "2020-08-17T02:51:43.434796Z",
     "start_time": "2020-08-17T02:51:43.428795Z"
    }
   },
   "outputs": [
    {
     "data": {
      "text/plain": [
       "array([0, 0, 0, 0, 0, 0, 1, 2, 2, 2])"
      ]
     },
     "execution_count": 120,
     "metadata": {},
     "output_type": "execute_result"
    }
   ],
   "source": [
    "#np.clip(배열, 최소값, 최대값)\n",
    "np.clip(a, 0, 2, out=a)"
   ]
  },
  {
   "cell_type": "code",
   "execution_count": null,
   "metadata": {},
   "outputs": [],
   "source": []
  },
  {
   "cell_type": "code",
   "execution_count": 121,
   "metadata": {
    "ExecuteTime": {
     "end_time": "2020-08-17T04:11:17.211511Z",
     "start_time": "2020-08-17T04:11:17.204509Z"
    }
   },
   "outputs": [
    {
     "data": {
      "text/plain": [
       "array([1, 2, 3])"
      ]
     },
     "execution_count": 121,
     "metadata": {},
     "output_type": "execute_result"
    }
   ],
   "source": [
    "#리스트를 array로 변경\n",
    "a = [1,2,3]\n",
    "np.asarray(a) #이미 해당 배열이 있으면 복사하지 않음"
   ]
  },
  {
   "cell_type": "code",
   "execution_count": 122,
   "metadata": {
    "ExecuteTime": {
     "end_time": "2020-08-17T04:13:32.254714Z",
     "start_time": "2020-08-17T04:13:32.247714Z"
    }
   },
   "outputs": [
    {
     "data": {
      "text/plain": [
       "False"
      ]
     },
     "execution_count": 122,
     "metadata": {},
     "output_type": "execute_result"
    }
   ],
   "source": [
    "b = np.array([1,2])\n",
    "b2 = np.asarray(a)\n",
    "\n",
    "b is b2"
   ]
  },
  {
   "cell_type": "code",
   "execution_count": 127,
   "metadata": {
    "ExecuteTime": {
     "end_time": "2020-08-17T04:16:07.172421Z",
     "start_time": "2020-08-17T04:16:07.166419Z"
    }
   },
   "outputs": [
    {
     "data": {
      "text/plain": [
       "True"
      ]
     },
     "execution_count": 127,
     "metadata": {},
     "output_type": "execute_result"
    }
   ],
   "source": [
    "b = np.array([1,2])\n",
    "b2 = np.asarray(b)\n",
    "\n",
    "np.asarray(b2) is b"
   ]
  },
  {
   "cell_type": "code",
   "execution_count": null,
   "metadata": {},
   "outputs": [],
   "source": [
    "#단위행렬(항등행렬): 정방행렬(행과 열의 수가 같음) & 대각성분 '1', 나머지 '0'"
   ]
  },
  {
   "cell_type": "code",
   "execution_count": 130,
   "metadata": {
    "ExecuteTime": {
     "end_time": "2020-08-17T04:18:41.582087Z",
     "start_time": "2020-08-17T04:18:41.576087Z"
    }
   },
   "outputs": [
    {
     "name": "stdout",
     "output_type": "stream",
     "text": [
      "[[1. 0. 0.]\n",
      " [0. 1. 0.]\n",
      " [0. 0. 1.]]\n",
      "[[1. 0. 0.]\n",
      " [0. 1. 0.]\n",
      " [0. 0. 1.]]\n"
     ]
    }
   ],
   "source": [
    "print(np.identity(3)) #정방행렬을 만드는 함수1\n",
    "print(np.eye(3)) #정방행렬을 만드는 함수2"
   ]
  },
  {
   "cell_type": "markdown",
   "metadata": {},
   "source": [
    "# 행렬  \n",
    ": 숫자를 사각형으로 나열"
   ]
  },
  {
   "cell_type": "markdown",
   "metadata": {},
   "source": [
    "종류  \n",
    "    - 제로행렬 : 요소가 모두 0으로 구성된 행렬  \n",
    "    - 전치행렬 : nxm -> mxn  \n",
    "    - 대칭행렬 : 대각 요소를 기준으로 대칭인 정방행렬  \n",
    "        ex) 1 4 5  \n",
    "            4 2 2  \n",
    "            5 2 3  \n",
    "    - 대각행렬 : 대각요소를 제외한 나머지는 0인 행렬   \n",
    "        ex) diag(1,2,3)  \n",
    "            1 0 0  \n",
    "            0 2 0  \n",
    "            0 0 3  \n",
    "            \n",
    "            diag(1,1,1) => 항등행렬  \n",
    "            1 0 0  \n",
    "            0 1 0  \n",
    "            0 0 1  \n"
   ]
  },
  {
   "cell_type": "markdown",
   "metadata": {
    "ExecuteTime": {
     "end_time": "2020-08-17T04:40:58.615117Z",
     "start_time": "2020-08-17T04:40:58.611117Z"
    }
   },
   "source": [
    "* 균등확률 표본복원추출"
   ]
  },
  {
   "cell_type": "code",
   "execution_count": 138,
   "metadata": {
    "ExecuteTime": {
     "end_time": "2020-08-17T04:36:56.956857Z",
     "start_time": "2020-08-17T04:36:56.950856Z"
    }
   },
   "outputs": [
    {
     "data": {
      "text/plain": [
       "array([1, 4, 1])"
      ]
     },
     "execution_count": 138,
     "metadata": {},
     "output_type": "execute_result"
    }
   ],
   "source": [
    "#모집단 : 0~4\n",
    "#균등롹률 분포를 따르는 임의의 수 3개 복원추출\n",
    "#arange(5) 즉 0~4중에서 3개를 랜덤으로 (복원)추출하는 함수 : np.random.choice\n",
    "np.random.choice(5,3) #np.random.randint(0, 5, 3)"
   ]
  },
  {
   "cell_type": "code",
   "execution_count": 139,
   "metadata": {
    "ExecuteTime": {
     "end_time": "2020-08-17T04:39:22.618863Z",
     "start_time": "2020-08-17T04:39:22.613863Z"
    }
   },
   "outputs": [
    {
     "data": {
      "text/plain": [
       "array([4, 1, 2, 1, 4, 3, 3, 3, 4, 4])"
      ]
     },
     "execution_count": 139,
     "metadata": {},
     "output_type": "execute_result"
    }
   ],
   "source": [
    "np.random.choice(5, 10)"
   ]
  },
  {
   "cell_type": "markdown",
   "metadata": {},
   "source": [
    "* 비균등 확률 표본 복원 추출"
   ]
  },
  {
   "cell_type": "code",
   "execution_count": 149,
   "metadata": {
    "ExecuteTime": {
     "end_time": "2020-08-17T04:46:06.804404Z",
     "start_time": "2020-08-17T04:46:06.797403Z"
    }
   },
   "outputs": [
    {
     "data": {
      "text/plain": [
       "array([3, 3, 2])"
      ]
     },
     "execution_count": 149,
     "metadata": {},
     "output_type": "execute_result"
    }
   ],
   "source": [
    "p = [0.1, 0.2, 0.2, 0.4, 0.1] #각 원소별 표본으로 뽑힐 확률(가중치)\n",
    "                              #각 요소의 합은 1이어야 함.\n",
    "                              #요소는 0~1 사이의 값을 가져야함(확률이므로)\n",
    "\n",
    "np.random.choice(5, 3) #각 원소가 뽑힐 확률은 균등하게 0.2\n",
    "np.random.choice(5, 3, p=p)\n",
    "#모집단의 크기는 p(가중치 배열)의 크기와 같아야 함.\n",
    "#표본이 추출될 확률은 p의 확률을 따름\n",
    "# ex) 0이 뽑힐 확률? 0.1\n",
    "#     1이 뽑힐 확률? 0.2 ..."
   ]
  },
  {
   "cell_type": "markdown",
   "metadata": {},
   "source": [
    "* 비복원 추출"
   ]
  },
  {
   "cell_type": "code",
   "execution_count": 157,
   "metadata": {
    "ExecuteTime": {
     "end_time": "2020-08-17T04:51:44.425915Z",
     "start_time": "2020-08-17T04:51:44.418915Z"
    }
   },
   "outputs": [
    {
     "data": {
      "text/plain": [
       "array([0, 1, 2])"
      ]
     },
     "execution_count": 157,
     "metadata": {},
     "output_type": "execute_result"
    }
   ],
   "source": [
    "np.random.choice(5,3) #default : 복원 추출\n",
    "np.random.choice(5,3, replace=False) #replace옵션을 False로 선언해주면 비복원추출\n",
    "\n",
    "p = [0.1, 0.2, 0.2, 0.4, 0.1]\n",
    "np.random.choice(5,3, replace=False, p=p)"
   ]
  },
  {
   "cell_type": "code",
   "execution_count": 160,
   "metadata": {
    "ExecuteTime": {
     "end_time": "2020-08-17T04:54:19.771652Z",
     "start_time": "2020-08-17T04:54:19.764652Z"
    }
   },
   "outputs": [
    {
     "data": {
      "text/plain": [
       "array(['lemon', 'apple'], dtype='<U6')"
      ]
     },
     "execution_count": 160,
     "metadata": {},
     "output_type": "execute_result"
    }
   ],
   "source": [
    "fruits = ['apple', 'banana', 'lemon', 'mango']\n",
    "p = [0.05, 0.05, 0.7, 0.2]\n",
    "np.random.choice(fruits, 2, replace=False, p=p)"
   ]
  },
  {
   "cell_type": "markdown",
   "metadata": {},
   "source": [
    "* 데이터 수집 -> 전처리 -> 분석 -> 모델링 -> 모델평가 및 개선  \n",
    "* 모델? 데이터 입력 -> 모델 -> 예측/분류 결과 출력    \n",
    "  \n",
    "     ex) 전체 데이터 100개  \n",
    "        70개 데이터(train) => 모델링 => 30개 데이터(Test) 모델 평가\n",
    "        30중에서 21개 정답 -> 70% 정확도 모델\n",
    "    \n",
    "!!! 서로다른 모델의 성능을 비교하려면 같은 test data로 모델을 평가해야함\n",
    "    => seed로 동일한 랜덤데이터 생성의 필요성"
   ]
  },
  {
   "cell_type": "markdown",
   "metadata": {
    "ExecuteTime": {
     "end_time": "2020-08-17T05:21:24.790442Z",
     "start_time": "2020-08-17T05:21:24.783441Z"
    }
   },
   "source": [
    "* 동일한 난수 발생"
   ]
  },
  {
   "cell_type": "code",
   "execution_count": 168,
   "metadata": {
    "ExecuteTime": {
     "end_time": "2020-08-17T05:11:10.039991Z",
     "start_time": "2020-08-17T05:11:10.034991Z"
    }
   },
   "outputs": [
    {
     "data": {
      "text/plain": [
       "array([2, 3, 3])"
      ]
     },
     "execution_count": 168,
     "metadata": {},
     "output_type": "execute_result"
    }
   ],
   "source": [
    "#np.random.seed() : 동일한 난수를 발생시키는 함수\n",
    "np.random.seed(1004) #seed를 먼저 주고\n",
    "np.random.choice(5, 3) #choice를 수행"
   ]
  },
  {
   "cell_type": "markdown",
   "metadata": {},
   "source": [
    "# 데이터 분할(train/ test data)"
   ]
  },
  {
   "cell_type": "markdown",
   "metadata": {},
   "source": [
    "1. 싸이킷런"
   ]
  },
  {
   "cell_type": "code",
   "execution_count": 171,
   "metadata": {
    "ExecuteTime": {
     "end_time": "2020-08-17T05:24:25.607106Z",
     "start_time": "2020-08-17T05:24:25.604104Z"
    }
   },
   "outputs": [],
   "source": [
    "from sklearn.model_selection import train_test_split"
   ]
  },
  {
   "cell_type": "code",
   "execution_count": 170,
   "metadata": {
    "ExecuteTime": {
     "end_time": "2020-08-17T05:23:12.399575Z",
     "start_time": "2020-08-17T05:23:12.395572Z"
    }
   },
   "outputs": [],
   "source": [
    "x = np.arange(20).reshape(10, 2) #중간고사 등수, 기말고사 등수\n",
    "y = np.arange(10) #최종 시험 등수"
   ]
  },
  {
   "cell_type": "code",
   "execution_count": 188,
   "metadata": {
    "ExecuteTime": {
     "end_time": "2020-08-17T06:11:43.663555Z",
     "start_time": "2020-08-17T06:11:43.658552Z"
    }
   },
   "outputs": [],
   "source": [
    "xTrain, xTest, yTrain, yTest = train_test_split(x,y,\n",
    "                 test_size = 0.4, #train_size = 0.6 과 같은 옵션\n",
    "                 shuffle = True,\n",
    "                 random_state = 1004) #훈련: 60%, 테스트: 40%\n",
    "#train_x, train_y : 모델을 만들 때 사용하는 입력/출력 데이터\n",
    "#test_x, test_y : 모델을 평가할 때 사용되는 입력/출력 데이터\n",
    "\n",
    "#모델링 후 예측값과 test_y를 비교하여 (오차)차이를 구하는 것을\n",
    "#mean square error(mse)이라고 하는데 mse값을 통해 성능평가\n",
    "\n",
    "#xTrain 입력==========> 모델(f) ============> 예측/분류 결과 출력(yTrain)\n",
    "#xTest입력 => 모델(f) => 예측/분류 결과(yPred) ==> yTest와 비교(성능평가)"
   ]
  },
  {
   "cell_type": "markdown",
   "metadata": {},
   "source": [
    "# broadcasting   \n",
    ": 모양이 다른 두 배열 간 연산이 가능하도록 만드는 조건   \n",
    "     - 1차원 배열이 반드시 포함 되어 있어야 함\n",
    "     - 계산하는 두 배열이 차원의 짝이 맞아야 함"
   ]
  },
  {
   "cell_type": "code",
   "execution_count": 190,
   "metadata": {
    "ExecuteTime": {
     "end_time": "2020-08-17T06:16:31.638314Z",
     "start_time": "2020-08-17T06:16:31.629314Z"
    }
   },
   "outputs": [
    {
     "ename": "ValueError",
     "evalue": "operands could not be broadcast together with shapes (3,) (2,) ",
     "output_type": "error",
     "traceback": [
      "\u001b[1;31m---------------------------------------------------------------------------\u001b[0m",
      "\u001b[1;31mValueError\u001b[0m                                Traceback (most recent call last)",
      "\u001b[1;32m<ipython-input-190-8bbb23c11930>\u001b[0m in \u001b[0;36m<module>\u001b[1;34m\u001b[0m\n\u001b[0;32m      2\u001b[0m \u001b[0mb\u001b[0m \u001b[1;33m=\u001b[0m \u001b[0mnp\u001b[0m\u001b[1;33m.\u001b[0m\u001b[0marray\u001b[0m\u001b[1;33m(\u001b[0m\u001b[1;33m[\u001b[0m\u001b[1;36m1\u001b[0m\u001b[1;33m,\u001b[0m\u001b[1;36m2\u001b[0m\u001b[1;33m]\u001b[0m\u001b[1;33m)\u001b[0m\u001b[1;33m\u001b[0m\u001b[1;33m\u001b[0m\u001b[0m\n\u001b[0;32m      3\u001b[0m \u001b[1;33m\u001b[0m\u001b[0m\n\u001b[1;32m----> 4\u001b[1;33m \u001b[0ma\u001b[0m\u001b[1;33m+\u001b[0m\u001b[0mb\u001b[0m\u001b[1;33m\u001b[0m\u001b[1;33m\u001b[0m\u001b[0m\n\u001b[0m",
      "\u001b[1;31mValueError\u001b[0m: operands could not be broadcast together with shapes (3,) (2,) "
     ]
    }
   ],
   "source": [
    "a = np.array([1,2,3])\n",
    "b = np.array([1,2])\n",
    "\n",
    "a+b #ValueError: operands could not be broadcast together with shapes (3,) (2,) "
   ]
  },
  {
   "cell_type": "code",
   "execution_count": 191,
   "metadata": {
    "ExecuteTime": {
     "end_time": "2020-08-17T06:18:59.333473Z",
     "start_time": "2020-08-17T06:18:59.327472Z"
    }
   },
   "outputs": [
    {
     "data": {
      "text/plain": [
       "array([5, 6, 7])"
      ]
     },
     "execution_count": 191,
     "metadata": {},
     "output_type": "execute_result"
    }
   ],
   "source": [
    "#1.배열 + 스칼라\n",
    "np.arange(3)+5 #[0,1,2]배열에서 각 요소에 5(스칼라)를 더한 값을 출력"
   ]
  },
  {
   "cell_type": "code",
   "execution_count": 193,
   "metadata": {
    "ExecuteTime": {
     "end_time": "2020-08-17T06:21:54.821735Z",
     "start_time": "2020-08-17T06:21:54.816733Z"
    }
   },
   "outputs": [
    {
     "data": {
      "text/plain": [
       "array([[11, 13, 15],\n",
       "       [14, 16, 18],\n",
       "       [17, 19, 21]])"
      ]
     },
     "execution_count": 193,
     "metadata": {},
     "output_type": "execute_result"
    }
   ],
   "source": [
    "#2. 배열(2차원)+배열(1차원)\n",
    "#각 행[x,y,z] 마다 [0,1,2]를 더해 [x+0, y+1, z+2]의 값을 출력한다.\n",
    "#기준 행의 크기와 더하는 배열의 크기가 일치해야 함.\n",
    "np.arange(11, 20).reshape(3,3) + np.arange(3)"
   ]
  },
  {
   "cell_type": "code",
   "execution_count": 197,
   "metadata": {
    "ExecuteTime": {
     "end_time": "2020-08-17T06:29:52.868864Z",
     "start_time": "2020-08-17T06:29:52.861854Z"
    }
   },
   "outputs": [
    {
     "data": {
      "text/plain": [
       "array([[0, 1, 2],\n",
       "       [1, 2, 3],\n",
       "       [2, 3, 4]])"
      ]
     },
     "execution_count": 197,
     "metadata": {},
     "output_type": "execute_result"
    }
   ],
   "source": [
    "#3.배열(nXm) + 배열(mXn)\n",
    "#각 행의 시작 요소를 기준으로 b의 arange만큼 확장된다.\n",
    "a = np.arange(3).reshape(3,1) #3행 1열\n",
    "b = np.arange(3) #1차원배열\n",
    "\n",
    "\n",
    "a+b"
   ]
  },
  {
   "cell_type": "code",
   "execution_count": 204,
   "metadata": {
    "ExecuteTime": {
     "end_time": "2020-08-17T06:40:03.387987Z",
     "start_time": "2020-08-17T06:40:03.379986Z"
    }
   },
   "outputs": [
    {
     "name": "stdout",
     "output_type": "stream",
     "text": [
      "* a : \n",
      " [[[ 0  1]\n",
      "  [ 2  3]\n",
      "  [ 4  5]\n",
      "  [ 6  7]]\n",
      "\n",
      " [[ 8  9]\n",
      "  [10 11]\n",
      "  [12 13]\n",
      "  [14 15]]\n",
      "\n",
      " [[16 17]\n",
      "  [18 19]\n",
      "  [20 21]\n",
      "  [22 23]]]\n",
      "* a+b : \n",
      " [[[ 0  2]\n",
      "  [ 4  6]\n",
      "  [ 8 10]\n",
      "  [12 14]]\n",
      "\n",
      " [[ 8 10]\n",
      "  [12 14]\n",
      "  [16 18]\n",
      "  [20 22]]\n",
      "\n",
      " [[16 18]\n",
      "  [20 22]\n",
      "  [24 26]\n",
      "  [28 30]]]\n",
      "* a+c : \n",
      " [[[ 0  2]\n",
      "  [ 2  4]\n",
      "  [ 4  6]\n",
      "  [ 6  8]]\n",
      "\n",
      " [[ 8 10]\n",
      "  [10 12]\n",
      "  [12 14]\n",
      "  [14 16]]\n",
      "\n",
      " [[16 18]\n",
      "  [18 20]\n",
      "  [20 22]\n",
      "  [22 24]]]\n"
     ]
    }
   ],
   "source": [
    "# 같은 차원의 배열의 크기가 같으면 연산 가능\n",
    "# 1차원크기 : 2 \n",
    "# 2차원크기 : 2x4\n",
    "a = np.arange(24).reshape(3, 4, 2)\n",
    "b = np.arange(8).reshape(4, 2) #2차원 배열\n",
    "c = np.arange(2) #1차원 배열\n",
    "\n",
    "print(\"* a : \\n\", a)\n",
    "print(\"* a+b : \\n\", a+b)\n",
    "print(\"* a+c : \\n\", a+c)"
   ]
  },
  {
   "cell_type": "code",
   "execution_count": null,
   "metadata": {},
   "outputs": [],
   "source": []
  },
  {
   "cell_type": "code",
   "execution_count": null,
   "metadata": {},
   "outputs": [],
   "source": []
  },
  {
   "cell_type": "code",
   "execution_count": null,
   "metadata": {},
   "outputs": [],
   "source": []
  },
  {
   "cell_type": "code",
   "execution_count": null,
   "metadata": {},
   "outputs": [],
   "source": []
  },
  {
   "cell_type": "code",
   "execution_count": null,
   "metadata": {},
   "outputs": [],
   "source": []
  },
  {
   "cell_type": "code",
   "execution_count": null,
   "metadata": {},
   "outputs": [],
   "source": []
  },
  {
   "cell_type": "code",
   "execution_count": null,
   "metadata": {},
   "outputs": [],
   "source": []
  }
 ],
 "metadata": {
  "kernelspec": {
   "display_name": "Python 3",
   "language": "python",
   "name": "python3"
  },
  "language_info": {
   "codemirror_mode": {
    "name": "ipython",
    "version": 3
   },
   "file_extension": ".py",
   "mimetype": "text/x-python",
   "name": "python",
   "nbconvert_exporter": "python",
   "pygments_lexer": "ipython3",
   "version": "3.7.8"
  },
  "toc": {
   "base_numbering": 1,
   "nav_menu": {},
   "number_sections": false,
   "sideBar": true,
   "skip_h1_title": false,
   "title_cell": "Table of Contents",
   "title_sidebar": "Contents",
   "toc_cell": false,
   "toc_position": {
    "height": "calc(100% - 180px)",
    "left": "10px",
    "top": "150px",
    "width": "191.594px"
   },
   "toc_section_display": true,
   "toc_window_display": true
  }
 },
 "nbformat": 4,
 "nbformat_minor": 4
}
