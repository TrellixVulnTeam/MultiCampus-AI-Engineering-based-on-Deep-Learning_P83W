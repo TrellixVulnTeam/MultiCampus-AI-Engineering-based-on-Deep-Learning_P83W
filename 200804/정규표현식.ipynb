{
 "cells": [
  {
   "cell_type": "code",
   "execution_count": 2,
   "metadata": {},
   "outputs": [],
   "source": [
    "\"\"\"\n",
    "정규표현식 : 규칙(패턴)을 가진 문자열을 표현하는 방법\n",
    "ex)영화 댓글, 커뮤니티 질/답, 지식인 etc.\n",
    "\"\"\"\n",
    "\n",
    "import re #정규 표현식을 위한 모듈\n",
    "# 모듈 : 확장자가 .py가 붙은 파이썬 파일(함수, 클래스 등 포함)\n",
    "# 패키지 : 모듈, 패키지들의 집합"
   ]
  },
  {
   "cell_type": "code",
   "execution_count": 4,
   "metadata": {},
   "outputs": [],
   "source": [
    "# re.match(\"패턴\", \"문자열\")\n",
    "# \"문자열\"속에 \"패턴\"이 있습니까?\n",
    "re.match(\"hello\", \"hello, world\") #match되면 메세지 출력\n",
    "re.match(\"python\", \"hello, world\") #match안되면 아무것도 리턴하지 않음."
   ]
  },
  {
   "cell_type": "code",
   "execution_count": 7,
   "metadata": {},
   "outputs": [
    {
     "data": {
      "text/plain": [
       "<re.Match object; span=(7, 12), match='world'>"
      ]
     },
     "execution_count": 7,
     "metadata": {},
     "output_type": "execute_result"
    }
   ],
   "source": [
    "# ^문자열 : 문자열이 맨 앞에 오는지 확인\n",
    "# 문자열$ : 문자열이 맨 마지막에 오는지 확인\n",
    "re.search(\"^hello\", \"hello, world\")\n",
    "re.search(\"world$\", \"hello, world\")"
   ]
  },
  {
   "cell_type": "code",
   "execution_count": 8,
   "metadata": {},
   "outputs": [
    {
     "data": {
      "text/plain": [
       "<re.Match object; span=(0, 5), match='hello'>"
      ]
     },
     "execution_count": 8,
     "metadata": {},
     "output_type": "execute_result"
    }
   ],
   "source": [
    "re.match(\"hello|world\", \"hello\") # |는 or을 의미 : hello나 world가 문자열에 있는지 확인"
   ]
  },
  {
   "cell_type": "code",
   "execution_count": 13,
   "metadata": {},
   "outputs": [],
   "source": [
    "jumin = \"\"\"\n",
    "kim 850101-1234567\n",
    "lee 950202-2345678\n",
    "\"\"\""
   ]
  },
  {
   "cell_type": "code",
   "execution_count": 19,
   "metadata": {},
   "outputs": [
    {
     "name": "stdout",
     "output_type": "stream",
     "text": [
      "850101-*******\n",
      "950202-*******\n"
     ]
    }
   ],
   "source": [
    "# 일반 코딩을 이용할 때\n",
    "res = []\n",
    "for l in jumin.split(\"\\n\"):\n",
    "    for w in l.split(\" \"):\n",
    "        if len(w)==14 and w[7:].isdigit():\n",
    "            print(w[:6]+\"-\"+\"*\"*7)"
   ]
  },
  {
   "cell_type": "code",
   "execution_count": 20,
   "metadata": {},
   "outputs": [
    {
     "name": "stdout",
     "output_type": "stream",
     "text": [
      "\n",
      "kim 850101-*******\n",
      "lee 950202-*******\n",
      "\n"
     ]
    }
   ],
   "source": [
    "# 정규표현식 이용할 때\n",
    "mypat = re.compile(\"(\\d{6})[-]\\d{7}\") #compile : 패턴을 저장하여 매치가 되는지 확인하기 위한 함수\n",
    "print(mypat.sub(\"\\g<1>-*******\", jumin)) #sub : 패턴과 일치하는 문자열을 ()에 해당하는 방식으로 치환해라\n",
    "# 정규표현식 표현\n",
    "# () : 그룹으로 묶는 괄호\n",
    "# [] : 대괄호 안의 문자열을 가지고 있어야 함\n",
    "# \\g<n> : n번 째 그룹\n",
    "# \\d : 숫자 digit을 의미"
   ]
  },
  {
   "cell_type": "code",
   "execution_count": null,
   "metadata": {},
   "outputs": [],
   "source": [
    "# 정규표현식의 예 : 챗봇(채팅 data)\n",
    "# 메타문자 :  *(문자 0개 이상), +(문자 1개 이상) and .&^{}[]()"
   ]
  },
  {
   "cell_type": "code",
   "execution_count": null,
   "metadata": {},
   "outputs": [],
   "source": [
    "# [] : 대괄호 내부에 있는 문자들과 매치\n",
    "# [abc]의 의미 : 'a' or 'b' or 'c'중 어느 한개의 문자와 매치되는지 확인\n",
    "# 패턴식 : [abc], 문자열 : 'a' => 매치 o\n",
    "# 패턴식 : [abc], 문자열 : 'bye' => 매치o (왼쪽부터 차례대로 매치를 비교하므로)\n",
    "# [a-zA-Z0-9] : 알파벳, 숫자 모두 확인\n",
    "# [가-힣] : 한글 모두 확인 (단, 모음이 없는 'ㅋㅋㅋㅋ'같은 문자열은 추출못함)\n",
    "# [ㄱ-ㅎ] : 모음 없는 문자열 확인\n",
    "# [^A-Z] : (대괄호 안의 ^는 not의 의미) 알파벳 대문자를 제외한 모두 추출\n",
    "# [^0-9] : 숫자를 제외한 나머지 모두 추출\n",
    "\n",
    "# \\d : 숫자와 매치 == [0-9]\n",
    "# \\D : 숫자를 제외하고 매치 == [^0-9]\n",
    "# \\w : 문자와 숫자 모두를 매치 == [a-zA-Z0-9_]\n",
    "# \\W : 문자와 숫자를 제외하고 매치 = [^a-zA-A0-9_]"
   ]
  },
  {
   "cell_type": "code",
   "execution_count": null,
   "metadata": {},
   "outputs": [],
   "source": [
    "# 메타문자가 적용되는 문자는 메타문자 기준 왼쪽의 문자\n",
    "\n",
    "# .(dot) : 모든 문자와 매치 (\\n은 제외)\n",
    "# (정규표현식)a.b :a와 b사이에 모든 문자가 올 수 있음. => akb(o), a2b(o)\n",
    "# if .을 문자열이 아닌 '.'의 의미로 쓰고 싶다면 대괄호로 묶기: a[.]b\n",
    "\n",
    "# + : 1번 이상 문자 반복\n",
    "# (정규표현식)do+g : dog, doog, doooooog(매치됌), dg(매치 안됌)\n",
    "\n",
    "# * : 0개 이상 문자 반복\n",
    "# (정규표현식)do*g : dog, doog, doooooooog, dg (모두 매치됌)\n",
    "\n",
    "# {} : 반복 횟수 범위 지정\n",
    "# (정규표현식) do{2}g == doog\n",
    "# (정규표현식) do{2, 5}g: doog, dooog, doooog, dooooog(매치), dog(매치 안됌) \n",
    "# (정규표현식) do{1, }g : d[o]+g => o를 한 번 이상 반복\n",
    "\n",
    "# ? : {0, 1}과 같음\n",
    "# ab?c : ac, abc (매치)"
   ]
  },
  {
   "cell_type": "code",
   "execution_count": 21,
   "metadata": {},
   "outputs": [],
   "source": [
    "pat = re.compile(\"[a-z]+\")"
   ]
  },
  {
   "cell_type": "code",
   "execution_count": 31,
   "metadata": {},
   "outputs": [
    {
     "name": "stdout",
     "output_type": "stream",
     "text": [
      "<re.Match object; span=(0, 4), match='test'>\n",
      "None\n",
      "<re.Match object; span=(0, 1), match='t'>\n",
      "<re.Match object; span=(0, 4), match='test'>\n",
      "<re.Match object; span=(1, 5), match='test'>\n",
      "<re.Match object; span=(0, 1), match='t'>\n",
      "<re.Match object; span=(1, 5), match='test'>\n",
      "['test', 'test', 'test']\n",
      "<re.Match object; span=(1, 5), match='test'>\n",
      "<re.Match object; span=(7, 11), match='test'>\n",
      "<re.Match object; span=(13, 17), match='test'>\n"
     ]
    }
   ],
   "source": [
    "# compile함수를 이용하여 정의한 패턴이 주어진 문자열에 대해 매치가 되는지 확인하는데 사용되는 함수가 4가지 있음.\n",
    "# !!!!!!!!!!  match, search, findall, finditer  !!!!!!!!!!!!!!!!!\n",
    "\n",
    "#match는 조건에 맞지 않는 문자가 나오면 매칭을 멈춤\n",
    "print(pat.match(\"test\"))\n",
    "print(pat.match(\"1test\")) #첫번째 문자가 match가 안되면 더이상 비교하지 않음\n",
    "print(pat.match(\"t1est\"))\n",
    "\n",
    "#search는 문자열 전체를 끝까지 매칭시도(but 조건에 맞는 문자를 하나라도 찾으면 멈춤)\n",
    "print(pat.search(\"test\"))\n",
    "print(pat.search(\"1test\")) #search는 앞쪽에서 match가 되지 않더라도 뒤까지 비교하여 추출\n",
    "print(pat.search(\"t1est\"))\n",
    "print(pat.search(\"1test 2test 3test\"))\n",
    "\n",
    "#findall은 매치되는 문자열을 모두 추출\n",
    "print(pat.findall(\"1test 2test 3test\"))\n",
    "\n",
    "#findall한 결과를 iterator형식으로 저장\n",
    "res = pat.finditer(\"1test 2test 3test\")\n",
    "for r in res:print(r)"
   ]
  },
  {
   "cell_type": "code",
   "execution_count": 27,
   "metadata": {},
   "outputs": [
    {
     "name": "stdout",
     "output_type": "stream",
     "text": [
      "매치안됌\n"
     ]
    }
   ],
   "source": [
    "if pat.match(\"1test\"):\n",
    "    print(\"매치됌\")\n",
    "else:\n",
    "    print(\"매치안됌\")"
   ]
  },
  {
   "cell_type": "code",
   "execution_count": 39,
   "metadata": {},
   "outputs": [
    {
     "name": "stdout",
     "output_type": "stream",
     "text": [
      "mypython\n",
      "0\n",
      "8\n",
      "(0, 8)\n"
     ]
    }
   ],
   "source": [
    "#pat = re.compile(\"[a-z]+\")\n",
    "res = pat.match(\"mypython\")\n",
    "\n",
    "print(res.group()) #매치 된 문자열 리턴\n",
    "print(res.start()) #매치 된 문자열의 시작 위치\n",
    "print(res.end()) #매치 된 문자열의 끝 위치\n",
    "print(res.span()) #매치 된 문자열의 (시작, 끝)"
   ]
  },
  {
   "cell_type": "code",
   "execution_count": 37,
   "metadata": {},
   "outputs": [
    {
     "name": "stdout",
     "output_type": "stream",
     "text": [
      "None\n"
     ]
    }
   ],
   "source": [
    "res2 = pat.match(\"7 mypython\")\n",
    "print(res2) #match에서는 숫자 이후로 매칭하지 않으므로 아무것도 출력되지 않음"
   ]
  },
  {
   "cell_type": "code",
   "execution_count": 38,
   "metadata": {},
   "outputs": [
    {
     "name": "stdout",
     "output_type": "stream",
     "text": [
      "mypython\n",
      "2\n",
      "10\n",
      "(2, 10)\n"
     ]
    }
   ],
   "source": [
    "res2 = pat.search(\"7 mypython\")\n",
    "print(res2.group()) #매치 된 문자열 리턴\n",
    "print(res2.start()) #매치 된 문자열의 시작 위치\n",
    "print(res2.end()) #매치 된 문자열의 끝 위치\n",
    "print(res2.span()) #매치 된 문자열의 (시작, 끝)"
   ]
  },
  {
   "cell_type": "code",
   "execution_count": null,
   "metadata": {},
   "outputs": [],
   "source": [
    "# pat = re.compile(\"패턴식\")\n",
    "# res = pat.match(\"문자열\")\n",
    "\n",
    "# res = re.match(\"패턴식\", \"문자열\") => 위의 두 줄 식과 같은 식"
   ]
  },
  {
   "cell_type": "code",
   "execution_count": 45,
   "metadata": {},
   "outputs": [
    {
     "name": "stdout",
     "output_type": "stream",
     "text": [
      "<re.Match object; span=(0, 1), match='1'>\n",
      "<re.Match object; span=(0, 4), match='1234'>\n",
      "<re.Match object; span=(0, 4), match='1234'>\n",
      "None\n"
     ]
    }
   ],
   "source": [
    "print(re.match(\"[0-9]\", \"1234\"))\n",
    "print(re.match(\"[0-9]*\", \"1234\"))\n",
    "print(re.match(\"[0-9]+\", \"1234\"))\n",
    "print(re.match(\"[0-9]\", \"abc\"))"
   ]
  },
  {
   "cell_type": "code",
   "execution_count": 50,
   "metadata": {},
   "outputs": [
    {
     "name": "stdout",
     "output_type": "stream",
     "text": [
      "None\n",
      "<re.Match object; span=(0, 1), match='b'>\n",
      "<re.Match object; span=(0, 2), match='ab'>\n",
      "<re.Match object; span=(0, 3), match='aab'>\n",
      "<re.Match object; span=(0, 2), match='ab'>\n",
      "\n",
      "None\n",
      "None\n",
      "<re.Match object; span=(0, 2), match='ab'>\n",
      "<re.Match object; span=(0, 3), match='aab'>\n",
      "<re.Match object; span=(0, 2), match='ab'>\n"
     ]
    }
   ],
   "source": [
    "# * : 0번 이상 반복\n",
    "print(re.match(\"a*b\", \"a\"))\n",
    "print(re.match(\"a*b\", \"b\"))\n",
    "print(re.match(\"a*b\", \"ab\"))\n",
    "print(re.match(\"a*b\", \"aab\"))\n",
    "print(re.match(\"a*b\", \"abb\"))\n",
    "print(\"\")\n",
    "# + : 1번 이상 반복\n",
    "print(re.match(\"a+b\", \"a\"))\n",
    "print(re.match(\"a+b\", \"b\"))\n",
    "print(re.match(\"a+b\", \"ab\"))\n",
    "print(re.match(\"a+b\", \"aab\"))\n",
    "print(re.match(\"a+b\", \"abb\"))"
   ]
  },
  {
   "cell_type": "code",
   "execution_count": 57,
   "metadata": {},
   "outputs": [
    {
     "name": "stdout",
     "output_type": "stream",
     "text": [
      "<re.Match object; span=(0, 3), match='abd'>\n",
      "<re.Match object; span=(0, 4), match='ab2d'>\n",
      "<re.Match object; span=(0, 4), match='ab2d'>\n",
      "<re.Match object; span=(0, 3), match='abd'>\n"
     ]
    }
   ],
   "source": [
    "# ? : {0, 1}과 같음, 즉 ?앞의 문자가 있어도 그만 없어도 그만\n",
    "print(re.match(\"abc?d\", \"abd\"))\n",
    "print(re.match(\"ab[0-9]d\", \"ab2d\"))\n",
    "print(re.match(\"ab[0-9]?d\", \"ab2d\"))\n",
    "print(re.match(\"ab[0-9]?d\", \"abd\"))"
   ]
  },
  {
   "cell_type": "code",
   "execution_count": 61,
   "metadata": {},
   "outputs": [
    {
     "name": "stdout",
     "output_type": "stream",
     "text": [
      "<re.Match object; span=(0, 4), match='abkc'>\n",
      "None\n"
     ]
    }
   ],
   "source": [
    "print(re.match(\"ab.c\", \"abkc\"))\n",
    "print(re.match(\"ab.c\", \"abkkc\"))"
   ]
  },
  {
   "cell_type": "code",
   "execution_count": 64,
   "metadata": {},
   "outputs": [
    {
     "name": "stdout",
     "output_type": "stream",
     "text": [
      "<re.Match object; span=(0, 3), match='hhh'>\n",
      "None\n",
      "<re.Match object; span=(0, 3), match='hhh'>\n"
     ]
    }
   ],
   "source": [
    "print(re.match(\"h{3}\", \"hhhkkk\"))\n",
    "print(re.match(\"h{3}\", \"hhkkk\"))\n",
    "print(re.match(\"h{3}\", \"hhhhkkk\"))"
   ]
  },
  {
   "cell_type": "code",
   "execution_count": 68,
   "metadata": {},
   "outputs": [
    {
     "name": "stdout",
     "output_type": "stream",
     "text": [
      "<re.Match object; span=(0, 6), match='hihihi'>\n",
      "None\n",
      "None\n"
     ]
    }
   ],
   "source": [
    "print(re.match(\"(hi){3}\", \"hihihi\"))\n",
    "print(re.match(\"(hi){3}\", \"hhihi\"))\n",
    "print(re.match(\"(hi){3}\", \"hihhi\"))"
   ]
  },
  {
   "cell_type": "code",
   "execution_count": 86,
   "metadata": {},
   "outputs": [
    {
     "name": "stdout",
     "output_type": "stream",
     "text": [
      "<re.Match object; span=(0, 13), match='010-1234-5678'>\n",
      "None\n",
      "None\n"
     ]
    }
   ],
   "source": [
    "print(re.match(\"[0-9]{3}[-][0-9]{4}[-][0-9]{4}\", '010-1234-5678'))\n",
    "print(re.match(\"[0-9]{3}[-][0-9]{4}[-][0-9]{4}\", '02-1234-5678'))\n",
    "print(re.match(\"[0-9]{3}[-][0-9]{4}[-][0-9]{4} \", '010-12345-5678'))"
   ]
  },
  {
   "cell_type": "code",
   "execution_count": 92,
   "metadata": {},
   "outputs": [
    {
     "name": "stdout",
     "output_type": "stream",
     "text": [
      "비정상\n"
     ]
    }
   ],
   "source": [
    "if re.match(\"[0-9]{3}[-][0-9]{4}[-][0-9]{4, 4} \", '010-1234-56789'): #??\n",
    "    print(\"정상\")\n",
    "else:\n",
    "    print(\"비정상\")"
   ]
  },
  {
   "cell_type": "code",
   "execution_count": 84,
   "metadata": {},
   "outputs": [
    {
     "name": "stdout",
     "output_type": "stream",
     "text": [
      "<re.Match object; span=(0, 13), match='010-2458-5984'>\n",
      "None\n",
      "None\n"
     ]
    }
   ],
   "source": [
    "print(re.match(\"[0-9]{2,3}-[0-9]{3,4}-[0-9]{4, 4}\",\"010-2458-5984\")) #2or3자리 - 3or4자리 - 4자리\n",
    "print(re.match(\"[0-9]{2,3}-[0-9]{3,4}-[0-9]{4, 4}\",\"010-2458-59845\"))\n",
    "print(re.match(\"[0-9]{2,3}-[0-9]{3,4}-[0-9]{4, 4}\",\"010-24-5984\"))"
   ]
  },
  {
   "cell_type": "code",
   "execution_count": 89,
   "metadata": {},
   "outputs": [
    {
     "name": "stdout",
     "output_type": "stream",
     "text": [
      "<re.Match object; span=(0, 9), match='Hello1234'>\n"
     ]
    }
   ],
   "source": [
    "print(re.match(\"[A-Za-z0-9]+\", \"Hello1234\"))"
   ]
  },
  {
   "cell_type": "code",
   "execution_count": 98,
   "metadata": {},
   "outputs": [
    {
     "name": "stdout",
     "output_type": "stream",
     "text": [
      "<re.Match object; span=(0, 1), match='H'>\n",
      "None\n",
      "None\n",
      "<re.Match object; span=(0, 1), match='H'>\n",
      "\n",
      "<re.Match object; span=(1, 5), match='ello'>\n"
     ]
    }
   ],
   "source": [
    "print(re.match(\"[A-Z]+\", \"Hello\"))\n",
    "print(re.match(\"[^A-Z]+\", \"Hello\")) #not의 의미로 사용할 때 : [^]\n",
    "print(re.match(\"[a-z]+\", \"Hello\"))\n",
    "print(re.match(\"[^a-z]+\", \"Hello\"))\n",
    "\n",
    "print(\"\")\n",
    "\n",
    "print(re.search(\"[^A-Z]+\", \"Hello\"))"
   ]
  },
  {
   "cell_type": "code",
   "execution_count": 100,
   "metadata": {},
   "outputs": [
    {
     "name": "stdout",
     "output_type": "stream",
     "text": [
      "<re.Match object; span=(0, 1), match='H'>\n",
      "<re.Match object; span=(0, 1), match='H'>\n"
     ]
    }
   ],
   "source": [
    "print(re.search(\"[A-Z]+\", \"Hello\"))\n",
    "print(re.search(\"^[A-Z]+\", \"Hello\")) #~으로 시작할때 ^[]"
   ]
  },
  {
   "cell_type": "code",
   "execution_count": 103,
   "metadata": {},
   "outputs": [
    {
     "name": "stdout",
     "output_type": "stream",
     "text": [
      "None\n",
      "<re.Match object; span=(3, 6), match='123'>\n"
     ]
    }
   ],
   "source": [
    "print(re.search(\"[0-9]+$\", \"Hi 123\"))\n",
    "print(re.search(\"[0-9]+$\", \"Hi 123Hello\")) #$기호를 쓰면 왼쪽 문자열로 끝나야함\n",
    "print(re.search(\"[0-9]+\", \"Hi 123Hello\"))"
   ]
  },
  {
   "cell_type": "code",
   "execution_count": 111,
   "metadata": {},
   "outputs": [
    {
     "name": "stdout",
     "output_type": "stream",
     "text": [
      "<re.Match object; span=(2, 4), match='**'>\n",
      "<re.Match object; span=(2, 4), match='**'>\n",
      "<re.Match object; span=(0, 7), match='$(test)'>\n"
     ]
    }
   ],
   "source": [
    "#특수문자 매칭 : 역슬래쉬를 특수문자 앞에 사용하면 메타문자가 아닌 특수문자로 인식 or 대괄호 안에 특수문자를 기재\n",
    "print(re.search(\"\\*+\", \"1 ** 2\"))\n",
    "print(re.search(\"[*]+\", \"1 ** 2\"))\n",
    "print(re.search(\"[$()a-z]+\", \"$(test)\"))"
   ]
  },
  {
   "cell_type": "code",
   "execution_count": 114,
   "metadata": {},
   "outputs": [
    {
     "name": "stdout",
     "output_type": "stream",
     "text": [
      "<re.Match object; span=(0, 4), match='1234'>\n",
      "None\n",
      "<re.Match object; span=(0, 7), match='hiHello'>\n"
     ]
    }
   ],
   "source": [
    "#숫자 [0-9] 대신에 \\d를 사용해도 무관\n",
    "print(re.match(\"\\d+\", \"1234\"))\n",
    "print(re.match(\"\\D+\", \"1234\")) #not digit\n",
    "print(re.match(\"\\D+\", \"hiHello\"))"
   ]
  },
  {
   "cell_type": "code",
   "execution_count": 119,
   "metadata": {},
   "outputs": [
    {
     "name": "stdout",
     "output_type": "stream",
     "text": [
      "<re.Match object; span=(0, 9), match='Hello_123'>\n",
      "None\n",
      "<re.Match object; span=(0, 5), match='(?!@)'>\n"
     ]
    }
   ],
   "source": [
    "#\\w 는 [A-Za-z0-9_]와 같음(문자, 숫자, _)\n",
    "print(re.match(\"\\w+\", \"Hello_123\"))\n",
    "print(re.match(\"\\W+\", \"Hello_123\"))\n",
    "print(re.match(\"\\W+\", \"(?!@)\"))"
   ]
  },
  {
   "cell_type": "code",
   "execution_count": 121,
   "metadata": {},
   "outputs": [
    {
     "name": "stdout",
     "output_type": "stream",
     "text": [
      "<re.Match object; span=(0, 5), match='Hello'>\n",
      "<re.Match object; span=(0, 9), match='Hello 123'>\n",
      "<re.Match object; span=(0, 9), match='Hello 123'>\n"
     ]
    }
   ],
   "source": [
    "#공백문자\n",
    "print(re.match(\"[a-zA-Z0-9]+\", \"Hello 123\")) #공백문자는 포함이 안되기 때문에 'Hello까지만 추출가능'\n",
    "print(re.match(\"[a-zA-Z0-9 ]+\", \"Hello 123\")) #그냥 띄어쓰기를 추가하거나\n",
    "print(re.match(\"[a-zA-Z0-9\\s]+\", \"Hello 123\")) #\\s를 추가"
   ]
  },
  {
   "cell_type": "code",
   "execution_count": 134,
   "metadata": {},
   "outputs": [
    {
     "name": "stdout",
     "output_type": "stream",
     "text": [
      "123\n",
      "456\n",
      "123 456\n",
      "123 456\n",
      "('123', '456')\n",
      "123\n",
      "456\n"
     ]
    }
   ],
   "source": [
    "#패턴식 내에서 그룹짓기\n",
    "res = re.match(\"([0-9]+) ([0-9]+)\", \"123 456\")\n",
    "print(res.group(1))\n",
    "print(res.group(2))\n",
    "print(res.group())\n",
    "print(res.group(0))\n",
    "\n",
    "print(res.groups()) #그룹들을 튜플형태로 리턴\n",
    "print(res.groups()[0])\n",
    "print(res.groups()[1])"
   ]
  },
  {
   "cell_type": "code",
   "execution_count": 153,
   "metadata": {},
   "outputs": [
    {
     "name": "stdout",
     "output_type": "stream",
     "text": [
      "<re.Match object; span=(0, 10), match='print(123)'>\n",
      "None\n",
      "<re.Match object; span=(0, 13), match='print777(abc)'>\n",
      "<re.Match object; span=(0, 13), match='print888(100)'>\n",
      "<re.Match object; span=(0, 12), match='print333(10)'>\n",
      "<re.Match object; span=(0, 13), match='print333(10_)'>\n",
      "<re.Match object; span=(0, 9), match='_print(7)'>\n"
     ]
    }
   ],
   "source": [
    "#주어진 문자열이 함수 호출 구문 형식에 맞는지 확인\n",
    "#모든 함수명 영문자 또는 _(언더바)로 시작해야하고 반드시 소괄호의 쌍이 등장 \n",
    "#소괄호 안에는 문자나 숫자가 올 수 있음\n",
    "#함수이름과 소괄호 안의 변수를 그룹화\n",
    "\n",
    "print(re.match(\"(^\\w+)\\((\\w+)\\)$\", \"print(123)\"))\n",
    "print(re.match(\"(^\\w+)\\((\\w+)\\)$\", \"print777(abc)\"))\n",
    "print(re.match(\"(^\\w+)\\((\\w+)\\)$\", \"print888(100)\"))\n",
    "print(re.match(\"(^\\w+)\\((\\w+)\\)$\", \"print333(10)\"))\n",
    "print(re.match(\"(^\\w+)\\((\\w+)\\)$\", \"print333(10_)\"))\n",
    "print(re.match(\"(^\\w+)\\((\\w+)\\)$\", \"_print(7)\"))"
   ]
  },
  {
   "cell_type": "code",
   "execution_count": 156,
   "metadata": {},
   "outputs": [
    {
     "name": "stdout",
     "output_type": "stream",
     "text": [
      "print3\n",
      "123\n"
     ]
    }
   ],
   "source": [
    "#그룹으로 출력\n",
    "res = re.match(\"(^\\w+)\\((\\w+)\\)$\", \"print3(123)\")\n",
    "print(res.group(1))\n",
    "print(res.group(2))"
   ]
  },
  {
   "cell_type": "code",
   "execution_count": 161,
   "metadata": {},
   "outputs": [
    {
     "name": "stdout",
     "output_type": "stream",
     "text": [
      "print3\n",
      "123\n"
     ]
    }
   ],
   "source": [
    "#그룹 이름 정의하기\n",
    "#그룹 이름을 정의하는 형식 => (?P<그룹명>)\n",
    "#그룹명으로 출력가능\n",
    "\n",
    "res = re.match(\"(?P<fn>^\\w+)\\((?P<arg>\\w+)\\)$\", \"print3(123)\")\n",
    "print(res.group('fn'))\n",
    "print(res.group('arg'))"
   ]
  },
  {
   "cell_type": "code",
   "execution_count": 162,
   "metadata": {},
   "outputs": [
    {
     "data": {
      "text/plain": [
       "['1', '2', '4', '5']"
      ]
     },
     "execution_count": 162,
     "metadata": {},
     "output_type": "execute_result"
    }
   ],
   "source": [
    "re.findall(\"[0-9]+\", '1 2 three 4 5 six')"
   ]
  },
  {
   "cell_type": "markdown",
   "metadata": {},
   "source": [
    "### 같은 의미를 가진 여러가지 단어를 하나의 단어로 통일해야함(반드시)\n",
    "ex) 우리나라, 한국, 대한민국, 남한, 코리아\n",
    "\n",
    "형식 : re.sub(\"패턴\", \"바꿀문자열\", \"문자열\")"
   ]
  },
  {
   "cell_type": "code",
   "execution_count": 164,
   "metadata": {},
   "outputs": [
    {
     "data": {
      "text/plain": [
       "'대한민국, 대한민국, 대한민국'"
      ]
     },
     "execution_count": 164,
     "metadata": {},
     "output_type": "execute_result"
    }
   ],
   "source": [
    "re.sub(\"대한민국|한국|남한|코리아\", \"대한민국\", \"대한민국, 한국, 코리아\")\n",
    "#re.sub(\"대한민국|한국|남한|코리아\", \"대한민국\", \"크롤링한 전체 원문\")\n",
    "#re.sub(\"is|am|were|was\", \"be\", \"크롤링한 전체 원문\")"
   ]
  },
  {
   "cell_type": "code",
   "execution_count": 170,
   "metadata": {},
   "outputs": [
    {
     "data": {
      "text/plain": [
       "'su su three su su su seven'"
      ]
     },
     "execution_count": 170,
     "metadata": {},
     "output_type": "execute_result"
    }
   ],
   "source": [
    "re.sub(\"\\d+\", \"su\", \"1 2 three 4 50 600 seven\") #숫자만 모두 찾아서 su로 변경"
   ]
  },
  {
   "cell_type": "code",
   "execution_count": 184,
   "metadata": {},
   "outputs": [
    {
     "data": {
      "text/plain": [
       "'10 20 three 40 500 6000 seven'"
      ]
     },
     "execution_count": 184,
     "metadata": {},
     "output_type": "execute_result"
    }
   ],
   "source": [
    "#변경할 문자 대신 함수로 대입할 수 있음\n",
    "\n",
    "def mul10(arg): #arg에는 매치된 객체가 전달\n",
    "    res = int(arg.group())*10\n",
    "    return str(res)\n",
    "    \n",
    "re.sub(\"\\d+\", mul10, \"1 2 three 4 50 600 seven\")"
   ]
  },
  {
   "cell_type": "code",
   "execution_count": null,
   "metadata": {},
   "outputs": [],
   "source": [
    "# 200804 연습문제\n",
    "\n",
    "\"\"\"\n",
    "1. s =[9, 5, 2, 7, 3, 20, 100, 95]\n",
    "s는 1차원 점들의 좌표\n",
    "가장 가까운 두 점을 출력\n",
    "결과 : 2, 3\n",
    "\"\"\"\n",
    "\n",
    "\"\"\"\n",
    "2. 이메일 주소 검사기\n",
    "아이디@도메인주소\n",
    "아이디 : 숫자로 시작x, [., _]은 포함 가능.\n",
    "\"\"\"\n",
    "\n",
    "\"\"\"\n",
    "3. 도메인주소(url) 검사기\n",
    "http:// or https://로 시작\n",
    "경로의 /다음에는 문자와 숫자가 옴\n",
    "파일명은 ?와 =이 올 수 있음\n",
    "\n",
    "ex) 가능한 주소\n",
    "http://www.abc.com/sub/sub2/index.do\n",
    "http://www.abc.com/sub/sub2/index.html\n",
    "http://www.abc.com/sub/sub2/index.do?id=test\n",
    "ex) 불가능 주소\n",
    "http://www.abc.com/sub/sub2/\n",
    "http://www.abc.com/sub/sub2\n",
    "\"\"\""
   ]
  },
  {
   "cell_type": "code",
   "execution_count": 188,
   "metadata": {},
   "outputs": [
    {
     "name": "stdout",
     "output_type": "stream",
     "text": [
      "<re.Match object; span=(0, 4), match='http'>\n"
     ]
    }
   ],
   "source": [
    "print(re.match(\"http|https\", \"http://www.abc.com/sub/sub2/index.do\"))"
   ]
  }
 ],
 "metadata": {
  "kernelspec": {
   "display_name": "Python 3",
   "language": "python",
   "name": "python3"
  },
  "language_info": {
   "codemirror_mode": {
    "name": "ipython",
    "version": 3
   },
   "file_extension": ".py",
   "mimetype": "text/x-python",
   "name": "python",
   "nbconvert_exporter": "python",
   "pygments_lexer": "ipython3",
   "version": "3.7.3"
  },
  "toc": {
   "base_numbering": 1,
   "nav_menu": {},
   "number_sections": true,
   "sideBar": true,
   "skip_h1_title": false,
   "title_cell": "Table of Contents",
   "title_sidebar": "Contents",
   "toc_cell": false,
   "toc_position": {},
   "toc_section_display": true,
   "toc_window_display": false
  }
 },
 "nbformat": 4,
 "nbformat_minor": 4
}
