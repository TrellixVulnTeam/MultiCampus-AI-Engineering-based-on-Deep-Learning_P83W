{
 "cells": [
  {
   "cell_type": "markdown",
   "metadata": {},
   "source": [
    "# 데이터베이스\n",
    "\n",
    "- 데이터집합체(중복->일관성 유지 어려움->데이터베이스 체계적으로 관리의 필요->DBMS)\n",
    "- DBMS(소프트웨어):오라클(미), MSSQL(러), MYSQL(한), SQLITE(일), MariaDB(중) => 공용어 : `SQL(Structured Query Language)` 문법\n",
    "\n",
    "- 파이썬에서 기본적으로 제공되는 DBMS: `SQLITE3`\n",
    "> `SQLITE3` : 안드로이드 운영체제에도 주로 사용됨\n",
    "- DB연결/해제, 커서, 데이터 삽입/로드/조회/수정/삭제  \n",
    "<br>   \n",
    "---\n",
    "- __ 자료형__  \n",
    "\n",
    "```\n",
    "파이썬   SQLite\n",
    "----------------\n",
    "int      Integer\n",
    "float     real\n",
    "str       text\n",
    "bytes     BLOB\n",
    "None      NULL\n",
    "```\n",
    "---\n",
    "- __데이터베이스 활용 단계__\n",
    "\n",
    "    1. 데이터베이스(파일) 생성(연결)\n",
    "    2. 테이블 구조 설계(각 컬럼에 대한 타입 정의, CREATE TABLE 명령)\n",
    "    3. 데이터 저장(insert into)\n",
    "    4. 조회/수정/삭제/추가..."
   ]
  },
  {
   "cell_type": "code",
   "execution_count": 1,
   "metadata": {},
   "outputs": [],
   "source": [
    "import sqlite3"
   ]
  },
  {
   "cell_type": "markdown",
   "metadata": {},
   "source": [
    "## 1. DDL (Data Define Language)\n",
    "스키마/도메인/테이블/뷰/인덱스를 정의/변경/제거할 때 사용하는 언어"
   ]
  },
  {
   "cell_type": "markdown",
   "metadata": {},
   "source": [
    "### 1-1. create (테이블 생성)"
   ]
  },
  {
   "cell_type": "code",
   "execution_count": 2,
   "metadata": {},
   "outputs": [],
   "source": [
    "conn=sqlite3.connect(\"DB/emp.db\")\n",
    "#기존에 emp.db파일(데이터베이스)이 없다면 -> 새롭게 생성하고 연결, 파일이 있다면 연결을 진행"
   ]
  },
  {
   "cell_type": "code",
   "execution_count": 3,
   "metadata": {
    "scrolled": true
   },
   "outputs": [
    {
     "data": {
      "text/plain": [
       "<sqlite3.Cursor at 0x23fefe0dc00>"
      ]
     },
     "execution_count": 3,
     "metadata": {},
     "output_type": "execute_result"
    }
   ],
   "source": [
    "conn.execute('create table emp_data(id integer, name text, nickname text, department text, employment_date text)') #데이터베이스 객체 변수를 이용하여 테이블 설계\n",
    "#create table 테이블명(컬럼1 타입, 컬럼2 타입, ..., 컬럼n  타입)"
   ]
  },
  {
   "cell_type": "markdown",
   "metadata": {},
   "source": [
    "### 1-2. drop (테이블 삭제)"
   ]
  },
  {
   "cell_type": "code",
   "execution_count": 4,
   "metadata": {},
   "outputs": [
    {
     "data": {
      "text/plain": [
       "<sqlite3.Cursor at 0x23fefe0dd50>"
      ]
     },
     "execution_count": 4,
     "metadata": {},
     "output_type": "execute_result"
    }
   ],
   "source": [
    "#테이블 제거\n",
    "#drop table 테이블명\n",
    "conn.execute('drop table emp_data')"
   ]
  },
  {
   "cell_type": "code",
   "execution_count": 5,
   "metadata": {},
   "outputs": [],
   "source": [
    "conn.close()"
   ]
  },
  {
   "cell_type": "code",
   "execution_count": 6,
   "metadata": {},
   "outputs": [],
   "source": [
    "conn=sqlite3.connect('DB/emp.db')"
   ]
  },
  {
   "cell_type": "code",
   "execution_count": 7,
   "metadata": {},
   "outputs": [],
   "source": [
    "cur=conn.cursor()"
   ]
  },
  {
   "cell_type": "code",
   "execution_count": 8,
   "metadata": {},
   "outputs": [
    {
     "ename": "OperationalError",
     "evalue": "no such table: emp_data",
     "output_type": "error",
     "traceback": [
      "\u001b[1;31m---------------------------------------------------------------------------\u001b[0m",
      "\u001b[1;31mOperationalError\u001b[0m                          Traceback (most recent call last)",
      "\u001b[1;32m<ipython-input-8-0523f330926f>\u001b[0m in \u001b[0;36m<module>\u001b[1;34m\u001b[0m\n\u001b[1;32m----> 1\u001b[1;33m \u001b[0mcur\u001b[0m\u001b[1;33m.\u001b[0m\u001b[0mexecute\u001b[0m\u001b[1;33m(\u001b[0m\u001b[1;34m\"select * from emp_data\"\u001b[0m\u001b[1;33m)\u001b[0m\u001b[1;33m\u001b[0m\u001b[1;33m\u001b[0m\u001b[0m\n\u001b[0m\u001b[0;32m      2\u001b[0m \u001b[1;33m\u001b[0m\u001b[0m\n\u001b[0;32m      3\u001b[0m \u001b[1;31m# 결과 : Error\u001b[0m\u001b[1;33m\u001b[0m\u001b[1;33m\u001b[0m\u001b[1;33m\u001b[0m\u001b[0m\n\u001b[0;32m      4\u001b[0m \u001b[1;31m# 테이블이 삭제되었기 때문에 select할 데이터가 없다.\u001b[0m\u001b[1;33m\u001b[0m\u001b[1;33m\u001b[0m\u001b[1;33m\u001b[0m\u001b[0m\n",
      "\u001b[1;31mOperationalError\u001b[0m: no such table: emp_data"
     ]
    }
   ],
   "source": [
    "cur.execute(\"select * from emp_data\")\n",
    "\n",
    "# 결과 : Error\n",
    "# 테이블이 삭제되었기 때문에 select할 데이터가 없다."
   ]
  },
  {
   "cell_type": "markdown",
   "metadata": {},
   "source": [
    "---"
   ]
  },
  {
   "cell_type": "markdown",
   "metadata": {},
   "source": [
    "## 2. DML(Data Manipulation Language)\n",
    "Query(질의)를 통해서 저장된 데이터를 실질적으로 관리하는 데 사용"
   ]
  },
  {
   "cell_type": "markdown",
   "metadata": {},
   "source": [
    "### 2-1. Insert(삽입)"
   ]
  },
  {
   "cell_type": "code",
   "execution_count": 9,
   "metadata": {},
   "outputs": [],
   "source": [
    "conn=sqlite3.connect(\"DB/emp.db\")\n",
    "#기존에 emp.db파일(데이터베이스)이 없다면 -> 새롭게 생성하고 연결, 파일이 있다면 연결을 진행"
   ]
  },
  {
   "cell_type": "code",
   "execution_count": 10,
   "metadata": {
    "scrolled": false
   },
   "outputs": [
    {
     "data": {
      "text/plain": [
       "<sqlite3.Cursor at 0x23fefe0dce0>"
      ]
     },
     "execution_count": 10,
     "metadata": {},
     "output_type": "execute_result"
    }
   ],
   "source": [
    "conn.execute('create table emp_data(id integer, name text, nickname text, department text, employment_date text)') #데이터베이스 객체 변수를 이용하여 테이블 설계\n",
    "#create table 테이블명(컬럼1 타입, 컬럼2 타입, ..., 컬럼n  타입)"
   ]
  },
  {
   "cell_type": "code",
   "execution_count": 11,
   "metadata": {},
   "outputs": [],
   "source": [
    "#커서를 이용한 데이터 추가\n",
    "cur=conn.cursor()"
   ]
  },
  {
   "cell_type": "code",
   "execution_count": 12,
   "metadata": {},
   "outputs": [
    {
     "data": {
      "text/plain": [
       "<sqlite3.Cursor at 0x23fefefcf10>"
      ]
     },
     "execution_count": 12,
     "metadata": {},
     "output_type": "execute_result"
    }
   ],
   "source": [
    "#insert into 테이블명 values (?, ?, ... , ?)\n",
    "\n",
    "#cur.execute('insert into 테이블명 values ('a',100)')  컬럼이 2개\n",
    "#cur.execute('insert into 테이블명 values (?,?)', ('a',100)) #포맷팅\n",
    "\n",
    "# data=[('a',100), ('b',200)]\n",
    "# cur.executemany('insert into 테이블명 values (?,?)', data)\n",
    "\n",
    "cur.executemany(\n",
    "'insert into emp_data values (?, ?, ?, ?, ?)',\n",
    "    [(1, 'gildong', 'gd', 'marketing', '2020-10-06 10:36:00.000'),\n",
    "     (2, 'sunshin', 'ss', 'marketing', '2019-10-06 10:36:00.000'),\n",
    "     (3, 'yusin', 'ys', 'development', '2020-01-06 10:36:00.000'),\n",
    "     (4, 'sejong', 'sj', 'marketing', '2020-05-06 10:36:00.000'),\n",
    "     (5, 'bogo', 'bg', 'development', '2020-07-06 10:36:00.000')        \n",
    "    ]\n",
    ")"
   ]
  },
  {
   "cell_type": "code",
   "execution_count": 13,
   "metadata": {},
   "outputs": [],
   "source": [
    "#데이터베이스 저장\n",
    "conn.commit()\n",
    "#데이터베이스 연결 종료\n",
    "conn.close()"
   ]
  },
  {
   "cell_type": "markdown",
   "metadata": {},
   "source": [
    "### 2-2. Select (조회)"
   ]
  },
  {
   "cell_type": "code",
   "execution_count": 14,
   "metadata": {},
   "outputs": [],
   "source": [
    "import pandas as pd\n",
    "import numpy as np"
   ]
  },
  {
   "cell_type": "code",
   "execution_count": 15,
   "metadata": {},
   "outputs": [],
   "source": [
    "conn=sqlite3.connect(\"DB/emp.db\") #이미 생성되어 있으므로, 데이터베이스 연결만 수행"
   ]
  },
  {
   "cell_type": "code",
   "execution_count": 16,
   "metadata": {},
   "outputs": [],
   "source": [
    "cur=conn.cursor()"
   ]
  },
  {
   "cell_type": "markdown",
   "metadata": {},
   "source": [
    "* 읽어온 데이터를 한 줄씩 출력하기"
   ]
  },
  {
   "cell_type": "code",
   "execution_count": 17,
   "metadata": {},
   "outputs": [
    {
     "name": "stdout",
     "output_type": "stream",
     "text": [
      "(1, 'gildong', 'gd', 'marketing', '2020-10-06 10:36:00.000')\n",
      "(2, 'sunshin', 'ss', 'marketing', '2019-10-06 10:36:00.000')\n",
      "(3, 'yusin', 'ys', 'development', '2020-01-06 10:36:00.000')\n",
      "(4, 'sejong', 'sj', 'marketing', '2020-05-06 10:36:00.000')\n",
      "(5, 'bogo', 'bg', 'development', '2020-07-06 10:36:00.000')\n"
     ]
    }
   ],
   "source": [
    "cur.execute('select * from emp_data') \n",
    "#emp_data테이블로부터 모든 데이터를 가져와라 -> 가져온 데이터 -> cur가 데이터를 가리키고 있음\n",
    "\n",
    "for row in cur: #cur가 가리키고 있는 위치부터 데이터를 하나씩 읽어 내려가면서 row에 저장\n",
    "    print(row)"
   ]
  },
  {
   "cell_type": "markdown",
   "metadata": {},
   "source": [
    "* 읽어온 데이터를 한번에 출력하기"
   ]
  },
  {
   "cell_type": "code",
   "execution_count": 18,
   "metadata": {},
   "outputs": [
    {
     "data": {
      "text/plain": [
       "[(1, 'gildong', 'gd', 'marketing', '2020-10-06 10:36:00.000'),\n",
       " (2, 'sunshin', 'ss', 'marketing', '2019-10-06 10:36:00.000'),\n",
       " (3, 'yusin', 'ys', 'development', '2020-01-06 10:36:00.000'),\n",
       " (4, 'sejong', 'sj', 'marketing', '2020-05-06 10:36:00.000'),\n",
       " (5, 'bogo', 'bg', 'development', '2020-07-06 10:36:00.000')]"
      ]
     },
     "execution_count": 18,
     "metadata": {},
     "output_type": "execute_result"
    }
   ],
   "source": [
    "cur.execute('select * from emp_data') \n",
    "rows=cur.fetchall()\n",
    "rows"
   ]
  },
  {
   "cell_type": "code",
   "execution_count": 19,
   "metadata": {},
   "outputs": [],
   "source": [
    "#컬럼명 추출\n",
    "cols=[column[0] for column in cur.description]"
   ]
  },
  {
   "cell_type": "code",
   "execution_count": 20,
   "metadata": {},
   "outputs": [],
   "source": [
    "df=pd.DataFrame.from_records(data=rows, columns=cols)"
   ]
  },
  {
   "cell_type": "code",
   "execution_count": 21,
   "metadata": {
    "scrolled": false
   },
   "outputs": [
    {
     "data": {
      "text/html": [
       "<div>\n",
       "<style scoped>\n",
       "    .dataframe tbody tr th:only-of-type {\n",
       "        vertical-align: middle;\n",
       "    }\n",
       "\n",
       "    .dataframe tbody tr th {\n",
       "        vertical-align: top;\n",
       "    }\n",
       "\n",
       "    .dataframe thead th {\n",
       "        text-align: right;\n",
       "    }\n",
       "</style>\n",
       "<table border=\"1\" class=\"dataframe\">\n",
       "  <thead>\n",
       "    <tr style=\"text-align: right;\">\n",
       "      <th></th>\n",
       "      <th>id</th>\n",
       "      <th>name</th>\n",
       "      <th>nickname</th>\n",
       "      <th>department</th>\n",
       "      <th>employment_date</th>\n",
       "    </tr>\n",
       "  </thead>\n",
       "  <tbody>\n",
       "    <tr>\n",
       "      <th>0</th>\n",
       "      <td>1</td>\n",
       "      <td>gildong</td>\n",
       "      <td>gd</td>\n",
       "      <td>marketing</td>\n",
       "      <td>2020-10-06 10:36:00.000</td>\n",
       "    </tr>\n",
       "    <tr>\n",
       "      <th>1</th>\n",
       "      <td>2</td>\n",
       "      <td>sunshin</td>\n",
       "      <td>ss</td>\n",
       "      <td>marketing</td>\n",
       "      <td>2019-10-06 10:36:00.000</td>\n",
       "    </tr>\n",
       "    <tr>\n",
       "      <th>2</th>\n",
       "      <td>3</td>\n",
       "      <td>yusin</td>\n",
       "      <td>ys</td>\n",
       "      <td>development</td>\n",
       "      <td>2020-01-06 10:36:00.000</td>\n",
       "    </tr>\n",
       "    <tr>\n",
       "      <th>3</th>\n",
       "      <td>4</td>\n",
       "      <td>sejong</td>\n",
       "      <td>sj</td>\n",
       "      <td>marketing</td>\n",
       "      <td>2020-05-06 10:36:00.000</td>\n",
       "    </tr>\n",
       "    <tr>\n",
       "      <th>4</th>\n",
       "      <td>5</td>\n",
       "      <td>bogo</td>\n",
       "      <td>bg</td>\n",
       "      <td>development</td>\n",
       "      <td>2020-07-06 10:36:00.000</td>\n",
       "    </tr>\n",
       "  </tbody>\n",
       "</table>\n",
       "</div>"
      ],
      "text/plain": [
       "   id     name nickname   department          employment_date\n",
       "0   1  gildong       gd    marketing  2020-10-06 10:36:00.000\n",
       "1   2  sunshin       ss    marketing  2019-10-06 10:36:00.000\n",
       "2   3    yusin       ys  development  2020-01-06 10:36:00.000\n",
       "3   4   sejong       sj    marketing  2020-05-06 10:36:00.000\n",
       "4   5     bogo       bg  development  2020-07-06 10:36:00.000"
      ]
     },
     "execution_count": 21,
     "metadata": {},
     "output_type": "execute_result"
    }
   ],
   "source": [
    "df"
   ]
  },
  {
   "cell_type": "code",
   "execution_count": 22,
   "metadata": {},
   "outputs": [],
   "source": [
    "conn.close()"
   ]
  },
  {
   "cell_type": "markdown",
   "metadata": {},
   "source": [
    "### 2-3. Update(갱신)"
   ]
  },
  {
   "cell_type": "code",
   "execution_count": 23,
   "metadata": {},
   "outputs": [],
   "source": [
    "conn=sqlite3.connect(\"DB/dbtest.db\")"
   ]
  },
  {
   "cell_type": "code",
   "execution_count": 24,
   "metadata": {},
   "outputs": [],
   "source": [
    "cur=conn.cursor()"
   ]
  },
  {
   "cell_type": "code",
   "execution_count": 25,
   "metadata": {},
   "outputs": [
    {
     "data": {
      "text/plain": [
       "<sqlite3.Cursor at 0x23ff1ef47a0>"
      ]
     },
     "execution_count": 25,
     "metadata": {},
     "output_type": "execute_result"
    }
   ],
   "source": [
    "#새로운 테이블 생성(create)\n",
    "cur.execute('create table test (name text, jumsu int)') "
   ]
  },
  {
   "cell_type": "code",
   "execution_count": 26,
   "metadata": {},
   "outputs": [
    {
     "data": {
      "text/plain": [
       "<sqlite3.Cursor at 0x23ff1ef47a0>"
      ]
     },
     "execution_count": 26,
     "metadata": {},
     "output_type": "execute_result"
    }
   ],
   "source": [
    "# 데이터 입력(insert)\n",
    "\n",
    "#방법1\n",
    "cur.execute(\"insert into test values ('sunshin', 100)\") \n",
    "\n",
    "#방법2\n",
    "cur.execute(\"insert into test values (?,?)\",('sunshin', 100)) #포맷팅형식"
   ]
  },
  {
   "cell_type": "code",
   "execution_count": 27,
   "metadata": {},
   "outputs": [
    {
     "name": "stdout",
     "output_type": "stream",
     "text": [
      "('sunshin', 100)\n",
      "('sunshin', 100)\n"
     ]
    }
   ],
   "source": [
    "#조회1\n",
    "cur.execute('select * from test')\n",
    "for row in cur:\n",
    "    print(row)"
   ]
  },
  {
   "cell_type": "code",
   "execution_count": 28,
   "metadata": {},
   "outputs": [
    {
     "data": {
      "text/plain": [
       "[('sunshin', 100), ('sunshin', 100)]"
      ]
     },
     "execution_count": 28,
     "metadata": {},
     "output_type": "execute_result"
    }
   ],
   "source": [
    "#조회2\n",
    "cur.execute('select * from test')\n",
    "rows=cur.fetchall()\n",
    "rows"
   ]
  },
  {
   "cell_type": "markdown",
   "metadata": {},
   "source": [
    "**테이블로부터 조건식에 해당되는 데이터의 컬럼 값을 변경값으로 바꾸어라**\n",
    "> update `테이블명` set `컬럼`=`변경값` where `조건식`"
   ]
  },
  {
   "cell_type": "code",
   "execution_count": 29,
   "metadata": {},
   "outputs": [
    {
     "data": {
      "text/plain": [
       "<sqlite3.Cursor at 0x23ff1ef47a0>"
      ]
     },
     "execution_count": 29,
     "metadata": {},
     "output_type": "execute_result"
    }
   ],
   "source": [
    "cur.execute(\"update test set jumsu=90 where name='sunshin'\")"
   ]
  },
  {
   "cell_type": "code",
   "execution_count": 30,
   "metadata": {},
   "outputs": [
    {
     "data": {
      "text/plain": [
       "[('sunshin', 90), ('sunshin', 90)]"
      ]
     },
     "execution_count": 30,
     "metadata": {},
     "output_type": "execute_result"
    }
   ],
   "source": [
    "cur.execute('select * from test')\n",
    "rows=cur.fetchall()\n",
    "rows"
   ]
  },
  {
   "cell_type": "code",
   "execution_count": 31,
   "metadata": {},
   "outputs": [],
   "source": [
    "conn.close()"
   ]
  },
  {
   "cell_type": "markdown",
   "metadata": {},
   "source": [
    "## 3. 데이터분석에서의 활용\n",
    "pandas 데이터프레임 -> sqlite 테이블로 저장"
   ]
  },
  {
   "cell_type": "code",
   "execution_count": 32,
   "metadata": {},
   "outputs": [],
   "source": [
    "data={'c1':[1,2,3],\n",
    "     'c2':[11,21,31],\n",
    "     'c3':[12,22,32]}"
   ]
  },
  {
   "cell_type": "code",
   "execution_count": 33,
   "metadata": {},
   "outputs": [
    {
     "data": {
      "text/html": [
       "<div>\n",
       "<style scoped>\n",
       "    .dataframe tbody tr th:only-of-type {\n",
       "        vertical-align: middle;\n",
       "    }\n",
       "\n",
       "    .dataframe tbody tr th {\n",
       "        vertical-align: top;\n",
       "    }\n",
       "\n",
       "    .dataframe thead th {\n",
       "        text-align: right;\n",
       "    }\n",
       "</style>\n",
       "<table border=\"1\" class=\"dataframe\">\n",
       "  <thead>\n",
       "    <tr style=\"text-align: right;\">\n",
       "      <th></th>\n",
       "      <th>c1</th>\n",
       "      <th>c2</th>\n",
       "      <th>c3</th>\n",
       "    </tr>\n",
       "  </thead>\n",
       "  <tbody>\n",
       "    <tr>\n",
       "      <th>0</th>\n",
       "      <td>1</td>\n",
       "      <td>11</td>\n",
       "      <td>12</td>\n",
       "    </tr>\n",
       "    <tr>\n",
       "      <th>1</th>\n",
       "      <td>2</td>\n",
       "      <td>21</td>\n",
       "      <td>22</td>\n",
       "    </tr>\n",
       "    <tr>\n",
       "      <th>2</th>\n",
       "      <td>3</td>\n",
       "      <td>31</td>\n",
       "      <td>32</td>\n",
       "    </tr>\n",
       "  </tbody>\n",
       "</table>\n",
       "</div>"
      ],
      "text/plain": [
       "   c1  c2  c3\n",
       "0   1  11  12\n",
       "1   2  21  22\n",
       "2   3  31  32"
      ]
     },
     "execution_count": 33,
     "metadata": {},
     "output_type": "execute_result"
    }
   ],
   "source": [
    "data\n",
    "df=pd.DataFrame(data)\n",
    "df"
   ]
  },
  {
   "cell_type": "code",
   "execution_count": 34,
   "metadata": {},
   "outputs": [],
   "source": [
    "conn=sqlite3.connect('DB/cvTable.db')"
   ]
  },
  {
   "cell_type": "markdown",
   "metadata": {},
   "source": [
    "__df를 cvTable데이터베이스에 mytable 테이블로 저장__"
   ]
  },
  {
   "cell_type": "code",
   "execution_count": 35,
   "metadata": {},
   "outputs": [],
   "source": [
    "df.to_sql('mytable', conn)"
   ]
  },
  {
   "cell_type": "code",
   "execution_count": 36,
   "metadata": {},
   "outputs": [],
   "source": [
    "cur=conn.cursor()"
   ]
  },
  {
   "cell_type": "code",
   "execution_count": 37,
   "metadata": {},
   "outputs": [
    {
     "data": {
      "text/plain": [
       "<sqlite3.Cursor at 0x23ff231d880>"
      ]
     },
     "execution_count": 37,
     "metadata": {},
     "output_type": "execute_result"
    }
   ],
   "source": [
    "cur.execute(\"select c1,c2 from mytable\") # *은 전체 컬럼"
   ]
  },
  {
   "cell_type": "code",
   "execution_count": 38,
   "metadata": {},
   "outputs": [
    {
     "data": {
      "text/plain": [
       "[(1, 11), (2, 21), (3, 31)]"
      ]
     },
     "execution_count": 38,
     "metadata": {},
     "output_type": "execute_result"
    }
   ],
   "source": [
    "rows=cur.fetchall()\n",
    "rows"
   ]
  },
  {
   "cell_type": "code",
   "execution_count": 39,
   "metadata": {},
   "outputs": [],
   "source": [
    "conn.close()"
   ]
  }
 ],
 "metadata": {
  "kernelspec": {
   "display_name": "Python 3",
   "language": "python",
   "name": "python3"
  },
  "language_info": {
   "codemirror_mode": {
    "name": "ipython",
    "version": 3
   },
   "file_extension": ".py",
   "mimetype": "text/x-python",
   "name": "python",
   "nbconvert_exporter": "python",
   "pygments_lexer": "ipython3",
   "version": "3.7.3"
  },
  "toc": {
   "base_numbering": 1,
   "nav_menu": {},
   "number_sections": false,
   "sideBar": true,
   "skip_h1_title": false,
   "title_cell": "Table of Contents",
   "title_sidebar": "Contents",
   "toc_cell": false,
   "toc_position": {},
   "toc_section_display": true,
   "toc_window_display": true
  }
 },
 "nbformat": 4,
 "nbformat_minor": 4
}
