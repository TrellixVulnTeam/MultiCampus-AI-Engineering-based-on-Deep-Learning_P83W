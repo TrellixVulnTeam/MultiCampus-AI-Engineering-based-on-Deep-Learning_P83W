{
 "cells": [
  {
   "cell_type": "markdown",
   "metadata": {},
   "source": [
    "# numpy"
   ]
  },
  {
   "cell_type": "code",
   "execution_count": 1,
   "metadata": {
    "ExecuteTime": {
     "end_time": "2020-08-14T00:36:59.437232Z",
     "start_time": "2020-08-14T00:36:59.290223Z"
    }
   },
   "outputs": [],
   "source": [
    "import numpy as np"
   ]
  },
  {
   "cell_type": "code",
   "execution_count": 2,
   "metadata": {
    "ExecuteTime": {
     "end_time": "2020-08-14T00:36:59.441235Z",
     "start_time": "2020-08-14T00:36:59.438232Z"
    }
   },
   "outputs": [],
   "source": [
    "# numpy행렬\n",
    "#  동일한 자료형, 원소의 개수를 변경할 수 없음\n",
    "#  벡터화 연산 지원\n",
    "#  벡터/행렬 - 선형대수연산\n",
    "#  파이썬 리스트"
   ]
  },
  {
   "cell_type": "code",
   "execution_count": 3,
   "metadata": {
    "ExecuteTime": {
     "end_time": "2020-08-14T00:36:59.450234Z",
     "start_time": "2020-08-14T00:36:59.443235Z"
    }
   },
   "outputs": [],
   "source": [
    "data = np.array([1,2,3])*2"
   ]
  },
  {
   "cell_type": "code",
   "execution_count": 4,
   "metadata": {
    "ExecuteTime": {
     "end_time": "2020-08-14T00:36:59.462236Z",
     "start_time": "2020-08-14T00:36:59.452236Z"
    }
   },
   "outputs": [
    {
     "data": {
      "text/plain": [
       "array([False,  True, False])"
      ]
     },
     "execution_count": 4,
     "metadata": {},
     "output_type": "execute_result"
    }
   ],
   "source": [
    "data == 4 #data가 4와 같은지 벡터화 연산"
   ]
  },
  {
   "cell_type": "code",
   "execution_count": 5,
   "metadata": {
    "ExecuteTime": {
     "end_time": "2020-08-14T00:36:59.470236Z",
     "start_time": "2020-08-14T00:36:59.463235Z"
    }
   },
   "outputs": [
    {
     "data": {
      "text/plain": [
       "array([False,  True,  True])"
      ]
     },
     "execution_count": 5,
     "metadata": {},
     "output_type": "execute_result"
    }
   ],
   "source": [
    "(data == 4) | (data > 2)"
   ]
  },
  {
   "cell_type": "code",
   "execution_count": 6,
   "metadata": {
    "ExecuteTime": {
     "end_time": "2020-08-14T00:36:59.479236Z",
     "start_time": "2020-08-14T00:36:59.471236Z"
    }
   },
   "outputs": [
    {
     "name": "stdout",
     "output_type": "stream",
     "text": [
      "[[1 2 3]\n",
      " [4 5 6]]\n",
      "2\n",
      "3\n"
     ]
    }
   ],
   "source": [
    "c = np.array([[1,2,3],[4,5,6]])\n",
    "print(c)\n",
    "print(len(c))\n",
    "print(len(c[0]))"
   ]
  },
  {
   "cell_type": "code",
   "execution_count": 7,
   "metadata": {
    "ExecuteTime": {
     "end_time": "2020-08-14T00:36:59.486238Z",
     "start_time": "2020-08-14T00:36:59.480236Z"
    }
   },
   "outputs": [
    {
     "name": "stdout",
     "output_type": "stream",
     "text": [
      "[[[ 0  1  2  3]\n",
      "  [ 4  5  6  7]\n",
      "  [ 8  9 10 11]]\n",
      "\n",
      " [[12 13 14 15]\n",
      "  [16 17 18 19]\n",
      "  [20 21 22 23]]]\n",
      "3\n",
      "(2, 3, 4)\n"
     ]
    }
   ],
   "source": [
    "d = np.array(list(range(24))).reshape(2,3,4)\n",
    "#3차원 행/열/깊이 -> 2*3*4 배열\n",
    "print(d)\n",
    "print(d.ndim) #배열의 차원의 정보를 확인\n",
    "print(d.shape) #배열의 크기(모양)을 확인"
   ]
  },
  {
   "cell_type": "code",
   "execution_count": 8,
   "metadata": {
    "ExecuteTime": {
     "end_time": "2020-08-14T00:36:59.495238Z",
     "start_time": "2020-08-14T00:36:59.488238Z"
    }
   },
   "outputs": [
    {
     "name": "stdout",
     "output_type": "stream",
     "text": [
      "4\n",
      "5\n"
     ]
    }
   ],
   "source": [
    "#배열 인덱싱, 슬라이싱\n",
    "a = np.array([2,3,4,5,6])\n",
    "print(a[2])\n",
    "print(a[-2])"
   ]
  },
  {
   "cell_type": "code",
   "execution_count": 9,
   "metadata": {
    "ExecuteTime": {
     "end_time": "2020-08-14T00:36:59.504239Z",
     "start_time": "2020-08-14T00:36:59.497240Z"
    }
   },
   "outputs": [
    {
     "name": "stdout",
     "output_type": "stream",
     "text": [
      "1\n",
      "6\n"
     ]
    }
   ],
   "source": [
    "#인덱싱\n",
    "#다차원배열의 경우에는 콤마(,)를 사용.\n",
    "#콤마(,)로 구분된 차원을 축(axis)\n",
    "a = np.array([[1,2,3],[4,5,6]])\n",
    "print(a[0, 0]) #a의 0번째 행과 0번째 열(요소)를 추출\n",
    "print(a[-1, -1])"
   ]
  },
  {
   "cell_type": "code",
   "execution_count": 10,
   "metadata": {
    "ExecuteTime": {
     "end_time": "2020-08-14T00:36:59.512239Z",
     "start_time": "2020-08-14T00:36:59.505239Z"
    }
   },
   "outputs": [
    {
     "name": "stdout",
     "output_type": "stream",
     "text": [
      "[1 2 3]\n",
      "[1 2 3]\n",
      "[[1]]\n"
     ]
    }
   ],
   "source": [
    "#슬라이싱\n",
    "print(a[0]) \n",
    "print(a[0,:])\n",
    "print(a[:1, :1])"
   ]
  },
  {
   "cell_type": "code",
   "execution_count": 11,
   "metadata": {
    "ExecuteTime": {
     "end_time": "2020-08-14T00:36:59.521239Z",
     "start_time": "2020-08-14T00:36:59.513239Z"
    }
   },
   "outputs": [
    {
     "name": "stdout",
     "output_type": "stream",
     "text": [
      "['Bob' 'Joe' 'Bob' 'Will']\n",
      "[[-0.24732606 -0.01074384 -1.60051223  1.35025265]\n",
      " [-0.04932894  0.74605653  0.71207375  1.97122062]\n",
      " [ 0.97600785  0.43216734  0.29294526 -1.72185135]\n",
      " [-0.58647173  1.2226754  -1.74809276  0.40506834]]\n",
      "[[-0.24732606 -0.01074384 -1.60051223  1.35025265]\n",
      " [ 0.97600785  0.43216734  0.29294526 -1.72185135]]\n",
      "[[-1.60051223  1.35025265]\n",
      " [ 0.29294526 -1.72185135]]\n"
     ]
    }
   ],
   "source": [
    "#팬시 인덱싱\n",
    "names = np.array(['Bob', 'Joe', 'Bob','Will'])\n",
    "data = np.random.randn(4,4) #난수 생성\n",
    "print(names)\n",
    "print(data)\n",
    "\n",
    "#names == \"Bob\" #불린참조 -> 불린배열이 출력(색인으로 사용가능)\n",
    "print(data[names == \"Bob\"]) #Bob에 해당하는 인덱스만 추출\n",
    "print(data[names == 'Bob', 2:]) #팬시인덱싱 슬라이싱\n",
    "#names != 'Bob' 과 ~(names=='Bob')은 같은표현"
   ]
  },
  {
   "cell_type": "code",
   "execution_count": 12,
   "metadata": {
    "ExecuteTime": {
     "end_time": "2020-08-14T00:36:59.527243Z",
     "start_time": "2020-08-14T00:36:59.522240Z"
    }
   },
   "outputs": [
    {
     "data": {
      "text/plain": [
       "array([[-0.04932894,  0.74605653,  0.71207375,  1.97122062],\n",
       "       [-0.58647173,  1.2226754 , -1.74809276,  0.40506834]])"
      ]
     },
     "execution_count": 12,
     "metadata": {},
     "output_type": "execute_result"
    }
   ],
   "source": [
    "cond = names==\"Bob\" #array([True, False, True, False])\n",
    "data[~cond] #array([False, True, False, True])"
   ]
  },
  {
   "cell_type": "code",
   "execution_count": 13,
   "metadata": {
    "ExecuteTime": {
     "end_time": "2020-08-14T00:36:59.536242Z",
     "start_time": "2020-08-14T00:36:59.529240Z"
    }
   },
   "outputs": [
    {
     "data": {
      "text/plain": [
       "array([[-0.24732606, -0.01074384, -1.60051223,  1.35025265],\n",
       "       [ 0.97600785,  0.43216734,  0.29294526, -1.72185135],\n",
       "       [-0.58647173,  1.2226754 , -1.74809276,  0.40506834]])"
      ]
     },
     "execution_count": 13,
     "metadata": {},
     "output_type": "execute_result"
    }
   ],
   "source": [
    "mask = (names == 'Bob') | (names==\"Will\")\n",
    "data[mask]"
   ]
  },
  {
   "cell_type": "code",
   "execution_count": 14,
   "metadata": {
    "ExecuteTime": {
     "end_time": "2020-08-14T00:36:59.545241Z",
     "start_time": "2020-08-14T00:36:59.538242Z"
    }
   },
   "outputs": [
    {
     "name": "stdout",
     "output_type": "stream",
     "text": [
      "[[ True  True  True False]\n",
      " [ True False False False]\n",
      " [False False False  True]\n",
      " [ True False  True False]]\n",
      "[-0.24732606 -0.01074384 -1.60051223 -0.04932894 -1.72185135 -0.58647173\n",
      " -1.74809276]\n",
      "[[0.         0.         0.         1.35025265]\n",
      " [0.         0.74605653 0.71207375 1.97122062]\n",
      " [0.97600785 0.43216734 0.29294526 0.        ]\n",
      " [0.         1.2226754  0.         0.40506834]]\n"
     ]
    }
   ],
   "source": [
    "print(data<0)\n",
    "print(data[data<0]) #요소값이 음수인것만 출력\n",
    "data[data<0] = 0 #요소값이 음수인 것을 0으로 치환\n",
    "print(data) "
   ]
  },
  {
   "cell_type": "code",
   "execution_count": 15,
   "metadata": {
    "ExecuteTime": {
     "end_time": "2020-08-14T00:36:59.552242Z",
     "start_time": "2020-08-14T00:36:59.547243Z"
    }
   },
   "outputs": [
    {
     "name": "stdout",
     "output_type": "stream",
     "text": [
      "['Bob' 'Joe' 'Bob' 'Will']\n",
      "[[0.         0.         0.         1.35025265]\n",
      " [0.         0.74605653 0.71207375 1.97122062]\n",
      " [0.97600785 0.43216734 0.29294526 0.        ]\n",
      " [0.         1.2226754  0.         0.40506834]]\n",
      "[[ 0.          0.          0.          1.35025265]\n",
      " [10.         10.         10.         10.        ]\n",
      " [ 0.97600785  0.43216734  0.29294526  0.        ]\n",
      " [10.         10.         10.         10.        ]]\n"
     ]
    }
   ],
   "source": [
    "print(names)\n",
    "print(data)\n",
    "#Bob을제외한 모든 사람의 데이터를 10으로 변경하시오.\n",
    "data[~(names == 'Bob')] = 10\n",
    "print(data)"
   ]
  },
  {
   "cell_type": "code",
   "execution_count": 20,
   "metadata": {
    "ExecuteTime": {
     "end_time": "2020-08-14T00:40:11.153148Z",
     "start_time": "2020-08-14T00:40:11.146148Z"
    }
   },
   "outputs": [
    {
     "data": {
      "text/plain": [
       "array([[0., 0., 0., 0.],\n",
       "       [1., 1., 1., 1.],\n",
       "       [2., 2., 2., 2.],\n",
       "       [3., 3., 3., 3.],\n",
       "       [4., 4., 4., 4.],\n",
       "       [5., 5., 5., 5.],\n",
       "       [6., 6., 6., 6.],\n",
       "       [7., 7., 7., 7.]])"
      ]
     },
     "execution_count": 20,
     "metadata": {},
     "output_type": "execute_result"
    }
   ],
   "source": [
    "arr = np.empty((8, 4)) #요소들이 비워진 상태로 array 생성\n",
    "arr\n",
    "\n",
    "for i in range(8):\n",
    "    arr[i] = i\n",
    "arr"
   ]
  },
  {
   "cell_type": "code",
   "execution_count": 23,
   "metadata": {
    "ExecuteTime": {
     "end_time": "2020-08-14T00:42:42.448129Z",
     "start_time": "2020-08-14T00:42:42.443127Z"
    }
   },
   "outputs": [
    {
     "name": "stdout",
     "output_type": "stream",
     "text": [
      "[[4. 4. 4. 4.]\n",
      " [3. 3. 3. 3.]\n",
      " [0. 0. 0. 0.]\n",
      " [6. 6. 6. 6.]]\n"
     ]
    }
   ],
   "source": [
    "#행 여러개를 참조하려고 할때는 list로 참조\n",
    "print(arr[[4, 3, 0, 6]])"
   ]
  },
  {
   "cell_type": "code",
   "execution_count": 26,
   "metadata": {
    "ExecuteTime": {
     "end_time": "2020-08-14T00:44:23.462459Z",
     "start_time": "2020-08-14T00:44:23.457459Z"
    }
   },
   "outputs": [
    {
     "data": {
      "text/plain": [
       "array([ 0,  1,  2,  3,  4,  5,  6,  7,  8,  9, 10, 11, 12, 13, 14, 15, 16,\n",
       "       17, 18, 19, 20, 21, 22, 23, 24, 25, 26, 27, 28, 29, 30, 31])"
      ]
     },
     "execution_count": 26,
     "metadata": {},
     "output_type": "execute_result"
    }
   ],
   "source": [
    "np.arange(32) #np.array(list(range(32)))"
   ]
  },
  {
   "cell_type": "code",
   "execution_count": 29,
   "metadata": {
    "ExecuteTime": {
     "end_time": "2020-08-14T00:45:18.650464Z",
     "start_time": "2020-08-14T00:45:18.644463Z"
    }
   },
   "outputs": [
    {
     "data": {
      "text/plain": [
       "array([[ 0,  1,  2,  3],\n",
       "       [ 4,  5,  6,  7],\n",
       "       [ 8,  9, 10, 11],\n",
       "       [12, 13, 14, 15],\n",
       "       [16, 17, 18, 19],\n",
       "       [20, 21, 22, 23],\n",
       "       [24, 25, 26, 27],\n",
       "       [28, 29, 30, 31]])"
      ]
     },
     "execution_count": 29,
     "metadata": {},
     "output_type": "execute_result"
    }
   ],
   "source": [
    "arr = np.arange(32).reshape(8, 4)\n",
    "arr"
   ]
  },
  {
   "cell_type": "code",
   "execution_count": 28,
   "metadata": {
    "ExecuteTime": {
     "end_time": "2020-08-14T00:45:12.104990Z",
     "start_time": "2020-08-14T00:45:12.099989Z"
    }
   },
   "outputs": [
    {
     "data": {
      "text/plain": [
       "array([[ 4,  5,  6,  7],\n",
       "       [20, 21, 22, 23],\n",
       "       [28, 29, 30, 31],\n",
       "       [ 8,  9, 10, 11]])"
      ]
     },
     "execution_count": 28,
     "metadata": {},
     "output_type": "execute_result"
    }
   ],
   "source": [
    "arr[[1,5,7,2]]"
   ]
  },
  {
   "cell_type": "code",
   "execution_count": 30,
   "metadata": {
    "ExecuteTime": {
     "end_time": "2020-08-14T00:46:35.711057Z",
     "start_time": "2020-08-14T00:46:35.705057Z"
    }
   },
   "outputs": [
    {
     "data": {
      "text/plain": [
       "array([[ 4,  7,  5,  6],\n",
       "       [20, 23, 21, 22],\n",
       "       [28, 31, 29, 30],\n",
       "       [ 8, 11,  9, 10]])"
      ]
     },
     "execution_count": 30,
     "metadata": {},
     "output_type": "execute_result"
    }
   ],
   "source": [
    "arr[[1,5,7,2]][:,[0,3,1,2]] \n",
    "#뒤에 리스트를 더 붙여서 요소들을 추출하는 순서(인덱싱)나 슬라이싱 가능"
   ]
  },
  {
   "cell_type": "code",
   "execution_count": 31,
   "metadata": {
    "ExecuteTime": {
     "end_time": "2020-08-14T00:47:46.315180Z",
     "start_time": "2020-08-14T00:47:46.309182Z"
    }
   },
   "outputs": [
    {
     "data": {
      "text/plain": [
       "array([[ 0,  1,  2,  3,  4],\n",
       "       [ 5,  6,  7,  8,  9],\n",
       "       [10, 11, 12, 13, 14]])"
      ]
     },
     "execution_count": 31,
     "metadata": {},
     "output_type": "execute_result"
    }
   ],
   "source": [
    "arr = np.arange(15).reshape(3, 5)\n",
    "arr"
   ]
  },
  {
   "cell_type": "code",
   "execution_count": 32,
   "metadata": {
    "ExecuteTime": {
     "end_time": "2020-08-14T00:48:43.613340Z",
     "start_time": "2020-08-14T00:48:43.608339Z"
    }
   },
   "outputs": [
    {
     "data": {
      "text/plain": [
       "array([[ 0,  5, 10],\n",
       "       [ 1,  6, 11],\n",
       "       [ 2,  7, 12],\n",
       "       [ 3,  8, 13],\n",
       "       [ 4,  9, 14]])"
      ]
     },
     "execution_count": 32,
     "metadata": {},
     "output_type": "execute_result"
    }
   ],
   "source": [
    "#전치연산(전치행렬) : 행과 열을 바꾸는 연산\n",
    "#벡터의 내적\n",
    "arr.T #T : 행,열을 바꾸는 함수"
   ]
  },
  {
   "cell_type": "code",
   "execution_count": 33,
   "metadata": {
    "ExecuteTime": {
     "end_time": "2020-08-14T00:49:50.017160Z",
     "start_time": "2020-08-14T00:49:50.012158Z"
    }
   },
   "outputs": [
    {
     "data": {
      "text/plain": [
       "array([[ 0,  5, 10],\n",
       "       [ 1,  6, 11],\n",
       "       [ 2,  7, 12],\n",
       "       [ 3,  8, 13],\n",
       "       [ 4,  9, 14]])"
      ]
     },
     "execution_count": 33,
     "metadata": {},
     "output_type": "execute_result"
    }
   ],
   "source": [
    "arr.transpose()"
   ]
  },
  {
   "cell_type": "markdown",
   "metadata": {},
   "source": [
    "* 선형대수?  \n",
    " - 데이터 분석을 위한 연산을 쉽게 해주는 역할  \n",
    " - 대량 data, 복잡한 계산 과정 => 간단한 수식  \n",
    "\n",
    "\n",
    "* 데이터?(선형대수에서 다루는..)  \n",
    " - 스칼라 : 숫자 하나로 이루어진 데이터(내적) -> 점    \n",
    " - 벡터 : 여러 숫자가 특정한 순서대로 이루어진 데이터(외적) -> 선\n",
    " - 행렬 : 벡터가 여러개 모여서 만들어진 데이터 -> 2차원 행렬\n",
    " - 텐서 : 같은 크기의 행렬이 여러 개 있는 것  -> 3차원 이상\n",
    " "
   ]
  },
  {
   "cell_type": "code",
   "execution_count": 36,
   "metadata": {
    "ExecuteTime": {
     "end_time": "2020-08-14T01:11:17.953631Z",
     "start_time": "2020-08-14T01:11:17.872626Z"
    }
   },
   "outputs": [],
   "source": [
    "#sklearn : 머신러닝 알고리즘들이 구현되어 있는 패키지\n",
    "from sklearn.datasets import load_iris"
   ]
  },
  {
   "cell_type": "code",
   "execution_count": 43,
   "metadata": {
    "ExecuteTime": {
     "end_time": "2020-08-14T01:17:24.745254Z",
     "start_time": "2020-08-14T01:17:24.727251Z"
    }
   },
   "outputs": [
    {
     "name": "stdout",
     "output_type": "stream",
     "text": [
      "[[5.1 3.5 1.4 0.2]\n",
      " [4.9 3.  1.4 0.2]\n",
      " [4.7 3.2 1.3 0.2]\n",
      " [4.6 3.1 1.5 0.2]\n",
      " [5.  3.6 1.4 0.2]\n",
      " [5.4 3.9 1.7 0.4]\n",
      " [4.6 3.4 1.4 0.3]\n",
      " [5.  3.4 1.5 0.2]\n",
      " [4.4 2.9 1.4 0.2]\n",
      " [4.9 3.1 1.5 0.1]\n",
      " [5.4 3.7 1.5 0.2]\n",
      " [4.8 3.4 1.6 0.2]\n",
      " [4.8 3.  1.4 0.1]\n",
      " [4.3 3.  1.1 0.1]\n",
      " [5.8 4.  1.2 0.2]\n",
      " [5.7 4.4 1.5 0.4]\n",
      " [5.4 3.9 1.3 0.4]\n",
      " [5.1 3.5 1.4 0.3]\n",
      " [5.7 3.8 1.7 0.3]\n",
      " [5.1 3.8 1.5 0.3]\n",
      " [5.4 3.4 1.7 0.2]\n",
      " [5.1 3.7 1.5 0.4]\n",
      " [4.6 3.6 1.  0.2]\n",
      " [5.1 3.3 1.7 0.5]\n",
      " [4.8 3.4 1.9 0.2]\n",
      " [5.  3.  1.6 0.2]\n",
      " [5.  3.4 1.6 0.4]\n",
      " [5.2 3.5 1.5 0.2]\n",
      " [5.2 3.4 1.4 0.2]\n",
      " [4.7 3.2 1.6 0.2]\n",
      " [4.8 3.1 1.6 0.2]\n",
      " [5.4 3.4 1.5 0.4]\n",
      " [5.2 4.1 1.5 0.1]\n",
      " [5.5 4.2 1.4 0.2]\n",
      " [4.9 3.1 1.5 0.2]\n",
      " [5.  3.2 1.2 0.2]\n",
      " [5.5 3.5 1.3 0.2]\n",
      " [4.9 3.6 1.4 0.1]\n",
      " [4.4 3.  1.3 0.2]\n",
      " [5.1 3.4 1.5 0.2]\n",
      " [5.  3.5 1.3 0.3]\n",
      " [4.5 2.3 1.3 0.3]\n",
      " [4.4 3.2 1.3 0.2]\n",
      " [5.  3.5 1.6 0.6]\n",
      " [5.1 3.8 1.9 0.4]\n",
      " [4.8 3.  1.4 0.3]\n",
      " [5.1 3.8 1.6 0.2]\n",
      " [4.6 3.2 1.4 0.2]\n",
      " [5.3 3.7 1.5 0.2]\n",
      " [5.  3.3 1.4 0.2]\n",
      " [7.  3.2 4.7 1.4]\n",
      " [6.4 3.2 4.5 1.5]\n",
      " [6.9 3.1 4.9 1.5]\n",
      " [5.5 2.3 4.  1.3]\n",
      " [6.5 2.8 4.6 1.5]\n",
      " [5.7 2.8 4.5 1.3]\n",
      " [6.3 3.3 4.7 1.6]\n",
      " [4.9 2.4 3.3 1. ]\n",
      " [6.6 2.9 4.6 1.3]\n",
      " [5.2 2.7 3.9 1.4]\n",
      " [5.  2.  3.5 1. ]\n",
      " [5.9 3.  4.2 1.5]\n",
      " [6.  2.2 4.  1. ]\n",
      " [6.1 2.9 4.7 1.4]\n",
      " [5.6 2.9 3.6 1.3]\n",
      " [6.7 3.1 4.4 1.4]\n",
      " [5.6 3.  4.5 1.5]\n",
      " [5.8 2.7 4.1 1. ]\n",
      " [6.2 2.2 4.5 1.5]\n",
      " [5.6 2.5 3.9 1.1]\n",
      " [5.9 3.2 4.8 1.8]\n",
      " [6.1 2.8 4.  1.3]\n",
      " [6.3 2.5 4.9 1.5]\n",
      " [6.1 2.8 4.7 1.2]\n",
      " [6.4 2.9 4.3 1.3]\n",
      " [6.6 3.  4.4 1.4]\n",
      " [6.8 2.8 4.8 1.4]\n",
      " [6.7 3.  5.  1.7]\n",
      " [6.  2.9 4.5 1.5]\n",
      " [5.7 2.6 3.5 1. ]\n",
      " [5.5 2.4 3.8 1.1]\n",
      " [5.5 2.4 3.7 1. ]\n",
      " [5.8 2.7 3.9 1.2]\n",
      " [6.  2.7 5.1 1.6]\n",
      " [5.4 3.  4.5 1.5]\n",
      " [6.  3.4 4.5 1.6]\n",
      " [6.7 3.1 4.7 1.5]\n",
      " [6.3 2.3 4.4 1.3]\n",
      " [5.6 3.  4.1 1.3]\n",
      " [5.5 2.5 4.  1.3]\n",
      " [5.5 2.6 4.4 1.2]\n",
      " [6.1 3.  4.6 1.4]\n",
      " [5.8 2.6 4.  1.2]\n",
      " [5.  2.3 3.3 1. ]\n",
      " [5.6 2.7 4.2 1.3]\n",
      " [5.7 3.  4.2 1.2]\n",
      " [5.7 2.9 4.2 1.3]\n",
      " [6.2 2.9 4.3 1.3]\n",
      " [5.1 2.5 3.  1.1]\n",
      " [5.7 2.8 4.1 1.3]\n",
      " [6.3 3.3 6.  2.5]\n",
      " [5.8 2.7 5.1 1.9]\n",
      " [7.1 3.  5.9 2.1]\n",
      " [6.3 2.9 5.6 1.8]\n",
      " [6.5 3.  5.8 2.2]\n",
      " [7.6 3.  6.6 2.1]\n",
      " [4.9 2.5 4.5 1.7]\n",
      " [7.3 2.9 6.3 1.8]\n",
      " [6.7 2.5 5.8 1.8]\n",
      " [7.2 3.6 6.1 2.5]\n",
      " [6.5 3.2 5.1 2. ]\n",
      " [6.4 2.7 5.3 1.9]\n",
      " [6.8 3.  5.5 2.1]\n",
      " [5.7 2.5 5.  2. ]\n",
      " [5.8 2.8 5.1 2.4]\n",
      " [6.4 3.2 5.3 2.3]\n",
      " [6.5 3.  5.5 1.8]\n",
      " [7.7 3.8 6.7 2.2]\n",
      " [7.7 2.6 6.9 2.3]\n",
      " [6.  2.2 5.  1.5]\n",
      " [6.9 3.2 5.7 2.3]\n",
      " [5.6 2.8 4.9 2. ]\n",
      " [7.7 2.8 6.7 2. ]\n",
      " [6.3 2.7 4.9 1.8]\n",
      " [6.7 3.3 5.7 2.1]\n",
      " [7.2 3.2 6.  1.8]\n",
      " [6.2 2.8 4.8 1.8]\n",
      " [6.1 3.  4.9 1.8]\n",
      " [6.4 2.8 5.6 2.1]\n",
      " [7.2 3.  5.8 1.6]\n",
      " [7.4 2.8 6.1 1.9]\n",
      " [7.9 3.8 6.4 2. ]\n",
      " [6.4 2.8 5.6 2.2]\n",
      " [6.3 2.8 5.1 1.5]\n",
      " [6.1 2.6 5.6 1.4]\n",
      " [7.7 3.  6.1 2.3]\n",
      " [6.3 3.4 5.6 2.4]\n",
      " [6.4 3.1 5.5 1.8]\n",
      " [6.  3.  4.8 1.8]\n",
      " [6.9 3.1 5.4 2.1]\n",
      " [6.7 3.1 5.6 2.4]\n",
      " [6.9 3.1 5.1 2.3]\n",
      " [5.8 2.7 5.1 1.9]\n",
      " [6.8 3.2 5.9 2.3]\n",
      " [6.7 3.3 5.7 2.5]\n",
      " [6.7 3.  5.2 2.3]\n",
      " [6.3 2.5 5.  1.9]\n",
      " [6.5 3.  5.2 2. ]\n",
      " [6.2 3.4 5.4 2.3]\n",
      " [5.9 3.  5.1 1.8]]\n",
      "[[5.1 3.5 1.4 0.2]\n",
      " [4.9 3.  1.4 0.2]\n",
      " [4.7 3.2 1.3 0.2]\n",
      " [4.6 3.1 1.5 0.2]\n",
      " [5.  3.6 1.4 0.2]\n",
      " [5.4 3.9 1.7 0.4]\n",
      " [4.6 3.4 1.4 0.3]\n",
      " [5.  3.4 1.5 0.2]\n",
      " [4.4 2.9 1.4 0.2]\n",
      " [4.9 3.1 1.5 0.1]\n",
      " [5.4 3.7 1.5 0.2]\n",
      " [4.8 3.4 1.6 0.2]\n",
      " [4.8 3.  1.4 0.1]\n",
      " [4.3 3.  1.1 0.1]\n",
      " [5.8 4.  1.2 0.2]\n",
      " [5.7 4.4 1.5 0.4]\n",
      " [5.4 3.9 1.3 0.4]\n",
      " [5.1 3.5 1.4 0.3]\n",
      " [5.7 3.8 1.7 0.3]\n",
      " [5.1 3.8 1.5 0.3]\n",
      " [5.4 3.4 1.7 0.2]\n",
      " [5.1 3.7 1.5 0.4]\n",
      " [4.6 3.6 1.  0.2]\n",
      " [5.1 3.3 1.7 0.5]\n",
      " [4.8 3.4 1.9 0.2]\n",
      " [5.  3.  1.6 0.2]\n",
      " [5.  3.4 1.6 0.4]\n",
      " [5.2 3.5 1.5 0.2]\n",
      " [5.2 3.4 1.4 0.2]\n",
      " [4.7 3.2 1.6 0.2]\n",
      " [4.8 3.1 1.6 0.2]\n",
      " [5.4 3.4 1.5 0.4]\n",
      " [5.2 4.1 1.5 0.1]\n",
      " [5.5 4.2 1.4 0.2]\n",
      " [4.9 3.1 1.5 0.2]\n",
      " [5.  3.2 1.2 0.2]\n",
      " [5.5 3.5 1.3 0.2]\n",
      " [4.9 3.6 1.4 0.1]\n",
      " [4.4 3.  1.3 0.2]\n",
      " [5.1 3.4 1.5 0.2]\n",
      " [5.  3.5 1.3 0.3]\n",
      " [4.5 2.3 1.3 0.3]\n",
      " [4.4 3.2 1.3 0.2]\n",
      " [5.  3.5 1.6 0.6]\n",
      " [5.1 3.8 1.9 0.4]\n",
      " [4.8 3.  1.4 0.3]\n",
      " [5.1 3.8 1.6 0.2]\n",
      " [4.6 3.2 1.4 0.2]\n",
      " [5.3 3.7 1.5 0.2]\n",
      " [5.  3.3 1.4 0.2]\n",
      " [7.  3.2 4.7 1.4]\n",
      " [6.4 3.2 4.5 1.5]\n",
      " [6.9 3.1 4.9 1.5]\n",
      " [5.5 2.3 4.  1.3]\n",
      " [6.5 2.8 4.6 1.5]\n",
      " [5.7 2.8 4.5 1.3]\n",
      " [6.3 3.3 4.7 1.6]\n",
      " [4.9 2.4 3.3 1. ]\n",
      " [6.6 2.9 4.6 1.3]\n",
      " [5.2 2.7 3.9 1.4]\n",
      " [5.  2.  3.5 1. ]\n",
      " [5.9 3.  4.2 1.5]\n",
      " [6.  2.2 4.  1. ]\n",
      " [6.1 2.9 4.7 1.4]\n",
      " [5.6 2.9 3.6 1.3]\n",
      " [6.7 3.1 4.4 1.4]\n",
      " [5.6 3.  4.5 1.5]\n",
      " [5.8 2.7 4.1 1. ]\n",
      " [6.2 2.2 4.5 1.5]\n",
      " [5.6 2.5 3.9 1.1]\n",
      " [5.9 3.2 4.8 1.8]\n",
      " [6.1 2.8 4.  1.3]\n",
      " [6.3 2.5 4.9 1.5]\n",
      " [6.1 2.8 4.7 1.2]\n",
      " [6.4 2.9 4.3 1.3]\n",
      " [6.6 3.  4.4 1.4]\n",
      " [6.8 2.8 4.8 1.4]\n",
      " [6.7 3.  5.  1.7]\n",
      " [6.  2.9 4.5 1.5]\n",
      " [5.7 2.6 3.5 1. ]\n",
      " [5.5 2.4 3.8 1.1]\n",
      " [5.5 2.4 3.7 1. ]\n",
      " [5.8 2.7 3.9 1.2]\n",
      " [6.  2.7 5.1 1.6]\n",
      " [5.4 3.  4.5 1.5]\n",
      " [6.  3.4 4.5 1.6]\n",
      " [6.7 3.1 4.7 1.5]\n",
      " [6.3 2.3 4.4 1.3]\n",
      " [5.6 3.  4.1 1.3]\n",
      " [5.5 2.5 4.  1.3]\n",
      " [5.5 2.6 4.4 1.2]\n",
      " [6.1 3.  4.6 1.4]\n",
      " [5.8 2.6 4.  1.2]\n",
      " [5.  2.3 3.3 1. ]\n",
      " [5.6 2.7 4.2 1.3]\n",
      " [5.7 3.  4.2 1.2]\n",
      " [5.7 2.9 4.2 1.3]\n",
      " [6.2 2.9 4.3 1.3]\n",
      " [5.1 2.5 3.  1.1]\n",
      " [5.7 2.8 4.1 1.3]\n",
      " [6.3 3.3 6.  2.5]\n",
      " [5.8 2.7 5.1 1.9]\n",
      " [7.1 3.  5.9 2.1]\n",
      " [6.3 2.9 5.6 1.8]\n",
      " [6.5 3.  5.8 2.2]\n",
      " [7.6 3.  6.6 2.1]\n",
      " [4.9 2.5 4.5 1.7]\n",
      " [7.3 2.9 6.3 1.8]\n",
      " [6.7 2.5 5.8 1.8]\n",
      " [7.2 3.6 6.1 2.5]\n",
      " [6.5 3.2 5.1 2. ]\n",
      " [6.4 2.7 5.3 1.9]\n",
      " [6.8 3.  5.5 2.1]\n",
      " [5.7 2.5 5.  2. ]\n",
      " [5.8 2.8 5.1 2.4]\n",
      " [6.4 3.2 5.3 2.3]\n",
      " [6.5 3.  5.5 1.8]\n",
      " [7.7 3.8 6.7 2.2]\n",
      " [7.7 2.6 6.9 2.3]\n",
      " [6.  2.2 5.  1.5]\n",
      " [6.9 3.2 5.7 2.3]\n",
      " [5.6 2.8 4.9 2. ]\n",
      " [7.7 2.8 6.7 2. ]\n",
      " [6.3 2.7 4.9 1.8]\n",
      " [6.7 3.3 5.7 2.1]\n",
      " [7.2 3.2 6.  1.8]\n",
      " [6.2 2.8 4.8 1.8]\n",
      " [6.1 3.  4.9 1.8]\n",
      " [6.4 2.8 5.6 2.1]\n",
      " [7.2 3.  5.8 1.6]\n",
      " [7.4 2.8 6.1 1.9]\n",
      " [7.9 3.8 6.4 2. ]\n",
      " [6.4 2.8 5.6 2.2]\n",
      " [6.3 2.8 5.1 1.5]\n",
      " [6.1 2.6 5.6 1.4]\n",
      " [7.7 3.  6.1 2.3]\n",
      " [6.3 3.4 5.6 2.4]\n",
      " [6.4 3.1 5.5 1.8]\n",
      " [6.  3.  4.8 1.8]\n",
      " [6.9 3.1 5.4 2.1]\n",
      " [6.7 3.1 5.6 2.4]\n",
      " [6.9 3.1 5.1 2.3]\n",
      " [5.8 2.7 5.1 1.9]\n",
      " [6.8 3.2 5.9 2.3]\n",
      " [6.7 3.3 5.7 2.5]\n",
      " [6.7 3.  5.2 2.3]\n",
      " [6.3 2.5 5.  1.9]\n",
      " [6.5 3.  5.2 2. ]\n",
      " [6.2 3.4 5.4 2.3]\n",
      " [5.9 3.  5.1 1.8]]\n",
      "(150, 4)\n",
      "[0 0 0 0 0 0 0 0 0 0 0 0 0 0 0 0 0 0 0 0 0 0 0 0 0 0 0 0 0 0 0 0 0 0 0 0 0\n",
      " 0 0 0 0 0 0 0 0 0 0 0 0 0 1 1 1 1 1 1 1 1 1 1 1 1 1 1 1 1 1 1 1 1 1 1 1 1\n",
      " 1 1 1 1 1 1 1 1 1 1 1 1 1 1 1 1 1 1 1 1 1 1 1 1 1 1 2 2 2 2 2 2 2 2 2 2 2\n",
      " 2 2 2 2 2 2 2 2 2 2 2 2 2 2 2 2 2 2 2 2 2 2 2 2 2 2 2 2 2 2 2 2 2 2 2 2 2\n",
      " 2 2]\n"
     ]
    }
   ],
   "source": [
    "iris = load_iris() #딕셔너리 형태로 데이터 저장\n",
    "\n",
    "print(iris['data'])\n",
    "print(iris.data)\n",
    "#iris안에 'data'key의 value는 붓꽃의 정보를 array로 담고 있음\n",
    "#iris.data도 동일한 표현\n",
    "print(np.shape(iris['data'])) \n",
    "\n",
    "print(iris['target']) #붓꽃 분류 결과"
   ]
  },
  {
   "cell_type": "code",
   "execution_count": 45,
   "metadata": {
    "ExecuteTime": {
     "end_time": "2020-08-14T01:18:14.486862Z",
     "start_time": "2020-08-14T01:18:14.480862Z"
    }
   },
   "outputs": [
    {
     "data": {
      "text/plain": [
       "array([5.1, 3.5, 1.4, 0.2])"
      ]
     },
     "execution_count": 45,
     "metadata": {},
     "output_type": "execute_result"
    }
   ],
   "source": [
    "iris.data[0, :] # data의 첫번째 행만 참조\n",
    "\n",
    "#붓꽃의 벡터 데이터 확인가능\n",
    "# -> 순서 : 꽃받침 길이, 폭, 꽃잎길이, 폭\n",
    "# -> 붓꽃의 크기벡터는 4개의 데이터가 하나로 묶여있음 : 4차원 벡터\n",
    "\n",
    "#벡터를 구성하는 데이터가 n개 : n차원 벡터"
   ]
  },
  {
   "cell_type": "code",
   "execution_count": 50,
   "metadata": {
    "ExecuteTime": {
     "end_time": "2020-08-14T01:33:05.533529Z",
     "start_time": "2020-08-14T01:33:05.526531Z"
    }
   },
   "outputs": [
    {
     "name": "stdout",
     "output_type": "stream",
     "text": [
      "[[5.5]\n",
      " [3.4]\n",
      " [1.2]\n",
      " [0.1]]\n",
      "[5.5 3.4 1.2 0.1]\n"
     ]
    }
   ],
   "source": [
    "#넘파이 벡터 표현\n",
    "#벡터는 열의 개수가 1개인 2차원 배열 객체로 표현\n",
    "#배열의 차원은 벡터의 차원과 다름\n",
    "x = np.array([[5.5],\n",
    "         [3.4],\n",
    "         [1.2],\n",
    "         [0.1]])\n",
    "#2차원 배열\n",
    "#4차원 벡터\n",
    "#위의 코드는 4차원 벡터를 2차원 배열로 표현\n",
    "\n",
    "y = np.array([5.5, 3.4, 1.2, 0.1])\n",
    "#1차원 배열, 4차원 벡터\n",
    "\n",
    "#x와 y는 같은 표현인 벡터임.\n",
    "print(x)\n",
    "print(y)\n",
    "\n",
    "#but!!!!!!!\n",
    "#사이킷런에서 벡터를 정의하고자하는 경우에는\n",
    "#반드시 열의 개수가 1개인 2차원 배열로 표현\n",
    "#머신러닝, 딥러닝에서는 모델링을 할 때 입력데이터를 벡터로 표현"
   ]
  },
  {
   "cell_type": "code",
   "execution_count": 51,
   "metadata": {
    "ExecuteTime": {
     "end_time": "2020-08-14T01:37:20.776057Z",
     "start_time": "2020-08-14T01:37:20.773056Z"
    }
   },
   "outputs": [],
   "source": [
    "from sklearn.datasets import load_digits"
   ]
  },
  {
   "cell_type": "code",
   "execution_count": 76,
   "metadata": {
    "ExecuteTime": {
     "end_time": "2020-08-14T01:52:24.209620Z",
     "start_time": "2020-08-14T01:52:24.130617Z"
    }
   },
   "outputs": [
    {
     "name": "stdout",
     "output_type": "stream",
     "text": [
      "[0 1 2 ... 8 9 8]\n"
     ]
    }
   ],
   "source": [
    "digits = load_digits()\n",
    "digits\n",
    "print(digits.target)"
   ]
  },
  {
   "cell_type": "code",
   "execution_count": 54,
   "metadata": {
    "ExecuteTime": {
     "end_time": "2020-08-14T01:39:34.593767Z",
     "start_time": "2020-08-14T01:39:34.588766Z"
    },
    "scrolled": true
   },
   "outputs": [
    {
     "name": "stdout",
     "output_type": "stream",
     "text": [
      "(1797, 64)\n",
      "(1797,)\n"
     ]
    }
   ],
   "source": [
    "print(digits.data.shape) #(1797, 64) \n",
    "                         # 숫자데이터 수 :1767\n",
    "                         # 한 숫자를 구성하는 데이터 수 : 64\n",
    "print(digits.target.shape) #(1797,)\n",
    "                           # 숫자 이미지 1767에 대한 답 1767개"
   ]
  },
  {
   "cell_type": "code",
   "execution_count": 56,
   "metadata": {
    "ExecuteTime": {
     "end_time": "2020-08-14T01:41:49.170533Z",
     "start_time": "2020-08-14T01:41:49.164532Z"
    }
   },
   "outputs": [
    {
     "name": "stdout",
     "output_type": "stream",
     "text": [
      "[[ 0.  0.  5. 13.  9.  1.  0.  0.]\n",
      " [ 0.  0. 13. 15. 10. 15.  5.  0.]\n",
      " [ 0.  3. 15.  2.  0. 11.  8.  0.]\n",
      " [ 0.  4. 12.  0.  0.  8.  8.  0.]\n",
      " [ 0.  5.  8.  0.  0.  9.  8.  0.]\n",
      " [ 0.  4. 11.  0.  1. 12.  7.  0.]\n",
      " [ 0.  2. 14.  5. 10. 12.  0.  0.]\n",
      " [ 0.  0.  6. 13. 10.  0.  0.  0.]]\n",
      "0\n"
     ]
    }
   ],
   "source": [
    "print(digits.data[0].reshape(8, 8))\n",
    "print(digits.target[0])"
   ]
  },
  {
   "cell_type": "code",
   "execution_count": 57,
   "metadata": {
    "ExecuteTime": {
     "end_time": "2020-08-14T01:42:03.186552Z",
     "start_time": "2020-08-14T01:42:03.181552Z"
    },
    "scrolled": true
   },
   "outputs": [
    {
     "name": "stdout",
     "output_type": "stream",
     "text": [
      "[[ 0.  0.  0. 12. 13.  5.  0.  0.]\n",
      " [ 0.  0.  0. 11. 16.  9.  0.  0.]\n",
      " [ 0.  0.  3. 15. 16.  6.  0.  0.]\n",
      " [ 0.  7. 15. 16. 16.  2.  0.  0.]\n",
      " [ 0.  0.  1. 16. 16.  3.  0.  0.]\n",
      " [ 0.  0.  1. 16. 16.  6.  0.  0.]\n",
      " [ 0.  0.  1. 16. 16.  6.  0.  0.]\n",
      " [ 0.  0.  0. 11. 16. 10.  0.  0.]]\n",
      "1\n"
     ]
    }
   ],
   "source": [
    "print(digits.data[1].reshape(8, 8))\n",
    "print(digits.target[1])"
   ]
  },
  {
   "cell_type": "code",
   "execution_count": 58,
   "metadata": {
    "ExecuteTime": {
     "end_time": "2020-08-14T01:42:20.430803Z",
     "start_time": "2020-08-14T01:42:20.425801Z"
    }
   },
   "outputs": [
    {
     "name": "stdout",
     "output_type": "stream",
     "text": [
      "[[ 0.  0. 11. 12.  0.  0.  0.  0.]\n",
      " [ 0.  2. 16. 16. 16. 13.  0.  0.]\n",
      " [ 0.  3. 16. 12. 10. 14.  0.  0.]\n",
      " [ 0.  1. 16.  1. 12. 15.  0.  0.]\n",
      " [ 0.  0. 13. 16.  9. 15.  2.  0.]\n",
      " [ 0.  0.  0.  3.  0.  9. 11.  0.]\n",
      " [ 0.  0.  0.  0.  9. 15.  4.  0.]\n",
      " [ 0.  0.  9. 12. 13.  3.  0.  0.]]\n",
      "9\n"
     ]
    }
   ],
   "source": [
    "print(digits.data[9].reshape(8, 8))\n",
    "print(digits.target[9])"
   ]
  },
  {
   "cell_type": "code",
   "execution_count": 80,
   "metadata": {
    "ExecuteTime": {
     "end_time": "2020-08-14T01:53:34.034691Z",
     "start_time": "2020-08-14T01:53:34.029688Z"
    }
   },
   "outputs": [],
   "source": [
    "samples = [0, 10, 20, 30, 1, 11, 21, 31, 9]\n",
    "\n",
    "d = []\n",
    "for i in range(len(samples)):\n",
    "    d.append(digits.images[samples[i]])"
   ]
  },
  {
   "cell_type": "code",
   "execution_count": 63,
   "metadata": {
    "ExecuteTime": {
     "end_time": "2020-08-14T01:45:49.755993Z",
     "start_time": "2020-08-14T01:45:49.442971Z"
    }
   },
   "outputs": [],
   "source": [
    "import matplotlib.pyplot as plt"
   ]
  },
  {
   "cell_type": "code",
   "execution_count": 67,
   "metadata": {
    "ExecuteTime": {
     "end_time": "2020-08-14T01:46:46.713126Z",
     "start_time": "2020-08-14T01:46:46.590118Z"
    }
   },
   "outputs": [
    {
     "data": {
      "text/plain": [
       "<matplotlib.image.AxesImage at 0x19475203548>"
      ]
     },
     "execution_count": 67,
     "metadata": {},
     "output_type": "execute_result"
    },
    {
     "data": {
      "image/png": "[encoded data removed]",
      "text/plain": [
       "<Figure size 432x288 with 1 Axes>"
      ]
     },
     "metadata": {
      "needs_background": "light"
     },
     "output_type": "display_data"
    }
   ],
   "source": [
    "plt.imshow(d[0], cmap=plt.cm.bone_r) #cmap : 흑백으로 처리"
   ]
  },
  {
   "cell_type": "code",
   "execution_count": 73,
   "metadata": {
    "ExecuteTime": {
     "end_time": "2020-08-14T01:48:37.964203Z",
     "start_time": "2020-08-14T01:48:37.845193Z"
    }
   },
   "outputs": [
    {
     "data": {
      "text/plain": [
       "<matplotlib.image.AxesImage at 0x19473012808>"
      ]
     },
     "execution_count": 73,
     "metadata": {},
     "output_type": "execute_result"
    },
    {
     "data": {
      "image/png": "[encoded data removed]",
      "text/plain": [
       "<Figure size 432x288 with 1 Axes>"
      ]
     },
     "metadata": {
      "needs_background": "light"
     },
     "output_type": "display_data"
    }
   ],
   "source": [
    "plt.imshow(d[5], cmap=plt.cm.bone_r) #cmap : 흑백으로 처리"
   ]
  },
  {
   "cell_type": "code",
   "execution_count": 83,
   "metadata": {
    "ExecuteTime": {
     "end_time": "2020-08-14T02:10:58.274474Z",
     "start_time": "2020-08-14T02:10:57.652431Z"
    }
   },
   "outputs": [
    {
     "data": {
      "image/png": "[encoded data removed]",
      "text/plain": [
       "<Figure size 432x288 with 9 Axes>"
      ]
     },
     "metadata": {
      "needs_background": "light"
     },
     "output_type": "display_data"
    }
   ],
   "source": [
    "n = 9\n",
    "for i in range(n):\n",
    "    plt.subplot(1, n, i+1) #화면 나누기 : 1줄 n칸으로 나눈 다음,\n",
    "                           # 1~n위치에 이미지를 위치\n",
    "    plt.imshow(d[i], cmap=plt.cm.bone_r)"
   ]
  },
  {
   "cell_type": "code",
   "execution_count": 86,
   "metadata": {
    "ExecuteTime": {
     "end_time": "2020-08-14T02:18:07.514628Z",
     "start_time": "2020-08-14T02:18:07.501628Z"
    }
   },
   "outputs": [
    {
     "data": {
      "text/plain": [
       "[array([[ 0.],\n",
       "        [ 0.],\n",
       "        [ 5.],\n",
       "        [13.],\n",
       "        [ 9.],\n",
       "        [ 1.],\n",
       "        [ 0.],\n",
       "        [ 0.],\n",
       "        [ 0.],\n",
       "        [ 0.],\n",
       "        [13.],\n",
       "        [15.],\n",
       "        [10.],\n",
       "        [15.],\n",
       "        [ 5.],\n",
       "        [ 0.],\n",
       "        [ 0.],\n",
       "        [ 3.],\n",
       "        [15.],\n",
       "        [ 2.],\n",
       "        [ 0.],\n",
       "        [11.],\n",
       "        [ 8.],\n",
       "        [ 0.],\n",
       "        [ 0.],\n",
       "        [ 4.],\n",
       "        [12.],\n",
       "        [ 0.],\n",
       "        [ 0.],\n",
       "        [ 8.],\n",
       "        [ 8.],\n",
       "        [ 0.],\n",
       "        [ 0.],\n",
       "        [ 5.],\n",
       "        [ 8.],\n",
       "        [ 0.],\n",
       "        [ 0.],\n",
       "        [ 9.],\n",
       "        [ 8.],\n",
       "        [ 0.],\n",
       "        [ 0.],\n",
       "        [ 4.],\n",
       "        [11.],\n",
       "        [ 0.],\n",
       "        [ 1.],\n",
       "        [12.],\n",
       "        [ 7.],\n",
       "        [ 0.],\n",
       "        [ 0.],\n",
       "        [ 2.],\n",
       "        [14.],\n",
       "        [ 5.],\n",
       "        [10.],\n",
       "        [12.],\n",
       "        [ 0.],\n",
       "        [ 0.],\n",
       "        [ 0.],\n",
       "        [ 0.],\n",
       "        [ 6.],\n",
       "        [13.],\n",
       "        [10.],\n",
       "        [ 0.],\n",
       "        [ 0.],\n",
       "        [ 0.]]),\n",
       " array([[ 0.],\n",
       "        [ 0.],\n",
       "        [ 1.],\n",
       "        [ 9.],\n",
       "        [15.],\n",
       "        [11.],\n",
       "        [ 0.],\n",
       "        [ 0.],\n",
       "        [ 0.],\n",
       "        [ 0.],\n",
       "        [11.],\n",
       "        [16.],\n",
       "        [ 8.],\n",
       "        [14.],\n",
       "        [ 6.],\n",
       "        [ 0.],\n",
       "        [ 0.],\n",
       "        [ 2.],\n",
       "        [16.],\n",
       "        [10.],\n",
       "        [ 0.],\n",
       "        [ 9.],\n",
       "        [ 9.],\n",
       "        [ 0.],\n",
       "        [ 0.],\n",
       "        [ 1.],\n",
       "        [16.],\n",
       "        [ 4.],\n",
       "        [ 0.],\n",
       "        [ 8.],\n",
       "        [ 8.],\n",
       "        [ 0.],\n",
       "        [ 0.],\n",
       "        [ 4.],\n",
       "        [16.],\n",
       "        [ 4.],\n",
       "        [ 0.],\n",
       "        [ 8.],\n",
       "        [ 8.],\n",
       "        [ 0.],\n",
       "        [ 0.],\n",
       "        [ 1.],\n",
       "        [16.],\n",
       "        [ 5.],\n",
       "        [ 1.],\n",
       "        [11.],\n",
       "        [ 3.],\n",
       "        [ 0.],\n",
       "        [ 0.],\n",
       "        [ 0.],\n",
       "        [12.],\n",
       "        [12.],\n",
       "        [10.],\n",
       "        [10.],\n",
       "        [ 0.],\n",
       "        [ 0.],\n",
       "        [ 0.],\n",
       "        [ 0.],\n",
       "        [ 1.],\n",
       "        [10.],\n",
       "        [13.],\n",
       "        [ 3.],\n",
       "        [ 0.],\n",
       "        [ 0.]]),\n",
       " array([[ 0.],\n",
       "        [ 0.],\n",
       "        [ 3.],\n",
       "        [13.],\n",
       "        [11.],\n",
       "        [ 7.],\n",
       "        [ 0.],\n",
       "        [ 0.],\n",
       "        [ 0.],\n",
       "        [ 0.],\n",
       "        [11.],\n",
       "        [16.],\n",
       "        [16.],\n",
       "        [16.],\n",
       "        [ 2.],\n",
       "        [ 0.],\n",
       "        [ 0.],\n",
       "        [ 4.],\n",
       "        [16.],\n",
       "        [ 9.],\n",
       "        [ 1.],\n",
       "        [14.],\n",
       "        [ 2.],\n",
       "        [ 0.],\n",
       "        [ 0.],\n",
       "        [ 4.],\n",
       "        [16.],\n",
       "        [ 0.],\n",
       "        [ 0.],\n",
       "        [16.],\n",
       "        [ 2.],\n",
       "        [ 0.],\n",
       "        [ 0.],\n",
       "        [ 0.],\n",
       "        [16.],\n",
       "        [ 1.],\n",
       "        [ 0.],\n",
       "        [12.],\n",
       "        [ 8.],\n",
       "        [ 0.],\n",
       "        [ 0.],\n",
       "        [ 0.],\n",
       "        [15.],\n",
       "        [ 9.],\n",
       "        [ 0.],\n",
       "        [13.],\n",
       "        [ 6.],\n",
       "        [ 0.],\n",
       "        [ 0.],\n",
       "        [ 0.],\n",
       "        [ 9.],\n",
       "        [14.],\n",
       "        [ 9.],\n",
       "        [14.],\n",
       "        [ 1.],\n",
       "        [ 0.],\n",
       "        [ 0.],\n",
       "        [ 0.],\n",
       "        [ 2.],\n",
       "        [12.],\n",
       "        [13.],\n",
       "        [ 4.],\n",
       "        [ 0.],\n",
       "        [ 0.]]),\n",
       " array([[ 0.],\n",
       "        [ 0.],\n",
       "        [10.],\n",
       "        [14.],\n",
       "        [11.],\n",
       "        [ 3.],\n",
       "        [ 0.],\n",
       "        [ 0.],\n",
       "        [ 0.],\n",
       "        [ 4.],\n",
       "        [16.],\n",
       "        [13.],\n",
       "        [ 6.],\n",
       "        [14.],\n",
       "        [ 1.],\n",
       "        [ 0.],\n",
       "        [ 0.],\n",
       "        [ 4.],\n",
       "        [16.],\n",
       "        [ 2.],\n",
       "        [ 0.],\n",
       "        [11.],\n",
       "        [ 7.],\n",
       "        [ 0.],\n",
       "        [ 0.],\n",
       "        [ 8.],\n",
       "        [16.],\n",
       "        [ 0.],\n",
       "        [ 0.],\n",
       "        [10.],\n",
       "        [ 5.],\n",
       "        [ 0.],\n",
       "        [ 0.],\n",
       "        [ 8.],\n",
       "        [16.],\n",
       "        [ 0.],\n",
       "        [ 0.],\n",
       "        [14.],\n",
       "        [ 4.],\n",
       "        [ 0.],\n",
       "        [ 0.],\n",
       "        [ 8.],\n",
       "        [16.],\n",
       "        [ 0.],\n",
       "        [ 1.],\n",
       "        [16.],\n",
       "        [ 1.],\n",
       "        [ 0.],\n",
       "        [ 0.],\n",
       "        [ 4.],\n",
       "        [16.],\n",
       "        [ 1.],\n",
       "        [11.],\n",
       "        [15.],\n",
       "        [ 0.],\n",
       "        [ 0.],\n",
       "        [ 0.],\n",
       "        [ 0.],\n",
       "        [11.],\n",
       "        [16.],\n",
       "        [12.],\n",
       "        [ 3.],\n",
       "        [ 0.],\n",
       "        [ 0.]]),\n",
       " array([[ 0.],\n",
       "        [ 0.],\n",
       "        [ 0.],\n",
       "        [12.],\n",
       "        [13.],\n",
       "        [ 5.],\n",
       "        [ 0.],\n",
       "        [ 0.],\n",
       "        [ 0.],\n",
       "        [ 0.],\n",
       "        [ 0.],\n",
       "        [11.],\n",
       "        [16.],\n",
       "        [ 9.],\n",
       "        [ 0.],\n",
       "        [ 0.],\n",
       "        [ 0.],\n",
       "        [ 0.],\n",
       "        [ 3.],\n",
       "        [15.],\n",
       "        [16.],\n",
       "        [ 6.],\n",
       "        [ 0.],\n",
       "        [ 0.],\n",
       "        [ 0.],\n",
       "        [ 7.],\n",
       "        [15.],\n",
       "        [16.],\n",
       "        [16.],\n",
       "        [ 2.],\n",
       "        [ 0.],\n",
       "        [ 0.],\n",
       "        [ 0.],\n",
       "        [ 0.],\n",
       "        [ 1.],\n",
       "        [16.],\n",
       "        [16.],\n",
       "        [ 3.],\n",
       "        [ 0.],\n",
       "        [ 0.],\n",
       "        [ 0.],\n",
       "        [ 0.],\n",
       "        [ 1.],\n",
       "        [16.],\n",
       "        [16.],\n",
       "        [ 6.],\n",
       "        [ 0.],\n",
       "        [ 0.],\n",
       "        [ 0.],\n",
       "        [ 0.],\n",
       "        [ 1.],\n",
       "        [16.],\n",
       "        [16.],\n",
       "        [ 6.],\n",
       "        [ 0.],\n",
       "        [ 0.],\n",
       "        [ 0.],\n",
       "        [ 0.],\n",
       "        [ 0.],\n",
       "        [11.],\n",
       "        [16.],\n",
       "        [10.],\n",
       "        [ 0.],\n",
       "        [ 0.]]),\n",
       " array([[ 0.],\n",
       "        [ 0.],\n",
       "        [ 0.],\n",
       "        [ 0.],\n",
       "        [14.],\n",
       "        [13.],\n",
       "        [ 1.],\n",
       "        [ 0.],\n",
       "        [ 0.],\n",
       "        [ 0.],\n",
       "        [ 0.],\n",
       "        [ 5.],\n",
       "        [16.],\n",
       "        [16.],\n",
       "        [ 2.],\n",
       "        [ 0.],\n",
       "        [ 0.],\n",
       "        [ 0.],\n",
       "        [ 0.],\n",
       "        [14.],\n",
       "        [16.],\n",
       "        [12.],\n",
       "        [ 0.],\n",
       "        [ 0.],\n",
       "        [ 0.],\n",
       "        [ 1.],\n",
       "        [10.],\n",
       "        [16.],\n",
       "        [16.],\n",
       "        [12.],\n",
       "        [ 0.],\n",
       "        [ 0.],\n",
       "        [ 0.],\n",
       "        [ 3.],\n",
       "        [12.],\n",
       "        [14.],\n",
       "        [16.],\n",
       "        [ 9.],\n",
       "        [ 0.],\n",
       "        [ 0.],\n",
       "        [ 0.],\n",
       "        [ 0.],\n",
       "        [ 0.],\n",
       "        [ 5.],\n",
       "        [16.],\n",
       "        [15.],\n",
       "        [ 0.],\n",
       "        [ 0.],\n",
       "        [ 0.],\n",
       "        [ 0.],\n",
       "        [ 0.],\n",
       "        [ 4.],\n",
       "        [16.],\n",
       "        [14.],\n",
       "        [ 0.],\n",
       "        [ 0.],\n",
       "        [ 0.],\n",
       "        [ 0.],\n",
       "        [ 0.],\n",
       "        [ 1.],\n",
       "        [13.],\n",
       "        [16.],\n",
       "        [ 1.],\n",
       "        [ 0.]]),\n",
       " array([[ 0.],\n",
       "        [ 0.],\n",
       "        [ 0.],\n",
       "        [ 2.],\n",
       "        [16.],\n",
       "        [16.],\n",
       "        [ 2.],\n",
       "        [ 0.],\n",
       "        [ 0.],\n",
       "        [ 0.],\n",
       "        [ 0.],\n",
       "        [ 4.],\n",
       "        [16.],\n",
       "        [16.],\n",
       "        [ 2.],\n",
       "        [ 0.],\n",
       "        [ 0.],\n",
       "        [ 1.],\n",
       "        [ 4.],\n",
       "        [12.],\n",
       "        [16.],\n",
       "        [12.],\n",
       "        [ 0.],\n",
       "        [ 0.],\n",
       "        [ 0.],\n",
       "        [ 7.],\n",
       "        [16.],\n",
       "        [16.],\n",
       "        [16.],\n",
       "        [12.],\n",
       "        [ 0.],\n",
       "        [ 0.],\n",
       "        [ 0.],\n",
       "        [ 0.],\n",
       "        [ 3.],\n",
       "        [10.],\n",
       "        [16.],\n",
       "        [14.],\n",
       "        [ 0.],\n",
       "        [ 0.],\n",
       "        [ 0.],\n",
       "        [ 0.],\n",
       "        [ 0.],\n",
       "        [ 8.],\n",
       "        [16.],\n",
       "        [12.],\n",
       "        [ 0.],\n",
       "        [ 0.],\n",
       "        [ 0.],\n",
       "        [ 0.],\n",
       "        [ 0.],\n",
       "        [ 6.],\n",
       "        [16.],\n",
       "        [16.],\n",
       "        [ 2.],\n",
       "        [ 0.],\n",
       "        [ 0.],\n",
       "        [ 0.],\n",
       "        [ 0.],\n",
       "        [ 2.],\n",
       "        [12.],\n",
       "        [15.],\n",
       "        [ 4.],\n",
       "        [ 0.]]),\n",
       " array([[ 0.],\n",
       "        [ 0.],\n",
       "        [ 2.],\n",
       "        [13.],\n",
       "        [ 8.],\n",
       "        [ 0.],\n",
       "        [ 0.],\n",
       "        [ 0.],\n",
       "        [ 0.],\n",
       "        [ 0.],\n",
       "        [ 6.],\n",
       "        [16.],\n",
       "        [16.],\n",
       "        [ 6.],\n",
       "        [ 0.],\n",
       "        [ 0.],\n",
       "        [ 0.],\n",
       "        [ 0.],\n",
       "        [ 5.],\n",
       "        [15.],\n",
       "        [13.],\n",
       "        [11.],\n",
       "        [ 0.],\n",
       "        [ 0.],\n",
       "        [ 0.],\n",
       "        [ 0.],\n",
       "        [ 0.],\n",
       "        [ 7.],\n",
       "        [16.],\n",
       "        [15.],\n",
       "        [ 0.],\n",
       "        [ 0.],\n",
       "        [ 0.],\n",
       "        [ 0.],\n",
       "        [ 0.],\n",
       "        [ 0.],\n",
       "        [ 0.],\n",
       "        [14.],\n",
       "        [ 3.],\n",
       "        [ 0.],\n",
       "        [ 0.],\n",
       "        [ 0.],\n",
       "        [ 0.],\n",
       "        [ 0.],\n",
       "        [ 0.],\n",
       "        [ 7.],\n",
       "        [11.],\n",
       "        [ 0.],\n",
       "        [ 0.],\n",
       "        [ 0.],\n",
       "        [ 0.],\n",
       "        [ 3.],\n",
       "        [ 4.],\n",
       "        [ 4.],\n",
       "        [16.],\n",
       "        [ 2.],\n",
       "        [ 0.],\n",
       "        [ 0.],\n",
       "        [ 2.],\n",
       "        [15.],\n",
       "        [13.],\n",
       "        [14.],\n",
       "        [13.],\n",
       "        [ 2.]])]"
      ]
     },
     "execution_count": 86,
     "metadata": {},
     "output_type": "execute_result"
    }
   ],
   "source": [
    "vec = []\n",
    "for i in range(8):\n",
    "    vec.append(d[i].reshape(64, 1)) #하나의 열로 벡터화하여 데이터 저장\n",
    "vec"
   ]
  },
  {
   "cell_type": "code",
   "execution_count": 87,
   "metadata": {
    "ExecuteTime": {
     "end_time": "2020-08-14T02:19:05.775854Z",
     "start_time": "2020-08-14T02:19:05.144809Z"
    }
   },
   "outputs": [
    {
     "data": {
      "image/png": "[encoded data removed]",
      "text/plain": [
       "<Figure size 432x288 with 8 Axes>"
      ]
     },
     "metadata": {
      "needs_background": "light"
     },
     "output_type": "display_data"
    }
   ],
   "source": [
    "for i in range(8):\n",
    "    plt.subplot(1, 8, i+1) #화면 나누기 : 1줄 n칸으로 나눈 다음,\n",
    "                           # 1~n위치에 이미지를 위치\n",
    "    plt.imshow(vec[i], cmap=plt.cm.bone_r)\n",
    "#벡터화한 이미지는 같은 숫자끼리 패턴이 비슷하다\n",
    "#이 이미지를 가지고 내적을 하면\n",
    "# -> 유사한 이미지끼리의 내적 값은 커지고\n",
    "# -> 다른 이미지끼리의 내적 값은 작아짐\n",
    "# -> 이를 이용하여 이미지 분류에 사용가능"
   ]
  },
  {
   "cell_type": "code",
   "execution_count": 93,
   "metadata": {
    "ExecuteTime": {
     "end_time": "2020-08-14T02:31:12.119573Z",
     "start_time": "2020-08-14T02:31:12.115571Z"
    }
   },
   "outputs": [],
   "source": [
    "#shape은 전무 (8, 8)\n",
    "d1 = digits.images[0] #0\n",
    "d2 = digits.images[10] #0\n",
    "d3 = digits.images[1] #1\n",
    "d4 = digits.images[11] #1"
   ]
  },
  {
   "cell_type": "code",
   "execution_count": 94,
   "metadata": {
    "ExecuteTime": {
     "end_time": "2020-08-14T02:31:13.758693Z",
     "start_time": "2020-08-14T02:31:13.754690Z"
    }
   },
   "outputs": [],
   "source": [
    "#이미지의 벡터화\n",
    "v1 = d1.reshape(64, 1)\n",
    "v2 = d2.reshape(64, 1)\n",
    "v3 = d3.reshape(64, 1)\n",
    "v4 = d4.reshape(64, 1)"
   ]
  },
  {
   "cell_type": "code",
   "execution_count": 122,
   "metadata": {
    "ExecuteTime": {
     "end_time": "2020-08-14T02:43:04.308257Z",
     "start_time": "2020-08-14T02:43:03.981235Z"
    }
   },
   "outputs": [
    {
     "data": {
      "image/png": "[encoded data removed]",
      "text/plain": [
       "<Figure size 432x288 with 4 Axes>"
      ]
     },
     "metadata": {
      "needs_background": "light"
     },
     "output_type": "display_data"
    }
   ],
   "source": [
    "for i in range(4):\n",
    "    plt.subplot(1, 4, i+1)\n",
    "    plt.imshow(eval(\"v\"+str(i+1)), cmap=plt.cm.bone_r)"
   ]
  },
  {
   "cell_type": "code",
   "execution_count": null,
   "metadata": {},
   "outputs": [],
   "source": [
    "#벡터 내적연산을 이용한 이미지 분류"
   ]
  },
  {
   "cell_type": "code",
   "execution_count": 113,
   "metadata": {
    "ExecuteTime": {
     "end_time": "2020-08-14T02:38:36.846847Z",
     "start_time": "2020-08-14T02:38:36.844846Z"
    }
   },
   "outputs": [],
   "source": [
    "import matplotlib.gridspec as gridspec"
   ]
  },
  {
   "cell_type": "code",
   "execution_count": 114,
   "metadata": {
    "ExecuteTime": {
     "end_time": "2020-08-14T02:38:37.988930Z",
     "start_time": "2020-08-14T02:38:37.980930Z"
    }
   },
   "outputs": [
    {
     "data": {
      "text/plain": [
       "<Figure size 648x648 with 0 Axes>"
      ]
     },
     "execution_count": 114,
     "metadata": {},
     "output_type": "execute_result"
    },
    {
     "data": {
      "text/plain": [
       "<Figure size 648x648 with 0 Axes>"
      ]
     },
     "metadata": {},
     "output_type": "display_data"
    }
   ],
   "source": [
    "plt.figure(figsize=(9,9))"
   ]
  },
  {
   "cell_type": "code",
   "execution_count": 115,
   "metadata": {
    "ExecuteTime": {
     "end_time": "2020-08-14T02:38:39.378031Z",
     "start_time": "2020-08-14T02:38:39.373031Z"
    }
   },
   "outputs": [],
   "source": [
    "gs = gridspec.GridSpec(1,8,\n",
    "                       height_ratios = [1],\n",
    "                       width_ratios = [9, 1, 9, 1, 9, 1, 9, 1])"
   ]
  },
  {
   "cell_type": "code",
   "execution_count": 118,
   "metadata": {
    "ExecuteTime": {
     "end_time": "2020-08-14T02:39:42.752630Z",
     "start_time": "2020-08-14T02:39:41.881567Z"
    }
   },
   "outputs": [
    {
     "data": {
      "image/png": "[encoded data removed]",
      "text/plain": [
       "<Figure size 432x288 with 8 Axes>"
      ]
     },
     "metadata": {
      "needs_background": "light"
     },
     "output_type": "display_data"
    }
   ],
   "source": [
    "for i in range(4):\n",
    "    plt.subplot(gs[2*i])\n",
    "    plt.imshow(eval(\"d\"+str(i+1)),cmap=plt.cm.bone_r)\n",
    "    plt.subplot(gs[2*i+1])\n",
    "    plt.imshow(eval(\"v\"+str(i+1)),cmap=plt.cm.bone_r)\n",
    "plt.tight_layout()\n",
    "plt.show()"
   ]
  },
  {
   "cell_type": "code",
   "execution_count": null,
   "metadata": {},
   "outputs": [],
   "source": [
    "# v1벡터와 v2벡터간 내적(벡터의 요소끼리의 곱셈 -> 모두 합침\n",
    "# v1의 열과 v2의 행의 값이 같아야함. -> 변환(T)"
   ]
  },
  {
   "cell_type": "code",
   "execution_count": 125,
   "metadata": {
    "ExecuteTime": {
     "end_time": "2020-08-14T02:45:31.866968Z",
     "start_time": "2020-08-14T02:45:31.861967Z"
    }
   },
   "outputs": [
    {
     "name": "stdout",
     "output_type": "stream",
     "text": [
      "3064.0\n",
      "1866.0\n",
      "1883.0\n"
     ]
    }
   ],
   "source": [
    "print((v1.T @ v2)[0][0]) #내적\n",
    "print((v1.T @ v3)[0][0])\n",
    "print((v1.T @ v4)[0][0])\n",
    "#가장 큰 값이 나온 v2와 유사한 이미지라고 판단할 수 있다."
   ]
  },
  {
   "cell_type": "code",
   "execution_count": 126,
   "metadata": {
    "ExecuteTime": {
     "end_time": "2020-08-14T02:46:37.094703Z",
     "start_time": "2020-08-14T02:46:37.089702Z"
    }
   },
   "outputs": [
    {
     "name": "stdout",
     "output_type": "stream",
     "text": [
      "1866.0\n",
      "2421.0\n",
      "3661.0\n"
     ]
    }
   ],
   "source": [
    "print((v3.T @ v1)[0][0])\n",
    "print((v3.T @ v2)[0][0])\n",
    "print((v3.T @ v4)[0][0])\n",
    "#v3와 v4는 비슷한 이미지일 것이다."
   ]
  },
  {
   "cell_type": "code",
   "execution_count": 128,
   "metadata": {
    "ExecuteTime": {
     "end_time": "2020-08-14T04:15:55.331577Z",
     "start_time": "2020-08-14T04:15:55.325577Z"
    }
   },
   "outputs": [
    {
     "name": "stdout",
     "output_type": "stream",
     "text": [
      "[ 0  2  4  6  8 10]\n",
      "[ 0  2  4  6  8 10]\n"
     ]
    }
   ],
   "source": [
    "a = np.arange(12)\n",
    "print(a[::2])\n",
    "print(a[a%2==0])"
   ]
  },
  {
   "cell_type": "code",
   "execution_count": 129,
   "metadata": {
    "ExecuteTime": {
     "end_time": "2020-08-14T04:16:28.469983Z",
     "start_time": "2020-08-14T04:16:28.462983Z"
    },
    "scrolled": true
   },
   "outputs": [
    {
     "data": {
      "text/plain": [
       "array([11, 22, 44])"
      ]
     },
     "execution_count": 129,
     "metadata": {},
     "output_type": "execute_result"
    }
   ],
   "source": [
    "a = np.array([11, 22, 33, 44, 55])\n",
    "idx = np.array([0, 1, 3]) #인덱스를 array로 지정\n",
    "\n",
    "a[idx]"
   ]
  },
  {
   "cell_type": "code",
   "execution_count": 130,
   "metadata": {
    "ExecuteTime": {
     "end_time": "2020-08-14T04:17:27.824291Z",
     "start_time": "2020-08-14T04:17:27.818289Z"
    }
   },
   "outputs": [
    {
     "data": {
      "text/plain": [
       "array([11, 11, 11, 22, 22, 22, 33, 33, 33])"
      ]
     },
     "execution_count": 130,
     "metadata": {},
     "output_type": "execute_result"
    }
   ],
   "source": [
    "idx = np.array([0,0,0,1,1,1,2,2,2])\n",
    "a[idx]"
   ]
  },
  {
   "cell_type": "code",
   "execution_count": null,
   "metadata": {},
   "outputs": [],
   "source": [
    "#!!!자연어 처리 예시 (벡터)!!!\n",
    "\n",
    "# 문서1 : I like Python\n",
    "#     2 : I like DL\n",
    "#     3 : DL is AI\n",
    "# => 워드임베딩 필요 : 문서 단어를 벡터공간에 표시하도록 수치형태로 변환\n",
    "# ex) 원핫 인코딩\n",
    "#  1. 단어(중복제외) : I, like, Python, DL, is, AI -> 6차원 벡터를 만듦\n",
    "#  2. 인코딩:\n",
    "#       I : 1 0 0 0 0 0\n",
    "#       like : 0 1 0 0 0 0\n",
    "#       Python : ...\n",
    "#       DL : ...\n",
    "#       is : ...\n",
    "#       AI : 0 0 0 0 0 1\n",
    "#  3. 단어 표현 : \n",
    "#       I like Python -> [[1 0 0 0 0 0], [0 1 0 0 0 0], [0 0 1 0 0 0]]\n",
    "\n",
    "#  4. 문장 간 유사성 구하기 : '유클리디안 거리' 이용\n",
    "#      => 거리가 가까울 수록 문장 간 유사성이 높다."
   ]
  },
  {
   "cell_type": "code",
   "execution_count": 132,
   "metadata": {
    "ExecuteTime": {
     "end_time": "2020-08-14T04:42:43.888321Z",
     "start_time": "2020-08-14T04:42:43.883319Z"
    }
   },
   "outputs": [
    {
     "name": "stdout",
     "output_type": "stream",
     "text": [
      "int32\n",
      "float64\n"
     ]
    }
   ],
   "source": [
    "# 넘파이 배열(ndarray) -> 반드시 같은 자료형이어야 함\n",
    "x = np.array([1,2,3])\n",
    "print(x.dtype)\n",
    "\n",
    "y = np.array([1,2,3.0])\n",
    "print(y.dtype) #-> 자동 형변환으로 자료형을 통일시킴"
   ]
  },
  {
   "cell_type": "code",
   "execution_count": 134,
   "metadata": {
    "ExecuteTime": {
     "end_time": "2020-08-14T04:47:43.025031Z",
     "start_time": "2020-08-14T04:47:43.021029Z"
    }
   },
   "outputs": [
    {
     "name": "stdout",
     "output_type": "stream",
     "text": [
      "<U1\n",
      "12\n"
     ]
    }
   ],
   "source": [
    "z = np.array([1,2], dtype = 'U')\n",
    "print(z.dtype)\n",
    "print(z[0]+z[1]) #문자열로 인식하여 '1'+'2' = '12'"
   ]
  },
  {
   "cell_type": "code",
   "execution_count": 136,
   "metadata": {
    "ExecuteTime": {
     "end_time": "2020-08-14T04:48:53.261128Z",
     "start_time": "2020-08-14T04:48:53.257127Z"
    }
   },
   "outputs": [
    {
     "name": "stdout",
     "output_type": "stream",
     "text": [
      "inf\n"
     ]
    }
   ],
   "source": [
    "#무한대 : np.inf\n",
    "print(np.inf)\n",
    "\n",
    "#정의할 수 없는 숫자 : NaN(not a number)\n",
    "print(np.nan)"
   ]
  },
  {
   "cell_type": "code",
   "execution_count": 144,
   "metadata": {
    "ExecuteTime": {
     "end_time": "2020-08-14T04:53:42.351108Z",
     "start_time": "2020-08-14T04:53:42.346107Z"
    }
   },
   "outputs": [
    {
     "name": "stdout",
     "output_type": "stream",
     "text": [
      "[  0.  inf -inf  nan]\n",
      "0.0\n"
     ]
    },
    {
     "name": "stderr",
     "output_type": "stream",
     "text": [
      "c:\\users\\i\\pycharmprojects\\multicampus-deeplearning-based-ai-engineering\\venv\\lib\\site-packages\\ipykernel_launcher.py:2: RuntimeWarning: divide by zero encountered in true_divide\n",
      "  \n",
      "c:\\users\\i\\pycharmprojects\\multicampus-deeplearning-based-ai-engineering\\venv\\lib\\site-packages\\ipykernel_launcher.py:2: RuntimeWarning: invalid value encountered in true_divide\n",
      "  \n"
     ]
    }
   ],
   "source": [
    "# print(1/0)\n",
    "print(np.array([0, 1, -1, 0])/np.array([1, 0, 0, 0]))\n",
    "\n",
    "print(np.exp(-np.inf)) #로그함수 : x축이 0으로 갈수록 y축 값은 -(무한대)값을 가짐"
   ]
  },
  {
   "cell_type": "markdown",
   "metadata": {},
   "source": [
    "유니버설 함수"
   ]
  },
  {
   "cell_type": "code",
   "execution_count": null,
   "metadata": {},
   "outputs": [],
   "source": [
    "#유니버설 함수 : ndarray \n",
    "#              -> 데이터를 원소별로 연산을 수행하는 함수(벡터화 된 래퍼함수)\n",
    "#스칼라값 전달 => 연산 => 스칼라값 리턴  "
   ]
  },
  {
   "cell_type": "code",
   "execution_count": 147,
   "metadata": {
    "ExecuteTime": {
     "end_time": "2020-08-14T05:10:20.667562Z",
     "start_time": "2020-08-14T05:10:20.661561Z"
    }
   },
   "outputs": [
    {
     "name": "stdout",
     "output_type": "stream",
     "text": [
      "[0 1 2 3 4 5 6 7 8 9]\n",
      "[0.         1.         1.41421356 1.73205081 2.         2.23606798\n",
      " 2.44948974 2.64575131 2.82842712 3.        ]\n",
      "[1.00000000e+00 2.71828183e+00 7.38905610e+00 2.00855369e+01\n",
      " 5.45981500e+01 1.48413159e+02 4.03428793e+02 1.09663316e+03\n",
      " 2.98095799e+03 8.10308393e+03]\n"
     ]
    }
   ],
   "source": [
    "arr = np.arange(10)\n",
    "print(arr)\n",
    "print(np.sqrt(arr)) #square root 제곱근\n",
    "print(np.exp(arr)) #자연상수 e: 2.71828..."
   ]
  },
  {
   "cell_type": "code",
   "execution_count": 148,
   "metadata": {
    "ExecuteTime": {
     "end_time": "2020-08-14T05:12:34.404268Z",
     "start_time": "2020-08-14T05:12:34.397268Z"
    }
   },
   "outputs": [
    {
     "name": "stdout",
     "output_type": "stream",
     "text": [
      "[ 1.40866993  0.37925262  0.93453504 -2.97317384  1.7862662  -1.06290821\n",
      "  0.81492909  0.22877625]\n",
      "[ 0.10121704  0.48333964 -0.35860311  0.5999961   0.49326877 -0.47872273\n",
      "  0.07224722 -1.30409404]\n",
      "[ 1.40866993  0.48333964  0.93453504  0.5999961   1.7862662  -0.47872273\n",
      "  0.81492909  0.22877625]\n"
     ]
    }
   ],
   "source": [
    "x = np.random.randn(8)\n",
    "y = np.random.randn(8)\n",
    "print(x)\n",
    "print(y)\n",
    "print(np.maximum(x, y)) #x와 y의 array의 요소를 비교하여 더 큰 수를 리턴"
   ]
  },
  {
   "cell_type": "code",
   "execution_count": 153,
   "metadata": {
    "ExecuteTime": {
     "end_time": "2020-08-14T05:16:52.154972Z",
     "start_time": "2020-08-14T05:16:52.147972Z"
    }
   },
   "outputs": [
    {
     "name": "stdout",
     "output_type": "stream",
     "text": [
      "[-1.20646828 -2.87898269  7.10470399 -0.29569752 -1.75517697  3.77313768\n",
      "  4.87977754]\n",
      "remainder :  [-0.20646828 -0.87898269  0.10470399 -0.29569752 -0.75517697  0.77313768\n",
      "  0.87977754]\n",
      "whold_part :  [-1. -2.  7. -0. -1.  3.  4.]\n"
     ]
    }
   ],
   "source": [
    "arr = np.random.randn(7)*5\n",
    "print(arr)\n",
    "remainder, whold_part = np.modf(arr) #numpy 함수 : 나머지, 몫\n",
    "print(\"remainder : \", remainder)\n",
    "print(\"whold_part : \", whold_part)"
   ]
  },
  {
   "cell_type": "code",
   "execution_count": 155,
   "metadata": {
    "ExecuteTime": {
     "end_time": "2020-08-14T05:18:01.861033Z",
     "start_time": "2020-08-14T05:18:01.856033Z"
    }
   },
   "outputs": [
    {
     "name": "stdout",
     "output_type": "stream",
     "text": [
      "1\n",
      "2\n",
      "(2, 1)\n"
     ]
    }
   ],
   "source": [
    "print(7%3)\n",
    "print(7//3)\n",
    "print(divmod(7, 3)) #파이썬 함수 : 몫과 나머지를 한번에 구하는 함수"
   ]
  },
  {
   "cell_type": "code",
   "execution_count": 157,
   "metadata": {
    "ExecuteTime": {
     "end_time": "2020-08-14T05:20:01.371710Z",
     "start_time": "2020-08-14T05:20:01.366705Z"
    }
   },
   "outputs": [
    {
     "name": "stdout",
     "output_type": "stream",
     "text": [
      "[0. 0. 0. 0. 0.]\n",
      "[0 0 0 0 0]\n"
     ]
    }
   ],
   "source": [
    "print(np.zeros(5)) #크기가 5이고 모든 요소가 0인 array를 생성\n",
    "print(np.zeros(5, dtype=\"i\")) #자료형을 int형으로 바꿈"
   ]
  },
  {
   "cell_type": "code",
   "execution_count": 163,
   "metadata": {
    "ExecuteTime": {
     "end_time": "2020-08-14T05:22:07.902889Z",
     "start_time": "2020-08-14T05:22:07.895890Z"
    }
   },
   "outputs": [
    {
     "name": "stdout",
     "output_type": "stream",
     "text": [
      "[[[1. 1. 1. 1.]\n",
      "  [1. 1. 1. 1.]\n",
      "  [1. 1. 1. 1.]]\n",
      "\n",
      " [[1. 1. 1. 1.]\n",
      "  [1. 1. 1. 1.]\n",
      "  [1. 1. 1. 1.]]]\n",
      "[[[1 1 1 1]\n",
      "  [1 1 1 1]\n",
      "  [1 1 1 1]]\n",
      "\n",
      " [[1 1 1 1]\n",
      "  [1 1 1 1]\n",
      "  [1 1 1 1]]]\n",
      "[[[1 1 1 1]\n",
      "  [1 1 1 1]\n",
      "  [1 1 1 1]]\n",
      "\n",
      " [[1 1 1 1]\n",
      "  [1 1 1 1]\n",
      "  [1 1 1 1]]]\n"
     ]
    }
   ],
   "source": [
    "print(np.ones((2,3,4))) #float형\n",
    "print(np.ones((2,3,4), dtype='i')) #int32형\n",
    "print(np.ones((2,3,4), dtype='i8')) #int64형"
   ]
  },
  {
   "cell_type": "code",
   "execution_count": 164,
   "metadata": {
    "ExecuteTime": {
     "end_time": "2020-08-14T05:24:20.956546Z",
     "start_time": "2020-08-14T05:24:20.950545Z"
    }
   },
   "outputs": [
    {
     "name": "stdout",
     "output_type": "stream",
     "text": [
      "[[1. 1. 1. 1.]\n",
      " [1. 1. 1. 1.]\n",
      " [1. 1. 1. 1.]]\n"
     ]
    }
   ],
   "source": [
    "x = np.zeros((3, 4))\n",
    "y = np.ones_like(x) #shape을 원하는 변수의 shape과 똑같이 만들어주는 함수\n",
    "                    #y=np.ones((3,4))와 같은 표현\n",
    "print(y)"
   ]
  },
  {
   "cell_type": "code",
   "execution_count": 167,
   "metadata": {
    "ExecuteTime": {
     "end_time": "2020-08-14T05:30:11.168964Z",
     "start_time": "2020-08-14T05:30:11.162963Z"
    }
   },
   "outputs": [
    {
     "data": {
      "text/plain": [
       "array([[1., 1., 1.],\n",
       "       [1., 1., 1.],\n",
       "       [1., 1., 1.],\n",
       "       [1., 1., 1.]])"
      ]
     },
     "execution_count": 167,
     "metadata": {},
     "output_type": "execute_result"
    }
   ],
   "source": [
    "np.empty((4, 3)) #empty:배열 생성만 하고 초기화 작업은 하지 않는 명령\n",
    "                 #기존에 메모리에 저장되어 있던 값을 임의로 불러들임"
   ]
  },
  {
   "cell_type": "code",
   "execution_count": 168,
   "metadata": {
    "ExecuteTime": {
     "end_time": "2020-08-14T05:31:08.604132Z",
     "start_time": "2020-08-14T05:31:08.598130Z"
    }
   },
   "outputs": [
    {
     "data": {
      "text/plain": [
       "array([1, 3, 5, 7, 9])"
      ]
     },
     "execution_count": 168,
     "metadata": {},
     "output_type": "execute_result"
    }
   ],
   "source": [
    "np.arange(1, 10, 2) #stepsize를 지정가능"
   ]
  },
  {
   "cell_type": "code",
   "execution_count": 169,
   "metadata": {
    "ExecuteTime": {
     "end_time": "2020-08-14T05:31:57.317666Z",
     "start_time": "2020-08-14T05:31:57.311667Z"
    }
   },
   "outputs": [
    {
     "data": {
      "text/plain": [
       "array([  0.,  25.,  50.,  75., 100.])"
      ]
     },
     "execution_count": 169,
     "metadata": {},
     "output_type": "execute_result"
    }
   ],
   "source": [
    "np.linspace(0, 100, 5) #선형공간 : 시작값, 끝값, 개수 -> 구간 나눌때 사용"
   ]
  },
  {
   "cell_type": "code",
   "execution_count": 170,
   "metadata": {
    "ExecuteTime": {
     "end_time": "2020-08-14T05:32:46.730252Z",
     "start_time": "2020-08-14T05:32:46.724252Z"
    }
   },
   "outputs": [
    {
     "data": {
      "text/plain": [
       "array([ 1.25892541,  1.58489319,  1.99526231,  2.51188643,  3.16227766,\n",
       "        3.98107171,  5.01187234,  6.30957344,  7.94328235, 10.        ])"
      ]
     },
     "execution_count": 170,
     "metadata": {},
     "output_type": "execute_result"
    }
   ],
   "source": [
    "np.logspace(0.1, 1, 10)"
   ]
  },
  {
   "cell_type": "code",
   "execution_count": 171,
   "metadata": {
    "ExecuteTime": {
     "end_time": "2020-08-14T05:35:27.474919Z",
     "start_time": "2020-08-14T05:35:27.469918Z"
    }
   },
   "outputs": [
    {
     "name": "stdout",
     "output_type": "stream",
     "text": [
      "[[ 0  1  2  3]\n",
      " [ 4  5  6  7]\n",
      " [ 8  9 10 11]]\n",
      "[[ 0  1  2  3]\n",
      " [ 4  5  6  7]\n",
      " [ 8  9 10 11]]\n"
     ]
    }
   ],
   "source": [
    "a = np.arange(12)\n",
    "b = a.reshape(3, 4)\n",
    "c = a.reshape(3, -1) # -1 : 알아서 계산하여 값이 들어가는 값을 표현\n",
    "# 즉 b와 c는 같은 결과\n",
    "# (2차원 기준)행과 열 둘 중 하나는 값을 지정해줘야 함.(두 값다 -1을 쓸 수는 없음)\n",
    "print(b)\n",
    "print(c)"
   ]
  },
  {
   "cell_type": "code",
   "execution_count": 173,
   "metadata": {
    "ExecuteTime": {
     "end_time": "2020-08-14T05:38:33.198396Z",
     "start_time": "2020-08-14T05:38:33.192397Z"
    }
   },
   "outputs": [
    {
     "name": "stdout",
     "output_type": "stream",
     "text": [
      "[[ 0  1  2  3]\n",
      " [ 4  5  6  7]\n",
      " [ 8  9 10 11]]\n",
      "[ 0  1  2  3  4  5  6  7  8  9 10 11]\n"
     ]
    }
   ],
   "source": [
    "a = a.reshape(3, 4)\n",
    "print(a)\n",
    "print(a.flatten()) #다차원배열을 1차원 배열로 변형"
   ]
  },
  {
   "cell_type": "code",
   "execution_count": 174,
   "metadata": {
    "ExecuteTime": {
     "end_time": "2020-08-14T05:39:46.673730Z",
     "start_time": "2020-08-14T05:39:46.668730Z"
    }
   },
   "outputs": [
    {
     "name": "stdout",
     "output_type": "stream",
     "text": [
      "[[ 0  1  2  3]\n",
      " [ 4  5  6  7]\n",
      " [ 8  9 10 11]]\n",
      "[ 0  1  2  3  4  5  6  7  8  9 10 11]\n"
     ]
    }
   ],
   "source": [
    "print(a)\n",
    "print(a.ravel()) #flatten과 같은 기능의 함수"
   ]
  },
  {
   "cell_type": "code",
   "execution_count": 177,
   "metadata": {
    "ExecuteTime": {
     "end_time": "2020-08-14T05:42:06.059844Z",
     "start_time": "2020-08-14T05:42:06.052845Z"
    }
   },
   "outputs": [
    {
     "name": "stdout",
     "output_type": "stream",
     "text": [
      "[0 1 2 3 4]\n",
      "[[0 1 2 3 4]]\n",
      "[[0]\n",
      " [1]\n",
      " [2]\n",
      " [3]\n",
      " [4]]\n"
     ]
    }
   ],
   "source": [
    "x = np.arange(5) #길이가 5인 1차원 배열\n",
    "print(x) #길이가 5인 1차원 배열\n",
    "print(x.reshape(1, 5)) #2차원 배열\n",
    "print(x.reshape(5, 1)) #2차원 배열\n",
    "#3가지 값이 모두 다른 형태임"
   ]
  },
  {
   "cell_type": "code",
   "execution_count": 180,
   "metadata": {
    "ExecuteTime": {
     "end_time": "2020-08-14T05:43:26.703699Z",
     "start_time": "2020-08-14T05:43:26.697698Z"
    }
   },
   "outputs": [
    {
     "name": "stdout",
     "output_type": "stream",
     "text": [
      "[0 1 2 3 4]\n",
      "[[0]\n",
      " [1]\n",
      " [2]\n",
      " [3]\n",
      " [4]]\n"
     ]
    }
   ],
   "source": [
    "#배열의 1차원 증가 : newaxis\n",
    "print(x)\n",
    "print(x[:, np.newaxis]) #차원이 증가함"
   ]
  },
  {
   "cell_type": "markdown",
   "metadata": {},
   "source": [
    "얼굴 이미지 분류 비교"
   ]
  },
  {
   "cell_type": "code",
   "execution_count": 184,
   "metadata": {
    "ExecuteTime": {
     "end_time": "2020-08-14T06:13:13.706121Z",
     "start_time": "2020-08-14T06:13:13.702122Z"
    }
   },
   "outputs": [],
   "source": [
    "from sklearn.datasets import fetch_olivetti_faces"
   ]
  },
  {
   "cell_type": "code",
   "execution_count": 185,
   "metadata": {
    "ExecuteTime": {
     "end_time": "2020-08-14T06:13:19.648551Z",
     "start_time": "2020-08-14T06:13:19.610550Z"
    }
   },
   "outputs": [
    {
     "data": {
      "text/plain": [
       "dict_keys(['data', 'images', 'target', 'DESCR'])"
      ]
     },
     "execution_count": 185,
     "metadata": {},
     "output_type": "execute_result"
    }
   ],
   "source": [
    "data = fetch_olivetti_faces()\n",
    "data.keys()"
   ]
  },
  {
   "cell_type": "code",
   "execution_count": 186,
   "metadata": {
    "ExecuteTime": {
     "end_time": "2020-08-14T06:13:22.520761Z",
     "start_time": "2020-08-14T06:13:22.514761Z"
    }
   },
   "outputs": [
    {
     "data": {
      "text/plain": [
       "(400, 64, 64)"
      ]
     },
     "execution_count": 186,
     "metadata": {},
     "output_type": "execute_result"
    }
   ],
   "source": [
    "data.data.shape #(400, 4096) -> 이미지400장, 각 이미지는 4096차원 벡터\n",
    "data.images.shape #(400, 64, 64)"
   ]
  },
  {
   "cell_type": "code",
   "execution_count": 196,
   "metadata": {
    "ExecuteTime": {
     "end_time": "2020-08-14T06:17:08.802182Z",
     "start_time": "2020-08-14T06:17:08.672176Z"
    }
   },
   "outputs": [
    {
     "data": {
      "text/plain": [
       "<matplotlib.image.AxesImage at 0x194751a0a88>"
      ]
     },
     "execution_count": 196,
     "metadata": {},
     "output_type": "execute_result"
    },
    {
     "data": {
      "image/png": "[encoded data removed]",
      "text/plain": [
       "<Figure size 432x288 with 1 Axes>"
      ]
     },
     "metadata": {
      "needs_background": "light"
     },
     "output_type": "display_data"
    }
   ],
   "source": [
    "plt.imshow(data.images[100], cmap=plt.cm.bone)\n",
    "#나머지 399장 이미지 중에서 내적이 가장 크게 나오는 사람의 사진 출력(가장 유사한 이미지)"
   ]
  },
  {
   "cell_type": "code",
   "execution_count": null,
   "metadata": {},
   "outputs": [],
   "source": []
  },
  {
   "cell_type": "code",
   "execution_count": null,
   "metadata": {},
   "outputs": [],
   "source": []
  },
  {
   "cell_type": "code",
   "execution_count": null,
   "metadata": {},
   "outputs": [],
   "source": []
  }
 ],
 "metadata": {
  "kernelspec": {
   "display_name": "Python 3",
   "language": "python",
   "name": "python3"
  },
  "language_info": {
   "codemirror_mode": {
    "name": "ipython",
    "version": 3
   },
   "file_extension": ".py",
   "mimetype": "text/x-python",
   "name": "python",
   "nbconvert_exporter": "python",
   "pygments_lexer": "ipython3",
   "version": "3.7.8"
  },
  "toc": {
   "base_numbering": 1,
   "nav_menu": {},
   "number_sections": false,
   "sideBar": true,
   "skip_h1_title": false,
   "title_cell": "Table of Contents",
   "title_sidebar": "Contents",
   "toc_cell": false,
   "toc_position": {},
   "toc_section_display": true,
   "toc_window_display": true
  }
 },
 "nbformat": 4,
 "nbformat_minor": 4
}
