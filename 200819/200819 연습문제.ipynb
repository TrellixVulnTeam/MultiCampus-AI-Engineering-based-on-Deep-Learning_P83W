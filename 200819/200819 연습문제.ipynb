{
 "cells": [
  {
   "cell_type": "markdown",
   "metadata": {},
   "source": [
    "# 1. n-gram\n",
    "\n",
    "임의의 단어와 n을 입력받아 n-gram 출력\n",
    "\n",
    "    입력:  \n",
    "    hello\n",
    "    2  \n",
    "\n",
    "    출력:\n",
    "    'he', 'el', 'll', 'lo'"
   ]
  },
  {
   "cell_type": "code",
   "execution_count": 1,
   "metadata": {
    "ExecuteTime": {
     "end_time": "2020-08-19T08:30:25.755737Z",
     "start_time": "2020-08-19T08:30:22.654504Z"
    }
   },
   "outputs": [
    {
     "name": "stdout",
     "output_type": "stream",
     "text": [
      "단어 : hello\n",
      "n : 2\n",
      "he el ll lo\n"
     ]
    }
   ],
   "source": [
    "word = input(\"단어 : \")\n",
    "n = int(input(\"n : \"))\n",
    "li = []\n",
    "for i in range(len(word)-n+1):\n",
    "    li.append(word[i:i+n])\n",
    "print(*li)"
   ]
  },
  {
   "cell_type": "markdown",
   "metadata": {},
   "source": [
    "# 2. 파일명 포맷팅\n",
    "\n",
    "    입력:\n",
    "    1.jpg 10.jpg 2.jpg\n",
    "\n",
    "    출력:\n",
    "    ['001.jpg', '010.jpg', '002.jpg']"
   ]
  },
  {
   "cell_type": "code",
   "execution_count": 2,
   "metadata": {
    "ExecuteTime": {
     "end_time": "2020-08-19T08:30:38.737710Z",
     "start_time": "2020-08-19T08:30:25.757738Z"
    }
   },
   "outputs": [
    {
     "name": "stdout",
     "output_type": "stream",
     "text": [
      "파일명 입력: 1.jpg 10.jpg 2.jpg\n",
      "['001.jpg', '010.jpg', '002.jpg']\n"
     ]
    }
   ],
   "source": [
    "file = list(input('파일명 입력: ').split())\n",
    "for i, f in enumerate(file):\n",
    "    fname, ext = f.split('.')\n",
    "    file[i] = '0'*(3-len(fname))+fname + '.' + ext\n",
    "print(file)"
   ]
  }
 ],
 "metadata": {
  "kernelspec": {
   "display_name": "Python 3",
   "language": "python",
   "name": "python3"
  },
  "language_info": {
   "codemirror_mode": {
    "name": "ipython",
    "version": 3
   },
   "file_extension": ".py",
   "mimetype": "text/x-python",
   "name": "python",
   "nbconvert_exporter": "python",
   "pygments_lexer": "ipython3",
   "version": "3.7.8"
  },
  "toc": {
   "base_numbering": 1,
   "nav_menu": {},
   "number_sections": false,
   "sideBar": true,
   "skip_h1_title": false,
   "title_cell": "Table of Contents",
   "title_sidebar": "Contents",
   "toc_cell": false,
   "toc_position": {},
   "toc_section_display": true,
   "toc_window_display": true
  }
 },
 "nbformat": 4,
 "nbformat_minor": 4
}
