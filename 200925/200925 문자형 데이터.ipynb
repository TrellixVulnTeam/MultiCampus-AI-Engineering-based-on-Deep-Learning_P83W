{
 "cells": [
  {
   "cell_type": "markdown",
   "metadata": {},
   "source": [
    "# 문자데이터의 전처리!!!\n",
    "--- \n",
    "\n",
    "문자열 데이터 : 카테고리형(학점, 도시...), 텍스트형(일반적인 문장에 포함된 단어들...)  \n",
    "  \n",
    "1. `레이블 인코딩`(순서가 있는 카테고리)  \n",
    " 예) 학점  \n",
    "     A->1, B->2, C->3... (숫자가 커질수록 학점이 낮음)  \n",
    "\n",
    "**주의!!! 레이블 인코딩은 선형회귀와 같은 알고리즘에 적용하면 안됌.**\n",
    "\n",
    "2. `원핫 인코딩`(순서x)  \n",
    " 예) 지역  \n",
    "     서울=1000, 부산=0100, 제주=0010, 강릉=0001  \n",
    "\n",
    "\n",
    "\n",
    "3. `get_dummies`함수\n",
    "\n",
    "---"
   ]
  },
  {
   "cell_type": "markdown",
   "metadata": {},
   "source": [
    "## 1. 레이블 인코딩"
   ]
  },
  {
   "cell_type": "code",
   "execution_count": 1,
   "metadata": {},
   "outputs": [],
   "source": [
    "from sklearn.preprocessing import LabelEncoder"
   ]
  },
  {
   "cell_type": "code",
   "execution_count": 4,
   "metadata": {},
   "outputs": [
    {
     "name": "stdout",
     "output_type": "stream",
     "text": [
      "[0 1 2 2 3]\n",
      "['tv' '냉장고' '에어컨' '에어컨' '전자레인지']\n"
     ]
    }
   ],
   "source": [
    "items = ['tv', '냉장고', '에어컨', '에어컨', '전자레인지']\n",
    "\n",
    "encorder = LabelEncoder()\n",
    "encorder.fit(items)\n",
    "labels = encorder.transform(items) #레이블 인코딩\n",
    "\n",
    "print(labels)\n",
    "print(encorder.inverse_transform(labels)) #원 데이터가 다시 출력"
   ]
  },
  {
   "cell_type": "markdown",
   "metadata": {},
   "source": [
    "## 2. 원핫 인코딩\n",
    "\n",
    "    * step1 : 원핫 인코딩을 하기 전에 모든 문자열을 숫자로 변환\n",
    "    * step2 : 숫자로 변환된 데이터(2차원)에 대한 원핫인코딩"
   ]
  },
  {
   "cell_type": "code",
   "execution_count": 6,
   "metadata": {},
   "outputs": [],
   "source": [
    "from sklearn.preprocessing import OneHotEncoder"
   ]
  },
  {
   "cell_type": "code",
   "execution_count": 15,
   "metadata": {},
   "outputs": [
    {
     "name": "stdout",
     "output_type": "stream",
     "text": [
      "[0 1 2 2 3]\n",
      "[[1. 0. 0. 0.]\n",
      " [0. 1. 0. 0.]\n",
      " [0. 0. 1. 0.]\n",
      " [0. 0. 1. 0.]\n",
      " [0. 0. 0. 1.]]\n"
     ]
    }
   ],
   "source": [
    "items = ['tv', '냉장고', '에어컨', '에어컨', '전자레인지']\n",
    "\n",
    "#step1\n",
    "encorder = LabelEncoder()\n",
    "encorder.fit(items)\n",
    "labels = encorder.transform(items) #레이블 인코딩\n",
    "print(labels)\n",
    "\n",
    "#step2\n",
    "labels = labels.reshape(-1, 1)\n",
    "ohencorder = OneHotEncoder()\n",
    "labels = ohencorder.fit_transform(labels)\n",
    "print(labels.toarray())"
   ]
  },
  {
   "cell_type": "markdown",
   "metadata": {},
   "source": [
    "## 3. `get_dummies`함수 사용"
   ]
  },
  {
   "cell_type": "code",
   "execution_count": 14,
   "metadata": {},
   "outputs": [
    {
     "data": {
      "text/html": [
       "<div>\n",
       "<style scoped>\n",
       "    .dataframe tbody tr th:only-of-type {\n",
       "        vertical-align: middle;\n",
       "    }\n",
       "\n",
       "    .dataframe tbody tr th {\n",
       "        vertical-align: top;\n",
       "    }\n",
       "\n",
       "    .dataframe thead th {\n",
       "        text-align: right;\n",
       "    }\n",
       "</style>\n",
       "<table border=\"1\" class=\"dataframe\">\n",
       "  <thead>\n",
       "    <tr style=\"text-align: right;\">\n",
       "      <th></th>\n",
       "      <th>item_tv</th>\n",
       "      <th>item_냉장고</th>\n",
       "      <th>item_에어컨</th>\n",
       "      <th>item_전자레인지</th>\n",
       "    </tr>\n",
       "  </thead>\n",
       "  <tbody>\n",
       "    <tr>\n",
       "      <th>0</th>\n",
       "      <td>1</td>\n",
       "      <td>0</td>\n",
       "      <td>0</td>\n",
       "      <td>0</td>\n",
       "    </tr>\n",
       "    <tr>\n",
       "      <th>1</th>\n",
       "      <td>0</td>\n",
       "      <td>1</td>\n",
       "      <td>0</td>\n",
       "      <td>0</td>\n",
       "    </tr>\n",
       "    <tr>\n",
       "      <th>2</th>\n",
       "      <td>0</td>\n",
       "      <td>0</td>\n",
       "      <td>1</td>\n",
       "      <td>0</td>\n",
       "    </tr>\n",
       "    <tr>\n",
       "      <th>3</th>\n",
       "      <td>0</td>\n",
       "      <td>0</td>\n",
       "      <td>1</td>\n",
       "      <td>0</td>\n",
       "    </tr>\n",
       "    <tr>\n",
       "      <th>4</th>\n",
       "      <td>0</td>\n",
       "      <td>0</td>\n",
       "      <td>0</td>\n",
       "      <td>1</td>\n",
       "    </tr>\n",
       "  </tbody>\n",
       "</table>\n",
       "</div>"
      ],
      "text/plain": [
       "   item_tv  item_냉장고  item_에어컨  item_전자레인지\n",
       "0        1         0         0           0\n",
       "1        0         1         0           0\n",
       "2        0         0         1           0\n",
       "3        0         0         1           0\n",
       "4        0         0         0           1"
      ]
     },
     "execution_count": 14,
     "metadata": {},
     "output_type": "execute_result"
    }
   ],
   "source": [
    "df = pd.DataFrame(['tv', '냉장고', '에어컨', '에어컨', '전자레인지'],\n",
    "                 columns=['item'])\n",
    "pd.get_dummies(df)"
   ]
  }
 ],
 "metadata": {
  "kernelspec": {
   "display_name": "Python 3",
   "language": "python",
   "name": "python3"
  },
  "language_info": {
   "codemirror_mode": {
    "name": "ipython",
    "version": 3
   },
   "file_extension": ".py",
   "mimetype": "text/x-python",
   "name": "python",
   "nbconvert_exporter": "python",
   "pygments_lexer": "ipython3",
   "version": "3.7.3"
  },
  "toc": {
   "base_numbering": 1,
   "nav_menu": {},
   "number_sections": false,
   "sideBar": true,
   "skip_h1_title": false,
   "title_cell": "Table of Contents",
   "title_sidebar": "Contents",
   "toc_cell": false,
   "toc_position": {},
   "toc_section_display": true,
   "toc_window_display": false
  }
 },
 "nbformat": 4,
 "nbformat_minor": 2
}
