{
 "cells": [
  {
   "cell_type": "code",
   "execution_count": 4,
   "metadata": {},
   "outputs": [],
   "source": [
    "import numpy as np\n",
    "import pandas as pd\n",
    "import matplotlib.pyplot as plt\n",
    "import seaborn as sns\n",
    "import scipy.stats"
   ]
  },
  {
   "cell_type": "markdown",
   "metadata": {},
   "source": [
    "# 범주형 변수 정규분포??"
   ]
  },
  {
   "cell_type": "code",
   "execution_count": 3,
   "metadata": {},
   "outputs": [],
   "source": [
    "bloodtype = ['A','A','A','B','B','AB','O',]"
   ]
  },
  {
   "cell_type": "markdown",
   "metadata": {},
   "source": [
    "* 데이터 확인"
   ]
  },
  {
   "cell_type": "code",
   "execution_count": 4,
   "metadata": {},
   "outputs": [
    {
     "data": {
      "text/plain": [
       "(array(['A', 'AB', 'B', 'O'], dtype='<U2'), array([3, 1, 2, 1], dtype=int64))"
      ]
     },
     "execution_count": 4,
     "metadata": {},
     "output_type": "execute_result"
    }
   ],
   "source": [
    "np.unique(bloodtype, return_counts=True) #각 변수별 개수도 리턴"
   ]
  },
  {
   "cell_type": "code",
   "execution_count": 5,
   "metadata": {},
   "outputs": [
    {
     "data": {
      "text/plain": [
       "A     3\n",
       "B     2\n",
       "O     1\n",
       "AB    1\n",
       "dtype: int64"
      ]
     },
     "execution_count": 5,
     "metadata": {},
     "output_type": "execute_result"
    }
   ],
   "source": [
    "pd.Series(bloodtype).value_counts()"
   ]
  },
  {
   "cell_type": "code",
   "execution_count": 8,
   "metadata": {},
   "outputs": [
    {
     "data": {
      "text/plain": [
       "<AxesSubplot:ylabel='count'>"
      ]
     },
     "execution_count": 8,
     "metadata": {},
     "output_type": "execute_result"
    },
    {
     "data": {
      "image/png": "[encoded data removed]",
      "text/plain": [
       "<Figure size 432x288 with 1 Axes>"
      ]
     },
     "metadata": {
      "needs_background": "light"
     },
     "output_type": "display_data"
    }
   ],
   "source": [
    "sns.countplot(bloodtype)"
   ]
  },
  {
   "cell_type": "markdown",
   "metadata": {},
   "source": [
    "# 연속형 변수 시각화?"
   ]
  },
  {
   "cell_type": "code",
   "execution_count": 9,
   "metadata": {},
   "outputs": [],
   "source": [
    "x = [1,1,1,2,3,5,5,7,8,9]"
   ]
  },
  {
   "cell_type": "code",
   "execution_count": 11,
   "metadata": {},
   "outputs": [],
   "source": [
    "#데이터 범위를 4 구간으로 나눔\n",
    "hist, edges = np.histogram(x, 4) \n",
    "#(array([4, 1, 2, 3], dtype=int64), array([1., 3., 5., 7., 9.])) \n",
    "# 두개의 배열이 return됌 : (구간별 요소 개수, 구간경계)"
   ]
  },
  {
   "cell_type": "code",
   "execution_count": 12,
   "metadata": {},
   "outputs": [
    {
     "data": {
      "text/plain": [
       "(array([4, 1, 2, 3], dtype=int64), array([1., 3., 5., 7., 9.]))"
      ]
     },
     "execution_count": 12,
     "metadata": {},
     "output_type": "execute_result"
    }
   ],
   "source": [
    "hist, edges"
   ]
  },
  {
   "cell_type": "code",
   "execution_count": 15,
   "metadata": {},
   "outputs": [
    {
     "data": {
      "text/plain": [
       "<AxesSubplot:>"
      ]
     },
     "execution_count": 15,
     "metadata": {},
     "output_type": "execute_result"
    },
    {
     "data": {
      "image/png": "[encoded data removed]",
      "text/plain": [
       "<Figure size 432x288 with 1 Axes>"
      ]
     },
     "metadata": {
      "needs_background": "light"
     },
     "output_type": "display_data"
    }
   ],
   "source": [
    "sns.distplot(x, bins=4, kde=False) #bins:구간개수, kde:선그래프"
   ]
  },
  {
   "cell_type": "code",
   "execution_count": null,
   "metadata": {},
   "outputs": [],
   "source": [
    "\"\"\"\n",
    "왜도 vs 첨도?\n",
    "\"\"\""
   ]
  },
  {
   "cell_type": "markdown",
   "metadata": {},
   "source": [
    "# 중심경향(평균, 최빈수, 중앙값) : 자료 전체 대표"
   ]
  },
  {
   "cell_type": "code",
   "execution_count": 16,
   "metadata": {},
   "outputs": [],
   "source": [
    "x = [100, 100, 200, 400, 500]"
   ]
  },
  {
   "cell_type": "code",
   "execution_count": 17,
   "metadata": {},
   "outputs": [
    {
     "data": {
      "text/plain": [
       "260.0"
      ]
     },
     "execution_count": 17,
     "metadata": {},
     "output_type": "execute_result"
    }
   ],
   "source": [
    "np.mean(x) #평균은 극단치(outlier)의 영향을 잘 받는다. -> 소득분포처럼 비대칭인 자료에 대해서는 평균값이 자료를 대표하기 어려움"
   ]
  },
  {
   "cell_type": "code",
   "execution_count": 18,
   "metadata": {},
   "outputs": [
    {
     "data": {
      "text/plain": [
       "200.0"
      ]
     },
     "execution_count": 18,
     "metadata": {},
     "output_type": "execute_result"
    }
   ],
   "source": [
    "np.median(x) #중위수는 극단치(outlier)의 영향을 잘 받지 않는다."
   ]
  },
  {
   "cell_type": "code",
   "execution_count": 19,
   "metadata": {},
   "outputs": [
    {
     "data": {
      "text/plain": [
       "ModeResult(mode=array([100]), count=array([2]))"
      ]
     },
     "execution_count": 19,
     "metadata": {},
     "output_type": "execute_result"
    }
   ],
   "source": [
    "from scipy.stats import mode\n",
    "mode(x) #최빈수"
   ]
  },
  {
   "cell_type": "markdown",
   "metadata": {},
   "source": [
    "# 흩어진정도(분산, 표준편차, 사분위)"
   ]
  },
  {
   "cell_type": "code",
   "execution_count": null,
   "metadata": {},
   "outputs": [],
   "source": [
    "#대부분의 자료는 중심 부분에 많이 몰려있는 경향이 있음\n",
    "# 평균에서 표준편차의 k배 만큼 떨어져 있다. -> k표준편차\n",
    "\n",
    "#표준편차 : 평균에서 떨어진 정도\n",
    "#IQR : 중간값에서 벗어난 정도"
   ]
  },
  {
   "cell_type": "code",
   "execution_count": 26,
   "metadata": {},
   "outputs": [],
   "source": [
    "x = [1,1,1,2,3,5,5,7,8,9]"
   ]
  },
  {
   "cell_type": "code",
   "execution_count": 27,
   "metadata": {},
   "outputs": [
    {
     "data": {
      "text/plain": [
       "8"
      ]
     },
     "execution_count": 27,
     "metadata": {},
     "output_type": "execute_result"
    }
   ],
   "source": [
    "## 뭐있던데...\n",
    "np.max(x)-np.min(x) #자료범위(자료의 퍼짐 정도)"
   ]
  },
  {
   "cell_type": "code",
   "execution_count": 28,
   "metadata": {},
   "outputs": [
    {
     "data": {
      "text/plain": [
       "8.36"
      ]
     },
     "execution_count": 28,
     "metadata": {},
     "output_type": "execute_result"
    }
   ],
   "source": [
    "#분산? 평균으로부터 자료가 얼마나 벗어나 있는지를 나타내는 정도\n",
    "#데이터-평균 -> 제곱-> 평균\n",
    "#분산이 큼? 데이터가 평균에서 많이 벗어나있다\n",
    "#분산이 작음? 데이터가 평균 주변에 모여있다.\n",
    "np.var(x)"
   ]
  },
  {
   "cell_type": "code",
   "execution_count": 29,
   "metadata": {},
   "outputs": [
    {
     "data": {
      "text/plain": [
       "2.891366458960192"
      ]
     },
     "execution_count": 29,
     "metadata": {},
     "output_type": "execute_result"
    }
   ],
   "source": [
    "#표준편차? 평균에서 데이터가 벗어난 정도를 수치화\n",
    "#분산의 양의 제곱급\n",
    "np.std(x) #np.sqrt(np.var(x))\n"
   ]
  },
  {
   "cell_type": "code",
   "execution_count": 30,
   "metadata": {},
   "outputs": [],
   "source": [
    "#사분위수 : 데이터를 오름차순 정렬 후 4 등분한 각 지점에 해당되는 값(1,2,3,4 사분위수)"
   ]
  },
  {
   "cell_type": "code",
   "execution_count": 31,
   "metadata": {},
   "outputs": [
    {
     "data": {
      "text/plain": [
       "6.5"
      ]
     },
     "execution_count": 31,
     "metadata": {},
     "output_type": "execute_result"
    }
   ],
   "source": [
    "np.quantile(x, .25) #25%(1사분위수)\n",
    "np.quantile(x, .5) #50%(2사분위수)\n",
    "np.quantile(x, .75) #75%(3사분위수)"
   ]
  },
  {
   "cell_type": "code",
   "execution_count": 32,
   "metadata": {},
   "outputs": [
    {
     "data": {
      "text/plain": [
       "5.25"
      ]
     },
     "execution_count": 32,
     "metadata": {},
     "output_type": "execute_result"
    }
   ],
   "source": [
    "#IQR = 3사분위수(Q3) - 1사분위수(Q1)\n",
    "np.quantile(x, .75) - np.quantile(x, .25)"
   ]
  },
  {
   "cell_type": "markdown",
   "metadata": {},
   "source": [
    "# 상관관계 파악"
   ]
  },
  {
   "cell_type": "code",
   "execution_count": 34,
   "metadata": {},
   "outputs": [],
   "source": [
    "x = [7,3,6,6,9,4,3,9,3,5]\n",
    "y = [6,2,4,6,10,5,1,8,4,5]"
   ]
  },
  {
   "cell_type": "code",
   "execution_count": null,
   "metadata": {},
   "outputs": [],
   "source": [
    "# 두 변수들 사이의 관계를 알고 싶을 때"
   ]
  },
  {
   "cell_type": "markdown",
   "metadata": {},
   "source": [
    "## 1)산점도(scatter plot)"
   ]
  },
  {
   "cell_type": "code",
   "execution_count": 35,
   "metadata": {},
   "outputs": [
    {
     "data": {
      "text/plain": [
       "[<matplotlib.lines.Line2D at 0x21481136b00>]"
      ]
     },
     "execution_count": 35,
     "metadata": {},
     "output_type": "execute_result"
    },
    {
     "data": {
      "image/png": "[encoded data removed]",
      "text/plain": [
       "<Figure size 432x288 with 1 Axes>"
      ]
     },
     "metadata": {
      "needs_background": "light"
     },
     "output_type": "display_data"
    }
   ],
   "source": [
    "plt.plot(x, y, 'o')"
   ]
  },
  {
   "cell_type": "markdown",
   "metadata": {},
   "source": [
    "## 2)공분산(covariance) \n",
    "두 변수가 함께 변화하는 정도를 나타내는 지표"
   ]
  },
  {
   "cell_type": "code",
   "execution_count": 37,
   "metadata": {},
   "outputs": [
    {
     "name": "stdout",
     "output_type": "stream",
     "text": [
      "[[5.38888889 5.5       ]\n",
      " [5.5        6.98888889]]\n",
      "5.499999999999999\n"
     ]
    }
   ],
   "source": [
    "print(np.cov(x,y))\n",
    "print(np.cov(x,y)[0,1])\n",
    "\"\"\"\n",
    "공분산 해석\n",
    "양수 : 두 변수가 같은 방향으로 변화\n",
    "음수 : 두 변수가 반대 방향으로 변화\n",
    "0 : 두 변수가 독립(상관이 전혀 없다)\n",
    "\n",
    "!!! 크기는 단위(척도)에 따라 달라지므로 크기로 판단하면 안됌. -> 표준화 필요(-1~1사의 값) -> 상관계수(공분산을 표준화한 것)\n",
    "\"\"\""
   ]
  },
  {
   "cell_type": "markdown",
   "metadata": {},
   "source": [
    "## 3) 상관계수\n",
    "- 두 변수가 함께 변하는 정도  \n",
    "- -1 ~ +1 사이의 값"
   ]
  },
  {
   "cell_type": "code",
   "execution_count": 43,
   "metadata": {},
   "outputs": [
    {
     "name": "stdout",
     "output_type": "stream",
     "text": [
      "[[1.         0.89620839]\n",
      " [0.89620839 1.        ]]\n",
      "0.8962083932927004\n"
     ]
    },
    {
     "data": {
      "text/plain": [
       "0.8962083932927"
      ]
     },
     "execution_count": 43,
     "metadata": {},
     "output_type": "execute_result"
    }
   ],
   "source": [
    "# 1) 피어슨 상관계수(일반적)\n",
    "print(np.corrcoef(x,y))\n",
    "print(np.corrcoef(x, y)[0,1])\n",
    "\n",
    "################### 증명 #####################\n",
    "#x,y의 공분산\n",
    "cov = np.cov(x,y)[0,1]\n",
    "#x, y의 표준편차\n",
    "xsd = np.std(x, ddof=1) #x의 표본표준편차\n",
    "ysd = np.std(y, ddof=1) #y의 표본표준편차\n",
    "#상관계수\n",
    "cov/(xsd*ysd)\n",
    "\n",
    "\"\"\"\n",
    "상관계수 해석 : 공분산 해석과 같음\n",
    "\n",
    "상관계수를 제곱하면? 분산(변화량)에서 공유하는 비율\n",
    "ex) x,y의 상관계수가 0.7 -> 제곱하면 0.49(49%)\n",
    "    49%? x의 분산 중 49%를 y와 공유한다. x의 분산 중 49%를 y로 설명할 수 있음\n",
    "    \n",
    "상관계수는 선형적인 관계 측정. 비선형적인 변화의 경우는 잘 측정하지 못함.\n",
    "\"\"\""
   ]
  },
  {
   "cell_type": "code",
   "execution_count": 44,
   "metadata": {},
   "outputs": [
    {
     "data": {
      "text/plain": [
       "0.8972354465472708"
      ]
     },
     "execution_count": 44,
     "metadata": {},
     "output_type": "execute_result"
    }
   ],
   "source": [
    "# 2) 스피어만 상관계수\n",
    "# 서열척도, 비선형적인 관계, 정규성을 가지고 있지 않음.\n",
    "\n",
    "\n",
    "scipy.stats.spearmanr(x, y).correlation"
   ]
  },
  {
   "cell_type": "code",
   "execution_count": 45,
   "metadata": {},
   "outputs": [
    {
     "data": {
      "text/plain": [
       "0.8051175601825398"
      ]
     },
     "execution_count": 45,
     "metadata": {},
     "output_type": "execute_result"
    }
   ],
   "source": [
    "# 3) 켄달 상관계수(표본이 작을 때)\n",
    "# 서열척도, 비선형적\n",
    "scipy.stats.kendalltau(x, y).correlation"
   ]
  },
  {
   "cell_type": "markdown",
   "metadata": {},
   "source": [
    "# 상관계수 통계적 검증"
   ]
  },
  {
   "cell_type": "markdown",
   "metadata": {},
   "source": [
    "## P value\n",
    "p값이 0.5보다 작은 경우 '통계적으로 유의미하다' 표현"
   ]
  },
  {
   "cell_type": "code",
   "execution_count": null,
   "metadata": {},
   "outputs": [],
   "source": [
    "\"\"\"\n",
    "유의 수준, 유의확률(p value), 귀무/대립 가설, 1종/2종 오류\n",
    "\n",
    "1) 귀무/대립 가설?\n",
    "표본으로 추론 -> 추론 통계 : 가설(귀무가설)을 세움 -> 가설을 입증\n",
    "\n",
    "귀무가설 : 처음 세운 가설\n",
    "대립 가설 : 실험자가 입증해야하는 가설(귀무가설의 대립되는 가설)\n",
    "\n",
    "추론 통계 -> 귀무가설을 기각\n",
    "\n",
    "ex) if 범죄자가 범인이라는 것을 입증하고자 한다면\n",
    "    -> 귀무가설 : 범죄자는 범인이 아니다\n",
    "    -> 귀무가설을 기각(대립가설 채택)하기 위한 입증 자료 수집 및 입증 -> 범죄자가 범인이다.\n",
    "    \n",
    "2) 실험자가 범할 수 있는 오류\n",
    "1종오류 : 귀무가설이 참인데 기각한 경우 (죄가 없는 사람에게 죄가 있다고 말한 경우)\n",
    "2종오류 : 귀무가설이 거짓인데 기각하지 않은 경우 (죄가 있는 사람에게 죄가 없다고 말한 경우)\n",
    "=> 1종오류가 더 심각하다.\n",
    "\n",
    "3) 유의 수준 :\n",
    "- 1종 오류를 범할 수 있는 최대 허용 한계.\n",
    "- 정밀도가 요구되는 실험은 0.01(1%)로 설정한다.\n",
    "ex) 유의 수준 0.05(5%) : 100번 실험했을 때 1종 오류를 범할 수 있는 최대 허용 한계는 5번이다.\n",
    "\n",
    "4)유의 확률(p-value)\n",
    "- 1종 오류를 범할 확률\n",
    "- 0 <= p-value <=1\n",
    "- p-value 값이 유의 수준(0.05)보다 낮다 -> 실험이 통계적으로 의미 있다.(대립가설이 옳다)!!!!\n",
    "ex) 0.05(5%) : 100번 실험했을 때 1종 오류가 5번 발생했다\n",
    "    => 95%의 신뢰도로 귀무가설을 기각한다(대립가설을 채택)\n",
    "\n",
    "\"\"\""
   ]
  },
  {
   "cell_type": "code",
   "execution_count": 5,
   "metadata": {},
   "outputs": [],
   "source": [
    "x = [7,3,6,6,9,4,3,9,3,5]\n",
    "y = [6,2,4,6,10,5,1,8,4,5]"
   ]
  },
  {
   "cell_type": "code",
   "execution_count": 6,
   "metadata": {},
   "outputs": [
    {
     "data": {
      "text/plain": [
       "(0.8962083932927004, 0.0004471805248848928)"
      ]
     },
     "execution_count": 6,
     "metadata": {},
     "output_type": "execute_result"
    }
   ],
   "source": [
    "scipy.stats.pearsonr(x, y) # 값 두개를 resturn (상관계수, p-value)\n",
    "#p-value : 0.0004471805248848928"
   ]
  },
  {
   "cell_type": "markdown",
   "metadata": {},
   "source": [
    "# 상관분석 고려사항\n",
    "\n",
    "---\n",
    "* 산점도 : 선형성(직선) 확인\n",
    "* 곡선형 : 스피어만, 캔달 상관분석\n",
    "* 「상관관계가 있다고 해서 반드시 인과관계가 있는 것은 아니다.」 라는 사실\n",
    "    ex) 제 3변인(feature)의 문제\n",
    "        - 서울 범죄 발생 건수, 종교 시설의 개수 => 두 변수는 양의 상관관계지만, 서로 인과관계가 있는 것은 아님(제3의 변수를 고려)\n",
    "* 극단치로 인한 인위적 상관관계 주의!\n",
    "---"
   ]
  },
  {
   "cell_type": "markdown",
   "metadata": {},
   "source": [
    "# 회귀와 분류\n",
    "---\n",
    "* 회귀분석(regression) : 독립변수(x)로 종속변수(y)를 예측하는 것. 종속변수가 연속인 경우\n",
    "* 분류분석(classification) : 독립변수(x)로 종속변수(y)를 분류하는 것. 종속변수가 범주인 경우\n",
    "\n",
    "\n",
    "\n",
    "*독립변수(x) : 종속변수에 영향을 미치는 변수들*  \n",
    "*종속변수(y) : 예측하고자하는 변수*  \n",
    "*혼입변수 : 모델에는 포함되지 않지만 종속변수에 영향을 주는 변수* \n",
    "\n",
    "---"
   ]
  },
  {
   "cell_type": "markdown",
   "metadata": {},
   "source": [
    "# 분석의 종류\n",
    "---\n",
    "* 선형회귀분석\n",
    "    - 독립변수와 종속변수 사이에 직선적인 형태(독립변수가 증가하면 종속변수도 비례하여 증가하거나 감소)의 관계가 있다고 가정하고 분석\n",
    "    - 모델 수식 : y=wx+b (w:weight/가중치/회귀계수, b:bias/절편)  \n",
    "      => 독립변수가 1 증가하면, 종속변수 y는 w만큼 증가한다.  \n",
    "      => 독립변수가 0일때의 종속변수(y)의 값  \n",
    "---"
   ]
  },
  {
   "cell_type": "code",
   "execution_count": null,
   "metadata": {},
   "outputs": [],
   "source": []
  },
  {
   "cell_type": "code",
   "execution_count": null,
   "metadata": {},
   "outputs": [],
   "source": []
  },
  {
   "cell_type": "code",
   "execution_count": null,
   "metadata": {},
   "outputs": [],
   "source": []
  },
  {
   "cell_type": "code",
   "execution_count": null,
   "metadata": {},
   "outputs": [],
   "source": []
  },
  {
   "cell_type": "code",
   "execution_count": null,
   "metadata": {},
   "outputs": [],
   "source": []
  },
  {
   "cell_type": "code",
   "execution_count": null,
   "metadata": {},
   "outputs": [],
   "source": []
  },
  {
   "cell_type": "code",
   "execution_count": null,
   "metadata": {},
   "outputs": [],
   "source": []
  }
 ],
 "metadata": {
  "kernelspec": {
   "display_name": "Python 3",
   "language": "python",
   "name": "python3"
  },
  "language_info": {
   "codemirror_mode": {
    "name": "ipython",
    "version": 3
   },
   "file_extension": ".py",
   "mimetype": "text/x-python",
   "name": "python",
   "nbconvert_exporter": "python",
   "pygments_lexer": "ipython3",
   "version": "3.7.3"
  },
  "toc": {
   "base_numbering": 1,
   "nav_menu": {},
   "number_sections": false,
   "sideBar": true,
   "skip_h1_title": false,
   "title_cell": "Table of Contents",
   "title_sidebar": "Contents",
   "toc_cell": false,
   "toc_position": {},
   "toc_section_display": true,
   "toc_window_display": false
  }
 },
 "nbformat": 4,
 "nbformat_minor": 2
}
