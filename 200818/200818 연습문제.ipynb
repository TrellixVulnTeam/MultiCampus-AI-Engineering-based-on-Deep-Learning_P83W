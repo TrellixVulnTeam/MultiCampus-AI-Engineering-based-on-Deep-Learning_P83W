{
 "cells": [
  {
   "cell_type": "code",
   "execution_count": null,
   "metadata": {
    "ExecuteTime": {
     "end_time": "2020-08-18T08:41:35.632020Z",
     "start_time": "2020-08-18T08:41:35.630019Z"
    }
   },
   "outputs": [],
   "source": [
    "# 사이트 : https://www.weather.go.kr/weather/main.jsp"
   ]
  },
  {
   "cell_type": "code",
   "execution_count": 1,
   "metadata": {
    "ExecuteTime": {
     "end_time": "2020-08-18T08:44:34.280384Z",
     "start_time": "2020-08-18T08:44:33.712342Z"
    }
   },
   "outputs": [],
   "source": [
    "import numpy as np\n",
    "import pandas as pd\n",
    "from selenium import webdriver\n",
    "from bs4 import BeautifulSoup"
   ]
  },
  {
   "cell_type": "markdown",
   "metadata": {},
   "source": [
    "# 1. 동네예보에서 각 항목별 데이터 스크래핑\n",
    "    - 기온\n",
    "    - 체감온도\n",
    "    - 바람\n",
    "    - 습도\n",
    "    - 강수확률\n",
    "        => array or dataframe 구성\n",
    "\n",
    "1) 최고 / 최저 기온 출력 \n",
    "\n",
    "2) 체감온도 평균 출력  \n",
    "\n",
    "3) 바람이 가장 많이 부는 방향은?  \n",
    "\n",
    "4) '맑음'에 해당되는 날씨가 가장 오랜 기간동안 지속되는 시각을 출력  \n",
    "    ex) 8월18일(화) 18시~8월19일(수) 24시"
   ]
  },
  {
   "cell_type": "code",
   "execution_count": 2,
   "metadata": {
    "ExecuteTime": {
     "end_time": "2020-08-18T08:44:41.356913Z",
     "start_time": "2020-08-18T08:44:36.096521Z"
    }
   },
   "outputs": [],
   "source": [
    "url = \"https://www.weather.go.kr/weather/main.jsp\"\n",
    "driver = webdriver.Chrome(\"C:/mychrome/chromedriver.exe\")\n",
    "driver.get(url)"
   ]
  },
  {
   "cell_type": "code",
   "execution_count": 3,
   "metadata": {
    "ExecuteTime": {
     "end_time": "2020-08-18T08:44:43.058041Z",
     "start_time": "2020-08-18T08:44:42.865027Z"
    }
   },
   "outputs": [],
   "source": [
    "html = driver.page_source\n",
    "soup = BeautifulSoup(html, 'html.parser')"
   ]
  },
  {
   "cell_type": "code",
   "execution_count": 4,
   "metadata": {
    "ExecuteTime": {
     "end_time": "2020-08-18T08:44:45.872252Z",
     "start_time": "2020-08-18T08:44:44.305135Z"
    }
   },
   "outputs": [],
   "source": [
    "in_wid = soup.select(\"div.in-wid\")\n",
    "w_data = []\n",
    "for wid in in_wid:\n",
    "    d = 1\n",
    "    for t in range(1, len(wid.select(\"ul:nth-child(3) > li\"))):\n",
    "        time = wid.select(\"ul:nth-child(3) > li:nth-child({})\".format(t))[0].text\n",
    "        date = wid.select(\"ul.m-tb.m-tb-date.bd-top.clearfix > li:nth-child({}) > span.bold\".format(d))[0].text\n",
    "        if int(time[:-1])==24:\n",
    "            d += 1\n",
    "        #기온\n",
    "        temp = wid.select(\"g.highcharts-data-labels.highcharts-series-0.highcharts-line-series.highcharts-color-0 > g:nth-child({}) > text > tspan:nth-child(2)\".format(t))[0].text\n",
    "        #체감온도\n",
    "        feel_temp = wid.select(\"ul:nth-child(6) > li:nth-child({})\".format(t))[0].text[1:-1]\n",
    "        #바람, 풍향\n",
    "        wind = wid.select(\"ul:nth-child(7) > li:nth-child({}) > p\".format(t))[0].text\n",
    "        wind_dir = wid.select(\"ul:nth-child(7) > li:nth-child({}) > img\".format(t))[0]['title']\n",
    "        #습도\n",
    "        wet = wid.select(\"ul:nth-child(8) > li:nth-child({}) > p\".format(t))[0].text\n",
    "        \n",
    "        if t!=19:\n",
    "            #강수확률\n",
    "            pred_rain = wid.select(\"ul:nth-child(10) > li:nth-child({})\".format(t))[0].text\n",
    "            #날씨\n",
    "            weather = wid.select(\"ul.m-tb.wid83.pd67.bd-no.img01.clearfix > li:nth-child({}) > img\".format(t))[0]['title']\n",
    "        \n",
    "        w_data.append([date, time, weather, temp, feel_temp, wind, wind_dir, wet, pred_rain])"
   ]
  },
  {
   "cell_type": "code",
   "execution_count": 5,
   "metadata": {
    "ExecuteTime": {
     "end_time": "2020-08-18T08:44:47.174349Z",
     "start_time": "2020-08-18T08:44:47.145347Z"
    }
   },
   "outputs": [
    {
     "data": {
      "text/html": [
       "<div>\n",
       "<style scoped>\n",
       "    .dataframe tbody tr th:only-of-type {\n",
       "        vertical-align: middle;\n",
       "    }\n",
       "\n",
       "    .dataframe tbody tr th {\n",
       "        vertical-align: top;\n",
       "    }\n",
       "\n",
       "    .dataframe thead th {\n",
       "        text-align: right;\n",
       "    }\n",
       "</style>\n",
       "<table border=\"1\" class=\"dataframe\">\n",
       "  <thead>\n",
       "    <tr style=\"text-align: right;\">\n",
       "      <th></th>\n",
       "      <th>날짜</th>\n",
       "      <th>시간</th>\n",
       "      <th>날씨</th>\n",
       "      <th>기온</th>\n",
       "      <th>체감온도</th>\n",
       "      <th>바람</th>\n",
       "      <th>바람방향</th>\n",
       "      <th>습도</th>\n",
       "      <th>강수확률</th>\n",
       "    </tr>\n",
       "  </thead>\n",
       "  <tbody>\n",
       "    <tr>\n",
       "      <th>0</th>\n",
       "      <td>8월 18일(화)</td>\n",
       "      <td>21시</td>\n",
       "      <td>맑음</td>\n",
       "      <td>26℃</td>\n",
       "      <td>29℃</td>\n",
       "      <td>4km/h</td>\n",
       "      <td>서풍</td>\n",
       "      <td>90%</td>\n",
       "      <td>0%</td>\n",
       "    </tr>\n",
       "    <tr>\n",
       "      <th>1</th>\n",
       "      <td>8월 18일(화)</td>\n",
       "      <td>24시</td>\n",
       "      <td>맑음</td>\n",
       "      <td>25℃</td>\n",
       "      <td>29℃</td>\n",
       "      <td>4km/h</td>\n",
       "      <td>서풍</td>\n",
       "      <td>95%</td>\n",
       "      <td>0%</td>\n",
       "    </tr>\n",
       "    <tr>\n",
       "      <th>2</th>\n",
       "      <td>8월 19일(수)</td>\n",
       "      <td>3시</td>\n",
       "      <td>맑음</td>\n",
       "      <td>26℃</td>\n",
       "      <td>30℃</td>\n",
       "      <td>4km/h</td>\n",
       "      <td>서풍</td>\n",
       "      <td>95%</td>\n",
       "      <td>0%</td>\n",
       "    </tr>\n",
       "    <tr>\n",
       "      <th>3</th>\n",
       "      <td>8월 19일(수)</td>\n",
       "      <td>6시</td>\n",
       "      <td>맑음</td>\n",
       "      <td>26℃</td>\n",
       "      <td>30℃</td>\n",
       "      <td>4km/h</td>\n",
       "      <td>남풍</td>\n",
       "      <td>95%</td>\n",
       "      <td>0%</td>\n",
       "    </tr>\n",
       "    <tr>\n",
       "      <th>4</th>\n",
       "      <td>8월 19일(수)</td>\n",
       "      <td>9시</td>\n",
       "      <td>맑음</td>\n",
       "      <td>27℃</td>\n",
       "      <td>30℃</td>\n",
       "      <td>7km/h</td>\n",
       "      <td>남풍</td>\n",
       "      <td>80%</td>\n",
       "      <td>0%</td>\n",
       "    </tr>\n",
       "    <tr>\n",
       "      <th>5</th>\n",
       "      <td>8월 19일(수)</td>\n",
       "      <td>12시</td>\n",
       "      <td>맑음</td>\n",
       "      <td>30℃</td>\n",
       "      <td>32℃</td>\n",
       "      <td>7km/h</td>\n",
       "      <td>남서풍</td>\n",
       "      <td>70%</td>\n",
       "      <td>0%</td>\n",
       "    </tr>\n",
       "    <tr>\n",
       "      <th>6</th>\n",
       "      <td>8월 19일(수)</td>\n",
       "      <td>15시</td>\n",
       "      <td>맑음</td>\n",
       "      <td>32℃</td>\n",
       "      <td>33℃</td>\n",
       "      <td>7km/h</td>\n",
       "      <td>서풍</td>\n",
       "      <td>65%</td>\n",
       "      <td>0%</td>\n",
       "    </tr>\n",
       "    <tr>\n",
       "      <th>7</th>\n",
       "      <td>8월 19일(수)</td>\n",
       "      <td>18시</td>\n",
       "      <td>맑음</td>\n",
       "      <td>28℃</td>\n",
       "      <td>30℃</td>\n",
       "      <td>7km/h</td>\n",
       "      <td>서풍</td>\n",
       "      <td>70%</td>\n",
       "      <td>0%</td>\n",
       "    </tr>\n",
       "    <tr>\n",
       "      <th>8</th>\n",
       "      <td>8월 19일(수)</td>\n",
       "      <td>21시</td>\n",
       "      <td>맑음</td>\n",
       "      <td>26℃</td>\n",
       "      <td>29℃</td>\n",
       "      <td>4km/h</td>\n",
       "      <td>서풍</td>\n",
       "      <td>90%</td>\n",
       "      <td>0%</td>\n",
       "    </tr>\n",
       "    <tr>\n",
       "      <th>9</th>\n",
       "      <td>8월 19일(수)</td>\n",
       "      <td>24시</td>\n",
       "      <td>맑음</td>\n",
       "      <td>25℃</td>\n",
       "      <td>29℃</td>\n",
       "      <td>4km/h</td>\n",
       "      <td>남서풍</td>\n",
       "      <td>95%</td>\n",
       "      <td>0%</td>\n",
       "    </tr>\n",
       "    <tr>\n",
       "      <th>10</th>\n",
       "      <td>8월 20일(목)</td>\n",
       "      <td>3시</td>\n",
       "      <td>맑음</td>\n",
       "      <td>25℃</td>\n",
       "      <td>29℃</td>\n",
       "      <td>4km/h</td>\n",
       "      <td>남풍</td>\n",
       "      <td>95%</td>\n",
       "      <td>0%</td>\n",
       "    </tr>\n",
       "    <tr>\n",
       "      <th>11</th>\n",
       "      <td>8월 20일(목)</td>\n",
       "      <td>6시</td>\n",
       "      <td>맑음</td>\n",
       "      <td>25℃</td>\n",
       "      <td>29℃</td>\n",
       "      <td>4km/h</td>\n",
       "      <td>남풍</td>\n",
       "      <td>95%</td>\n",
       "      <td>0%</td>\n",
       "    </tr>\n",
       "    <tr>\n",
       "      <th>12</th>\n",
       "      <td>8월 20일(목)</td>\n",
       "      <td>9시</td>\n",
       "      <td>맑음</td>\n",
       "      <td>27℃</td>\n",
       "      <td>30℃</td>\n",
       "      <td>4km/h</td>\n",
       "      <td>남풍</td>\n",
       "      <td>90%</td>\n",
       "      <td>0%</td>\n",
       "    </tr>\n",
       "    <tr>\n",
       "      <th>13</th>\n",
       "      <td>8월 20일(목)</td>\n",
       "      <td>12시</td>\n",
       "      <td>맑음</td>\n",
       "      <td>31℃</td>\n",
       "      <td>33℃</td>\n",
       "      <td>4km/h</td>\n",
       "      <td>남서풍</td>\n",
       "      <td>75%</td>\n",
       "      <td>0%</td>\n",
       "    </tr>\n",
       "    <tr>\n",
       "      <th>14</th>\n",
       "      <td>8월 20일(목)</td>\n",
       "      <td>15시</td>\n",
       "      <td>맑음</td>\n",
       "      <td>32℃</td>\n",
       "      <td>33℃</td>\n",
       "      <td>7km/h</td>\n",
       "      <td>서풍</td>\n",
       "      <td>65%</td>\n",
       "      <td>0%</td>\n",
       "    </tr>\n",
       "    <tr>\n",
       "      <th>15</th>\n",
       "      <td>8월 20일(목)</td>\n",
       "      <td>18시</td>\n",
       "      <td>맑음</td>\n",
       "      <td>29℃</td>\n",
       "      <td>31℃</td>\n",
       "      <td>7km/h</td>\n",
       "      <td>서풍</td>\n",
       "      <td>70%</td>\n",
       "      <td>0%</td>\n",
       "    </tr>\n",
       "    <tr>\n",
       "      <th>16</th>\n",
       "      <td>8월 20일(목)</td>\n",
       "      <td>21시</td>\n",
       "      <td>맑음</td>\n",
       "      <td>26℃</td>\n",
       "      <td>29℃</td>\n",
       "      <td>4km/h</td>\n",
       "      <td>북서풍</td>\n",
       "      <td>85%</td>\n",
       "      <td>0%</td>\n",
       "    </tr>\n",
       "  </tbody>\n",
       "</table>\n",
       "</div>"
      ],
      "text/plain": [
       "           날짜   시간  날씨   기온 체감온도     바람 바람방향   습도 강수확률\n",
       "0   8월 18일(화)  21시  맑음  26℃  29℃  4km/h   서풍  90%   0%\n",
       "1   8월 18일(화)  24시  맑음  25℃  29℃  4km/h   서풍  95%   0%\n",
       "2   8월 19일(수)   3시  맑음  26℃  30℃  4km/h   서풍  95%   0%\n",
       "3   8월 19일(수)   6시  맑음  26℃  30℃  4km/h   남풍  95%   0%\n",
       "4   8월 19일(수)   9시  맑음  27℃  30℃  7km/h   남풍  80%   0%\n",
       "5   8월 19일(수)  12시  맑음  30℃  32℃  7km/h  남서풍  70%   0%\n",
       "6   8월 19일(수)  15시  맑음  32℃  33℃  7km/h   서풍  65%   0%\n",
       "7   8월 19일(수)  18시  맑음  28℃  30℃  7km/h   서풍  70%   0%\n",
       "8   8월 19일(수)  21시  맑음  26℃  29℃  4km/h   서풍  90%   0%\n",
       "9   8월 19일(수)  24시  맑음  25℃  29℃  4km/h  남서풍  95%   0%\n",
       "10  8월 20일(목)   3시  맑음  25℃  29℃  4km/h   남풍  95%   0%\n",
       "11  8월 20일(목)   6시  맑음  25℃  29℃  4km/h   남풍  95%   0%\n",
       "12  8월 20일(목)   9시  맑음  27℃  30℃  4km/h   남풍  90%   0%\n",
       "13  8월 20일(목)  12시  맑음  31℃  33℃  4km/h  남서풍  75%   0%\n",
       "14  8월 20일(목)  15시  맑음  32℃  33℃  7km/h   서풍  65%   0%\n",
       "15  8월 20일(목)  18시  맑음  29℃  31℃  7km/h   서풍  70%   0%\n",
       "16  8월 20일(목)  21시  맑음  26℃  29℃  4km/h  북서풍  85%   0%"
      ]
     },
     "execution_count": 5,
     "metadata": {},
     "output_type": "execute_result"
    }
   ],
   "source": [
    "df = pd.DataFrame(w_data)\n",
    "df.columns = [\"날짜\", '시간', '날씨', '기온', '체감온도', '바람', '바람방향', '습도', '강수확률']\n",
    "df"
   ]
  },
  {
   "cell_type": "code",
   "execution_count": 6,
   "metadata": {
    "ExecuteTime": {
     "end_time": "2020-08-18T08:44:49.500525Z",
     "start_time": "2020-08-18T08:44:49.497523Z"
    }
   },
   "outputs": [],
   "source": [
    "temp_arr = df['기온'].values"
   ]
  },
  {
   "cell_type": "code",
   "execution_count": 7,
   "metadata": {
    "ExecuteTime": {
     "end_time": "2020-08-18T08:44:51.214652Z",
     "start_time": "2020-08-18T08:44:51.210653Z"
    }
   },
   "outputs": [],
   "source": [
    "feel_temp_arr = df['체감온도'].values\n",
    "feel_temp_arr.tolist()\n",
    "ft_list = []\n",
    "for ft in feel_temp_arr:\n",
    "    ft_list.append(int(ft[:-1]))\n",
    "feel_temp_arr = np.array(ft_list)"
   ]
  },
  {
   "cell_type": "code",
   "execution_count": 8,
   "metadata": {
    "ExecuteTime": {
     "end_time": "2020-08-18T08:44:52.421743Z",
     "start_time": "2020-08-18T08:44:52.417742Z"
    }
   },
   "outputs": [],
   "source": [
    "winddir_arr = df['바람방향'].values\n",
    "w, cnt = np.unique(winddir_arr, return_counts=True)\n",
    "freq_wind = w[np.argmax(cnt)]"
   ]
  },
  {
   "cell_type": "code",
   "execution_count": 9,
   "metadata": {
    "ExecuteTime": {
     "end_time": "2020-08-18T08:44:53.516825Z",
     "start_time": "2020-08-18T08:44:53.505824Z"
    }
   },
   "outputs": [],
   "source": [
    "date_arr = df['날짜'].values\n",
    "time_arr = df['시간'].values\n",
    "cnt2, s_idx, e_idx = 0, 0, 0\n",
    "max_date = []\n",
    "for i, w in enumerate(df['날씨'].values):\n",
    "    if w == '맑음':\n",
    "        if cnt2 == 0 and s_idx == 0:\n",
    "            s_idx = i\n",
    "        cnt2 += 1\n",
    "    else:\n",
    "        if cnt2 > 0:\n",
    "            e_idx = i-1\n",
    "            max_date.append([cnt2, s_idx, e_idx])\n",
    "            cnt2, s_idx, e_idx = 0, 0, 0\n",
    "if cnt2 > 0:\n",
    "    e_idx = i-1\n",
    "    max_date.append([cnt2, s_idx, e_idx])\n",
    "\n",
    "max_date.sort(key = lambda x : x[0], reverse=True)\n",
    "s_idx, e_idx = max_date[0][1], max_date[0][2]\n",
    "max_long_term = date_arr[s_idx]+\" \"+time_arr[s_idx]+\" ~ \"+date_arr[e_idx]+\" \"+time_arr[e_idx]"
   ]
  },
  {
   "cell_type": "code",
   "execution_count": 10,
   "metadata": {
    "ExecuteTime": {
     "end_time": "2020-08-18T08:44:55.346961Z",
     "start_time": "2020-08-18T08:44:55.337961Z"
    }
   },
   "outputs": [
    {
     "name": "stdout",
     "output_type": "stream",
     "text": [
      "최고기온 :  32℃\n",
      "최저기온 :  25℃\n",
      "평균 체감 온도 :  30.294117647058822\n",
      "바람이 가장 많이 부는 방향 :  서풍\n",
      "'맑음'이 가장 오랜 기간 지속되는 시각 :  8월 18일(화) 21시 ~ 8월 20일(목) 18시\n"
     ]
    }
   ],
   "source": [
    "print(\"최고기온 : \", temp_arr.max())\n",
    "print(\"최저기온 : \", temp_arr.min())\n",
    "print(\"평균 체감 온도 : \", feel_temp_arr.mean())\n",
    "print(\"바람이 가장 많이 부는 방향 : \", freq_wind)\n",
    "print(\"\\'맑음\\'이 가장 오랜 기간 지속되는 시각 : \", max_long_term)"
   ]
  },
  {
   "cell_type": "markdown",
   "metadata": {},
   "source": [
    "# 2. 중기예보에서 각 항목별 데이터 스크래핑\n",
    "\n",
    "- 강수확률 평균"
   ]
  },
  {
   "cell_type": "code",
   "execution_count": 11,
   "metadata": {
    "ExecuteTime": {
     "end_time": "2020-08-18T08:44:58.613205Z",
     "start_time": "2020-08-18T08:44:58.586204Z"
    }
   },
   "outputs": [],
   "source": [
    "midterm = soup.select(\"div.tab02 > ul.m-tb.wid122.img02.bd-rt-bot.mt-6.clearfix\")"
   ]
  },
  {
   "cell_type": "code",
   "execution_count": 12,
   "metadata": {
    "ExecuteTime": {
     "end_time": "2020-08-18T08:44:59.691286Z",
     "start_time": "2020-08-18T08:44:59.674285Z"
    }
   },
   "outputs": [
    {
     "name": "stdout",
     "output_type": "stream",
     "text": [
      "강수확률 평균 :  43.84615384615385\n"
     ]
    }
   ],
   "source": [
    "pr2_li = []\n",
    "for i, mid in enumerate(midterm):\n",
    "    date2 = mid.select(\"li\".format(i+1))\n",
    "    for d in date2:\n",
    "        sep = d.select(\"div\")\n",
    "        for k in range(len(sep)):\n",
    "            pred_rain2 = d.select(\"div:nth-child({}) > p:nth-child(3)\".format(k+1))[0].text[:-1]\n",
    "            pr2_li.append(int(pred_rain2))\n",
    "\n",
    "print(\"강수확률 평균 : \", np.array(pr2_li).mean())"
   ]
  }
 ],
 "metadata": {
  "kernelspec": {
   "display_name": "Python 3",
   "language": "python",
   "name": "python3"
  },
  "language_info": {
   "codemirror_mode": {
    "name": "ipython",
    "version": 3
   },
   "file_extension": ".py",
   "mimetype": "text/x-python",
   "name": "python",
   "nbconvert_exporter": "python",
   "pygments_lexer": "ipython3",
   "version": "3.7.8"
  },
  "toc": {
   "base_numbering": 1,
   "nav_menu": {},
   "number_sections": false,
   "sideBar": true,
   "skip_h1_title": false,
   "title_cell": "Table of Contents",
   "title_sidebar": "Contents",
   "toc_cell": false,
   "toc_position": {},
   "toc_section_display": true,
   "toc_window_display": true
  }
 },
 "nbformat": 4,
 "nbformat_minor": 4
}
