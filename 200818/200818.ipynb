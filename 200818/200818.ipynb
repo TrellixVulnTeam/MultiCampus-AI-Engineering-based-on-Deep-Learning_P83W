{
 "cells": [
  {
   "cell_type": "code",
   "execution_count": 1,
   "metadata": {
    "ExecuteTime": {
     "end_time": "2020-08-18T00:07:58.797838Z",
     "start_time": "2020-08-18T00:07:58.575824Z"
    }
   },
   "outputs": [],
   "source": [
    "import numpy as np"
   ]
  },
  {
   "cell_type": "code",
   "execution_count": 223,
   "metadata": {
    "ExecuteTime": {
     "end_time": "2020-08-18T04:58:48.343385Z",
     "start_time": "2020-08-18T04:58:46.820274Z"
    }
   },
   "outputs": [],
   "source": [
    "import seaborn as sns"
   ]
  },
  {
   "cell_type": "code",
   "execution_count": 2,
   "metadata": {
    "ExecuteTime": {
     "end_time": "2020-08-18T00:10:05.801341Z",
     "start_time": "2020-08-18T00:10:05.790341Z"
    }
   },
   "outputs": [
    {
     "data": {
      "text/plain": [
       "'1.19.1'"
      ]
     },
     "execution_count": 2,
     "metadata": {},
     "output_type": "execute_result"
    }
   ],
   "source": [
    "np.__version__  #현재 사용중인 numpy 버전 확인"
   ]
  },
  {
   "cell_type": "markdown",
   "metadata": {},
   "source": [
    "# zeros(), nonzero()"
   ]
  },
  {
   "cell_type": "code",
   "execution_count": 4,
   "metadata": {
    "ExecuteTime": {
     "end_time": "2020-08-18T00:12:06.541376Z",
     "start_time": "2020-08-18T00:12:06.534375Z"
    }
   },
   "outputs": [
    {
     "name": "stdout",
     "output_type": "stream",
     "text": [
      "100\n",
      "8\n"
     ]
    }
   ],
   "source": [
    "z = np.zeros((10, 10))\n",
    "print(z.size) #요소 개수\n",
    "print(z.itemsize) #한 요소 당 사이즈 : 8바이트"
   ]
  },
  {
   "cell_type": "code",
   "execution_count": 7,
   "metadata": {
    "ExecuteTime": {
     "end_time": "2020-08-18T00:12:50.633673Z",
     "start_time": "2020-08-18T00:12:50.627673Z"
    }
   },
   "outputs": [
    {
     "data": {
      "text/plain": [
       "array([9, 8, 7, 6, 5, 4, 3, 2, 1, 0])"
      ]
     },
     "execution_count": 7,
     "metadata": {},
     "output_type": "execute_result"
    }
   ],
   "source": [
    "z = np.arange(10)\n",
    "z[::-1]"
   ]
  },
  {
   "cell_type": "code",
   "execution_count": 8,
   "metadata": {
    "ExecuteTime": {
     "end_time": "2020-08-18T00:13:55.814551Z",
     "start_time": "2020-08-18T00:13:55.808551Z"
    }
   },
   "outputs": [
    {
     "data": {
      "text/plain": [
       "(array([0, 1, 4], dtype=int64),)"
      ]
     },
     "execution_count": 8,
     "metadata": {},
     "output_type": "execute_result"
    }
   ],
   "source": [
    "np.nonzero([1,2,0,0,3]) #0이 아닌 요소가 위치한 인덱스"
   ]
  },
  {
   "cell_type": "code",
   "execution_count": 12,
   "metadata": {
    "ExecuteTime": {
     "end_time": "2020-08-18T00:15:55.379498Z",
     "start_time": "2020-08-18T00:15:55.375496Z"
    }
   },
   "outputs": [],
   "source": [
    "z = np.random.random((10, 10)) #0이상 1미만 사이에서 난수 발생"
   ]
  },
  {
   "cell_type": "markdown",
   "metadata": {},
   "source": [
    "# min(), max(), mean()"
   ]
  },
  {
   "cell_type": "code",
   "execution_count": 13,
   "metadata": {
    "ExecuteTime": {
     "end_time": "2020-08-18T00:16:25.934783Z",
     "start_time": "2020-08-18T00:16:25.928782Z"
    }
   },
   "outputs": [
    {
     "name": "stdout",
     "output_type": "stream",
     "text": [
      "0.005789833776627562\n",
      "0.977045417522283\n",
      "0.502237361840447\n"
     ]
    }
   ],
   "source": [
    "#최소값\n",
    "print(z.min())\n",
    "#최대값\n",
    "print(z.max())\n",
    "#평균값\n",
    "print(z.mean())"
   ]
  },
  {
   "cell_type": "markdown",
   "metadata": {},
   "source": [
    "# Padding"
   ]
  },
  {
   "cell_type": "code",
   "execution_count": 54,
   "metadata": {
    "ExecuteTime": {
     "end_time": "2020-08-18T00:47:56.119206Z",
     "start_time": "2020-08-18T00:47:56.108204Z"
    }
   },
   "outputs": [
    {
     "name": "stdout",
     "output_type": "stream",
     "text": [
      "[[1. 1. 1. 1. 1. 1. 1. 1. 1. 1.]\n",
      " [1. 0. 0. 0. 0. 0. 0. 0. 0. 1.]\n",
      " [1. 0. 0. 0. 0. 0. 0. 0. 0. 1.]\n",
      " [1. 0. 0. 0. 0. 0. 0. 0. 0. 1.]\n",
      " [1. 0. 0. 0. 0. 0. 0. 0. 0. 1.]\n",
      " [1. 0. 0. 0. 0. 0. 0. 0. 0. 1.]\n",
      " [1. 0. 0. 0. 0. 0. 0. 0. 0. 1.]\n",
      " [1. 0. 0. 0. 0. 0. 0. 0. 0. 1.]\n",
      " [1. 0. 0. 0. 0. 0. 0. 0. 0. 1.]\n",
      " [1. 1. 1. 1. 1. 1. 1. 1. 1. 1.]]\n",
      "[[1. 1. 1. 1. 1. 1. 1. 1. 1. 1.]\n",
      " [1. 0. 0. 0. 0. 0. 0. 0. 0. 1.]\n",
      " [1. 0. 0. 0. 0. 0. 0. 0. 0. 1.]\n",
      " [1. 0. 0. 0. 0. 0. 0. 0. 0. 1.]\n",
      " [1. 0. 0. 0. 0. 0. 0. 0. 0. 1.]\n",
      " [1. 0. 0. 0. 0. 0. 0. 0. 0. 1.]\n",
      " [1. 0. 0. 0. 0. 0. 0. 0. 0. 1.]\n",
      " [1. 0. 0. 0. 0. 0. 0. 0. 0. 1.]\n",
      " [1. 0. 0. 0. 0. 0. 0. 0. 0. 1.]\n",
      " [1. 1. 1. 1. 1. 1. 1. 1. 1. 1.]]\n"
     ]
    }
   ],
   "source": [
    "# 10*10배열 생성\n",
    "# 테두리는 모두 1, 내부는 0으로 채우기\n",
    "\n",
    "#방법1\n",
    "z1 = np.zeros((10, 10))\n",
    "for i in range(10):\n",
    "    z1[i][0], z1[i][9], z1[0][i], z1[9][i] = 1, 1, 1, 1\n",
    "print(z1)    \n",
    "\n",
    "#방법2\n",
    "z2 = np.ones((10, 10))\n",
    "z2[1:-1, 1:-1] = 0\n",
    "print(z2)"
   ]
  },
  {
   "cell_type": "code",
   "execution_count": 28,
   "metadata": {
    "ExecuteTime": {
     "end_time": "2020-08-18T00:27:32.200633Z",
     "start_time": "2020-08-18T00:27:32.194632Z"
    }
   },
   "outputs": [
    {
     "name": "stdout",
     "output_type": "stream",
     "text": [
      "[0 1 2 3 0]\n",
      "[0 0 1 2 3 0 0 0]\n",
      "[1 2 3 0 0 0]\n"
     ]
    }
   ],
   "source": [
    "#패딩(padding): 배열의 크기를 고정길이로 만드는 작업\n",
    "a = [1,2,3]\n",
    "print(np.pad(a, 1, constant_values=0)) #좌/우에 0이 채워짐\n",
    "print(np.pad(a, (2,3), constant_values=0)) #좌 2개/우 3개에 0이 채워짐\n",
    "print(np.pad(a, (0,3), constant_values=0)) #우에 3개 0이 채워짐"
   ]
  },
  {
   "cell_type": "code",
   "execution_count": 31,
   "metadata": {
    "ExecuteTime": {
     "end_time": "2020-08-18T00:31:00.238198Z",
     "start_time": "2020-08-18T00:31:00.231198Z"
    }
   },
   "outputs": [
    {
     "name": "stdout",
     "output_type": "stream",
     "text": [
      "[[0 0 0 0 0]\n",
      " [0 1 2 3 0]\n",
      " [0 4 5 6 0]\n",
      " [0 0 0 0 0]]\n",
      "[[0 0 0 0 0 0 0]\n",
      " [0 0 1 2 3 0 0]\n",
      " [0 0 4 5 6 0 0]\n",
      " [0 0 0 0 0 0 0]]\n"
     ]
    }
   ],
   "source": [
    "b = np.arange(1,7).reshape(2,3)\n",
    "print(np.pad(b, pad_width=1, constant_values=0))\n",
    "print(np.pad(b, ((1,1),(2,2)), constant_values=0))\n",
    "             #((상,하),(좌,우))"
   ]
  },
  {
   "cell_type": "code",
   "execution_count": 36,
   "metadata": {
    "ExecuteTime": {
     "end_time": "2020-08-18T00:33:17.406461Z",
     "start_time": "2020-08-18T00:33:17.399461Z"
    }
   },
   "outputs": [
    {
     "name": "stderr",
     "output_type": "stream",
     "text": [
      "c:\\users\\i\\pycharmprojects\\multicampus-deeplearning-based-ai-engineering\\venv\\lib\\site-packages\\ipykernel_launcher.py:5: VisibleDeprecationWarning: Creating an ndarray from ragged nested sequences (which is a list-or-tuple of lists-or-tuples-or ndarrays with different lengths or shapes) is deprecated. If you meant to do this, you must specify 'dtype=object' when creating the ndarray\n",
      "  \"\"\"\n",
      "c:\\users\\i\\pycharmprojects\\multicampus-deeplearning-based-ai-engineering\\venv\\lib\\site-packages\\numpy\\core\\_asarray.py:83: VisibleDeprecationWarning: Creating an ndarray from ragged nested sequences (which is a list-or-tuple of lists-or-tuples-or ndarrays with different lengths or shapes) is deprecated. If you meant to do this, you must specify 'dtype=object' when creating the ndarray\n",
      "  return array(a, dtype, copy=False, order=order)\n"
     ]
    },
    {
     "data": {
      "text/plain": [
       "array([list([1, 2]), list([4, 5, 6]), list([7])], dtype=object)"
      ]
     },
     "execution_count": 36,
     "metadata": {},
     "output_type": "execute_result"
    }
   ],
   "source": [
    "c = [[1,2],\n",
    "    [4,5,6],\n",
    "    [7]] #리스트 형태\n",
    "\n",
    "np.array(c) #배열(array) 형태"
   ]
  },
  {
   "cell_type": "code",
   "execution_count": 50,
   "metadata": {
    "ExecuteTime": {
     "end_time": "2020-08-18T00:44:39.322481Z",
     "start_time": "2020-08-18T00:44:39.312480Z"
    }
   },
   "outputs": [
    {
     "data": {
      "text/plain": [
       "array([[1, 2, 0, 0, 0],\n",
       "       [4, 5, 6, 0, 0],\n",
       "       [7, 0, 0, 0, 0]])"
      ]
     },
     "execution_count": 50,
     "metadata": {},
     "output_type": "execute_result"
    }
   ],
   "source": [
    "#모든 행의 길이가 5로 일정하게 통일\n",
    "def twoDArray(c, fixedLength=5, paddingValue=0):\n",
    "    rows = []\n",
    "    for a in c:\n",
    "        rows.append(np.pad(a, (0, fixedLength),\n",
    "                           constant_values=paddingValue)[:fixedLength])\n",
    "    rows #[array([1, 2, 0, 0, 0]), array([4, 5, 6, 0, 0]), array([7, 0, 0, 0, 0])]\n",
    "    concatrows = np.concatenate(rows, axis=0) \n",
    "    #concatenate : numpy배열 여러개를 하나로 합치는 함수\n",
    "    return concatrows.reshape(-1,fixedLength)\n",
    "\n",
    "twoDArray(c, fixedLength=5, paddingValue=0)"
   ]
  },
  {
   "cell_type": "code",
   "execution_count": 56,
   "metadata": {
    "ExecuteTime": {
     "end_time": "2020-08-18T00:51:07.903555Z",
     "start_time": "2020-08-18T00:51:07.896554Z"
    }
   },
   "outputs": [
    {
     "data": {
      "text/plain": [
       "array([[0., 0., 0., 0., 0., 0., 0., 0., 0., 0.],\n",
       "       [0., 1., 1., 1., 1., 1., 1., 1., 1., 0.],\n",
       "       [0., 1., 1., 1., 1., 1., 1., 1., 1., 0.],\n",
       "       [0., 1., 1., 1., 1., 1., 1., 1., 1., 0.],\n",
       "       [0., 1., 1., 1., 1., 1., 1., 1., 1., 0.],\n",
       "       [0., 1., 1., 1., 1., 1., 1., 1., 1., 0.],\n",
       "       [0., 1., 1., 1., 1., 1., 1., 1., 1., 0.],\n",
       "       [0., 1., 1., 1., 1., 1., 1., 1., 1., 0.],\n",
       "       [0., 1., 1., 1., 1., 1., 1., 1., 1., 0.],\n",
       "       [0., 0., 0., 0., 0., 0., 0., 0., 0., 0.]])"
      ]
     },
     "execution_count": 56,
     "metadata": {},
     "output_type": "execute_result"
    }
   ],
   "source": [
    "# 10*10배열\n",
    "# 바깥쪽 테두리는 0, 안쪽은 1\n",
    "\n",
    "#방법 : 패딩(padding) 이용하기\n",
    "arr = np.ones((8, 8))\n",
    "np.pad(arr, pad_width=1, constant_values=0)"
   ]
  },
  {
   "cell_type": "markdown",
   "metadata": {},
   "source": [
    "# 대각행렬  \n",
    ": 대각성분을 제외한 모든 성분이 0인 정방행렬"
   ]
  },
  {
   "cell_type": "code",
   "execution_count": 61,
   "metadata": {
    "ExecuteTime": {
     "end_time": "2020-08-18T00:54:29.882667Z",
     "start_time": "2020-08-18T00:54:29.876667Z"
    }
   },
   "outputs": [
    {
     "data": {
      "text/plain": [
       "array([[3, 0, 0],\n",
       "       [0, 2, 0],\n",
       "       [0, 0, 0]])"
      ]
     },
     "execution_count": 61,
     "metadata": {},
     "output_type": "execute_result"
    }
   ],
   "source": [
    "np.diag([3,2,0]) #대각행렬의 대각성분을 3,2,0d으로 지정"
   ]
  },
  {
   "cell_type": "code",
   "execution_count": 60,
   "metadata": {
    "ExecuteTime": {
     "end_time": "2020-08-18T00:53:57.807267Z",
     "start_time": "2020-08-18T00:53:57.800268Z"
    },
    "scrolled": true
   },
   "outputs": [
    {
     "name": "stdout",
     "output_type": "stream",
     "text": [
      "[0 4 8]\n",
      "[[0 0 0]\n",
      " [0 4 0]\n",
      " [0 0 8]]\n"
     ]
    }
   ],
   "source": [
    "x = np.arange(9).reshape(3,3)\n",
    "print(np.diag(x)) #x배열의 대각요소만 출력\n",
    "print(np.diag(np.diag(x)))"
   ]
  },
  {
   "cell_type": "markdown",
   "metadata": {},
   "source": [
    "# tile 함수\n",
    ": 원하는 크기만큼 반복하여 붙여넣기 하는 함수"
   ]
  },
  {
   "cell_type": "code",
   "execution_count": 65,
   "metadata": {
    "ExecuteTime": {
     "end_time": "2020-08-18T01:12:11.052062Z",
     "start_time": "2020-08-18T01:12:11.047061Z"
    }
   },
   "outputs": [
    {
     "name": "stdout",
     "output_type": "stream",
     "text": [
      "[0 1 2 0 1 2]\n",
      "[[0 1 2]\n",
      " [0 1 2]]\n",
      "[[0 1 2 0 1 2]\n",
      " [0 1 2 0 1 2]]\n"
     ]
    }
   ],
   "source": [
    "a = np.array([0,1,2])\n",
    "\n",
    "print(np.tile(a, 2))\n",
    "print(np.tile(a, (2, 1)))\n",
    "print(np.tile(a, (2, 2)))"
   ]
  },
  {
   "cell_type": "code",
   "execution_count": 72,
   "metadata": {
    "ExecuteTime": {
     "end_time": "2020-08-18T01:22:11.635999Z",
     "start_time": "2020-08-18T01:22:11.627997Z"
    }
   },
   "outputs": [
    {
     "name": "stdout",
     "output_type": "stream",
     "text": [
      "[[0 1 0 1 0 1 0 1]\n",
      " [1 0 1 0 1 0 1 0]\n",
      " [0 1 0 1 0 1 0 1]\n",
      " [1 0 1 0 1 0 1 0]\n",
      " [0 1 0 1 0 1 0 1]\n",
      " [1 0 1 0 1 0 1 0]\n",
      " [0 1 0 1 0 1 0 1]\n",
      " [1 0 1 0 1 0 1 0]]\n",
      "[[0 1 0 1 0 1 0 1]\n",
      " [1 0 1 0 1 0 1 0]\n",
      " [0 1 0 1 0 1 0 1]\n",
      " [1 0 1 0 1 0 1 0]\n",
      " [0 1 0 1 0 1 0 1]\n",
      " [1 0 1 0 1 0 1 0]\n",
      " [0 1 0 1 0 1 0 1]\n",
      " [1 0 1 0 1 0 1 0]]\n"
     ]
    }
   ],
   "source": [
    "\"\"\"\n",
    "0 1 0 1 0 1 0 1\n",
    "1 0 1 0 1 0 1 0\n",
    "0 1 0 1 0 1 0 1\n",
    "1 0 1 0 1 0 1 0\n",
    "0 1 0 1 0 1 0 1\n",
    "1 0 1 0 1 0 1 0\n",
    "0 1 0 1 0 1 0 1\n",
    "1 0 1 0 1 0 1 0\n",
    "\"\"\"\n",
    "\n",
    "#tile함수 사용하지 않고 array만들기\n",
    "z = np.zeros((8,8), dtype=int)\n",
    "z[1::2, ::2] =  1\n",
    "z[::2, 1::2] = 1\n",
    "print(z)\n",
    "\n",
    "#tile함수를 이용하여 위와 같은 array 만들기\n",
    "z2 = np.tile(np.array([[0,1],[1,0]]), (4, 4))\n",
    "print(z2)"
   ]
  },
  {
   "cell_type": "markdown",
   "metadata": {},
   "source": [
    "# 표준화  \n",
    ": (요소값-평균) / 표준편차"
   ]
  },
  {
   "cell_type": "code",
   "execution_count": 74,
   "metadata": {
    "ExecuteTime": {
     "end_time": "2020-08-18T01:40:40.635972Z",
     "start_time": "2020-08-18T01:40:40.629971Z"
    }
   },
   "outputs": [
    {
     "data": {
      "text/plain": [
       "array([[0.35327159, 0.34164597, 0.133036  , 0.44952228],\n",
       "       [0.48711321, 0.67687194, 0.35439275, 0.72362774],\n",
       "       [0.50735425, 0.96281128, 0.19595904, 0.72273221],\n",
       "       [0.90754249, 0.56033416, 0.2059217 , 0.99877911],\n",
       "       [0.86104877, 0.76966877, 0.96451291, 0.76623983]])"
      ]
     },
     "execution_count": 74,
     "metadata": {},
     "output_type": "execute_result"
    }
   ],
   "source": [
    "z = np.random.random((5, 4))\n",
    "z"
   ]
  },
  {
   "cell_type": "code",
   "execution_count": 77,
   "metadata": {
    "ExecuteTime": {
     "end_time": "2020-08-18T01:42:50.952723Z",
     "start_time": "2020-08-18T01:42:50.946722Z"
    }
   },
   "outputs": [
    {
     "name": "stdout",
     "output_type": "stream",
     "text": [
      "0.5971193009539306\n",
      "[0.62326606 0.66226642 0.37076448 0.73218023]\n",
      "[0.31936896 0.56050141 0.5972142  0.66814437 0.84036757]\n",
      "0.26915230138426316\n"
     ]
    }
   ],
   "source": [
    "print(np.mean(z)) #전체평균\n",
    "print(np.mean(z, axis=0)) #각 칼럼 평균\n",
    "print(np.mean(z, axis=1)) #각 행 평균\n",
    "\n",
    "print(np.std(z)) #표준편차"
   ]
  },
  {
   "cell_type": "code",
   "execution_count": 78,
   "metadata": {
    "ExecuteTime": {
     "end_time": "2020-08-18T01:43:49.871131Z",
     "start_time": "2020-08-18T01:43:49.866130Z"
    }
   },
   "outputs": [
    {
     "data": {
      "text/plain": [
       "array([[-0.24384771, -0.25547333, -0.4640833 , -0.14759702],\n",
       "       [-0.11000609,  0.07975264, -0.24272655,  0.12650844],\n",
       "       [-0.08976505,  0.36569198, -0.40116026,  0.12561291],\n",
       "       [ 0.31042319, -0.03678514, -0.3911976 ,  0.40165981],\n",
       "       [ 0.26392947,  0.17254947,  0.36739361,  0.16912053]])"
      ]
     },
     "execution_count": 78,
     "metadata": {},
     "output_type": "execute_result"
    }
   ],
   "source": [
    "#전체 데이터 표준화 : (전체 각 데이터 - 전체 데이터 평균) / 전체 표준편차\n",
    "(z-np.mean(z))/(np.std(z)) "
   ]
  },
  {
   "cell_type": "code",
   "execution_count": 85,
   "metadata": {
    "ExecuteTime": {
     "end_time": "2020-08-18T02:15:01.949182Z",
     "start_time": "2020-08-18T02:15:01.940181Z"
    }
   },
   "outputs": [
    {
     "name": "stdout",
     "output_type": "stream",
     "text": [
      "[[10 11 12 13 14]\n",
      " [15 16 17 18 19]\n",
      " [20 21 22 23 24]\n",
      " [25 26 27 28 29]]\n",
      "[[-1.34164079 -1.34164079 -1.34164079 -1.34164079 -1.34164079]\n",
      " [-0.4472136  -0.4472136  -0.4472136  -0.4472136  -0.4472136 ]\n",
      " [ 0.4472136   0.4472136   0.4472136   0.4472136   0.4472136 ]\n",
      " [ 1.34164079  1.34164079  1.34164079  1.34164079  1.34164079]]\n",
      "[[0.         0.         0.         0.         0.        ]\n",
      " [0.33333333 0.33333333 0.33333333 0.33333333 0.33333333]\n",
      " [0.66666667 0.66666667 0.66666667 0.66666667 0.66666667]\n",
      " [1.         1.         1.         1.         1.        ]]\n"
     ]
    }
   ],
   "source": [
    "z = np.arange(10, 30).reshape(4,5)\n",
    "print(z)\n",
    "#각 열 표준화 : (각 열 데이터 - 각 열 데이터 평균) / 각 열 표준편차\n",
    "std_z = (z-np.mean(z, axis=0))/(np.std(z, axis=0)) \n",
    "print(std_z)\n",
    "\n",
    "#각 열 정규화 : (각 열 데이터 - 열 최소값)/열 최대값-열 최소값\n",
    "norm_z = (z-np.min(z, axis=0)) / (np.max(z, axis=0)-np.min(z, axis=0))\n",
    "print(norm_z)"
   ]
  },
  {
   "cell_type": "markdown",
   "metadata": {},
   "source": [
    "# matrix(행렬) 연산"
   ]
  },
  {
   "cell_type": "code",
   "execution_count": 97,
   "metadata": {
    "ExecuteTime": {
     "end_time": "2020-08-18T02:25:33.987471Z",
     "start_time": "2020-08-18T02:25:33.978470Z"
    }
   },
   "outputs": [
    {
     "name": "stdout",
     "output_type": "stream",
     "text": [
      "[[1. 1. 1.]\n",
      " [1. 1. 1.]\n",
      " [1. 1. 1.]\n",
      " [1. 1. 1.]\n",
      " [1. 1. 1.]]\n",
      "[[1. 1. 1.]\n",
      " [1. 1. 1.]\n",
      " [1. 1. 1.]\n",
      " [1. 1. 1.]\n",
      " [1. 1. 1.]]\n"
     ]
    },
    {
     "data": {
      "text/plain": [
       "array([[3., 3.],\n",
       "       [3., 3.],\n",
       "       [3., 3.],\n",
       "       [3., 3.],\n",
       "       [3., 3.]])"
      ]
     },
     "execution_count": 97,
     "metadata": {},
     "output_type": "execute_result"
    }
   ],
   "source": [
    "print(np.ones((5,3)))\n",
    "print(np.ones((5,3)))\n",
    "\n",
    "np.dot(np.ones((5,3)), np.ones((3,2))) #행렬 곱셈(dot product)\n",
    "np.ones((5,3)) @ np.ones((3,2)) #행렬 곱셈(dot product) : 위와 같은 표현\n",
    "# np.ones((5,3))*np.ones((5,3)) \n",
    "# => Error! 요소 간 곱셈(element-wise product)는 행렬의 크기가 같아야함"
   ]
  },
  {
   "cell_type": "markdown",
   "metadata": {},
   "source": [
    "# 조건문"
   ]
  },
  {
   "cell_type": "code",
   "execution_count": 106,
   "metadata": {
    "ExecuteTime": {
     "end_time": "2020-08-18T02:29:51.409730Z",
     "start_time": "2020-08-18T02:29:51.400730Z"
    }
   },
   "outputs": [
    {
     "name": "stdout",
     "output_type": "stream",
     "text": [
      "[ 0  1  2  3  4  5  6  7  8  9 10]\n",
      "[ 0  1  2  3 -4 -5 -6 -7 -8  9 10]\n"
     ]
    },
    {
     "data": {
      "text/plain": [
       "array([ 0,  1,  2,  3, -4, -5, -6, -7, -8,  9, 10])"
      ]
     },
     "execution_count": 106,
     "metadata": {},
     "output_type": "execute_result"
    }
   ],
   "source": [
    "z = np.arange(11)\n",
    "print(z)\n",
    "#조건식 ->  4,5,6,7,8 을 음수로 변경\n",
    "\n",
    "#boolean참조 실행\n",
    "z[(z>3) & (z<9)] *= -1\n",
    "print(z)\n",
    "\n",
    "#np.where 사용\n",
    "np.where(z>3 , np.where(z<9, -z, z), z)"
   ]
  },
  {
   "cell_type": "markdown",
   "metadata": {},
   "source": [
    "# 집합"
   ]
  },
  {
   "cell_type": "code",
   "execution_count": 116,
   "metadata": {
    "ExecuteTime": {
     "end_time": "2020-08-18T02:34:26.134286Z",
     "start_time": "2020-08-18T02:34:26.129283Z"
    },
    "scrolled": true
   },
   "outputs": [
    {
     "name": "stdout",
     "output_type": "stream",
     "text": [
      "[9 7 0 7 2 1 4 6 2 8]\n",
      "[3 4 3 9 7 7 0 4 2 5]\n"
     ]
    }
   ],
   "source": [
    "z1 = np.random.randint(0, 10, 10) #0<=정수난수<10\n",
    "z2 = np.random.randint(0, 10, 10)\n",
    "\n",
    "print(z1)\n",
    "print(z2)"
   ]
  },
  {
   "cell_type": "code",
   "execution_count": 117,
   "metadata": {
    "ExecuteTime": {
     "end_time": "2020-08-18T02:34:27.063354Z",
     "start_time": "2020-08-18T02:34:27.058356Z"
    }
   },
   "outputs": [
    {
     "data": {
      "text/plain": [
       "array([0, 2, 4, 7, 9])"
      ]
     },
     "execution_count": 117,
     "metadata": {},
     "output_type": "execute_result"
    }
   ],
   "source": [
    "np.intersect1d(z1, z2) #두 집합의 교집합(공통요소)"
   ]
  },
  {
   "cell_type": "code",
   "execution_count": 118,
   "metadata": {
    "ExecuteTime": {
     "end_time": "2020-08-18T02:34:27.942421Z",
     "start_time": "2020-08-18T02:34:27.937418Z"
    }
   },
   "outputs": [
    {
     "data": {
      "text/plain": [
       "array([0, 1, 2, 4, 6, 7, 8, 9])"
      ]
     },
     "execution_count": 118,
     "metadata": {},
     "output_type": "execute_result"
    }
   ],
   "source": [
    "np.unique(z1) # z1집합내에 유일한 요소만 추출(중복제거)"
   ]
  },
  {
   "cell_type": "code",
   "execution_count": 119,
   "metadata": {
    "ExecuteTime": {
     "end_time": "2020-08-18T02:34:28.879490Z",
     "start_time": "2020-08-18T02:34:28.873489Z"
    }
   },
   "outputs": [
    {
     "data": {
      "text/plain": [
       "array([0, 1, 2, 3, 4, 5, 6, 7, 8, 9])"
      ]
     },
     "execution_count": 119,
     "metadata": {},
     "output_type": "execute_result"
    }
   ],
   "source": [
    "np.union1d(z1, z2) # 두 집합의 합집합"
   ]
  },
  {
   "cell_type": "code",
   "execution_count": 120,
   "metadata": {
    "ExecuteTime": {
     "end_time": "2020-08-18T02:34:29.903567Z",
     "start_time": "2020-08-18T02:34:29.897567Z"
    }
   },
   "outputs": [
    {
     "data": {
      "text/plain": [
       "array([ True,  True,  True,  True,  True, False,  True, False,  True,\n",
       "       False])"
      ]
     },
     "execution_count": 120,
     "metadata": {},
     "output_type": "execute_result"
    }
   ],
   "source": [
    "np.in1d(z1, z2) #z1이 z2 배열의 원소를 포함하고 있는지 여부를 불린형으로 출력"
   ]
  },
  {
   "cell_type": "code",
   "execution_count": 121,
   "metadata": {
    "ExecuteTime": {
     "end_time": "2020-08-18T02:35:13.586836Z",
     "start_time": "2020-08-18T02:35:13.581836Z"
    }
   },
   "outputs": [
    {
     "data": {
      "text/plain": [
       "array([1, 6, 8])"
      ]
     },
     "execution_count": 121,
     "metadata": {},
     "output_type": "execute_result"
    }
   ],
   "source": [
    "np.setdiff1d(z1, z2) #차집합:z1-z2 => z1의 요소 중 z2에는 없는 요소만 출력"
   ]
  },
  {
   "cell_type": "code",
   "execution_count": null,
   "metadata": {},
   "outputs": [],
   "source": [
    "np.setxor1d(z1, z2) #대칭차집합 : z1과 z2의 합집합에서 교집합을 뺀 것"
   ]
  },
  {
   "cell_type": "markdown",
   "metadata": {},
   "source": [
    "# 논리함수"
   ]
  },
  {
   "cell_type": "code",
   "execution_count": 122,
   "metadata": {
    "ExecuteTime": {
     "end_time": "2020-08-18T02:38:02.945506Z",
     "start_time": "2020-08-18T02:38:02.939505Z"
    }
   },
   "outputs": [
    {
     "data": {
      "text/plain": [
       "array([[1, 2, 3],\n",
       "       [4, 5, 6]])"
      ]
     },
     "execution_count": 122,
     "metadata": {},
     "output_type": "execute_result"
    }
   ],
   "source": [
    "a = np.arange(1,7).reshape(2,3)\n",
    "a"
   ]
  },
  {
   "cell_type": "code",
   "execution_count": 125,
   "metadata": {
    "ExecuteTime": {
     "end_time": "2020-08-18T02:39:13.281769Z",
     "start_time": "2020-08-18T02:39:13.276770Z"
    }
   },
   "outputs": [
    {
     "data": {
      "text/plain": [
       "array([[False,  True, False],\n",
       "       [ True, False,  True]])"
      ]
     },
     "execution_count": 125,
     "metadata": {},
     "output_type": "execute_result"
    }
   ],
   "source": [
    "x1 = a%2==0 #2로 나눈 나머지\n",
    "x1"
   ]
  },
  {
   "cell_type": "code",
   "execution_count": 126,
   "metadata": {
    "ExecuteTime": {
     "end_time": "2020-08-18T02:39:31.411125Z",
     "start_time": "2020-08-18T02:39:31.405125Z"
    }
   },
   "outputs": [
    {
     "data": {
      "text/plain": [
       "array([[False, False, False],\n",
       "       [ True,  True,  True]])"
      ]
     },
     "execution_count": 126,
     "metadata": {},
     "output_type": "execute_result"
    }
   ],
   "source": [
    "x2 = a>=4\n",
    "x2"
   ]
  },
  {
   "cell_type": "code",
   "execution_count": 130,
   "metadata": {
    "ExecuteTime": {
     "end_time": "2020-08-18T02:46:23.653968Z",
     "start_time": "2020-08-18T02:46:23.646969Z"
    }
   },
   "outputs": [
    {
     "data": {
      "text/plain": [
       "10"
      ]
     },
     "execution_count": 130,
     "metadata": {},
     "output_type": "execute_result"
    }
   ],
   "source": [
    "#x1과 x2의 논리곱 연산(모두 True일 때만 True 출력)\n",
    "np.logical_and(x1, x2)\n",
    "\n",
    "#True의 개수를 세고 싶을 때:\n",
    "np.sum(np.logical_and(x1, x2))\n",
    "\n",
    "np.sum(a*np.logical_and(x1, x2)) #True에 해당하는 요소만 합합 것 : 4+6\n",
    "# [[1, 2, 3],   *   [[False,  True, False],\n",
    "#  [4, 5, 6]]       [ True, False,  True]]"
   ]
  },
  {
   "cell_type": "code",
   "execution_count": 131,
   "metadata": {
    "ExecuteTime": {
     "end_time": "2020-08-18T02:46:25.667121Z",
     "start_time": "2020-08-18T02:46:25.662118Z"
    }
   },
   "outputs": [
    {
     "data": {
      "text/plain": [
       "array([[False,  True, False],\n",
       "       [ True,  True,  True]])"
      ]
     },
     "execution_count": 131,
     "metadata": {},
     "output_type": "execute_result"
    }
   ],
   "source": [
    "#x1과 x2의 논리곱 연산(모두 True일 때만 True 출력)\n",
    "np.logical_or(x1, x2)"
   ]
  },
  {
   "cell_type": "code",
   "execution_count": 129,
   "metadata": {
    "ExecuteTime": {
     "end_time": "2020-08-18T02:45:46.770210Z",
     "start_time": "2020-08-18T02:45:46.764210Z"
    }
   },
   "outputs": [
    {
     "data": {
      "text/plain": [
       "array([[False,  True, False],\n",
       "       [False,  True, False]])"
      ]
     },
     "execution_count": 129,
     "metadata": {},
     "output_type": "execute_result"
    }
   ],
   "source": [
    "np.logical_xor(x1, x2) #서로 다른 경우에는 1, 서로 같은 경우는 0"
   ]
  },
  {
   "cell_type": "markdown",
   "metadata": {},
   "source": [
    "# 날짜 표현  \n",
    ": RNN에서 주로 사용"
   ]
  },
  {
   "cell_type": "code",
   "execution_count": 133,
   "metadata": {
    "ExecuteTime": {
     "end_time": "2020-08-18T02:48:08.553819Z",
     "start_time": "2020-08-18T02:48:08.548816Z"
    }
   },
   "outputs": [
    {
     "name": "stdout",
     "output_type": "stream",
     "text": [
      "2020-08-18\n",
      "2020-08\n",
      "2020\n"
     ]
    }
   ],
   "source": [
    "print(np.datetime64('today')) #np.datetime64('today', 'D')\n",
    "print(np.datetime64('today', 'M'))\n",
    "print(np.datetime64('today', 'Y'))"
   ]
  },
  {
   "cell_type": "code",
   "execution_count": 134,
   "metadata": {
    "ExecuteTime": {
     "end_time": "2020-08-18T02:48:20.962746Z",
     "start_time": "2020-08-18T02:48:20.957745Z"
    }
   },
   "outputs": [
    {
     "data": {
      "text/plain": [
       "numpy.datetime64('2020-08-17')"
      ]
     },
     "execution_count": 134,
     "metadata": {},
     "output_type": "execute_result"
    }
   ],
   "source": [
    "np.datetime64('today', 'D')-1 #연산가능 (date타입의 데이터이므로)"
   ]
  },
  {
   "cell_type": "code",
   "execution_count": 135,
   "metadata": {
    "ExecuteTime": {
     "end_time": "2020-08-18T02:49:45.743090Z",
     "start_time": "2020-08-18T02:49:45.739089Z"
    }
   },
   "outputs": [
    {
     "data": {
      "text/plain": [
       "numpy.datetime64('2020-10')"
      ]
     },
     "execution_count": 135,
     "metadata": {},
     "output_type": "execute_result"
    }
   ],
   "source": [
    "np.datetime64('today', 'M')+2"
   ]
  },
  {
   "cell_type": "code",
   "execution_count": 136,
   "metadata": {
    "ExecuteTime": {
     "end_time": "2020-08-18T02:51:07.290191Z",
     "start_time": "2020-08-18T02:51:07.285191Z"
    }
   },
   "outputs": [
    {
     "data": {
      "text/plain": [
       "numpy.datetime64('2020-08-17')"
      ]
     },
     "execution_count": 136,
     "metadata": {},
     "output_type": "execute_result"
    }
   ],
   "source": [
    "np.datetime64('today', 'D')-np.timedelta64(1, 'D')\n",
    "#delta : 변화를 의미\n",
    "#(1, 'D')는 하루를 의미"
   ]
  },
  {
   "cell_type": "markdown",
   "metadata": {},
   "source": [
    "날짜데이터를 array를 이용하여 출력"
   ]
  },
  {
   "cell_type": "code",
   "execution_count": 141,
   "metadata": {
    "ExecuteTime": {
     "end_time": "2020-08-18T02:55:42.032747Z",
     "start_time": "2020-08-18T02:55:42.024746Z"
    }
   },
   "outputs": [
    {
     "data": {
      "text/plain": [
       "array(['2020-08-01', '2020-08-02', '2020-08-03', '2020-08-04',\n",
       "       '2020-08-05', '2020-08-06', '2020-08-07', '2020-08-08',\n",
       "       '2020-08-09', '2020-08-10', '2020-08-11', '2020-08-12',\n",
       "       '2020-08-13', '2020-08-14', '2020-08-15', '2020-08-16',\n",
       "       '2020-08-17', '2020-08-18', '2020-08-19', '2020-08-20',\n",
       "       '2020-08-21', '2020-08-22', '2020-08-23', '2020-08-24',\n",
       "       '2020-08-25', '2020-08-26', '2020-08-27', '2020-08-28',\n",
       "       '2020-08-29', '2020-08-30', '2020-08-31', '2020-09-01',\n",
       "       '2020-09-02', '2020-09-03', '2020-09-04', '2020-09-05',\n",
       "       '2020-09-06', '2020-09-07', '2020-09-08', '2020-09-09',\n",
       "       '2020-09-10', '2020-09-11', '2020-09-12', '2020-09-13',\n",
       "       '2020-09-14', '2020-09-15', '2020-09-16', '2020-09-17',\n",
       "       '2020-09-18', '2020-09-19', '2020-09-20', '2020-09-21',\n",
       "       '2020-09-22', '2020-09-23', '2020-09-24', '2020-09-25',\n",
       "       '2020-09-26', '2020-09-27', '2020-09-28', '2020-09-29',\n",
       "       '2020-09-30', '2020-10-01', '2020-10-02', '2020-10-03',\n",
       "       '2020-10-04', '2020-10-05', '2020-10-06', '2020-10-07',\n",
       "       '2020-10-08', '2020-10-09', '2020-10-10', '2020-10-11',\n",
       "       '2020-10-12', '2020-10-13', '2020-10-14', '2020-10-15',\n",
       "       '2020-10-16', '2020-10-17', '2020-10-18', '2020-10-19',\n",
       "       '2020-10-20', '2020-10-21', '2020-10-22', '2020-10-23',\n",
       "       '2020-10-24', '2020-10-25', '2020-10-26', '2020-10-27',\n",
       "       '2020-10-28', '2020-10-29', '2020-10-30', '2020-10-31',\n",
       "       '2020-11-01', '2020-11-02', '2020-11-03', '2020-11-04',\n",
       "       '2020-11-05', '2020-11-06', '2020-11-07', '2020-11-08',\n",
       "       '2020-11-09', '2020-11-10', '2020-11-11', '2020-11-12',\n",
       "       '2020-11-13', '2020-11-14', '2020-11-15', '2020-11-16',\n",
       "       '2020-11-17', '2020-11-18', '2020-11-19', '2020-11-20',\n",
       "       '2020-11-21', '2020-11-22', '2020-11-23', '2020-11-24',\n",
       "       '2020-11-25', '2020-11-26', '2020-11-27', '2020-11-28',\n",
       "       '2020-11-29', '2020-11-30'], dtype='datetime64[D]')"
      ]
     },
     "execution_count": 141,
     "metadata": {},
     "output_type": "execute_result"
    }
   ],
   "source": [
    "np.arange('2020-08', '2020-12', dtype='datetime64[D]')"
   ]
  },
  {
   "cell_type": "code",
   "execution_count": 142,
   "metadata": {
    "ExecuteTime": {
     "end_time": "2020-08-18T02:55:53.854631Z",
     "start_time": "2020-08-18T02:55:53.848630Z"
    }
   },
   "outputs": [
    {
     "data": {
      "text/plain": [
       "array(['2020-08', '2020-09', '2020-10', '2020-11', '2020-12'],\n",
       "      dtype='datetime64[M]')"
      ]
     },
     "execution_count": 142,
     "metadata": {},
     "output_type": "execute_result"
    }
   ],
   "source": [
    "np.arange('2020-08', '2021-01', dtype='datetime64[M]')"
   ]
  },
  {
   "cell_type": "code",
   "execution_count": null,
   "metadata": {},
   "outputs": [],
   "source": []
  },
  {
   "cell_type": "code",
   "execution_count": 147,
   "metadata": {
    "ExecuteTime": {
     "end_time": "2020-08-18T04:12:47.765841Z",
     "start_time": "2020-08-18T04:12:47.762841Z"
    }
   },
   "outputs": [],
   "source": [
    "a = np.ones(3)*1 #[1. 1. 1.]\n",
    "b = np.ones(3)*2 #[2. 2. 2.]\n",
    "c = np.ones(3)*3 #[3. 3. 3.]"
   ]
  },
  {
   "cell_type": "code",
   "execution_count": 148,
   "metadata": {
    "ExecuteTime": {
     "end_time": "2020-08-18T04:13:16.153964Z",
     "start_time": "2020-08-18T04:13:16.147963Z"
    }
   },
   "outputs": [
    {
     "data": {
      "text/plain": [
       "array([3., 3., 3.])"
      ]
     },
     "execution_count": 148,
     "metadata": {},
     "output_type": "execute_result"
    }
   ],
   "source": [
    "np.add(a,b, out=b) #요소 간 덧셈하여 b에 저장\n",
    "b"
   ]
  },
  {
   "cell_type": "code",
   "execution_count": 149,
   "metadata": {
    "ExecuteTime": {
     "end_time": "2020-08-18T04:13:36.235466Z",
     "start_time": "2020-08-18T04:13:36.229467Z"
    }
   },
   "outputs": [
    {
     "data": {
      "text/plain": [
       "array([0.5, 0.5, 0.5])"
      ]
     },
     "execution_count": 149,
     "metadata": {},
     "output_type": "execute_result"
    }
   ],
   "source": [
    "np.divide(a, 2, out=a) #a요소를 각각 2로 나눈 값을 a에 저장\n",
    "a"
   ]
  },
  {
   "cell_type": "code",
   "execution_count": 151,
   "metadata": {
    "ExecuteTime": {
     "end_time": "2020-08-18T04:14:32.574683Z",
     "start_time": "2020-08-18T04:14:32.568681Z"
    }
   },
   "outputs": [
    {
     "data": {
      "text/plain": [
       "array([-0.5, -0.5, -0.5])"
      ]
     },
     "execution_count": 151,
     "metadata": {},
     "output_type": "execute_result"
    }
   ],
   "source": [
    "np.negative(a, out=a) #음수\n",
    "a"
   ]
  },
  {
   "cell_type": "code",
   "execution_count": 152,
   "metadata": {
    "ExecuteTime": {
     "end_time": "2020-08-18T04:14:46.575730Z",
     "start_time": "2020-08-18T04:14:46.569728Z"
    }
   },
   "outputs": [
    {
     "data": {
      "text/plain": [
       "array([-1.5, -1.5, -1.5])"
      ]
     },
     "execution_count": 152,
     "metadata": {},
     "output_type": "execute_result"
    }
   ],
   "source": [
    "np.multiply(a, b, out=a) #요소 간 곱셈"
   ]
  },
  {
   "cell_type": "markdown",
   "metadata": {},
   "source": [
    "# 실수연산"
   ]
  },
  {
   "cell_type": "code",
   "execution_count": 153,
   "metadata": {
    "ExecuteTime": {
     "end_time": "2020-08-18T04:15:59.765206Z",
     "start_time": "2020-08-18T04:15:59.759206Z"
    }
   },
   "outputs": [
    {
     "data": {
      "text/plain": [
       "array([9.43607638, 4.07550178, 3.66135464, 1.774181  , 9.70093572,\n",
       "       1.21502687, 2.10169062, 5.54275618, 5.06176004, 4.02329149])"
      ]
     },
     "execution_count": 153,
     "metadata": {},
     "output_type": "execute_result"
    }
   ],
   "source": [
    "z = np.random.uniform(0, 10, 10)\n",
    "z"
   ]
  },
  {
   "cell_type": "code",
   "execution_count": 158,
   "metadata": {
    "ExecuteTime": {
     "end_time": "2020-08-18T04:18:48.644842Z",
     "start_time": "2020-08-18T04:18:48.640842Z"
    }
   },
   "outputs": [
    {
     "name": "stdout",
     "output_type": "stream",
     "text": [
      "[0.43607638 0.07550178 0.66135464 0.774181   0.70093572 0.21502687\n",
      " 0.10169062 0.54275618 0.06176004 0.02329149]\n",
      "[9. 4. 3. 1. 9. 1. 2. 5. 5. 4.]\n"
     ]
    }
   ],
   "source": [
    "print(z%1) #소수점 자리만 추출\n",
    "print(z-(z%1)) #정수 부분만 추출"
   ]
  },
  {
   "cell_type": "code",
   "execution_count": 159,
   "metadata": {
    "ExecuteTime": {
     "end_time": "2020-08-18T04:19:58.555073Z",
     "start_time": "2020-08-18T04:19:58.549071Z"
    }
   },
   "outputs": [
    {
     "name": "stdout",
     "output_type": "stream",
     "text": [
      "[9. 4. 3. 1. 9. 1. 2. 5. 5. 4.]\n",
      "[9. 4. 3. 1. 9. 1. 2. 5. 5. 4.]\n"
     ]
    }
   ],
   "source": [
    "print(np.floor(z)) #소수점을 버림 => 내림\n",
    "print(np.ceil(z)-1) #올림"
   ]
  },
  {
   "cell_type": "code",
   "execution_count": 160,
   "metadata": {
    "ExecuteTime": {
     "end_time": "2020-08-18T04:20:18.041532Z",
     "start_time": "2020-08-18T04:20:18.036530Z"
    }
   },
   "outputs": [
    {
     "data": {
      "text/plain": [
       "array([9, 4, 3, 1, 9, 1, 2, 5, 5, 4])"
      ]
     },
     "execution_count": 160,
     "metadata": {},
     "output_type": "execute_result"
    }
   ],
   "source": [
    "z.astype(int) #실수형을 int(정수)형으로 변형"
   ]
  },
  {
   "cell_type": "code",
   "execution_count": 161,
   "metadata": {
    "ExecuteTime": {
     "end_time": "2020-08-18T04:20:32.132584Z",
     "start_time": "2020-08-18T04:20:32.127584Z"
    }
   },
   "outputs": [
    {
     "data": {
      "text/plain": [
       "array([9., 4., 3., 1., 9., 1., 2., 5., 5., 4.])"
      ]
     },
     "execution_count": 161,
     "metadata": {},
     "output_type": "execute_result"
    }
   ],
   "source": [
    "np.trunc(z) #내림 => floor()과 차이 : trunc()함수는 \n",
    "            #       내림을 하더라도 0으로 향하는 반면 \n",
    "            #       floor() 함수는 무조건 아래만 향해 내림"
   ]
  },
  {
   "cell_type": "markdown",
   "metadata": {},
   "source": [
    "# 좌표 구간 나누기"
   ]
  },
  {
   "cell_type": "code",
   "execution_count": 162,
   "metadata": {
    "ExecuteTime": {
     "end_time": "2020-08-18T04:23:12.095552Z",
     "start_time": "2020-08-18T04:23:12.088551Z"
    }
   },
   "outputs": [
    {
     "data": {
      "text/plain": [
       "array([ 0. ,  2.5,  5. ,  7.5, 10. ])"
      ]
     },
     "execution_count": 162,
     "metadata": {},
     "output_type": "execute_result"
    }
   ],
   "source": [
    "#np.linspace(순열시작값, 순열끝값, 샘플개수)\n",
    "#시각화할 때 x축 설정\n",
    "\n",
    "np.linspace(start=0, stop=10, num=5)"
   ]
  },
  {
   "cell_type": "code",
   "execution_count": 163,
   "metadata": {
    "ExecuteTime": {
     "end_time": "2020-08-18T04:24:27.819218Z",
     "start_time": "2020-08-18T04:24:27.813217Z"
    }
   },
   "outputs": [
    {
     "data": {
      "text/plain": [
       "array([0., 2., 4., 6., 8.])"
      ]
     },
     "execution_count": 163,
     "metadata": {},
     "output_type": "execute_result"
    }
   ],
   "source": [
    "np.linspace(start=0, stop=10, num=5, endpoint=False) #10을 포함할지 말지 옵션"
   ]
  },
  {
   "cell_type": "markdown",
   "metadata": {},
   "source": [
    "# enumerate() 함수"
   ]
  },
  {
   "cell_type": "code",
   "execution_count": 167,
   "metadata": {
    "ExecuteTime": {
     "end_time": "2020-08-18T04:27:31.174937Z",
     "start_time": "2020-08-18T04:27:31.168936Z"
    }
   },
   "outputs": [
    {
     "name": "stdout",
     "output_type": "stream",
     "text": [
      "(0, 'kim')\n",
      "(1, 'lee')\n",
      "(2, 'park')\n",
      "(3, 'choi')\n",
      "0 kim\n",
      "1 lee\n",
      "2 park\n",
      "3 choi\n"
     ]
    }
   ],
   "source": [
    "nameList = ['kim', 'lee', 'park', 'choi']\n",
    "\n",
    "for name in enumerate(nameList):\n",
    "    print(name)\n",
    "\n",
    "for i, name in enumerate(nameList):\n",
    "    print(i, name)"
   ]
  },
  {
   "cell_type": "markdown",
   "metadata": {},
   "source": [
    "# argmax() 함수"
   ]
  },
  {
   "cell_type": "code",
   "execution_count": 176,
   "metadata": {
    "ExecuteTime": {
     "end_time": "2020-08-18T04:31:58.453935Z",
     "start_time": "2020-08-18T04:31:58.448933Z"
    }
   },
   "outputs": [
    {
     "data": {
      "text/plain": [
       "array([0.26841841, 0.0850837 , 0.79537502, 0.63916919, 0.69202694,\n",
       "       0.67737565, 0.3780037 , 0.86959857, 0.57014795, 0.99739329])"
      ]
     },
     "execution_count": 176,
     "metadata": {},
     "output_type": "execute_result"
    }
   ],
   "source": [
    "z = np.random.random(10)\n",
    "z"
   ]
  },
  {
   "cell_type": "code",
   "execution_count": 177,
   "metadata": {
    "ExecuteTime": {
     "end_time": "2020-08-18T04:31:59.607020Z",
     "start_time": "2020-08-18T04:31:59.600019Z"
    }
   },
   "outputs": [
    {
     "data": {
      "text/plain": [
       "array([0.26841841, 0.0850837 , 0.79537502, 0.63916919, 0.69202694,\n",
       "       0.67737565, 0.3780037 , 0.86959857, 0.57014795, 0.        ])"
      ]
     },
     "execution_count": 177,
     "metadata": {},
     "output_type": "execute_result"
    }
   ],
   "source": [
    "#argmax : 최대값의 인덱스를 반환\n",
    "#z 데이터 중에서 최대값을 0으로 변경\n",
    "z[z.argmax()] = 0\n",
    "z"
   ]
  },
  {
   "cell_type": "markdown",
   "metadata": {},
   "source": [
    "# meshgrid() 함수"
   ]
  },
  {
   "cell_type": "code",
   "execution_count": null,
   "metadata": {},
   "outputs": [],
   "source": [
    "# 시각화, 그리드 형식 출력\n",
    "# 변수가 2개, 2차원 함수의 그래프 출력, 표 작성 <-- 2차원 좌표값의 순서쌍\n",
    "# meshgrid : (x, y) 가로점과 세로점 벡터를 입력받아 좌표값 쌍을 생성해줌."
   ]
  },
  {
   "cell_type": "code",
   "execution_count": 202,
   "metadata": {
    "ExecuteTime": {
     "end_time": "2020-08-18T04:48:19.752356Z",
     "start_time": "2020-08-18T04:48:19.749353Z"
    }
   },
   "outputs": [],
   "source": [
    "x = np.arange(3)\n",
    "y = np.arange(5)"
   ]
  },
  {
   "cell_type": "code",
   "execution_count": 179,
   "metadata": {
    "ExecuteTime": {
     "end_time": "2020-08-18T04:36:05.526420Z",
     "start_time": "2020-08-18T04:36:05.520420Z"
    }
   },
   "outputs": [
    {
     "data": {
      "text/plain": [
       "[array([[0, 1, 2],\n",
       "        [0, 1, 2],\n",
       "        [0, 1, 2],\n",
       "        [0, 1, 2],\n",
       "        [0, 1, 2]]),\n",
       " array([[0, 0, 0],\n",
       "        [1, 1, 1],\n",
       "        [2, 2, 2],\n",
       "        [3, 3, 3],\n",
       "        [4, 4, 4]])]"
      ]
     },
     "execution_count": 179,
     "metadata": {},
     "output_type": "execute_result"
    }
   ],
   "source": [
    "np.meshgrid(x, y)"
   ]
  },
  {
   "cell_type": "code",
   "execution_count": 203,
   "metadata": {
    "ExecuteTime": {
     "end_time": "2020-08-18T04:48:21.496485Z",
     "start_time": "2020-08-18T04:48:21.493485Z"
    }
   },
   "outputs": [],
   "source": [
    "x, y = np.meshgrid(x, y)"
   ]
  },
  {
   "cell_type": "code",
   "execution_count": 204,
   "metadata": {
    "ExecuteTime": {
     "end_time": "2020-08-18T04:48:27.930966Z",
     "start_time": "2020-08-18T04:48:27.925965Z"
    }
   },
   "outputs": [
    {
     "data": {
      "text/plain": [
       "array([[0, 0, 0],\n",
       "       [1, 1, 1],\n",
       "       [2, 2, 2],\n",
       "       [3, 3, 3],\n",
       "       [4, 4, 4]])"
      ]
     },
     "execution_count": 204,
     "metadata": {},
     "output_type": "execute_result"
    }
   ],
   "source": [
    "y"
   ]
  },
  {
   "cell_type": "code",
   "execution_count": 205,
   "metadata": {
    "ExecuteTime": {
     "end_time": "2020-08-18T04:48:36.061574Z",
     "start_time": "2020-08-18T04:48:36.054574Z"
    }
   },
   "outputs": [
    {
     "data": {
      "text/plain": [
       "[[(0, 0), (1, 0), (2, 0)],\n",
       " [(0, 1), (1, 1), (2, 1)],\n",
       " [(0, 2), (1, 2), (2, 2)],\n",
       " [(0, 3), (1, 3), (2, 3)],\n",
       " [(0, 4), (1, 4), (2, 4)]]"
      ]
     },
     "execution_count": 205,
     "metadata": {},
     "output_type": "execute_result"
    }
   ],
   "source": [
    "res = [list(zip(x,y)) for x,y in zip(x,y)]\n",
    "res"
   ]
  },
  {
   "cell_type": "code",
   "execution_count": 190,
   "metadata": {
    "ExecuteTime": {
     "end_time": "2020-08-18T04:43:26.480410Z",
     "start_time": "2020-08-18T04:43:26.171389Z"
    }
   },
   "outputs": [],
   "source": [
    "import matplotlib.pyplot as plt"
   ]
  },
  {
   "cell_type": "code",
   "execution_count": 206,
   "metadata": {
    "ExecuteTime": {
     "end_time": "2020-08-18T04:48:40.341894Z",
     "start_time": "2020-08-18T04:48:40.157880Z"
    }
   },
   "outputs": [
    {
     "data": {
      "text/plain": [
       "<matplotlib.collections.PathCollection at 0x2c2c1999f48>"
      ]
     },
     "execution_count": 206,
     "metadata": {},
     "output_type": "execute_result"
    },
    {
     "data": {
      "image/png": "[encoded data removed]",
      "text/plain": [
       "<Figure size 432x288 with 1 Axes>"
      ]
     },
     "metadata": {
      "needs_background": "light"
     },
     "output_type": "display_data"
    }
   ],
   "source": [
    "plt.scatter(x, y)"
   ]
  },
  {
   "cell_type": "markdown",
   "metadata": {},
   "source": [
    "# argmin() 함수"
   ]
  },
  {
   "cell_type": "code",
   "execution_count": 196,
   "metadata": {
    "ExecuteTime": {
     "end_time": "2020-08-18T04:46:25.467805Z",
     "start_time": "2020-08-18T04:46:25.462803Z"
    }
   },
   "outputs": [
    {
     "data": {
      "text/plain": [
       "54.388166082525146"
      ]
     },
     "execution_count": 196,
     "metadata": {},
     "output_type": "execute_result"
    }
   ],
   "source": [
    "z = np.arange(100)\n",
    "v = np.random.uniform(0, 100)\n",
    "v"
   ]
  },
  {
   "cell_type": "code",
   "execution_count": 216,
   "metadata": {
    "ExecuteTime": {
     "end_time": "2020-08-18T04:52:20.600375Z",
     "start_time": "2020-08-18T04:52:20.595373Z"
    }
   },
   "outputs": [
    {
     "data": {
      "text/plain": [
       "54"
      ]
     },
     "execution_count": 216,
     "metadata": {},
     "output_type": "execute_result"
    }
   ],
   "source": [
    "# v값에 가장 가까운 깂을 z에서 찾으시오 : 54\n",
    "z[np.argmin(abs(z-v))]\n",
    "\n",
    "# idx = (np.abs(z-v)).argmin()\n",
    "# z[idx]"
   ]
  },
  {
   "cell_type": "markdown",
   "metadata": {},
   "source": [
    "# random함수"
   ]
  },
  {
   "cell_type": "code",
   "execution_count": 217,
   "metadata": {
    "ExecuteTime": {
     "end_time": "2020-08-18T04:53:41.647439Z",
     "start_time": "2020-08-18T04:53:41.644437Z"
    }
   },
   "outputs": [],
   "source": [
    "np.random.seed(1004)"
   ]
  },
  {
   "cell_type": "code",
   "execution_count": 218,
   "metadata": {
    "ExecuteTime": {
     "end_time": "2020-08-18T04:53:59.692789Z",
     "start_time": "2020-08-18T04:53:59.689788Z"
    }
   },
   "outputs": [],
   "source": [
    "x = np.arange(10)\n",
    "np.random.shuffle(x)"
   ]
  },
  {
   "cell_type": "code",
   "execution_count": 219,
   "metadata": {
    "ExecuteTime": {
     "end_time": "2020-08-18T04:54:05.133196Z",
     "start_time": "2020-08-18T04:54:05.129193Z"
    }
   },
   "outputs": [
    {
     "data": {
      "text/plain": [
       "array([0, 6, 8, 9, 1, 4, 3, 7, 5, 2])"
      ]
     },
     "execution_count": 219,
     "metadata": {},
     "output_type": "execute_result"
    }
   ],
   "source": [
    "x #seed가 같으면 suffle한 값도 같은 값이 나옴"
   ]
  },
  {
   "cell_type": "code",
   "execution_count": 220,
   "metadata": {
    "ExecuteTime": {
     "end_time": "2020-08-18T04:55:02.244469Z",
     "start_time": "2020-08-18T04:55:02.238468Z"
    }
   },
   "outputs": [
    {
     "data": {
      "text/plain": [
       "array([1, 2, 3, 4, 0])"
      ]
     },
     "execution_count": 220,
     "metadata": {},
     "output_type": "execute_result"
    }
   ],
   "source": [
    "np.random.choice(5, 5, replace=False) #np.random.shuffle(np.arange(5))과 같은 의미\n",
    "                                      #비복원추출"
   ]
  },
  {
   "cell_type": "code",
   "execution_count": 221,
   "metadata": {
    "ExecuteTime": {
     "end_time": "2020-08-18T04:57:08.571920Z",
     "start_time": "2020-08-18T04:57:08.565918Z"
    }
   },
   "outputs": [
    {
     "data": {
      "text/plain": [
       "array([3, 2, 3, 3, 3, 3, 3, 0, 3, 3])"
      ]
     },
     "execution_count": 221,
     "metadata": {},
     "output_type": "execute_result"
    }
   ],
   "source": [
    "np.random.choice(5, 10, p=[0.1, 0, 0.3, 0.6, 0]) #p는 추출될 확률\n",
    "#0~4까지의 숫자를 10번 랜덤으로 추출"
   ]
  },
  {
   "cell_type": "code",
   "execution_count": 225,
   "metadata": {
    "ExecuteTime": {
     "end_time": "2020-08-18T04:59:25.145137Z",
     "start_time": "2020-08-18T04:59:24.990127Z"
    }
   },
   "outputs": [
    {
     "name": "stderr",
     "output_type": "stream",
     "text": [
      "c:\\users\\i\\pycharmprojects\\multicampus-deeplearning-based-ai-engineering\\venv\\lib\\site-packages\\ipykernel_launcher.py:1: DeprecationWarning: This function is deprecated. Please call randint(-100, 100 + 1) instead\n",
      "  \"\"\"Entry point for launching an IPython kernel.\n"
     ]
    },
    {
     "data": {
      "text/plain": [
       "<AxesSubplot:>"
      ]
     },
     "execution_count": 225,
     "metadata": {},
     "output_type": "execute_result"
    },
    {
     "data": {
      "image/png": "[encoded data removed]",
      "text/plain": [
       "<Figure size 432x288 with 1 Axes>"
      ]
     },
     "metadata": {
      "needs_background": "light"
     },
     "output_type": "display_data"
    }
   ],
   "source": [
    "x = np.random.random_integers(-100, 100, 50) #-100~100 중에 랜덤하게 50개 추출\n",
    "sns.distplot(x, rug=True) #각 숫자가 나올 확률을 시각화"
   ]
  },
  {
   "cell_type": "markdown",
   "metadata": {},
   "source": [
    "# bincount 함수"
   ]
  },
  {
   "cell_type": "code",
   "execution_count": 226,
   "metadata": {
    "ExecuteTime": {
     "end_time": "2020-08-18T05:15:31.057406Z",
     "start_time": "2020-08-18T05:15:30.848391Z"
    }
   },
   "outputs": [
    {
     "data": {
      "text/plain": [
       "<AxesSubplot:>"
      ]
     },
     "execution_count": 226,
     "metadata": {},
     "output_type": "execute_result"
    },
    {
     "data": {
      "image/png": "[encoded data removed]",
      "text/plain": [
       "<Figure size 432x288 with 1 Axes>"
      ]
     },
     "metadata": {
      "needs_background": "light"
     },
     "output_type": "display_data"
    }
   ],
   "source": [
    "x = np.random.rand(10000) #0~1사이의 난수, 균등하게 분포\n",
    "sns.distplot(x)"
   ]
  },
  {
   "cell_type": "code",
   "execution_count": 227,
   "metadata": {
    "ExecuteTime": {
     "end_time": "2020-08-18T05:17:00.279082Z",
     "start_time": "2020-08-18T05:17:00.085069Z"
    }
   },
   "outputs": [
    {
     "data": {
      "text/plain": [
       "<AxesSubplot:>"
      ]
     },
     "execution_count": 227,
     "metadata": {},
     "output_type": "execute_result"
    },
    {
     "data": {
      "image/png": "[encoded data removed]",
      "text/plain": [
       "<Figure size 432x288 with 1 Axes>"
      ]
     },
     "metadata": {
      "needs_background": "light"
     },
     "output_type": "display_data"
    }
   ],
   "source": [
    "x = np.random.randn(1000) #표준정규분포\n",
    "sns.distplot(x)"
   ]
  },
  {
   "cell_type": "code",
   "execution_count": 228,
   "metadata": {
    "ExecuteTime": {
     "end_time": "2020-08-18T05:17:40.623101Z",
     "start_time": "2020-08-18T05:17:40.617101Z"
    }
   },
   "outputs": [
    {
     "data": {
      "text/plain": [
       "array([1, 2, 3])"
      ]
     },
     "execution_count": 228,
     "metadata": {},
     "output_type": "execute_result"
    }
   ],
   "source": [
    "np.unique([1,1,2,2,3,3])"
   ]
  },
  {
   "cell_type": "code",
   "execution_count": 231,
   "metadata": {
    "ExecuteTime": {
     "end_time": "2020-08-18T05:19:05.005413Z",
     "start_time": "2020-08-18T05:19:04.997414Z"
    }
   },
   "outputs": [
    {
     "data": {
      "text/plain": [
       "array([1, 2, 3])"
      ]
     },
     "execution_count": 231,
     "metadata": {},
     "output_type": "execute_result"
    }
   ],
   "source": [
    "np.unique([[1,2,2], [2,2,3]])"
   ]
  },
  {
   "cell_type": "code",
   "execution_count": 234,
   "metadata": {
    "ExecuteTime": {
     "end_time": "2020-08-18T05:20:46.136982Z",
     "start_time": "2020-08-18T05:20:46.131980Z"
    }
   },
   "outputs": [
    {
     "name": "stdout",
     "output_type": "stream",
     "text": [
      "['a' 'b' 'c']\n",
      "[2 2 1]\n"
     ]
    }
   ],
   "source": [
    "a = np.array(['a', 'b', 'b', 'c', 'a'])\n",
    "idx, cnt = np.unique(a, return_counts=True)\n",
    "#유일한 요소들을 먼저 추출하고, 해당 각 요소의 개수를 뒤에 추출\n",
    "print(idx)\n",
    "print(cnt)"
   ]
  },
  {
   "cell_type": "code",
   "execution_count": 236,
   "metadata": {
    "ExecuteTime": {
     "end_time": "2020-08-18T05:21:43.101243Z",
     "start_time": "2020-08-18T05:21:43.095243Z"
    }
   },
   "outputs": [
    {
     "data": {
      "text/plain": [
       "array([0, 2, 3, 0, 2], dtype=int64)"
      ]
     },
     "execution_count": 236,
     "metadata": {},
     "output_type": "execute_result"
    }
   ],
   "source": [
    "np.bincount([1,1,2,2,2,4,4]) \n",
    "# minlength가 없으면 0부터 최대 요소 값까지 인덱스를 배열로 생성하여 \n",
    "# 해당 요소의 개수를 인덱스 차례대로 표현"
   ]
  },
  {
   "cell_type": "code",
   "execution_count": 237,
   "metadata": {
    "ExecuteTime": {
     "end_time": "2020-08-18T05:23:01.235089Z",
     "start_time": "2020-08-18T05:23:01.228090Z"
    }
   },
   "outputs": [
    {
     "data": {
      "text/plain": [
       "array([0, 2, 3, 0, 2, 0, 0, 0, 0, 0], dtype=int64)"
      ]
     },
     "execution_count": 237,
     "metadata": {},
     "output_type": "execute_result"
    }
   ],
   "source": [
    "np.bincount([1,1,2,2,2,4,4], minlength=10)"
   ]
  },
  {
   "cell_type": "code",
   "execution_count": null,
   "metadata": {
    "ExecuteTime": {
     "end_time": "2020-08-18T05:23:50.525776Z",
     "start_time": "2020-08-18T05:23:50.520777Z"
    }
   },
   "outputs": [],
   "source": []
  },
  {
   "cell_type": "code",
   "execution_count": 239,
   "metadata": {
    "ExecuteTime": {
     "end_time": "2020-08-18T05:26:32.654908Z",
     "start_time": "2020-08-18T05:26:32.648906Z"
    }
   },
   "outputs": [
    {
     "name": "stdout",
     "output_type": "stream",
     "text": [
      "-0.09368738545604063\n",
      "1.0995872960608073\n",
      "1.2090922216583175\n"
     ]
    }
   ],
   "source": [
    "x = np.random.randn(100) #평균:0, 표준편차:1\n",
    "print(x.mean()) #평균\n",
    "print(x.std()) #표준편차\n",
    "print(x.var()) #분산"
   ]
  },
  {
   "cell_type": "markdown",
   "metadata": {},
   "source": [
    "# einsum(아인슈타인 표기법)   \n",
    " * 전치행렬, 행렬의 내적 및 외적을 구할때 사용  \n",
    " * einsum(\"첨자1, 첨자2 -> 첨자\", 텐서1, 텐서2)"
   ]
  },
  {
   "cell_type": "code",
   "execution_count": 242,
   "metadata": {
    "ExecuteTime": {
     "end_time": "2020-08-18T05:29:16.625175Z",
     "start_time": "2020-08-18T05:29:16.619174Z"
    }
   },
   "outputs": [
    {
     "data": {
      "text/plain": [
       "array([[ 0,  1,  2,  3,  4],\n",
       "       [ 5,  6,  7,  8,  9],\n",
       "       [10, 11, 12, 13, 14],\n",
       "       [15, 16, 17, 18, 19],\n",
       "       [20, 21, 22, 23, 24]])"
      ]
     },
     "execution_count": 242,
     "metadata": {},
     "output_type": "execute_result"
    }
   ],
   "source": [
    "a = np.arange(25).reshape(5, 5)\n",
    "a"
   ]
  },
  {
   "cell_type": "code",
   "execution_count": 244,
   "metadata": {
    "ExecuteTime": {
     "end_time": "2020-08-18T05:29:53.002898Z",
     "start_time": "2020-08-18T05:29:52.996896Z"
    }
   },
   "outputs": [
    {
     "data": {
      "text/plain": [
       "array([[ 0,  5, 10, 15, 20],\n",
       "       [ 1,  6, 11, 16, 21],\n",
       "       [ 2,  7, 12, 17, 22],\n",
       "       [ 3,  8, 13, 18, 23],\n",
       "       [ 4,  9, 14, 19, 24]])"
      ]
     },
     "execution_count": 244,
     "metadata": {},
     "output_type": "execute_result"
    }
   ],
   "source": [
    "#아인슈타인 표기법\n",
    "#전치행렬\n",
    "np.einsum('ij->ji', a)"
   ]
  },
  {
   "cell_type": "code",
   "execution_count": 250,
   "metadata": {
    "ExecuteTime": {
     "end_time": "2020-08-18T05:40:24.186122Z",
     "start_time": "2020-08-18T05:40:24.180120Z"
    }
   },
   "outputs": [
    {
     "data": {
      "text/plain": [
       "60"
      ]
     },
     "execution_count": 250,
     "metadata": {},
     "output_type": "execute_result"
    }
   ],
   "source": [
    "#a행렬의 모든 원소 : aij\n",
    "np.einsum(\"ij->\", a) #a행렬 모든 요소의 합\n",
    "np.einsum('ii ->', a) #대각요소의 합"
   ]
  },
  {
   "cell_type": "code",
   "execution_count": 251,
   "metadata": {
    "ExecuteTime": {
     "end_time": "2020-08-18T05:40:26.634304Z",
     "start_time": "2020-08-18T05:40:26.628307Z"
    }
   },
   "outputs": [
    {
     "data": {
      "text/plain": [
       "array([ 10,  35,  60,  85, 110])"
      ]
     },
     "execution_count": 251,
     "metadata": {},
     "output_type": "execute_result"
    }
   ],
   "source": [
    "np.einsum('ij -> j', a) #각 행의 합\n",
    "np.einsum('ij -> i', a) #각 열의 합"
   ]
  }
 ],
 "metadata": {
  "kernelspec": {
   "display_name": "Python 3",
   "language": "python",
   "name": "python3"
  },
  "language_info": {
   "codemirror_mode": {
    "name": "ipython",
    "version": 3
   },
   "file_extension": ".py",
   "mimetype": "text/x-python",
   "name": "python",
   "nbconvert_exporter": "python",
   "pygments_lexer": "ipython3",
   "version": "3.7.8"
  },
  "toc": {
   "base_numbering": 1,
   "nav_menu": {},
   "number_sections": false,
   "sideBar": true,
   "skip_h1_title": false,
   "title_cell": "Table of Contents",
   "title_sidebar": "Contents",
   "toc_cell": false,
   "toc_position": {},
   "toc_section_display": true,
   "toc_window_display": true
  }
 },
 "nbformat": 4,
 "nbformat_minor": 4
}
