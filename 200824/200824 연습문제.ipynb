{
 "cells": [
  {
   "cell_type": "markdown",
   "metadata": {},
   "source": [
    "# 추천 시스템"
   ]
  },
  {
   "cell_type": "code",
   "execution_count": 1,
   "metadata": {
    "ExecuteTime": {
     "end_time": "2020-08-24T06:58:30.334271Z",
     "start_time": "2020-08-24T06:58:30.331272Z"
    }
   },
   "outputs": [],
   "source": [
    "import math"
   ]
  },
  {
   "cell_type": "code",
   "execution_count": 2,
   "metadata": {
    "ExecuteTime": {
     "end_time": "2020-08-24T06:58:39.396955Z",
     "start_time": "2020-08-24T06:58:39.391954Z"
    }
   },
   "outputs": [],
   "source": [
    "def dist(critic1, critic2):\n",
    "    dist = 0\n",
    "    for k1, v1 in critic1.items():\n",
    "        for k2, v2 in critic2.items():\n",
    "            if k1 == k2:\n",
    "                dist += (v1-v2)**2\n",
    "    return math.sqrt(dist)"
   ]
  },
  {
   "cell_type": "markdown",
   "metadata": {},
   "source": [
    "##  1. '손흥민'과 가장 가까운 사람과 거리 구하기"
   ]
  },
  {
   "cell_type": "code",
   "execution_count": 3,
   "metadata": {
    "ExecuteTime": {
     "end_time": "2020-08-24T06:51:37.586227Z",
     "start_time": "2020-08-24T06:51:37.582226Z"
    }
   },
   "outputs": [],
   "source": [
    "critics={'BTS':{'암수살인':5, '바울':4, '할로윈':1.5},\n",
    "         '손흥민':{'바울':5, '할로윈':2},\n",
    "         '레드벨벳':{'암수살인':2.5, '바울':2, '할로윈':1},\n",
    "         '트와이스':{'암수살인':3.5, '바울':4, '할로윈':5}}"
   ]
  },
  {
   "cell_type": "code",
   "execution_count": 4,
   "metadata": {
    "ExecuteTime": {
     "end_time": "2020-08-24T07:12:21.347775Z",
     "start_time": "2020-08-24T07:12:21.329776Z"
    }
   },
   "outputs": [
    {
     "name": "stdout",
     "output_type": "stream",
     "text": [
      "손흥민과 가장 가까운 사람 :  BTS\n",
      "거리 :  1.118033988749895\n",
      "'손흥민'의 '암수살인' 예상 평점 :  5\n"
     ]
    }
   ],
   "source": [
    "d_list = []\n",
    "for key, val in critics.items():\n",
    "    if key != '손흥민':\n",
    "        d_list.append((key, dist(critics['손흥민'], val)))\n",
    "\n",
    "d_list.sort(key=lambda x : x[1])\n",
    "\n",
    "print(\"손흥민과 가장 가까운 사람 : \", d_list[0][0])\n",
    "print(\"거리 : \", d_list[0][1])\n",
    "print(\"\\'손흥민\\'의 \\'암수살인\\' 예상 평점 : \", critics[d_list[0][0]]['암수살인'])"
   ]
  },
  {
   "cell_type": "markdown",
   "metadata": {},
   "source": [
    "## 2. 블랙핑크와 가장 가까운 사람과 거리 구하기"
   ]
  },
  {
   "cell_type": "code",
   "execution_count": 5,
   "metadata": {},
   "outputs": [],
   "source": [
    "critics2 = {'레드벨벳': {'택시운전사': 2.5,\n",
    "                    '겨울왕국': 3.5,\n",
    "                    '리빙라스베가스': 3.0,\n",
    "                    '넘버3': 3.5,\n",
    "                    '사랑과전쟁': 2.5,\n",
    "                    '세계대전': 3.0},\n",
    "           'BTS': {'택시운전사': 1.0,\n",
    "                   '겨울왕국': 4.5,\n",
    "                   '리빙라스베가스': 0.5,\n",
    "                   '넘버3': 1.5,\n",
    "                   '사랑과전쟁': 4.5,\n",
    "                   '세계대전': 5.0},\n",
    "           '블랙핑크': {'택시운전사': 3.0,\n",
    "                    '겨울왕국': 3.5,\n",
    "                    '리빙라스베가스': 1.5,\n",
    "                    '넘버3': 5.0,\n",
    "                    '세계대전': 3.0,\n",
    "                    '사랑과전쟁': 3.5},\n",
    "           '소녀시대': {'택시운전사': 2.5,\n",
    "                    '겨울왕국': 3.0,\n",
    "                    '넘버3': 3.5,\n",
    "                    '세계대전': 4.0},\n",
    "           '마마무': {'겨울왕국': 3.5,\n",
    "                   '리빙라스베가스': 3.0,\n",
    "                   '세계대전': 4.5,\n",
    "                   '넘버3': 4.0,\n",
    "                   '사랑과전쟁': 2.5},\n",
    "           '오마이걸': {'택시운전사': 3.0,\n",
    "                    '겨울왕국': 4.0,\n",
    "                    '리빙라스베가스': 2.0,\n",
    "                    '넘버3': 3.0,\n",
    "                    '세계대전': 3.5,\n",
    "                    '사랑과전쟁': 2.0},\n",
    "           '모모랜드': {'택시운전사': 3.0,\n",
    "                    '겨울왕국': 4.0,\n",
    "                    '세계대전': 3.0,\n",
    "                    '넘버3': 5.0,\n",
    "                    '사랑과전쟁': 3.5},\n",
    "           '우주소녀': {'겨울왕국': 4.5,\n",
    "                    '사랑과전쟁': 1.0,\n",
    "                    '넘버3': 4.0}}"
   ]
  },
  {
   "cell_type": "code",
   "execution_count": 6,
   "metadata": {},
   "outputs": [
    {
     "name": "stdout",
     "output_type": "stream",
     "text": [
      "블랙핑크와 평점이 가장 비슷한 사람 :  모모랜드\n",
      "평점 거리 :  0.5\n"
     ]
    }
   ],
   "source": [
    "d_list2 = []\n",
    "for key2, val2 in critics2.items():\n",
    "    if key2 != '블랙핑크':\n",
    "        d_list2.append((key2, dist(critics2['블랙핑크'], val2)))\n",
    "        \n",
    "d_list2.sort(key=lambda x:x[1])\n",
    "\n",
    "print(\"블랙핑크와 평점이 가장 비슷한 사람 : \", d_list2[0][0])\n",
    "print(\"평점 거리 : \", d_list2[0][1])"
   ]
  },
  {
   "cell_type": "markdown",
   "metadata": {},
   "source": [
    "## 3. '블랙핑크'와의 상관관계 구하기"
   ]
  },
  {
   "cell_type": "code",
   "execution_count": 7,
   "metadata": {},
   "outputs": [],
   "source": [
    "import pandas as pd"
   ]
  },
  {
   "cell_type": "code",
   "execution_count": 8,
   "metadata": {},
   "outputs": [],
   "source": [
    "df = pd.DataFrame(critics2)"
   ]
  },
  {
   "cell_type": "code",
   "execution_count": 9,
   "metadata": {},
   "outputs": [
    {
     "data": {
      "text/html": [
       "<div>\n",
       "<style scoped>\n",
       "    .dataframe tbody tr th:only-of-type {\n",
       "        vertical-align: middle;\n",
       "    }\n",
       "\n",
       "    .dataframe tbody tr th {\n",
       "        vertical-align: top;\n",
       "    }\n",
       "\n",
       "    .dataframe thead th {\n",
       "        text-align: right;\n",
       "    }\n",
       "</style>\n",
       "<table border=\"1\" class=\"dataframe\">\n",
       "  <thead>\n",
       "    <tr style=\"text-align: right;\">\n",
       "      <th></th>\n",
       "      <th>레드벨벳</th>\n",
       "      <th>BTS</th>\n",
       "      <th>블랙핑크</th>\n",
       "      <th>소녀시대</th>\n",
       "      <th>마마무</th>\n",
       "      <th>오마이걸</th>\n",
       "      <th>모모랜드</th>\n",
       "      <th>우주소녀</th>\n",
       "    </tr>\n",
       "  </thead>\n",
       "  <tbody>\n",
       "    <tr>\n",
       "      <th>레드벨벳</th>\n",
       "      <td>1.000000</td>\n",
       "      <td>0.054772</td>\n",
       "      <td>0.396059</td>\n",
       "      <td>0.404520</td>\n",
       "      <td>0.566947</td>\n",
       "      <td>0.558291</td>\n",
       "      <td>0.747018</td>\n",
       "      <td>0.991241</td>\n",
       "    </tr>\n",
       "    <tr>\n",
       "      <th>BTS</th>\n",
       "      <td>0.054772</td>\n",
       "      <td>1.000000</td>\n",
       "      <td>0.216930</td>\n",
       "      <td>0.569210</td>\n",
       "      <td>0.154303</td>\n",
       "      <td>0.417911</td>\n",
       "      <td>-0.284463</td>\n",
       "      <td>-0.381246</td>\n",
       "    </tr>\n",
       "    <tr>\n",
       "      <th>블랙핑크</th>\n",
       "      <td>0.396059</td>\n",
       "      <td>0.216930</td>\n",
       "      <td>1.000000</td>\n",
       "      <td>0.204598</td>\n",
       "      <td>0.314970</td>\n",
       "      <td>0.359313</td>\n",
       "      <td>0.963796</td>\n",
       "      <td>0.381246</td>\n",
       "    </tr>\n",
       "    <tr>\n",
       "      <th>소녀시대</th>\n",
       "      <td>0.404520</td>\n",
       "      <td>0.569210</td>\n",
       "      <td>0.204598</td>\n",
       "      <td>1.000000</td>\n",
       "      <td>1.000000</td>\n",
       "      <td>0.134840</td>\n",
       "      <td>0.134840</td>\n",
       "      <td>-1.000000</td>\n",
       "    </tr>\n",
       "    <tr>\n",
       "      <th>마마무</th>\n",
       "      <td>0.566947</td>\n",
       "      <td>0.154303</td>\n",
       "      <td>0.314970</td>\n",
       "      <td>1.000000</td>\n",
       "      <td>1.000000</td>\n",
       "      <td>0.707107</td>\n",
       "      <td>0.028571</td>\n",
       "      <td>0.893405</td>\n",
       "    </tr>\n",
       "    <tr>\n",
       "      <th>오마이걸</th>\n",
       "      <td>0.558291</td>\n",
       "      <td>0.417911</td>\n",
       "      <td>0.359313</td>\n",
       "      <td>0.134840</td>\n",
       "      <td>0.707107</td>\n",
       "      <td>1.000000</td>\n",
       "      <td>0.060437</td>\n",
       "      <td>0.924473</td>\n",
       "    </tr>\n",
       "    <tr>\n",
       "      <th>모모랜드</th>\n",
       "      <td>0.747018</td>\n",
       "      <td>-0.284463</td>\n",
       "      <td>0.963796</td>\n",
       "      <td>0.134840</td>\n",
       "      <td>0.028571</td>\n",
       "      <td>0.060437</td>\n",
       "      <td>1.000000</td>\n",
       "      <td>0.662849</td>\n",
       "    </tr>\n",
       "    <tr>\n",
       "      <th>우주소녀</th>\n",
       "      <td>0.991241</td>\n",
       "      <td>-0.381246</td>\n",
       "      <td>0.381246</td>\n",
       "      <td>-1.000000</td>\n",
       "      <td>0.893405</td>\n",
       "      <td>0.924473</td>\n",
       "      <td>0.662849</td>\n",
       "      <td>1.000000</td>\n",
       "    </tr>\n",
       "  </tbody>\n",
       "</table>\n",
       "</div>"
      ],
      "text/plain": [
       "          레드벨벳       BTS      블랙핑크      소녀시대       마마무      오마이걸      모모랜드  \\\n",
       "레드벨벳  1.000000  0.054772  0.396059  0.404520  0.566947  0.558291  0.747018   \n",
       "BTS   0.054772  1.000000  0.216930  0.569210  0.154303  0.417911 -0.284463   \n",
       "블랙핑크  0.396059  0.216930  1.000000  0.204598  0.314970  0.359313  0.963796   \n",
       "소녀시대  0.404520  0.569210  0.204598  1.000000  1.000000  0.134840  0.134840   \n",
       "마마무   0.566947  0.154303  0.314970  1.000000  1.000000  0.707107  0.028571   \n",
       "오마이걸  0.558291  0.417911  0.359313  0.134840  0.707107  1.000000  0.060437   \n",
       "모모랜드  0.747018 -0.284463  0.963796  0.134840  0.028571  0.060437  1.000000   \n",
       "우주소녀  0.991241 -0.381246  0.381246 -1.000000  0.893405  0.924473  0.662849   \n",
       "\n",
       "          우주소녀  \n",
       "레드벨벳  0.991241  \n",
       "BTS  -0.381246  \n",
       "블랙핑크  0.381246  \n",
       "소녀시대 -1.000000  \n",
       "마마무   0.893405  \n",
       "오마이걸  0.924473  \n",
       "모모랜드  0.662849  \n",
       "우주소녀  1.000000  "
      ]
     },
     "execution_count": 9,
     "metadata": {},
     "output_type": "execute_result"
    }
   ],
   "source": [
    "df.corr()"
   ]
  },
  {
   "cell_type": "code",
   "execution_count": 10,
   "metadata": {},
   "outputs": [],
   "source": [
    "def corr(n1, n2):\n",
    "    corr = cov(n1, n2) / (df[n1].std() * df[n2].std())\n",
    "    return corr\n",
    "\n",
    "def cov(n1, n2) :  \n",
    "    count = 0\n",
    "    for k1, v1 in critics2[n1].items():\n",
    "        for k2, v2 in critics2[n2].items():\n",
    "            if k1 == k2:\n",
    "                count += 1\n",
    "    cov = ((df[n1] - df[n1].mean()) * (df[n2] - df[n2].mean())).sum() / (count - 1)\n",
    "    return cov"
   ]
  },
  {
   "cell_type": "code",
   "execution_count": 11,
   "metadata": {},
   "outputs": [
    {
     "data": {
      "text/plain": [
       "[('레드벨벳', 0.3960590171906698),\n",
       " ('BTS', 0.21693045781865627),\n",
       " ('소녀시대', 0.17149858514250885),\n",
       " ('마마무', 0.35007002100700246),\n",
       " ('오마이걸', 0.3593134953348084),\n",
       " ('모모랜드', 0.7012643643330762),\n",
       " ('우주소녀', 0.2924026607359653)]"
      ]
     },
     "execution_count": 11,
     "metadata": {},
     "output_type": "execute_result"
    }
   ],
   "source": [
    "corr_list = []\n",
    "for key3, val3 in critics2.items():\n",
    "    if key3 != '블랙핑크':\n",
    "        corr_list.append((key3, corr('블랙핑크', key3)))\n",
    "        \n",
    "corr_list"
   ]
  }
 ],
 "metadata": {
  "kernelspec": {
   "display_name": "Python 3",
   "language": "python",
   "name": "python3"
  },
  "language_info": {
   "codemirror_mode": {
    "name": "ipython",
    "version": 3
   },
   "file_extension": ".py",
   "mimetype": "text/x-python",
   "name": "python",
   "nbconvert_exporter": "python",
   "pygments_lexer": "ipython3",
   "version": "3.7.3"
  }
 },
 "nbformat": 4,
 "nbformat_minor": 2
}
