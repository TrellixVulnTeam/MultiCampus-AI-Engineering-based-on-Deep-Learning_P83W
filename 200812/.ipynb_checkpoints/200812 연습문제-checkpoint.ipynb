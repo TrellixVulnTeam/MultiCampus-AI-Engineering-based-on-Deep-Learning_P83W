{
 "cells": [
  {
   "cell_type": "markdown",
   "metadata": {},
   "source": [
    "# 중고차 사이트 웹크롤링\n",
    "  \n",
    "* 차량명/인승(숫자)/마력(숫자)/연식/연료/주행/가격  \n",
    "* 데이터프레임으로 표현"
   ]
  },
  {
   "cell_type": "code",
   "execution_count": 77,
   "metadata": {
    "ExecuteTime": {
     "end_time": "2020-08-12T08:22:09.560329Z",
     "start_time": "2020-08-12T08:22:09.556327Z"
    }
   },
   "outputs": [],
   "source": [
    "from selenium import webdriver\n",
    "from bs4 import BeautifulSoup\n",
    "import time\n",
    "import tqdm\n",
    "import pandas as pd\n",
    "from tqdm import tqdm_notebook"
   ]
  },
  {
   "cell_type": "code",
   "execution_count": 43,
   "metadata": {
    "ExecuteTime": {
     "end_time": "2020-08-12T07:56:29.149822Z",
     "start_time": "2020-08-12T07:56:25.959583Z"
    }
   },
   "outputs": [],
   "source": [
    "driver = webdriver.Chrome(\"C://mychrome/chromedriver.exe\")"
   ]
  },
  {
   "cell_type": "code",
   "execution_count": 83,
   "metadata": {
    "ExecuteTime": {
     "end_time": "2020-08-12T08:26:09.539322Z",
     "start_time": "2020-08-12T08:25:56.905376Z"
    }
   },
   "outputs": [
    {
     "name": "stdout",
     "output_type": "stream",
     "text": [
      "검색 범위의 최종 페이지를 입력하세요. : 2\n"
     ]
    },
    {
     "data": {
      "application/vnd.jupyter.widget-view+json": {
       "model_id": "d8d2b087096647fa83a43820a99df025",
       "version_major": 2,
       "version_minor": 0
      },
      "text/plain": [
       "HBox(children=(FloatProgress(value=0.0, max=2.0), HTML(value='')))"
      ]
     },
     "metadata": {},
     "output_type": "display_data"
    },
    {
     "name": "stdout",
     "output_type": "stream",
     "text": [
      "\n"
     ]
    }
   ],
   "source": [
    "page = int(input(\"검색 범위의 최종 페이지를 입력하세요. : \"))\n",
    "total_product_list = []\n",
    "for p in tqdm.notebook.tqdm(range(1, page+1)):\n",
    "    url = \"https://www.bobaedream.co.kr/cyber/CyberCar.php?gubun=K&page={}&order=S11&view_size=50\".format(p)\n",
    "    driver.get(url)\n",
    "    time.sleep(3)\n",
    "\n",
    "\n",
    "    html = driver.page_source\n",
    "    soup = BeautifulSoup(html, \"html.parser\")\n",
    "\n",
    "    products = soup.select(\"li.product-item\")\n",
    "    prod_list = []\n",
    "    for prod in products:\n",
    "        title = prod.select(\"div.mode-cell.title > p.tit.ellipsis > a\")[0].text.strip()\n",
    "        prod_spec = prod.select(\"dl.data.clearfix > dd.data-item\")\n",
    "        num_p = None\n",
    "        ma = None\n",
    "        for spec in prod_spec:\n",
    "            if spec.select(\"a\") and '인승' in spec.select(\"a\")[0].text:\n",
    "                num_p = spec.select(\"a\")[0].text.split(\"인승\")[0]\n",
    "            elif '마력' in spec.text:\n",
    "                ma = spec.text\n",
    "        year = prod.select(\"div.mode-cell.year > span\")[0].text\n",
    "        if \"(\" in year:\n",
    "            year = year.split(\"(\")[0]\n",
    "        fuel = prod.select(\"div.mode-cell.fuel > span\")[0].text\n",
    "        km = prod.select(\"div.mode-cell.km > span\")[0].text \n",
    "        price = None\n",
    "        if prod.select(\"div.mode-cell.price > strong\"):\n",
    "            price = prod.select(\"div.mode-cell.price > strong\")[0].text\n",
    "\n",
    "\n",
    "        prod_list.append([title, num_p, ma, year, fuel, km, price])\n",
    "    total_product_list += prod_list"
   ]
  },
  {
   "cell_type": "code",
   "execution_count": 87,
   "metadata": {
    "ExecuteTime": {
     "end_time": "2020-08-12T08:26:44.934978Z",
     "start_time": "2020-08-12T08:26:44.917976Z"
    }
   },
   "outputs": [
    {
     "name": "stdout",
     "output_type": "stream",
     "text": [
      "총 100개의 데이터가 있습니다.\n"
     ]
    },
    {
     "data": {
      "text/html": [
       "<div>\n",
       "<style scoped>\n",
       "    .dataframe tbody tr th:only-of-type {\n",
       "        vertical-align: middle;\n",
       "    }\n",
       "\n",
       "    .dataframe tbody tr th {\n",
       "        vertical-align: top;\n",
       "    }\n",
       "\n",
       "    .dataframe thead th {\n",
       "        text-align: right;\n",
       "    }\n",
       "</style>\n",
       "<table border=\"1\" class=\"dataframe\">\n",
       "  <thead>\n",
       "    <tr style=\"text-align: right;\">\n",
       "      <th></th>\n",
       "      <th>차량명</th>\n",
       "      <th>인승</th>\n",
       "      <th>마력</th>\n",
       "      <th>연식</th>\n",
       "      <th>연료</th>\n",
       "      <th>주행</th>\n",
       "      <th>가격</th>\n",
       "    </tr>\n",
       "  </thead>\n",
       "  <tbody>\n",
       "    <tr>\n",
       "      <th>0</th>\n",
       "      <td>쉐보레 스파크 LT</td>\n",
       "      <td>5</td>\n",
       "      <td>70마력</td>\n",
       "      <td>13/10</td>\n",
       "      <td>가솔린</td>\n",
       "      <td>3만km</td>\n",
       "      <td>290</td>\n",
       "    </tr>\n",
       "    <tr>\n",
       "      <th>1</th>\n",
       "      <td>현대 제네시스 쿠페 380 GT R</td>\n",
       "      <td>4</td>\n",
       "      <td>303마력</td>\n",
       "      <td>10/04</td>\n",
       "      <td>가솔린</td>\n",
       "      <td>11만km</td>\n",
       "      <td>690</td>\n",
       "    </tr>\n",
       "    <tr>\n",
       "      <th>2</th>\n",
       "      <td>맥스 카니발 리무진</td>\n",
       "      <td>9</td>\n",
       "      <td>280마력</td>\n",
       "      <td>16/12</td>\n",
       "      <td>가솔린</td>\n",
       "      <td>5만km</td>\n",
       "      <td>3,490</td>\n",
       "    </tr>\n",
       "    <tr>\n",
       "      <th>3</th>\n",
       "      <td>현대 그랜져IG 2.2 e-VGT 프리미엄 스페셜</td>\n",
       "      <td>5</td>\n",
       "      <td>202마력</td>\n",
       "      <td>17/11</td>\n",
       "      <td>디젤</td>\n",
       "      <td>3만km</td>\n",
       "      <td>3,150</td>\n",
       "    </tr>\n",
       "    <tr>\n",
       "      <th>4</th>\n",
       "      <td>기아 더 프레스티지 K7 3.0 LPi 프레스티지</td>\n",
       "      <td>5</td>\n",
       "      <td>235마력</td>\n",
       "      <td>12/03</td>\n",
       "      <td>LPG</td>\n",
       "      <td>14만km</td>\n",
       "      <td>1,000</td>\n",
       "    </tr>\n",
       "    <tr>\n",
       "      <th>...</th>\n",
       "      <td>...</td>\n",
       "      <td>...</td>\n",
       "      <td>...</td>\n",
       "      <td>...</td>\n",
       "      <td>...</td>\n",
       "      <td>...</td>\n",
       "      <td>...</td>\n",
       "    </tr>\n",
       "    <tr>\n",
       "      <th>95</th>\n",
       "      <td>현대 그레이스 LPG 15인승 그랜드 살롱</td>\n",
       "      <td>15</td>\n",
       "      <td>None</td>\n",
       "      <td>02/03</td>\n",
       "      <td>LPG</td>\n",
       "      <td>13만km</td>\n",
       "      <td>None</td>\n",
       "    </tr>\n",
       "    <tr>\n",
       "      <th>96</th>\n",
       "      <td>현대 아반떼MD M16 GDi 스마트</td>\n",
       "      <td>5</td>\n",
       "      <td>140마력</td>\n",
       "      <td>13/04</td>\n",
       "      <td>가솔린</td>\n",
       "      <td>4만km</td>\n",
       "      <td>700</td>\n",
       "    </tr>\n",
       "    <tr>\n",
       "      <th>97</th>\n",
       "      <td>기아 올 뉴 카니발 2.2 디젤 7인승 리무진 VIP</td>\n",
       "      <td>7</td>\n",
       "      <td>202마력</td>\n",
       "      <td>15/09</td>\n",
       "      <td>디젤</td>\n",
       "      <td>13만km</td>\n",
       "      <td>2,290</td>\n",
       "    </tr>\n",
       "    <tr>\n",
       "      <th>98</th>\n",
       "      <td>기아 더 뉴 스포티지R 2.0 T-GDI 트렌디</td>\n",
       "      <td>5</td>\n",
       "      <td>261마력</td>\n",
       "      <td>13/12</td>\n",
       "      <td>가솔린</td>\n",
       "      <td>8만km</td>\n",
       "      <td>1,390</td>\n",
       "    </tr>\n",
       "    <tr>\n",
       "      <th>99</th>\n",
       "      <td>현대 그랜져IG 3.0 GDI 익스클루시브</td>\n",
       "      <td>5</td>\n",
       "      <td>266마력</td>\n",
       "      <td>18/09</td>\n",
       "      <td>가솔린</td>\n",
       "      <td>3만km</td>\n",
       "      <td>None</td>\n",
       "    </tr>\n",
       "  </tbody>\n",
       "</table>\n",
       "<p>100 rows × 7 columns</p>\n",
       "</div>"
      ],
      "text/plain": [
       "                              차량명  인승     마력     연식   연료     주행     가격\n",
       "0                      쉐보레 스파크 LT   5   70마력  13/10  가솔린   3만km    290\n",
       "1             현대 제네시스 쿠페 380 GT R   4  303마력  10/04  가솔린  11만km    690\n",
       "2                      맥스 카니발 리무진   9  280마력  16/12  가솔린   5만km  3,490\n",
       "3     현대 그랜져IG 2.2 e-VGT 프리미엄 스페셜   5  202마력  17/11   디젤   3만km  3,150\n",
       "4     기아 더 프레스티지 K7 3.0 LPi 프레스티지   5  235마력  12/03  LPG  14만km  1,000\n",
       "..                            ...  ..    ...    ...  ...    ...    ...\n",
       "95        현대 그레이스 LPG 15인승 그랜드 살롱  15   None  02/03  LPG  13만km   None\n",
       "96           현대 아반떼MD M16 GDi 스마트   5  140마력  13/04  가솔린   4만km    700\n",
       "97  기아 올 뉴 카니발 2.2 디젤 7인승 리무진 VIP   7  202마력  15/09   디젤  13만km  2,290\n",
       "98     기아 더 뉴 스포티지R 2.0 T-GDI 트렌디   5  261마력  13/12  가솔린   8만km  1,390\n",
       "99        현대 그랜져IG 3.0 GDI 익스클루시브   5  266마력  18/09  가솔린   3만km   None\n",
       "\n",
       "[100 rows x 7 columns]"
      ]
     },
     "execution_count": 87,
     "metadata": {},
     "output_type": "execute_result"
    }
   ],
   "source": [
    "print(\"총 {}개의 데이터가 있습니다.\".format(len(total_product_list)))\n",
    "df = pd.DataFrame(total_product_list)\n",
    "df.columns = ['차량명', '인승', '마력', '연식', '연료', '주행', '가격']\n",
    "df"
   ]
  }
 ],
 "metadata": {
  "kernelspec": {
   "display_name": "Python 3",
   "language": "python",
   "name": "python3"
  },
  "language_info": {
   "codemirror_mode": {
    "name": "ipython",
    "version": 3
   },
   "file_extension": ".py",
   "mimetype": "text/x-python",
   "name": "python",
   "nbconvert_exporter": "python",
   "pygments_lexer": "ipython3",
   "version": "3.7.8"
  },
  "toc": {
   "base_numbering": 1,
   "nav_menu": {},
   "number_sections": false,
   "sideBar": true,
   "skip_h1_title": false,
   "title_cell": "Table of Contents",
   "title_sidebar": "Contents",
   "toc_cell": false,
   "toc_position": {},
   "toc_section_display": true,
   "toc_window_display": true
  }
 },
 "nbformat": 4,
 "nbformat_minor": 4
}
