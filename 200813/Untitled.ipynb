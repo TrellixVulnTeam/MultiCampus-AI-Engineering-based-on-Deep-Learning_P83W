{
 "cells": [
  {
   "cell_type": "code",
   "execution_count": 1,
   "metadata": {
    "ExecuteTime": {
     "end_time": "2020-08-19T07:20:47.842623Z",
     "start_time": "2020-08-19T07:20:47.111570Z"
    }
   },
   "outputs": [],
   "source": [
    "import numpy as np\n",
    "import pandas as pd\n",
    "import matplotlib.pyplot as plt"
   ]
  },
  {
   "cell_type": "code",
   "execution_count": 3,
   "metadata": {
    "ExecuteTime": {
     "end_time": "2020-08-19T07:24:18.217363Z",
     "start_time": "2020-08-19T07:24:16.911265Z"
    }
   },
   "outputs": [],
   "source": [
    "pieces = []\n",
    "for year in range(1880, 2011):\n",
    "    df = pd.read_csv(\"babynames/yob{}.txt\".format(year),\n",
    "                     names=['name', 'sex', 'births'], index_col=False)\n",
    "    df['year'] = year\n",
    "    pieces.append(df)"
   ]
  },
  {
   "cell_type": "code",
   "execution_count": 4,
   "metadata": {
    "ExecuteTime": {
     "end_time": "2020-08-19T07:24:19.669472Z",
     "start_time": "2020-08-19T07:24:19.575465Z"
    }
   },
   "outputs": [
    {
     "data": {
      "text/plain": [
       "1690784"
      ]
     },
     "execution_count": 4,
     "metadata": {},
     "output_type": "execute_result"
    }
   ],
   "source": [
    "names = pd.concat(pieces, ignore_index=True)\n",
    "len(names)"
   ]
  },
  {
   "cell_type": "markdown",
   "metadata": {},
   "source": [
    "# 1. 가장 많이 사용된 알파벳 문자 구하기  \n",
    "(1880~2010 까지 성별에 관계 없음)"
   ]
  },
  {
   "cell_type": "code",
   "execution_count": 168,
   "metadata": {
    "ExecuteTime": {
     "end_time": "2020-08-13T08:41:49.469642Z",
     "start_time": "2020-08-13T08:41:34.683549Z"
    },
    "scrolled": true
   },
   "outputs": [
    {
     "data": {
      "text/plain": [
       "[('e', 1556),\n",
       " ('a', 1383),\n",
       " ('l', 1049),\n",
       " ('i', 950),\n",
       " ('n', 865),\n",
       " ('r', 851),\n",
       " ('o', 657),\n",
       " ('t', 535),\n",
       " ('s', 498),\n",
       " ('d', 415),\n",
       " ('m', 396),\n",
       " ('h', 357),\n",
       " ('c', 307),\n",
       " ('u', 270),\n",
       " ('y', 235),\n",
       " ('b', 197),\n",
       " ('g', 159),\n",
       " ('v', 149),\n",
       " ('p', 118),\n",
       " ('w', 112),\n",
       " ('j', 107),\n",
       " ('f', 104),\n",
       " ('k', 65),\n",
       " ('z', 46),\n",
       " ('x', 13),\n",
       " ('q', 6)]"
      ]
     },
     "execution_count": 168,
     "metadata": {},
     "output_type": "execute_result"
    }
   ],
   "source": [
    "# temp = []\n",
    "# for i in range(10):\n",
    "#     print(names.name[i], names.year[i])\n",
    "#     for letter in list(names.name[i]):\n",
    "#         temp.append((letter.lower(), names.year[i]))\n",
    "# print(temp)\n",
    "\n",
    "i = 0\n",
    "for year in range(1880, 2011):\n",
    "    dic = {}\n",
    "    if names.year[i] == year:\n",
    "        for letter in list(names.name[i]):\n",
    "            if letter.lower() in dic.keys():\n",
    "                dic[letter.lower()] += 1\n",
    "            else:\n",
    "                dic[letter.lower()] = 1\n",
    "    else:\n",
    "        \n",
    "sdict = sorted(dic.items(), key=operator.itemgetter(1), reverse=True)\n",
    "sdict #최대값b\n",
    "# letters = pd.DataFrame(temp)\n",
    "# letters"
   ]
  },
  {
   "cell_type": "markdown",
   "metadata": {},
   "source": [
    "# 2. 각 연도별로 가장 인기 있는 이름? (성별에 따라)"
   ]
  },
  {
   "cell_type": "code",
   "execution_count": 2,
   "metadata": {
    "ExecuteTime": {
     "end_time": "2020-08-19T07:23:55.276649Z",
     "start_time": "2020-08-19T07:23:55.272646Z"
    },
    "scrolled": false
   },
   "outputs": [],
   "source": [
    "def get_top(group):\n",
    "    return group.sort_values(by='births', ascending=False)[:1]"
   ]
  },
  {
   "cell_type": "code",
   "execution_count": 5,
   "metadata": {
    "ExecuteTime": {
     "end_time": "2020-08-19T07:24:53.328990Z",
     "start_time": "2020-08-19T07:24:52.729946Z"
    }
   },
   "outputs": [
    {
     "data": {
      "text/html": [
       "<div>\n",
       "<style scoped>\n",
       "    .dataframe tbody tr th:only-of-type {\n",
       "        vertical-align: middle;\n",
       "    }\n",
       "\n",
       "    .dataframe tbody tr th {\n",
       "        vertical-align: top;\n",
       "    }\n",
       "\n",
       "    .dataframe thead th {\n",
       "        text-align: right;\n",
       "    }\n",
       "</style>\n",
       "<table border=\"1\" class=\"dataframe\">\n",
       "  <thead>\n",
       "    <tr style=\"text-align: right;\">\n",
       "      <th></th>\n",
       "      <th>name</th>\n",
       "      <th>sex</th>\n",
       "      <th>births</th>\n",
       "      <th>year</th>\n",
       "    </tr>\n",
       "  </thead>\n",
       "  <tbody>\n",
       "    <tr>\n",
       "      <th>0</th>\n",
       "      <td>Mary</td>\n",
       "      <td>F</td>\n",
       "      <td>7065</td>\n",
       "      <td>1880</td>\n",
       "    </tr>\n",
       "    <tr>\n",
       "      <th>1</th>\n",
       "      <td>John</td>\n",
       "      <td>M</td>\n",
       "      <td>9655</td>\n",
       "      <td>1880</td>\n",
       "    </tr>\n",
       "    <tr>\n",
       "      <th>2</th>\n",
       "      <td>Mary</td>\n",
       "      <td>F</td>\n",
       "      <td>6919</td>\n",
       "      <td>1881</td>\n",
       "    </tr>\n",
       "    <tr>\n",
       "      <th>3</th>\n",
       "      <td>John</td>\n",
       "      <td>M</td>\n",
       "      <td>8769</td>\n",
       "      <td>1881</td>\n",
       "    </tr>\n",
       "    <tr>\n",
       "      <th>4</th>\n",
       "      <td>Mary</td>\n",
       "      <td>F</td>\n",
       "      <td>8149</td>\n",
       "      <td>1882</td>\n",
       "    </tr>\n",
       "    <tr>\n",
       "      <th>...</th>\n",
       "      <td>...</td>\n",
       "      <td>...</td>\n",
       "      <td>...</td>\n",
       "      <td>...</td>\n",
       "    </tr>\n",
       "    <tr>\n",
       "      <th>257</th>\n",
       "      <td>Jacob</td>\n",
       "      <td>M</td>\n",
       "      <td>22507</td>\n",
       "      <td>2008</td>\n",
       "    </tr>\n",
       "    <tr>\n",
       "      <th>258</th>\n",
       "      <td>Isabella</td>\n",
       "      <td>F</td>\n",
       "      <td>22222</td>\n",
       "      <td>2009</td>\n",
       "    </tr>\n",
       "    <tr>\n",
       "      <th>259</th>\n",
       "      <td>Jacob</td>\n",
       "      <td>M</td>\n",
       "      <td>21036</td>\n",
       "      <td>2009</td>\n",
       "    </tr>\n",
       "    <tr>\n",
       "      <th>260</th>\n",
       "      <td>Isabella</td>\n",
       "      <td>F</td>\n",
       "      <td>22731</td>\n",
       "      <td>2010</td>\n",
       "    </tr>\n",
       "    <tr>\n",
       "      <th>261</th>\n",
       "      <td>Jacob</td>\n",
       "      <td>M</td>\n",
       "      <td>21875</td>\n",
       "      <td>2010</td>\n",
       "    </tr>\n",
       "  </tbody>\n",
       "</table>\n",
       "<p>262 rows × 4 columns</p>\n",
       "</div>"
      ],
      "text/plain": [
       "         name sex  births  year\n",
       "0        Mary   F    7065  1880\n",
       "1        John   M    9655  1880\n",
       "2        Mary   F    6919  1881\n",
       "3        John   M    8769  1881\n",
       "4        Mary   F    8149  1882\n",
       "..        ...  ..     ...   ...\n",
       "257     Jacob   M   22507  2008\n",
       "258  Isabella   F   22222  2009\n",
       "259     Jacob   M   21036  2009\n",
       "260  Isabella   F   22731  2010\n",
       "261     Jacob   M   21875  2010\n",
       "\n",
       "[262 rows x 4 columns]"
      ]
     },
     "execution_count": 5,
     "metadata": {},
     "output_type": "execute_result"
    }
   ],
   "source": [
    "top_name = names.groupby(['year','sex']).apply(get_top)\n",
    "top_name.reset_index(inplace=True, drop=True)\n",
    "top_name"
   ]
  },
  {
   "cell_type": "code",
   "execution_count": 137,
   "metadata": {
    "ExecuteTime": {
     "end_time": "2020-08-13T08:12:15.608446Z",
     "start_time": "2020-08-13T08:12:15.593447Z"
    }
   },
   "outputs": [
    {
     "data": {
      "text/html": [
       "<div>\n",
       "<style scoped>\n",
       "    .dataframe tbody tr th:only-of-type {\n",
       "        vertical-align: middle;\n",
       "    }\n",
       "\n",
       "    .dataframe tbody tr th {\n",
       "        vertical-align: top;\n",
       "    }\n",
       "\n",
       "    .dataframe thead th {\n",
       "        text-align: right;\n",
       "    }\n",
       "</style>\n",
       "<table border=\"1\" class=\"dataframe\">\n",
       "  <thead>\n",
       "    <tr style=\"text-align: right;\">\n",
       "      <th></th>\n",
       "      <th></th>\n",
       "      <th></th>\n",
       "      <th>name</th>\n",
       "    </tr>\n",
       "    <tr>\n",
       "      <th>year</th>\n",
       "      <th>sex</th>\n",
       "      <th></th>\n",
       "      <th></th>\n",
       "    </tr>\n",
       "  </thead>\n",
       "  <tbody>\n",
       "    <tr>\n",
       "      <th rowspan=\"2\" valign=\"top\">1880</th>\n",
       "      <th>F</th>\n",
       "      <th>0</th>\n",
       "      <td>Mary</td>\n",
       "    </tr>\n",
       "    <tr>\n",
       "      <th>M</th>\n",
       "      <th>942</th>\n",
       "      <td>John</td>\n",
       "    </tr>\n",
       "    <tr>\n",
       "      <th rowspan=\"2\" valign=\"top\">1881</th>\n",
       "      <th>F</th>\n",
       "      <th>2000</th>\n",
       "      <td>Mary</td>\n",
       "    </tr>\n",
       "    <tr>\n",
       "      <th>M</th>\n",
       "      <th>2938</th>\n",
       "      <td>John</td>\n",
       "    </tr>\n",
       "    <tr>\n",
       "      <th>1882</th>\n",
       "      <th>F</th>\n",
       "      <th>3935</th>\n",
       "      <td>Mary</td>\n",
       "    </tr>\n",
       "    <tr>\n",
       "      <th>...</th>\n",
       "      <th>...</th>\n",
       "      <th>...</th>\n",
       "      <td>...</td>\n",
       "    </tr>\n",
       "    <tr>\n",
       "      <th>2008</th>\n",
       "      <th>M</th>\n",
       "      <th>1607754</th>\n",
       "      <td>Jacob</td>\n",
       "    </tr>\n",
       "    <tr>\n",
       "      <th rowspan=\"2\" valign=\"top\">2009</th>\n",
       "      <th>F</th>\n",
       "      <th>1622344</th>\n",
       "      <td>Isabella</td>\n",
       "    </tr>\n",
       "    <tr>\n",
       "      <th>M</th>\n",
       "      <th>1642467</th>\n",
       "      <td>Jacob</td>\n",
       "    </tr>\n",
       "    <tr>\n",
       "      <th rowspan=\"2\" valign=\"top\">2010</th>\n",
       "      <th>F</th>\n",
       "      <th>1656946</th>\n",
       "      <td>Isabella</td>\n",
       "    </tr>\n",
       "    <tr>\n",
       "      <th>M</th>\n",
       "      <th>1676644</th>\n",
       "      <td>Jacob</td>\n",
       "    </tr>\n",
       "  </tbody>\n",
       "</table>\n",
       "<p>262 rows × 1 columns</p>\n",
       "</div>"
      ],
      "text/plain": [
       "                      name\n",
       "year sex                  \n",
       "1880 F   0            Mary\n",
       "     M   942          John\n",
       "1881 F   2000         Mary\n",
       "     M   2938         John\n",
       "1882 F   3935         Mary\n",
       "...                    ...\n",
       "2008 M   1607754     Jacob\n",
       "2009 F   1622344  Isabella\n",
       "     M   1642467     Jacob\n",
       "2010 F   1656946  Isabella\n",
       "     M   1676644     Jacob\n",
       "\n",
       "[262 rows x 1 columns]"
      ]
     },
     "execution_count": 137,
     "metadata": {},
     "output_type": "execute_result"
    }
   ],
   "source": [
    "top_name[['name']]\n",
    "# top_name = top_name.drop('births', axis=1)\n",
    "# top_name"
   ]
  },
  {
   "cell_type": "markdown",
   "metadata": {},
   "source": [
    "# 3. 모음의 개수 변화(a, e, i, o u)  \n"
   ]
  },
  {
   "cell_type": "markdown",
   "metadata": {},
   "source": [
    "예시>  \n",
    "1800년  \n",
    "john : 1000명 -> 모음개수 : 1*1000 = 1000  \n",
    "emma : 500명 -> 모음개수 2*500 = 1000  \n",
    "<br/>\n",
    "\n",
    "\n",
    "모음개수를 모두 합친다 (연도 및 성별)    \n",
    "<br/>\n",
    "\n",
    "\n",
    "최종>\n",
    "\n",
    "year|남자|여자\n",
    " ---|---|---\n",
    "1800|20000|30000\n",
    "...|...|...\n",
    "2010|150000|120000"
   ]
  }
 ],
 "metadata": {
  "kernelspec": {
   "display_name": "Python 3",
   "language": "python",
   "name": "python3"
  },
  "language_info": {
   "codemirror_mode": {
    "name": "ipython",
    "version": 3
   },
   "file_extension": ".py",
   "mimetype": "text/x-python",
   "name": "python",
   "nbconvert_exporter": "python",
   "pygments_lexer": "ipython3",
   "version": "3.7.8"
  },
  "toc": {
   "base_numbering": 1,
   "nav_menu": {},
   "number_sections": false,
   "sideBar": true,
   "skip_h1_title": false,
   "title_cell": "Table of Contents",
   "title_sidebar": "Contents",
   "toc_cell": false,
   "toc_position": {},
   "toc_section_display": true,
   "toc_window_display": true
  }
 },
 "nbformat": 4,
 "nbformat_minor": 4
}
