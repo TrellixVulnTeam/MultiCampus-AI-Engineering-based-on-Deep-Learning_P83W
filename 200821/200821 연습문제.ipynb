{
 "cells": [
  {
   "cell_type": "code",
   "execution_count": 1,
   "metadata": {
    "ExecuteTime": {
     "end_time": "2020-08-24T00:06:37.546538Z",
     "start_time": "2020-08-24T00:06:35.424380Z"
    }
   },
   "outputs": [],
   "source": [
    "import pandas as pd\n",
    "import numpy as np\n",
    "import pandas_datareader.data as web"
   ]
  },
  {
   "cell_type": "markdown",
   "metadata": {},
   "source": [
    "# 연습문제1\n",
    "\n",
    "금융 데이터에 대해 \n",
    "\n",
    "    4개 features에 대해 상관계수 및 공분산 구하기\n",
    "    - 공분산, 상관계수\n",
    "    - GOOG과 양의 상관관계, 음의 상관관계가 가장 큰 회사 출력"
   ]
  },
  {
   "cell_type": "code",
   "execution_count": 2,
   "metadata": {
    "ExecuteTime": {
     "end_time": "2020-08-24T00:06:43.615995Z",
     "start_time": "2020-08-24T00:06:39.130658Z"
    }
   },
   "outputs": [],
   "source": [
    "data = {ticker:web.get_data_yahoo(ticker) \n",
    "        for ticker in ['AAPL', 'IBM', 'MSFT', \"GOOG\"]}"
   ]
  },
  {
   "cell_type": "code",
   "execution_count": 3,
   "metadata": {
    "ExecuteTime": {
     "end_time": "2020-08-24T00:06:44.880092Z",
     "start_time": "2020-08-24T00:06:44.875091Z"
    }
   },
   "outputs": [],
   "source": [
    "price = pd.DataFrame({ticker:d['Adj Close'] for ticker, d in data.items()})"
   ]
  },
  {
   "cell_type": "code",
   "execution_count": 4,
   "metadata": {
    "ExecuteTime": {
     "end_time": "2020-08-24T00:06:46.509215Z",
     "start_time": "2020-08-24T00:06:46.484212Z"
    }
   },
   "outputs": [
    {
     "data": {
      "text/html": [
       "<div>\n",
       "<style scoped>\n",
       "    .dataframe tbody tr th:only-of-type {\n",
       "        vertical-align: middle;\n",
       "    }\n",
       "\n",
       "    .dataframe tbody tr th {\n",
       "        vertical-align: top;\n",
       "    }\n",
       "\n",
       "    .dataframe thead th {\n",
       "        text-align: right;\n",
       "    }\n",
       "</style>\n",
       "<table border=\"1\" class=\"dataframe\">\n",
       "  <thead>\n",
       "    <tr style=\"text-align: right;\">\n",
       "      <th></th>\n",
       "      <th>AAPL</th>\n",
       "      <th>IBM</th>\n",
       "      <th>MSFT</th>\n",
       "      <th>GOOG</th>\n",
       "    </tr>\n",
       "    <tr>\n",
       "      <th>Date</th>\n",
       "      <th></th>\n",
       "      <th></th>\n",
       "      <th></th>\n",
       "      <th></th>\n",
       "    </tr>\n",
       "  </thead>\n",
       "  <tbody>\n",
       "    <tr>\n",
       "      <th>2015-08-25</th>\n",
       "      <td>NaN</td>\n",
       "      <td>NaN</td>\n",
       "      <td>NaN</td>\n",
       "      <td>NaN</td>\n",
       "    </tr>\n",
       "    <tr>\n",
       "      <th>2015-08-26</th>\n",
       "      <td>0.057355</td>\n",
       "      <td>0.040720</td>\n",
       "      <td>0.055350</td>\n",
       "      <td>0.079992</td>\n",
       "    </tr>\n",
       "    <tr>\n",
       "      <th>2015-08-27</th>\n",
       "      <td>0.029447</td>\n",
       "      <td>0.012543</td>\n",
       "      <td>0.027862</td>\n",
       "      <td>0.014301</td>\n",
       "    </tr>\n",
       "    <tr>\n",
       "      <th>2015-08-28</th>\n",
       "      <td>0.003276</td>\n",
       "      <td>-0.003770</td>\n",
       "      <td>0.000684</td>\n",
       "      <td>-0.011339</td>\n",
       "    </tr>\n",
       "    <tr>\n",
       "      <th>2015-08-31</th>\n",
       "      <td>-0.004678</td>\n",
       "      <td>-0.000608</td>\n",
       "      <td>-0.009333</td>\n",
       "      <td>-0.019242</td>\n",
       "    </tr>\n",
       "    <tr>\n",
       "      <th>...</th>\n",
       "      <td>...</td>\n",
       "      <td>...</td>\n",
       "      <td>...</td>\n",
       "      <td>...</td>\n",
       "    </tr>\n",
       "    <tr>\n",
       "      <th>2020-08-17</th>\n",
       "      <td>-0.002611</td>\n",
       "      <td>-0.006626</td>\n",
       "      <td>0.006606</td>\n",
       "      <td>0.006798</td>\n",
       "    </tr>\n",
       "    <tr>\n",
       "      <th>2020-08-18</th>\n",
       "      <td>0.008333</td>\n",
       "      <td>0.003857</td>\n",
       "      <td>0.005754</td>\n",
       "      <td>0.026759</td>\n",
       "    </tr>\n",
       "    <tr>\n",
       "      <th>2020-08-19</th>\n",
       "      <td>0.001255</td>\n",
       "      <td>-0.008646</td>\n",
       "      <td>-0.006067</td>\n",
       "      <td>-0.007102</td>\n",
       "    </tr>\n",
       "    <tr>\n",
       "      <th>2020-08-20</th>\n",
       "      <td>0.022190</td>\n",
       "      <td>-0.005572</td>\n",
       "      <td>0.023271</td>\n",
       "      <td>0.022113</td>\n",
       "    </tr>\n",
       "    <tr>\n",
       "      <th>2020-08-21</th>\n",
       "      <td>0.051532</td>\n",
       "      <td>0.000081</td>\n",
       "      <td>-0.007270</td>\n",
       "      <td>-0.000841</td>\n",
       "    </tr>\n",
       "  </tbody>\n",
       "</table>\n",
       "<p>1258 rows × 4 columns</p>\n",
       "</div>"
      ],
      "text/plain": [
       "                AAPL       IBM      MSFT      GOOG\n",
       "Date                                              \n",
       "2015-08-25       NaN       NaN       NaN       NaN\n",
       "2015-08-26  0.057355  0.040720  0.055350  0.079992\n",
       "2015-08-27  0.029447  0.012543  0.027862  0.014301\n",
       "2015-08-28  0.003276 -0.003770  0.000684 -0.011339\n",
       "2015-08-31 -0.004678 -0.000608 -0.009333 -0.019242\n",
       "...              ...       ...       ...       ...\n",
       "2020-08-17 -0.002611 -0.006626  0.006606  0.006798\n",
       "2020-08-18  0.008333  0.003857  0.005754  0.026759\n",
       "2020-08-19  0.001255 -0.008646 -0.006067 -0.007102\n",
       "2020-08-20  0.022190 -0.005572  0.023271  0.022113\n",
       "2020-08-21  0.051532  0.000081 -0.007270 -0.000841\n",
       "\n",
       "[1258 rows x 4 columns]"
      ]
     },
     "execution_count": 4,
     "metadata": {},
     "output_type": "execute_result"
    }
   ],
   "source": [
    "price_ch = price.pct_change()\n",
    "price_ch"
   ]
  },
  {
   "cell_type": "code",
   "execution_count": 5,
   "metadata": {
    "ExecuteTime": {
     "end_time": "2020-08-21T09:05:11.855316Z",
     "start_time": "2020-08-21T09:05:11.844316Z"
    }
   },
   "outputs": [
    {
     "data": {
      "text/html": [
       "<div>\n",
       "<style scoped>\n",
       "    .dataframe tbody tr th:only-of-type {\n",
       "        vertical-align: middle;\n",
       "    }\n",
       "\n",
       "    .dataframe tbody tr th {\n",
       "        vertical-align: top;\n",
       "    }\n",
       "\n",
       "    .dataframe thead th {\n",
       "        text-align: right;\n",
       "    }\n",
       "</style>\n",
       "<table border=\"1\" class=\"dataframe\">\n",
       "  <thead>\n",
       "    <tr style=\"text-align: right;\">\n",
       "      <th></th>\n",
       "      <th>AAPL</th>\n",
       "      <th>IBM</th>\n",
       "      <th>MSFT</th>\n",
       "      <th>GOOG</th>\n",
       "    </tr>\n",
       "  </thead>\n",
       "  <tbody>\n",
       "    <tr>\n",
       "      <th>AAPL</th>\n",
       "      <td>0.000338</td>\n",
       "      <td>0.000152</td>\n",
       "      <td>0.000227</td>\n",
       "      <td>0.000202</td>\n",
       "    </tr>\n",
       "    <tr>\n",
       "      <th>IBM</th>\n",
       "      <td>0.000152</td>\n",
       "      <td>0.000258</td>\n",
       "      <td>0.000164</td>\n",
       "      <td>0.000144</td>\n",
       "    </tr>\n",
       "    <tr>\n",
       "      <th>MSFT</th>\n",
       "      <td>0.000227</td>\n",
       "      <td>0.000164</td>\n",
       "      <td>0.000304</td>\n",
       "      <td>0.000226</td>\n",
       "    </tr>\n",
       "    <tr>\n",
       "      <th>GOOG</th>\n",
       "      <td>0.000202</td>\n",
       "      <td>0.000144</td>\n",
       "      <td>0.000226</td>\n",
       "      <td>0.000274</td>\n",
       "    </tr>\n",
       "  </tbody>\n",
       "</table>\n",
       "</div>"
      ],
      "text/plain": [
       "          AAPL       IBM      MSFT      GOOG\n",
       "AAPL  0.000338  0.000152  0.000227  0.000202\n",
       "IBM   0.000152  0.000258  0.000164  0.000144\n",
       "MSFT  0.000227  0.000164  0.000304  0.000226\n",
       "GOOG  0.000202  0.000144  0.000226  0.000274"
      ]
     },
     "execution_count": 5,
     "metadata": {},
     "output_type": "execute_result"
    }
   ],
   "source": [
    "#공분산\n",
    "price_ch.cov()"
   ]
  },
  {
   "cell_type": "code",
   "execution_count": 8,
   "metadata": {
    "ExecuteTime": {
     "end_time": "2020-08-24T00:08:11.109579Z",
     "start_time": "2020-08-24T00:08:11.104576Z"
    }
   },
   "outputs": [],
   "source": [
    "mean_aapl = price_ch['AAPL'].mean()\n",
    "mean_ibm =  price_ch['IBM'].mean()\n",
    "mean_msft = price_ch['MSFT'].mean()\n",
    "mean_goog = price_ch['GOOG'].mean()"
   ]
  },
  {
   "cell_type": "code",
   "execution_count": 14,
   "metadata": {
    "ExecuteTime": {
     "end_time": "2020-08-24T00:09:55.035394Z",
     "start_time": "2020-08-24T00:09:55.023393Z"
    }
   },
   "outputs": [
    {
     "name": "stdout",
     "output_type": "stream",
     "text": [
      "[Apple 기준 공분산]\n",
      "Apple-IBM :  0.00015178008336516732\n",
      "Apple-MSFT :  0.00022666990542919633\n",
      "Apple-GOOG :  0.000201547898559896\n"
     ]
    }
   ],
   "source": [
    "print(\"[Apple 기준 공분산]\")\n",
    "print(\"Apple-IBM : \",(((price_ch['AAPL']-mean_aapl)*(price_ch['IBM']-mean_ibm)).sum())/len(price_ch))\n",
    "print(\"Apple-MSFT : \",(((price_ch['AAPL']-mean_aapl)*(price_ch['MSFT']-mean_msft)).sum())/len(price_ch))\n",
    "print(\"Apple-GOOG : \",(((price_ch['AAPL']-mean_aapl)*(price_ch['GOOG']-mean_goog)).sum())/len(price_ch))"
   ]
  },
  {
   "cell_type": "code",
   "execution_count": 8,
   "metadata": {
    "ExecuteTime": {
     "end_time": "2020-08-21T09:05:11.891319Z",
     "start_time": "2020-08-21T09:05:11.879320Z"
    }
   },
   "outputs": [
    {
     "data": {
      "text/html": [
       "<div>\n",
       "<style scoped>\n",
       "    .dataframe tbody tr th:only-of-type {\n",
       "        vertical-align: middle;\n",
       "    }\n",
       "\n",
       "    .dataframe tbody tr th {\n",
       "        vertical-align: top;\n",
       "    }\n",
       "\n",
       "    .dataframe thead th {\n",
       "        text-align: right;\n",
       "    }\n",
       "</style>\n",
       "<table border=\"1\" class=\"dataframe\">\n",
       "  <thead>\n",
       "    <tr style=\"text-align: right;\">\n",
       "      <th></th>\n",
       "      <th>AAPL</th>\n",
       "      <th>IBM</th>\n",
       "      <th>MSFT</th>\n",
       "      <th>GOOG</th>\n",
       "    </tr>\n",
       "  </thead>\n",
       "  <tbody>\n",
       "    <tr>\n",
       "      <th>AAPL</th>\n",
       "      <td>1.000000</td>\n",
       "      <td>0.514328</td>\n",
       "      <td>0.709210</td>\n",
       "      <td>0.663472</td>\n",
       "    </tr>\n",
       "    <tr>\n",
       "      <th>IBM</th>\n",
       "      <td>0.514328</td>\n",
       "      <td>1.000000</td>\n",
       "      <td>0.586223</td>\n",
       "      <td>0.540437</td>\n",
       "    </tr>\n",
       "    <tr>\n",
       "      <th>MSFT</th>\n",
       "      <td>0.709210</td>\n",
       "      <td>0.586223</td>\n",
       "      <td>1.000000</td>\n",
       "      <td>0.784367</td>\n",
       "    </tr>\n",
       "    <tr>\n",
       "      <th>GOOG</th>\n",
       "      <td>0.663472</td>\n",
       "      <td>0.540437</td>\n",
       "      <td>0.784367</td>\n",
       "      <td>1.000000</td>\n",
       "    </tr>\n",
       "  </tbody>\n",
       "</table>\n",
       "</div>"
      ],
      "text/plain": [
       "          AAPL       IBM      MSFT      GOOG\n",
       "AAPL  1.000000  0.514328  0.709210  0.663472\n",
       "IBM   0.514328  1.000000  0.586223  0.540437\n",
       "MSFT  0.709210  0.586223  1.000000  0.784367\n",
       "GOOG  0.663472  0.540437  0.784367  1.000000"
      ]
     },
     "execution_count": 8,
     "metadata": {},
     "output_type": "execute_result"
    }
   ],
   "source": [
    "#상관관계\n",
    "price_ch.corr()"
   ]
  },
  {
   "cell_type": "code",
   "execution_count": 10,
   "metadata": {
    "ExecuteTime": {
     "end_time": "2020-08-24T00:08:22.390428Z",
     "start_time": "2020-08-24T00:08:22.384424Z"
    }
   },
   "outputs": [],
   "source": [
    "std_appl = price_ch['AAPL'].std()\n",
    "std_ibm = price_ch['IBM'].std()\n",
    "std_msft = price_ch['MSFT'].std()\n",
    "std_goog = price_ch['GOOG'].std()"
   ]
  },
  {
   "cell_type": "code",
   "execution_count": 13,
   "metadata": {
    "ExecuteTime": {
     "end_time": "2020-08-24T00:09:45.354667Z",
     "start_time": "2020-08-24T00:09:45.342665Z"
    }
   },
   "outputs": [
    {
     "name": "stdout",
     "output_type": "stream",
     "text": [
      "[Apple 기준 상관계수]\n",
      "Apple-IBM :  0.5124611261734672\n",
      "Apple-MSFT :  0.7060635364140693\n",
      "Apple-GOOG :  0.6605959784164769\n"
     ]
    }
   ],
   "source": [
    "print(\"[Apple 기준 상관계수]\")\n",
    "print(\"Apple-IBM : \",((((price_ch['AAPL']-mean_aapl)/std_appl)*((price_ch['IBM']-std_ibm)/std_ibm)).sum())/len(price_ch))\n",
    "print(\"Apple-MSFT : \",((((price_ch['AAPL']-mean_aapl)/std_appl)*((price_ch['MSFT']-std_msft)/std_msft)).sum())/len(price_ch))\n",
    "print(\"Apple-GOOG : \",((((price_ch['AAPL']-mean_aapl)/std_appl)*((price_ch['GOOG']-std_goog)/std_goog)).sum())/len(price_ch))"
   ]
  },
  {
   "cell_type": "markdown",
   "metadata": {},
   "source": [
    "# 연습문제2\n",
    "\n",
    "에볼라 데이터에 대해,\n",
    "    - 각 국가별 발병자 수 평균을 구했을 때, 평균값이 가장 큰 국가명을 출력하시오.\n",
    "    - 각 국가별 발병자 수 컬럼값에 대해, NaN이 가장 많은 국가명을 출력하시오.\n",
    "    - 각 국가별 사망자 수가 가장 많은 국가명 및 사망자수를 출력하시오.\n",
    "    - 전체 사망자 수를 구하시오.\n",
    "    - 전체 발병자 수를 구하시오."
   ]
  },
  {
   "cell_type": "code",
   "execution_count": 11,
   "metadata": {
    "ExecuteTime": {
     "end_time": "2020-08-21T09:05:11.921321Z",
     "start_time": "2020-08-21T09:05:11.912322Z"
    }
   },
   "outputs": [],
   "source": [
    "ebola = pd.read_csv(\"../etc/data/country_timeseries.csv\")"
   ]
  },
  {
   "cell_type": "code",
   "execution_count": 12,
   "metadata": {
    "ExecuteTime": {
     "end_time": "2020-08-21T09:05:11.943324Z",
     "start_time": "2020-08-21T09:05:11.923324Z"
    }
   },
   "outputs": [
    {
     "data": {
      "text/html": [
       "<div>\n",
       "<style scoped>\n",
       "    .dataframe tbody tr th:only-of-type {\n",
       "        vertical-align: middle;\n",
       "    }\n",
       "\n",
       "    .dataframe tbody tr th {\n",
       "        vertical-align: top;\n",
       "    }\n",
       "\n",
       "    .dataframe thead th {\n",
       "        text-align: right;\n",
       "    }\n",
       "</style>\n",
       "<table border=\"1\" class=\"dataframe\">\n",
       "  <thead>\n",
       "    <tr style=\"text-align: right;\">\n",
       "      <th></th>\n",
       "      <th>Date</th>\n",
       "      <th>Day</th>\n",
       "      <th>Cases_Guinea</th>\n",
       "      <th>Cases_Liberia</th>\n",
       "      <th>Cases_SierraLeone</th>\n",
       "      <th>Cases_Nigeria</th>\n",
       "      <th>Cases_Senegal</th>\n",
       "      <th>Cases_UnitedStates</th>\n",
       "      <th>Cases_Spain</th>\n",
       "      <th>Cases_Mali</th>\n",
       "      <th>Deaths_Guinea</th>\n",
       "      <th>Deaths_Liberia</th>\n",
       "      <th>Deaths_SierraLeone</th>\n",
       "      <th>Deaths_Nigeria</th>\n",
       "      <th>Deaths_Senegal</th>\n",
       "      <th>Deaths_UnitedStates</th>\n",
       "      <th>Deaths_Spain</th>\n",
       "      <th>Deaths_Mali</th>\n",
       "    </tr>\n",
       "  </thead>\n",
       "  <tbody>\n",
       "    <tr>\n",
       "      <th>0</th>\n",
       "      <td>1/5/2015</td>\n",
       "      <td>289</td>\n",
       "      <td>2776.0</td>\n",
       "      <td>NaN</td>\n",
       "      <td>10030.0</td>\n",
       "      <td>NaN</td>\n",
       "      <td>NaN</td>\n",
       "      <td>NaN</td>\n",
       "      <td>NaN</td>\n",
       "      <td>NaN</td>\n",
       "      <td>1786.0</td>\n",
       "      <td>NaN</td>\n",
       "      <td>2977.0</td>\n",
       "      <td>NaN</td>\n",
       "      <td>NaN</td>\n",
       "      <td>NaN</td>\n",
       "      <td>NaN</td>\n",
       "      <td>NaN</td>\n",
       "    </tr>\n",
       "    <tr>\n",
       "      <th>1</th>\n",
       "      <td>1/4/2015</td>\n",
       "      <td>288</td>\n",
       "      <td>2775.0</td>\n",
       "      <td>NaN</td>\n",
       "      <td>9780.0</td>\n",
       "      <td>NaN</td>\n",
       "      <td>NaN</td>\n",
       "      <td>NaN</td>\n",
       "      <td>NaN</td>\n",
       "      <td>NaN</td>\n",
       "      <td>1781.0</td>\n",
       "      <td>NaN</td>\n",
       "      <td>2943.0</td>\n",
       "      <td>NaN</td>\n",
       "      <td>NaN</td>\n",
       "      <td>NaN</td>\n",
       "      <td>NaN</td>\n",
       "      <td>NaN</td>\n",
       "    </tr>\n",
       "    <tr>\n",
       "      <th>2</th>\n",
       "      <td>1/3/2015</td>\n",
       "      <td>287</td>\n",
       "      <td>2769.0</td>\n",
       "      <td>8166.0</td>\n",
       "      <td>9722.0</td>\n",
       "      <td>NaN</td>\n",
       "      <td>NaN</td>\n",
       "      <td>NaN</td>\n",
       "      <td>NaN</td>\n",
       "      <td>NaN</td>\n",
       "      <td>1767.0</td>\n",
       "      <td>3496.0</td>\n",
       "      <td>2915.0</td>\n",
       "      <td>NaN</td>\n",
       "      <td>NaN</td>\n",
       "      <td>NaN</td>\n",
       "      <td>NaN</td>\n",
       "      <td>NaN</td>\n",
       "    </tr>\n",
       "    <tr>\n",
       "      <th>3</th>\n",
       "      <td>1/2/2015</td>\n",
       "      <td>286</td>\n",
       "      <td>NaN</td>\n",
       "      <td>8157.0</td>\n",
       "      <td>NaN</td>\n",
       "      <td>NaN</td>\n",
       "      <td>NaN</td>\n",
       "      <td>NaN</td>\n",
       "      <td>NaN</td>\n",
       "      <td>NaN</td>\n",
       "      <td>NaN</td>\n",
       "      <td>3496.0</td>\n",
       "      <td>NaN</td>\n",
       "      <td>NaN</td>\n",
       "      <td>NaN</td>\n",
       "      <td>NaN</td>\n",
       "      <td>NaN</td>\n",
       "      <td>NaN</td>\n",
       "    </tr>\n",
       "    <tr>\n",
       "      <th>4</th>\n",
       "      <td>12/31/2014</td>\n",
       "      <td>284</td>\n",
       "      <td>2730.0</td>\n",
       "      <td>8115.0</td>\n",
       "      <td>9633.0</td>\n",
       "      <td>NaN</td>\n",
       "      <td>NaN</td>\n",
       "      <td>NaN</td>\n",
       "      <td>NaN</td>\n",
       "      <td>NaN</td>\n",
       "      <td>1739.0</td>\n",
       "      <td>3471.0</td>\n",
       "      <td>2827.0</td>\n",
       "      <td>NaN</td>\n",
       "      <td>NaN</td>\n",
       "      <td>NaN</td>\n",
       "      <td>NaN</td>\n",
       "      <td>NaN</td>\n",
       "    </tr>\n",
       "  </tbody>\n",
       "</table>\n",
       "</div>"
      ],
      "text/plain": [
       "         Date  Day  Cases_Guinea  Cases_Liberia  Cases_SierraLeone  \\\n",
       "0    1/5/2015  289        2776.0            NaN            10030.0   \n",
       "1    1/4/2015  288        2775.0            NaN             9780.0   \n",
       "2    1/3/2015  287        2769.0         8166.0             9722.0   \n",
       "3    1/2/2015  286           NaN         8157.0                NaN   \n",
       "4  12/31/2014  284        2730.0         8115.0             9633.0   \n",
       "\n",
       "   Cases_Nigeria  Cases_Senegal  Cases_UnitedStates  Cases_Spain  Cases_Mali  \\\n",
       "0            NaN            NaN                 NaN          NaN         NaN   \n",
       "1            NaN            NaN                 NaN          NaN         NaN   \n",
       "2            NaN            NaN                 NaN          NaN         NaN   \n",
       "3            NaN            NaN                 NaN          NaN         NaN   \n",
       "4            NaN            NaN                 NaN          NaN         NaN   \n",
       "\n",
       "   Deaths_Guinea  Deaths_Liberia  Deaths_SierraLeone  Deaths_Nigeria  \\\n",
       "0         1786.0             NaN              2977.0             NaN   \n",
       "1         1781.0             NaN              2943.0             NaN   \n",
       "2         1767.0          3496.0              2915.0             NaN   \n",
       "3            NaN          3496.0                 NaN             NaN   \n",
       "4         1739.0          3471.0              2827.0             NaN   \n",
       "\n",
       "   Deaths_Senegal  Deaths_UnitedStates  Deaths_Spain  Deaths_Mali  \n",
       "0             NaN                  NaN           NaN          NaN  \n",
       "1             NaN                  NaN           NaN          NaN  \n",
       "2             NaN                  NaN           NaN          NaN  \n",
       "3             NaN                  NaN           NaN          NaN  \n",
       "4             NaN                  NaN           NaN          NaN  "
      ]
     },
     "execution_count": 12,
     "metadata": {},
     "output_type": "execute_result"
    }
   ],
   "source": [
    "ebola.head()"
   ]
  },
  {
   "cell_type": "code",
   "execution_count": 13,
   "metadata": {
    "ExecuteTime": {
     "end_time": "2020-08-21T09:05:11.965327Z",
     "start_time": "2020-08-21T09:05:11.945324Z"
    }
   },
   "outputs": [
    {
     "name": "stdout",
     "output_type": "stream",
     "text": [
      "<class 'pandas.core.frame.DataFrame'>\n",
      "RangeIndex: 122 entries, 0 to 121\n",
      "Data columns (total 8 columns):\n",
      " #   Column              Non-Null Count  Dtype  \n",
      "---  ------              --------------  -----  \n",
      " 0   Cases_Guinea        93 non-null     float64\n",
      " 1   Cases_Liberia       83 non-null     float64\n",
      " 2   Cases_SierraLeone   87 non-null     float64\n",
      " 3   Cases_Nigeria       38 non-null     float64\n",
      " 4   Cases_Senegal       25 non-null     float64\n",
      " 5   Cases_UnitedStates  18 non-null     float64\n",
      " 6   Cases_Spain         16 non-null     float64\n",
      " 7   Cases_Mali          12 non-null     float64\n",
      "dtypes: float64(8)\n",
      "memory usage: 7.8 KB\n",
      "None\n",
      "<class 'pandas.core.frame.DataFrame'>\n",
      "RangeIndex: 122 entries, 0 to 121\n",
      "Data columns (total 8 columns):\n",
      " #   Column               Non-Null Count  Dtype  \n",
      "---  ------               --------------  -----  \n",
      " 0   Deaths_Guinea        92 non-null     float64\n",
      " 1   Deaths_Liberia       81 non-null     float64\n",
      " 2   Deaths_SierraLeone   87 non-null     float64\n",
      " 3   Deaths_Nigeria       38 non-null     float64\n",
      " 4   Deaths_Senegal       22 non-null     float64\n",
      " 5   Deaths_UnitedStates  18 non-null     float64\n",
      " 6   Deaths_Spain         16 non-null     float64\n",
      " 7   Deaths_Mali          12 non-null     float64\n",
      "dtypes: float64(8)\n",
      "memory usage: 7.8 KB\n",
      "None\n"
     ]
    }
   ],
   "source": [
    "ebola_case = ebola.iloc[:,2:10]\n",
    "ebola_death = ebola.iloc[:,10:]\n",
    "print(ebola_case.info())\n",
    "print(ebola_death.info())"
   ]
  },
  {
   "cell_type": "code",
   "execution_count": 14,
   "metadata": {
    "ExecuteTime": {
     "end_time": "2020-08-21T09:05:11.979328Z",
     "start_time": "2020-08-21T09:05:11.967328Z"
    }
   },
   "outputs": [
    {
     "name": "stdout",
     "output_type": "stream",
     "text": [
      "발병 최대 국가 :  Cases_SierraLeone\n",
      "발병자 수 칼럼에 NaN값이 가장 많은 국가 :  Cases_Mali\n",
      "가장 많은 사망자 수 :  89198.0\n",
      "사망자 수가 가장 많은 국가 :  Deaths_Liberia\n",
      "전체 사망자 수 :  201657.0\n",
      "전체 발병자 수 :  490523.0\n"
     ]
    }
   ],
   "source": [
    "print(\"발병 최대 국가 : \", ebola_case.mean().idxmax())\n",
    "print(\"발병자 수 칼럼에 NaN값이 가장 많은 국가 : \", ebola_case.isnull().sum().idxmax())\n",
    "print(\"가장 많은 사망자 수 : \", ebola_death.sum().max())\n",
    "print(\"사망자 수가 가장 많은 국가 : \", ebola_death.sum().idxmax())\n",
    "print(\"전체 사망자 수 : \", ebola_death.sum().sum())\n",
    "print(\"전체 발병자 수 : \", ebola_case.sum().sum())"
   ]
  },
  {
   "cell_type": "markdown",
   "metadata": {},
   "source": [
    "# 연습문제3\n",
    "갭 마인더 데이터에 대해,\n",
    "    - 국가별로 그룹화를 한 다음, 그룹 단위로 gdp의 평균을 출력하시오.\n",
    "    - 대륙별로 그룹화를 한 다음, 그룹 단위로 기대수명의 평균을 출력하시오."
   ]
  },
  {
   "cell_type": "code",
   "execution_count": 15,
   "metadata": {
    "ExecuteTime": {
     "end_time": "2020-08-21T09:05:12.007330Z",
     "start_time": "2020-08-21T09:05:11.980327Z"
    }
   },
   "outputs": [
    {
     "data": {
      "text/html": [
       "<div>\n",
       "<style scoped>\n",
       "    .dataframe tbody tr th:only-of-type {\n",
       "        vertical-align: middle;\n",
       "    }\n",
       "\n",
       "    .dataframe tbody tr th {\n",
       "        vertical-align: top;\n",
       "    }\n",
       "\n",
       "    .dataframe thead th {\n",
       "        text-align: right;\n",
       "    }\n",
       "</style>\n",
       "<table border=\"1\" class=\"dataframe\">\n",
       "  <thead>\n",
       "    <tr style=\"text-align: right;\">\n",
       "      <th></th>\n",
       "      <th>country</th>\n",
       "      <th>continent</th>\n",
       "      <th>year</th>\n",
       "      <th>lifeExp</th>\n",
       "      <th>pop</th>\n",
       "      <th>gdpPercap</th>\n",
       "    </tr>\n",
       "  </thead>\n",
       "  <tbody>\n",
       "    <tr>\n",
       "      <th>0</th>\n",
       "      <td>Afghanistan</td>\n",
       "      <td>Asia</td>\n",
       "      <td>1952</td>\n",
       "      <td>28.801</td>\n",
       "      <td>8425333</td>\n",
       "      <td>779.445314</td>\n",
       "    </tr>\n",
       "    <tr>\n",
       "      <th>1</th>\n",
       "      <td>Afghanistan</td>\n",
       "      <td>Asia</td>\n",
       "      <td>1957</td>\n",
       "      <td>30.332</td>\n",
       "      <td>9240934</td>\n",
       "      <td>820.853030</td>\n",
       "    </tr>\n",
       "    <tr>\n",
       "      <th>2</th>\n",
       "      <td>Afghanistan</td>\n",
       "      <td>Asia</td>\n",
       "      <td>1962</td>\n",
       "      <td>31.997</td>\n",
       "      <td>10267083</td>\n",
       "      <td>853.100710</td>\n",
       "    </tr>\n",
       "    <tr>\n",
       "      <th>3</th>\n",
       "      <td>Afghanistan</td>\n",
       "      <td>Asia</td>\n",
       "      <td>1967</td>\n",
       "      <td>34.020</td>\n",
       "      <td>11537966</td>\n",
       "      <td>836.197138</td>\n",
       "    </tr>\n",
       "    <tr>\n",
       "      <th>4</th>\n",
       "      <td>Afghanistan</td>\n",
       "      <td>Asia</td>\n",
       "      <td>1972</td>\n",
       "      <td>36.088</td>\n",
       "      <td>13079460</td>\n",
       "      <td>739.981106</td>\n",
       "    </tr>\n",
       "    <tr>\n",
       "      <th>...</th>\n",
       "      <td>...</td>\n",
       "      <td>...</td>\n",
       "      <td>...</td>\n",
       "      <td>...</td>\n",
       "      <td>...</td>\n",
       "      <td>...</td>\n",
       "    </tr>\n",
       "    <tr>\n",
       "      <th>1699</th>\n",
       "      <td>Zimbabwe</td>\n",
       "      <td>Africa</td>\n",
       "      <td>1987</td>\n",
       "      <td>62.351</td>\n",
       "      <td>9216418</td>\n",
       "      <td>706.157306</td>\n",
       "    </tr>\n",
       "    <tr>\n",
       "      <th>1700</th>\n",
       "      <td>Zimbabwe</td>\n",
       "      <td>Africa</td>\n",
       "      <td>1992</td>\n",
       "      <td>60.377</td>\n",
       "      <td>10704340</td>\n",
       "      <td>693.420786</td>\n",
       "    </tr>\n",
       "    <tr>\n",
       "      <th>1701</th>\n",
       "      <td>Zimbabwe</td>\n",
       "      <td>Africa</td>\n",
       "      <td>1997</td>\n",
       "      <td>46.809</td>\n",
       "      <td>11404948</td>\n",
       "      <td>792.449960</td>\n",
       "    </tr>\n",
       "    <tr>\n",
       "      <th>1702</th>\n",
       "      <td>Zimbabwe</td>\n",
       "      <td>Africa</td>\n",
       "      <td>2002</td>\n",
       "      <td>39.989</td>\n",
       "      <td>11926563</td>\n",
       "      <td>672.038623</td>\n",
       "    </tr>\n",
       "    <tr>\n",
       "      <th>1703</th>\n",
       "      <td>Zimbabwe</td>\n",
       "      <td>Africa</td>\n",
       "      <td>2007</td>\n",
       "      <td>43.487</td>\n",
       "      <td>12311143</td>\n",
       "      <td>469.709298</td>\n",
       "    </tr>\n",
       "  </tbody>\n",
       "</table>\n",
       "<p>1704 rows × 6 columns</p>\n",
       "</div>"
      ],
      "text/plain": [
       "          country continent  year  lifeExp       pop   gdpPercap\n",
       "0     Afghanistan      Asia  1952   28.801   8425333  779.445314\n",
       "1     Afghanistan      Asia  1957   30.332   9240934  820.853030\n",
       "2     Afghanistan      Asia  1962   31.997  10267083  853.100710\n",
       "3     Afghanistan      Asia  1967   34.020  11537966  836.197138\n",
       "4     Afghanistan      Asia  1972   36.088  13079460  739.981106\n",
       "...           ...       ...   ...      ...       ...         ...\n",
       "1699     Zimbabwe    Africa  1987   62.351   9216418  706.157306\n",
       "1700     Zimbabwe    Africa  1992   60.377  10704340  693.420786\n",
       "1701     Zimbabwe    Africa  1997   46.809  11404948  792.449960\n",
       "1702     Zimbabwe    Africa  2002   39.989  11926563  672.038623\n",
       "1703     Zimbabwe    Africa  2007   43.487  12311143  469.709298\n",
       "\n",
       "[1704 rows x 6 columns]"
      ]
     },
     "execution_count": 15,
     "metadata": {},
     "output_type": "execute_result"
    }
   ],
   "source": [
    "gapminder = pd.read_csv(\"../etc/data/gapminder.tsv\", sep='\\t')\n",
    "gapminder"
   ]
  },
  {
   "cell_type": "code",
   "execution_count": 16,
   "metadata": {
    "ExecuteTime": {
     "end_time": "2020-08-21T09:05:12.020331Z",
     "start_time": "2020-08-21T09:05:12.008330Z"
    }
   },
   "outputs": [
    {
     "name": "stdout",
     "output_type": "stream",
     "text": [
      "[국가별 gdp 평균]\n"
     ]
    },
    {
     "data": {
      "text/plain": [
       "country\n",
       "Afghanistan            802.674598\n",
       "Albania               3255.366633\n",
       "Algeria               4426.025973\n",
       "Angola                3607.100529\n",
       "Argentina             8955.553783\n",
       "                         ...     \n",
       "Vietnam               1017.712615\n",
       "West Bank and Gaza    3759.996781\n",
       "Yemen, Rep.           1569.274672\n",
       "Zambia                1358.199409\n",
       "Zimbabwe               635.858042\n",
       "Name: gdpPercap, Length: 142, dtype: float64"
      ]
     },
     "execution_count": 16,
     "metadata": {},
     "output_type": "execute_result"
    }
   ],
   "source": [
    "print(\"[국가별 gdp 평균]\")\n",
    "gapminder.groupby(['country'])['gdpPercap'].mean()"
   ]
  },
  {
   "cell_type": "code",
   "execution_count": 17,
   "metadata": {
    "ExecuteTime": {
     "end_time": "2020-08-21T09:05:12.030329Z",
     "start_time": "2020-08-21T09:05:12.021330Z"
    }
   },
   "outputs": [
    {
     "name": "stdout",
     "output_type": "stream",
     "text": [
      "[대륙별 기대수명 평균]\n"
     ]
    },
    {
     "data": {
      "text/plain": [
       "continent\n",
       "Africa      48.865330\n",
       "Americas    64.658737\n",
       "Asia        60.064903\n",
       "Europe      71.903686\n",
       "Oceania     74.326208\n",
       "Name: lifeExp, dtype: float64"
      ]
     },
     "execution_count": 17,
     "metadata": {},
     "output_type": "execute_result"
    }
   ],
   "source": [
    "print(\"[대륙별 기대수명 평균]\")\n",
    "gapminder.groupby(['continent'])['lifeExp'].mean()"
   ]
  }
 ],
 "metadata": {
  "kernelspec": {
   "display_name": "Python 3",
   "language": "python",
   "name": "python3"
  },
  "language_info": {
   "codemirror_mode": {
    "name": "ipython",
    "version": 3
   },
   "file_extension": ".py",
   "mimetype": "text/x-python",
   "name": "python",
   "nbconvert_exporter": "python",
   "pygments_lexer": "ipython3",
   "version": "3.7.8"
  },
  "toc": {
   "base_numbering": 1,
   "nav_menu": {},
   "number_sections": false,
   "sideBar": true,
   "skip_h1_title": false,
   "title_cell": "Table of Contents",
   "title_sidebar": "Contents",
   "toc_cell": false,
   "toc_position": {},
   "toc_section_display": true,
   "toc_window_display": true
  }
 },
 "nbformat": 4,
 "nbformat_minor": 4
}
