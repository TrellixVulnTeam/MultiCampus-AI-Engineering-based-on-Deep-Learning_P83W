{
 "cells": [
  {
   "cell_type": "code",
   "execution_count": 4,
   "metadata": {},
   "outputs": [
    {
     "name": "stdout",
     "output_type": "stream",
     "text": [
      "Data inserted\n"
     ]
    }
   ],
   "source": [
    "# insert table\n",
    "\n",
    "import mysql.connector\n",
    "\n",
    "conn = mysql.connector.connect(\n",
    "   user='root', password='1234', host='127.0.0.1', database='mydb')\n",
    "\n",
    "cursor = conn.cursor()\n",
    "\n",
    "sql = \"\"\"INSERT INTO EMPLOYEE(\n",
    "   FIRST_NAME, LAST_NAME, AGE, SEX, INCOME)\n",
    "   VALUES (%s, %s, %s, %s, %s)\"\"\" #변수를 이용하여 sql명령어 생성\n",
    "\n",
    "data = ('John', 'Lee', 20, 'M', 2000) #sql명령어에 대입 될 데이터\n",
    "\n",
    "try:\n",
    "   cursor.execute(sql, data)\n",
    "   conn.commit()\n",
    "\n",
    "except:\n",
    "   conn.rollback()\n",
    "\n",
    "print(\"Data inserted\")\n",
    "conn.close()"
   ]
  },
  {
   "cell_type": "code",
   "execution_count": 6,
   "metadata": {},
   "outputs": [
    {
     "name": "stdout",
     "output_type": "stream",
     "text": [
      "[('John', 'Lee', 19, 'M', 2000.0), ('Tom', 'Lee', 20, 'M', 7000.0)]\n"
     ]
    }
   ],
   "source": [
    "import mysql.connector\n",
    "\n",
    "conn = mysql.connector.connect(\n",
    "   user='root', password='1234', host='127.0.0.1', database='mydb')\n",
    "\n",
    "cursor = conn.cursor()\n",
    "\n",
    "cursor.execute(\"DROP TABLE IF EXISTS EMPLOYEE\")\n",
    "sql = '''CREATE TABLE EMPLOYEE(\n",
    "   FIRST_NAME CHAR(20) NOT NULL,\n",
    "   LAST_NAME CHAR(20),\n",
    "   AGE INT,\n",
    "   SEX CHAR(1),\n",
    "   INCOME FLOAT\n",
    ")'''\n",
    "cursor.execute(sql)\n",
    "\n",
    "insert_stmt = \"\"\"INSERT INTO EMPLOYEE (FIRST_NAME, LAST_NAME, AGE, SEX, INCOME) \n",
    "   VALUES (%s, %s, %s, %s, %s)\"\"\"\n",
    "\n",
    "data = [('John', 'Lee', 19, 'M', 2000), ('Tom', 'Lee', 20, 'M', 7000),\n",
    "('Amy', 'Steve', 25, 'F', 5000),('Gary', 'Tomson', 26, 'M', 2000)]\n",
    "cursor.executemany(insert_stmt, data) #데이터를 한번에 많이 입력할 때 : excutemany\n",
    "conn.commit()\n",
    "\n",
    "cursor.execute(\"SELECT * from EMPLOYEE WHERE AGE <23\")\n",
    "print(cursor.fetchall())\n",
    "\n",
    "conn.close()"
   ]
  },
  {
   "cell_type": "code",
   "execution_count": null,
   "metadata": {},
   "outputs": [],
   "source": []
  }
 ],
 "metadata": {
  "kernelspec": {
   "display_name": "Python 3",
   "language": "python",
   "name": "python3"
  },
  "language_info": {
   "codemirror_mode": {
    "name": "ipython",
    "version": 3
   },
   "file_extension": ".py",
   "mimetype": "text/x-python",
   "name": "python",
   "nbconvert_exporter": "python",
   "pygments_lexer": "ipython3",
   "version": "3.7.8"
  }
 },
 "nbformat": 4,
 "nbformat_minor": 4
}
