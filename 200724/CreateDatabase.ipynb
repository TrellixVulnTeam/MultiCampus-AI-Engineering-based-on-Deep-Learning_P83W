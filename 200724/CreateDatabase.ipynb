{
 "cells": [
  {
   "cell_type": "code",
   "execution_count": 2,
   "metadata": {},
   "outputs": [
    {
     "name": "stdout",
     "output_type": "stream",
     "text": [
      "List of databases: \n",
      "[('company',), ('employees',), ('information_schema',), ('mydatabase',), ('mydb',), ('mysql',), ('performance_schema',), ('sys',)]\n"
     ]
    }
   ],
   "source": [
    "# create database\n",
    "\n",
    "import mysql.connector\n",
    "\n",
    "conn = mysql.connector.connect(user='root', password='1234', host='127.0.0.1')\n",
    "cursor = conn.cursor()\n",
    "\n",
    "cursor.execute(\"DROP database IF EXISTS mydb\")\n",
    "\n",
    "sql = \"CREATE database mydb\";\n",
    "\n",
    "cursor.execute(sql)\n",
    "\n",
    "print(\"List of databases: \")\n",
    "cursor.execute(\"SHOW DATABASES\")\n",
    "print(cursor.fetchall())\n",
    "\n",
    "conn.close()"
   ]
  }
 ],
 "metadata": {
  "kernelspec": {
   "display_name": "Python 3",
   "language": "python",
   "name": "python3"
  },
  "language_info": {
   "codemirror_mode": {
    "name": "ipython",
    "version": 3
   },
   "file_extension": ".py",
   "mimetype": "text/x-python",
   "name": "python",
   "nbconvert_exporter": "python",
   "pygments_lexer": "ipython3",
   "version": "3.7.8"
  }
 },
 "nbformat": 4,
 "nbformat_minor": 4
}
