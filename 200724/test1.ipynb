{
 "cells": [
  {
   "cell_type": "code",
   "execution_count": 2,
   "metadata": {},
   "outputs": [
    {
     "name": "stdout",
     "output_type": "stream",
     "text": [
      "Connection established to:  ('employees',)\n"
     ]
    }
   ],
   "source": [
    "# mysql connection\n",
    "\n",
    "import mysql.connector\n",
    "\n",
    "conn = mysql.connector.connect(user='test', password='0000', host='192.168.0.24', database='employees')\n",
    "cursor = conn.cursor()\n",
    "cursor.execute(\"SELECT DATABASE()\")\n",
    "data = cursor.fetchone()\n",
    "print(\"Connection established to: \",data)\n",
    "\n",
    "conn.close()"
   ]
  },
  {
   "cell_type": "code",
   "execution_count": 4,
   "metadata": {},
   "outputs": [
    {
     "name": "stdout",
     "output_type": "stream",
     "text": [
      "[('d009', 'Customer Service'), ('d005', 'Development'), ('d002', 'Finance'), ('d003', 'Human Resources'), ('d001', 'Marketing'), ('d004', 'Production'), ('d006', 'Quality Management'), ('d008', 'Research'), ('d007', 'Sales')]\n"
     ]
    }
   ],
   "source": [
    "# Search\n",
    "\n",
    "import mysql.connector\n",
    "\n",
    "conn = mysql.connector.connect(\n",
    "   user='test', password='0000', host='192.168.0.24', database='employees')\n",
    "\n",
    "cursor = conn.cursor()\n",
    "\n",
    "cursor.execute(\"SELECT * from employees.departments\")\n",
    "print(cursor.fetchall())\n",
    "\n",
    "conn.close()"
   ]
  },
  {
   "cell_type": "code",
   "execution_count": 3,
   "metadata": {},
   "outputs": [
    {
     "name": "stdout",
     "output_type": "stream",
     "text": [
      "[(10001, datetime.date(1953, 9, 2), 'Georgi', 'Facello', 'M', datetime.date(1986, 6, 26))]\n"
     ]
    }
   ],
   "source": [
    "# Search\n",
    "\n",
    "import mysql.connector\n",
    "\n",
    "conn = mysql.connector.connect(user='test', password='0000', host='192.168.0.24', database='employees')\n",
    "\n",
    "cursor = conn.cursor()\n",
    "\n",
    "sql = \"SELECT * from employees.employees WHERE emp_no = %s\"\n",
    "cursor.execute(sql,(10001,))\n",
    "print(cursor.fetchall())\n",
    "\n",
    "conn.close()"
   ]
  },
  {
   "cell_type": "code",
   "execution_count": null,
   "metadata": {},
   "outputs": [],
   "source": [
    "import mysql.connector\n",
    "\n",
    "conn = mysql.connector.connect"
   ]
  }
 ],
 "metadata": {
  "kernelspec": {
   "display_name": "Python 3",
   "language": "python",
   "name": "python3"
  },
  "language_info": {
   "codemirror_mode": {
    "name": "ipython",
    "version": 3
   },
   "file_extension": ".py",
   "mimetype": "text/x-python",
   "name": "python",
   "nbconvert_exporter": "python",
   "pygments_lexer": "ipython3",
   "version": "3.7.8"
  }
 },
 "nbformat": 4,
 "nbformat_minor": 4
}
