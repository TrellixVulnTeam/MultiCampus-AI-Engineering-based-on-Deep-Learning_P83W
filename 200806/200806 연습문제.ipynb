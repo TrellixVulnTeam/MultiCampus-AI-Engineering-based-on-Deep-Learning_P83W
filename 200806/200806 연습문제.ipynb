{
 "cells": [
  {
   "cell_type": "code",
   "execution_count": 14,
   "metadata": {
    "ExecuteTime": {
     "end_time": "2020-08-07T07:44:02.078029Z",
     "start_time": "2020-08-07T07:44:02.074028Z"
    }
   },
   "outputs": [],
   "source": [
    "from selenium import webdriver\n",
    "from bs4 import BeautifulSoup\n",
    "import time\n",
    "import re\n",
    "from urllib.parse import quote_plus\n",
    "import urllib.request as req"
   ]
  },
  {
   "cell_type": "markdown",
   "metadata": {
    "heading_collapsed": true
   },
   "source": [
    "### 1. 네이버 -> '파이썬'검색 -> 지식인 -> 질문추출 (현재, 전체 페이지)"
   ]
  },
  {
   "cell_type": "code",
   "execution_count": 15,
   "metadata": {
    "ExecuteTime": {
     "end_time": "2020-08-07T07:44:04.408581Z",
     "start_time": "2020-08-07T07:44:03.705678Z"
    },
    "hidden": true
   },
   "outputs": [
    {
     "name": "stdout",
     "output_type": "stream",
     "text": [
      "==========1Page==========\n",
      " 코딩 파이썬 질문드립니다 \n",
      " 파이썬 코딩 질문 \n",
      " 아두이노 입문 파이썬 코딩 \n",
      " 파이썬강의 보면서 코딩독학하기 \n",
      " 파이썬 오류 \n",
      " 마인크래프트 파이썬 \n",
      " 파이썬 설치에 대해... \n",
      " 파이썬 공부 팁 \n",
      " 파이썬 공부 \n",
      " 파이썬프로그래밍을 배우면 일본취업에 유리할까요? \n",
      "==========2Page==========\n",
      " 파이썬 순서도 프로그래밍 \n",
      " 해운대 파이썬학원 가려고 하는데요 \n",
      " 파이썬 기초과정이 부족합니다. \n",
      " 파이썬 순회형이 뭔가요? \n",
      " 파이썬프로그래밍학원추천해주세요 \n",
      " 파이썬마스터 자격증시험일 \n",
      " 파이썬 쉬워요? \n",
      " 부산파이썬학원 있을까요? \n",
      " 강남파이썬학원 실습과정!! \n",
      " 파이썬 문제 질문합니다. \n",
      "==========3Page==========\n",
      " 파이썬 설치에 대해... \n",
      " 파이썬 문제 질문 드려요~ \n",
      " 자료구조 파이썬 코딩 질문!! \n",
      " 파이썬 순서도 프로그래밍 \n",
      " 파이썬 공부 \n",
      " 파이썬교육과정 질문 \n",
      " 파이썬 ! 사용 질문 \n",
      " 파이썬 공부 어떻게 하면 좋을까요?? \n",
      " 파이썬 정규표현식 질문(re모듈) \n",
      " 파이썬을 배우고 싶어요 \n",
      "==========4Page==========\n",
      " 파이썬 ! 사용 질문 \n",
      " 파이썬 정규표현식 질문(re모듈) \n",
      " 파이썬을 배우고 싶어요 \n",
      " 파이썬 문의 \n",
      " 파이썬 인강으로 공부 많이 하나요? \n",
      " 파이썬 len()구문 사용법 \n",
      " 종로파이썬학원 초보자도 배울 수 있는 곳 \n",
      " 일산파이썬학원 실습과정! \n",
      " 프로그래밍 파이썬 독학 \n",
      " 파이썬 질문 \n",
      "==========5Page==========\n",
      " 파이썬 공부 어떻게 하면 좋을까요?? \n",
      " 파이썬 관련 질문(컴퓨터 기초) \n",
      " 파이썬 질문 \n",
      " 파이썬질문 \n",
      " 빅데이터 파이썬 IT학원(이직) \n",
      " 해운대 파이썬학원 추첮 \n",
      " 청소년 파이썬 교육 배울 수 있는 코딩학원 \n",
      " 파이썬 함수 도와주세요ㅠㅠ \n",
      " 파이썬 라이브러리 \n",
      " 파이썬 if 리스트 비교 \n"
     ]
    }
   ],
   "source": [
    "# driver = webdriver.Chrome(\"C://mychrome/chromedriver.exe\")\n",
    "baseURL = \"https://search.naver.com/search.naver?where=kin&kin_display=10&qt=&title=0&&answer=0&grade=0&choice=0&sec=0&nso=so%3Ar%2Ca%3Aall%2Cp%3Aall&query=%ED%8C%8C%EC%9D%B4%EC%8D%AC&c_id=&c_name=&sm=tab_pge&kin_start=\"\n",
    "\n",
    "#5페이지까지만 출력\n",
    "for i, n in enumerate(range(1,51,10)):\n",
    "    url = baseURL+str(n)\n",
    "    html = req.urlopen(url)\n",
    "    soup = BeautifulSoup(html, \"html.parser\")\n",
    "\n",
    "    titles = soup.select(\"dt.question > a\")\n",
    "    \n",
    "    print(\"=\"*10+str(i+1)+\"Page\"+\"=\"*10)\n",
    "    for title in titles:\n",
    "        print(title.text)"
   ]
  },
  {
   "cell_type": "markdown",
   "metadata": {},
   "source": [
    "### 2. 다나와 -> 노트북페이지"
   ]
  },
  {
   "cell_type": "code",
   "execution_count": null,
   "metadata": {},
   "outputs": [],
   "source": [
    "# - 가격 데이터 추출 및 저장\n",
    "# - 화면 크기 추출 및 저장\n",
    "# - 인텔/ AMD... 추출 및 저장\n",
    "# - 옥타/ 쿼드/ 헥사코어... 추출 및 저장\n",
    "# - SSD 용량\n",
    "# - DDR4 추출 및 저장\n",
    "# - 제조사 추출 및 저장\n",
    "# => 데이터 프레임으로 저장"
   ]
  },
  {
   "cell_type": "code",
   "execution_count": 32,
   "metadata": {
    "ExecuteTime": {
     "end_time": "2020-08-07T07:59:09.153570Z",
     "start_time": "2020-08-07T07:58:55.717752Z"
    }
   },
   "outputs": [],
   "source": [
    "driver = webdriver.Chrome(\"C://mychrome/chromedriver.exe\")\n",
    "url = \"http://prod.danawa.com/list/?cate=112758&15main_11_02\"\n",
    "driver.get(url)\n",
    "html = driver.page_source\n",
    "soup = BeautifulSoup(html, \"lxml\")"
   ]
  },
  {
   "cell_type": "code",
   "execution_count": 100,
   "metadata": {
    "ExecuteTime": {
     "end_time": "2020-08-07T08:49:28.071145Z",
     "start_time": "2020-08-07T08:49:27.939822Z"
    }
   },
   "outputs": [
    {
     "name": "stdout",
     "output_type": "stream",
     "text": [
      "[{'제조사': '한성컴퓨터 올데이롱 TFX5470H (SSD 500GB)'}, {'제조사': 'ASUS 젠북15 UX534FTC-A9082T (SSD 1TB)'}, {'제조사': 'MSI GP시리즈 GP75 Leopard 9SDK (SSD 512GB)'}, {'제조사': 'MSI 크리에이터 15M A10SD-i7 (SSD 512GB)'}, {'제조사': '한성컴퓨터 올데이롱 TFX5470H'}, {'제조사': '삼성전자 NT350XCR-AD5WA'}, {'제조사': 'LG전자 2020 그램15 15ZD995-VX50K'}, {'제조사': '레노버 아이디어패드 게이밍 3i 15IMH I5 LEGEND'}, {'제조사': '레노버 아이디어패드 Slim3-15ARE R3'}, {'제조사': 'HP 파빌리온 게이밍 15-dk1076TX (SSD 256GB)'}, {'제조사': '삼성전자 갤럭시북S NT767XCL-KLTE (512GB)'}, {'제조사': 'LG전자 2020 그램17 17ZD995-VX50K'}, {'제조사': 'LG전자 2020 그램15 15ZD90N-VX50K'}, {'제조사': 'MSI GP시리즈 GP75 Leopard 10SEK'}, {'제조사': 'LG전자 2020 그램15 15ZD90N-VX50K WIN10'}, {'제조사': '한성컴퓨터 TFG7476H'}, {'제조사': 'APPLE 2019 맥북프로16 MVVK2KH/A'}, {'제조사': 'MSI GP시리즈 GP75 Leopard 9SDK'}, {'제조사': '삼성전자 갤럭시북 이온 NT950XCJ-X716A'}, {'제조사': 'DELL 인스피론 15 7501-WH02KR'}, {'제조사': '한성컴퓨터 언더케이지 TFX4470H'}, {'제조사': '레노버 Yoga Slim7-14ARE R7'}, {'제조사': 'ASUS 비보북 S14 M433IA-EB593'}, {'제조사': '한성컴퓨터 TFG7475H'}, {'제조사': '레노버 LEGION 5 15ARH R5 ZEN'}, {'제조사': 'ASUS ROG STRIX G712LU-EV001'}, {'제조사': '삼성전자 갤럭시북S NT767XCL-KLTE'}, {'제조사': '레노버 아이디어패드 Slim 5-15IIL Major i5'}, {'제조사': 'ASUS 젠북14 UM433IQ-A5056'}, {'제조사': 'MSI 크리에이터 15M A10SD-i7'}]\n"
     ]
    }
   ],
   "source": [
    "nb_list = []\n",
    "\n",
    "notebooks = soup.select(\"p.prod_name > a\")\n",
    "ranks = soup.select(\"p.prod_name > strong.pop_rank\")\n",
    "\n",
    "\n",
    "for rank, notebook in zip(ranks, notebooks):\n",
    "    nb_dic = {}\n",
    "#     print(rank.text[5:], notebook.text.strip())\n",
    "    nb_dic[\"제조사\"] = notebook.text.strip()\n",
    "    nb_list.append(nb_dic)\n",
    "print(nb_list)"
   ]
  },
  {
   "cell_type": "code",
   "execution_count": 58,
   "metadata": {
    "ExecuteTime": {
     "end_time": "2020-08-07T08:17:48.193937Z",
     "start_time": "2020-08-07T08:17:48.085877Z"
    }
   },
   "outputs": [
    {
     "name": "stdout",
     "output_type": "stream",
     "text": [
      "1 39.62cm(15.6인치)\n",
      "2 39.62cm(15.6인치)\n",
      "3 39.6cm(15.6인치)\n",
      "4 39.6cm(15.6인치)\n",
      "5 39.6cm(15.6인치)\n",
      "6 43.1cm(17인치)\n",
      "7 39.6cm(15.6인치)\n",
      "8 43.94cm(17.3인치)\n",
      "9 39.6cm(15.6인치)\n",
      "10 43.94cm(17.3인치)\n",
      "11 40.8cm(16인치)\n",
      "12 43.94cm(17.3인치)\n",
      "13 39.6cm(15.6인치)\n",
      "14 39.6cm(15.6인치)\n",
      "15 35.56cm(14인치)\n",
      "16 35.56cm(14인치)\n",
      "17 35.56cm(14인치)\n",
      "18 43.94cm(17.3인치)\n",
      "19 39.6cm(15.6인치)\n",
      "20 43.94cm(17.3인치)\n",
      "21 33.7cm(13.3인치)\n",
      "22 39.6cm(15.6인치)\n",
      "23 35.56cm(14인치)\n",
      "24 39.62cm(15.6인치)\n",
      "25 39.6cm(15.6인치)\n",
      "26 39.62cm(15.6인치)\n",
      "27 43.94cm(17.3인치)\n",
      "28 39.6cm(15.6인치)\n",
      "29 39.62cm(15.6인치)\n",
      "30 39.62cm(15.6인치)\n"
     ]
    }
   ],
   "source": [
    "#화면 크기\n",
    "specs1 = soup.select(\"div.spec_list > a:nth-child(1)\")\n",
    "for i, spec in enumerate(specs1):\n",
    "    print(i+1, spec.text)"
   ]
  },
  {
   "cell_type": "code",
   "execution_count": 59,
   "metadata": {
    "ExecuteTime": {
     "end_time": "2020-08-07T08:18:02.724615Z",
     "start_time": "2020-08-07T08:18:02.607792Z"
    }
   },
   "outputs": [
    {
     "name": "stdout",
     "output_type": "stream",
     "text": [
      "1 AMD\n",
      "2 인텔\n",
      "3 인텔\n",
      "4 인텔\n",
      "5 AMD\n",
      "6 인텔\n",
      "7 인텔\n",
      "8 인텔\n",
      "9 인텔\n",
      "10 AMD\n",
      "11 인텔\n",
      "12 인텔\n",
      "13 인텔\n",
      "14 인텔\n",
      "15 AMD\n",
      "16 AMD\n",
      "17 AMD\n",
      "18 AMD\n",
      "19 AMD\n",
      "20 인텔\n",
      "21 인텔\n",
      "22 인텔\n",
      "23 AMD\n",
      "24 인텔\n",
      "25 인텔\n",
      "26 AMD\n",
      "27 인텔\n",
      "28 인텔\n",
      "29 AMD\n",
      "30 인텔\n"
     ]
    }
   ],
   "source": [
    "#cpu\n",
    "specs2 = soup.select(\"div.spec_list > a:nth-child(2)\")\n",
    "for i, spec in enumerate(specs2):\n",
    "    print(i+1, spec.text)"
   ]
  },
  {
   "cell_type": "code",
   "execution_count": 63,
   "metadata": {
    "ExecuteTime": {
     "end_time": "2020-08-07T08:21:01.379092Z",
     "start_time": "2020-08-07T08:21:01.226354Z"
    }
   },
   "outputs": [
    {
     "name": "stdout",
     "output_type": "stream",
     "text": [
      "1 옥타코어\n",
      "2 쿼드코어\n",
      "3 쿼드코어\n",
      "4 쿼드코어\n",
      "5 쿼드코어\n",
      "6 쿼드코어\n",
      "No Information\n",
      "8 헥사코어\n",
      "No Information\n",
      "10 옥타코어\n",
      "11 옥타코어\n",
      "12 헥사코어\n",
      "13 쿼드코어\n",
      "14 헥사코어\n",
      "15 옥타코어\n",
      "16 옥타코어\n",
      "17 헥사코어\n",
      "18 옥타코어\n",
      "19 헥사코어\n",
      "20 헥사코어\n",
      "21 광시야각\n",
      "No Information\n",
      "23 헥사코어\n",
      "24 헥사코어\n",
      "25 쿼드코어\n",
      "26 옥타코어\n",
      "27 헥사코어\n",
      "28 쿼드코어\n",
      "29 옥타코어\n",
      "30 헥사코어\n"
     ]
    }
   ],
   "source": [
    "#코어 수\n",
    "specs3 = soup.select(\"div.spec_list > a:nth-child(6)\")\n",
    "for i, spec in enumerate(specs3):\n",
    "    if re.match(\"^[가-힣]+\", spec.text):\n",
    "        print(i+1, spec.text)\n",
    "    else :\n",
    "        print(\"No Information\")"
   ]
  },
  {
   "cell_type": "code",
   "execution_count": 79,
   "metadata": {
    "ExecuteTime": {
     "end_time": "2020-08-07T08:30:34.495534Z",
     "start_time": "2020-08-07T08:30:34.405528Z"
    }
   },
   "outputs": [
    {
     "name": "stdout",
     "output_type": "stream",
     "text": [
      "1 SSD 500GB\n",
      "2 SSD 256GB\n",
      "3 SSD 256GB\n",
      "4 SSD 256GB\n",
      "5 SSD 256GB\n",
      "6 SSD 256GB\n",
      "7 SSD 256GB\n",
      "8 SSD 512GB\n",
      "9 SSD 256GB\n",
      "10 SSD 500GB\n",
      "11 SSD 1TB\n",
      "12 SSD 512GB\n",
      "13 SSD 512GB\n",
      "14 SSD 512GB\n",
      "15 SSD 500GB\n",
      "16 SSD 512GB\n",
      "17 SSD 512GB\n",
      "18 SSD 250GB\n",
      "19 SSD 256GB\n",
      "20 SSD 512GB\n",
      "21 SSD 512GB\n",
      "22 SSD 256GB\n",
      "23 SSD 512GB\n",
      "24 SSD 512GB\n",
      "25 SSD 256GB\n",
      "26 SSD 500GB\n",
      "27 SSD 256GB\n",
      "28 SSD 256GB\n",
      "29 SSD 250GB\n",
      "30 SSD 512GB\n"
     ]
    }
   ],
   "source": [
    "# 저장용량(ssd, hdd)\n",
    "specs4 = soup.select(\"div.spec_list > a\")\n",
    "n = 1\n",
    "for i, spec in enumerate(specs4):\n",
    "    if spec.text == \"SSD\" and re.match(\"^[0-9]+[A-Z]\", specs4[i+1].text):\n",
    "        print(n, spec.text, specs4[i+1].text)\n",
    "        n += 1"
   ]
  },
  {
   "cell_type": "code",
   "execution_count": 88,
   "metadata": {
    "ExecuteTime": {
     "end_time": "2020-08-07T08:34:56.834191Z",
     "start_time": "2020-08-07T08:34:56.749878Z"
    }
   },
   "outputs": [
    {
     "name": "stdout",
     "output_type": "stream",
     "text": [
      "1 DDR4\n",
      "2 DDR4\n",
      "3 DDR4\n",
      "4 DDR4\n",
      "5 DDR4\n",
      "6 DDR4\n",
      "7 DDR4\n",
      "8 DDR4\n",
      "9 DDR4\n",
      "10 DDR4\n",
      "11 LPDDR4(온보드)\n",
      "12 DDR4\n",
      "13 DDR4\n",
      "14 DDR4\n",
      "15 DDR4\n",
      "16 DDR4\n",
      "17 DDR4\n",
      "18 DDR4\n",
      "19 DDR4\n",
      "20 DDR4\n",
      "21 DDR4\n",
      "22 DDR4\n",
      "23 DDR4\n",
      "24 DDR4\n",
      "25 DDR4\n",
      "26 DDR4\n",
      "27 DDR4\n"
     ]
    }
   ],
   "source": [
    "#DDR4 추출\n",
    "specs5 = soup.select(\"div.spec_list > a\")\n",
    "n = 1\n",
    "for spec in specs5:\n",
    "    if re.search(\"DDR4\", spec.text):\n",
    "        print(n, spec.text)\n",
    "        n += 1"
   ]
  },
  {
   "cell_type": "code",
   "execution_count": 131,
   "metadata": {
    "ExecuteTime": {
     "end_time": "2020-08-07T09:23:04.635342Z",
     "start_time": "2020-08-07T09:23:04.352338Z"
    }
   },
   "outputs": [
    {
     "name": "stdout",
     "output_type": "stream",
     "text": [
      "2\n"
     ]
    }
   ],
   "source": [
    "names = soup.select(\"div.prod_main_info > div.prod_info > p.prod_name > a\")\n",
    "specs = soup.select(\"div.spec_list\")\n",
    "specsn = soup.select(\"p.prod_info > dl.prod_spec_set > dd > div.spec_list > a\")\n",
    "ranks = soup.select(\"li.prod_item.prod_layer > div.prod_main_info > p.prod_info > p.prod_name > strong.pop_rank\")\n",
    "\n",
    "print(len(rank))\n",
    "    \n",
    "# print(len(ranks))\n",
    "# print(len(names))\n",
    "# print(len(specs))\n",
    "# for i, spec in enumerate(specs):\n",
    "#     print(i)\n",
    "#     print(spec.text)\n",
    "#     print(\"\")\n",
    "\n",
    "#     if i+1 >= 30:\n",
    "#         print(i+1)\n",
    "#         details = spec.select(\"a\")\n",
    "#         #화면 크기\n",
    "#         print(details[0].text)\n",
    "#         nb_list[i][\"화면크기\"] = details[0].text\n",
    "#     #     for d in details:\n",
    "#     #         print(d.text)\n",
    "#         print(\"=\"*20)"
   ]
  },
  {
   "cell_type": "code",
   "execution_count": 99,
   "metadata": {
    "ExecuteTime": {
     "end_time": "2020-08-07T08:46:37.223798Z",
     "start_time": "2020-08-07T08:46:37.217796Z"
    }
   },
   "outputs": [
    {
     "name": "stdout",
     "output_type": "stream",
     "text": [
      "[{1: 'a', 2: 'c'}, {3: 'd', 4: 'e', 5: 'c'}]\n"
     ]
    }
   ],
   "source": [
    "test = [{1:'a', 2:'c'}, {3:'d', 4:'e'}]\n",
    "test[1][5] = 'c'\n",
    "print(test)"
   ]
  }
 ],
 "metadata": {
  "kernelspec": {
   "display_name": "Python 3",
   "language": "python",
   "name": "python3"
  },
  "language_info": {
   "codemirror_mode": {
    "name": "ipython",
    "version": 3
   },
   "file_extension": ".py",
   "mimetype": "text/x-python",
   "name": "python",
   "nbconvert_exporter": "python",
   "pygments_lexer": "ipython3",
   "version": "3.7.8"
  },
  "toc": {
   "base_numbering": 1,
   "nav_menu": {},
   "number_sections": false,
   "sideBar": true,
   "skip_h1_title": false,
   "title_cell": "Table of Contents",
   "title_sidebar": "Contents",
   "toc_cell": false,
   "toc_position": {},
   "toc_section_display": true,
   "toc_window_display": true
  }
 },
 "nbformat": 4,
 "nbformat_minor": 4
}
